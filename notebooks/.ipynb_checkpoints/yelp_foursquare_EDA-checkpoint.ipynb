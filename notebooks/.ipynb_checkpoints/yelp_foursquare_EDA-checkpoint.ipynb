{
 "cells": [
  {
   "cell_type": "code",
   "execution_count": null,
   "metadata": {},
   "outputs": [],
   "source": [
    "# imports"
   ]
  },
  {
   "cell_type": "markdown",
   "metadata": {},
   "source": [
    "# Foursquare"
   ]
  },
  {
   "cell_type": "markdown",
   "metadata": {},
   "source": [
    "Send a request to Foursquare with a small radius (1000m) for all the bike stations in your city of choice. "
   ]
  },
  {
   "cell_type": "code",
   "execution_count": 412,
   "metadata": {},
   "outputs": [],
   "source": [
    "import requests \n",
    "from IPython.display import JSON\n",
    "import json\n",
    "import pandas as pd\n",
    "import numpy as np\n",
    "import warnings\n",
    "warnings.filterwarnings('ignore')"
   ]
  },
  {
   "cell_type": "code",
   "execution_count": 413,
   "metadata": {},
   "outputs": [],
   "source": [
    "f = open(\"FOURSQUARE_API_KEY.txt\", \"r\")\n",
    "FOURSQUARE_API_KEY = f.read()\n",
    "headers = {'Authorization': FOURSQUARE_API_KEY,\n",
    "           'accept': 'application/JSON'}"
   ]
  },
  {
   "cell_type": "markdown",
   "metadata": {},
   "source": [
    "Parse through the response to get the POI (such as restaurants, bars, etc) details you want (ratings, name, location, etc)"
   ]
  },
  {
   "cell_type": "markdown",
   "metadata": {},
   "source": [
    "Put your parsed results into a DataFrame"
   ]
  },
  {
   "cell_type": "code",
   "execution_count": 421,
   "metadata": {},
   "outputs": [
    {
     "name": "stdout",
     "output_type": "stream",
     "text": [
      "parsing completed for FSquare POIs for 100 bike stations\n",
      "<class 'pandas.core.frame.DataFrame'>\n",
      "Int64Index: 790 entries, 0 to 1549\n",
      "Data columns (total 7 columns):\n",
      " #   Column                      Non-Null Count  Dtype \n",
      "---  ------                      --------------  ----- \n",
      " 0   poi_id                      790 non-null    object\n",
      " 1   poi_name                    790 non-null    object\n",
      " 2   poi_distance_from_bike_stn  790 non-null    object\n",
      " 3   poi_latitude                790 non-null    object\n",
      " 4   poi_longitude               790 non-null    object\n",
      " 5   bike_station_id             790 non-null    object\n",
      " 6   poi_bsns_category           790 non-null    object\n",
      "dtypes: object(7)\n",
      "memory usage: 49.4+ KB\n",
      "None\n",
      "foursquare POI file is written to csv\n"
     ]
    }
   ],
   "source": [
    "#collection of business outlets information for first 100 bike stations in london using foursquare data API.\n",
    "\n",
    "df_citybikes = pd.read_csv('london_city_bikes_stns.csv')\n",
    "\n",
    "url = 'https://api.foursquare.com/v3/places/search'\n",
    "\n",
    "df_fsquare = pd.DataFrame()\n",
    "\n",
    "df_station = pd.DataFrame()\n",
    "\n",
    "i = 0\n",
    "\n",
    "for index, row in df_citybikes.iterrows():\n",
    "    ll = str(row['station_latitude']) + ',' + str(row['station_longitude'])\n",
    "    params = {'ll': ll, 'radius': '1000'}\n",
    "    res_station = requests.get(url, headers=headers, params=params)\n",
    "    \n",
    "    df_station = pd.json_normalize(res_station.json(), \n",
    "                                               record_path = ['results', 'categories'], \n",
    "                                               meta = [\n",
    "                                                       ['results', 'fsq_id'],\n",
    "                                                       ['results', 'name'],\n",
    "                                                       ['results', 'distance'],\n",
    "                                                       ['results', 'geocodes', 'main', 'latitude'],\n",
    "                                                       ['results', 'geocodes', 'main', 'longitude']\n",
    "                                                      ]\n",
    "                              )\n",
    "     \n",
    "    df_station['bike_station_id'] = row['station_id']\n",
    "    \n",
    "    df_fsquare = df_fsquare.append(df_station, ignore_index = True)\n",
    "    \n",
    "    i += 1\n",
    "    \n",
    "    if i == 100:\n",
    "        break\n",
    "\n",
    "print(\"parsing completed for FSquare POIs for 100 bike stations\")\n",
    "\n",
    "def label_bsns_category (row):\n",
    "    if row['id'] in range(10000,11000):\n",
    "        return 'Arts and Entertainment'\n",
    "    if row['id'] in range(11000,12000):\n",
    "        return 'Business and Professional Services'\n",
    "    if row['id'] in range(12000,13000):\n",
    "        return 'Community and Government'\n",
    "    if row['id'] in range(13000,14000):\n",
    "        return 'Dining and Drinking'\n",
    "    if row['id'] in range(14000,15000):\n",
    "        return 'Event'\n",
    "    if row['id'] in range(15000,16000):\n",
    "        return 'Health and Medicine'\n",
    "    if row['id'] in range(16000,17000):\n",
    "        return 'Landmarks and Outdoors'\n",
    "    if row['id'] in range(17000,18000):\n",
    "        return 'Retail'\n",
    "    if row['id'] in range(18000,19000):\n",
    "        return 'Sports and Recreation'\n",
    "    if row['id'] in range(19000,20000):\n",
    "        return 'Travel and Transportation'\n",
    "\n",
    "df_fsquare['poi_bsns_category'] = df_fsquare.apply (lambda row: label_bsns_category(row), axis=1)\n",
    "\n",
    "df_fsquare.drop(['icon.prefix', 'icon.suffix', 'id', 'name'], \n",
    "                inplace = True, axis = 1)\n",
    "    \n",
    "df_fsquare.rename(columns = {'results.fsq_id':'poi_id', 'results.name':'poi_name',  \n",
    "                                   'results.distance':'poi_distance_from_bike_stn', \n",
    "                                   'results.geocodes.main.latitude':'poi_latitude', \n",
    "                                   'results.geocodes.main.longitude':'poi_longitude'}, inplace = True)\n",
    "\n",
    "df_fsquare.drop_duplicates(subset=\"poi_id\", keep='first', inplace=True)\n",
    "\n",
    "print(df_fsquare.info())\n",
    "\n",
    "df_fsquare.to_csv(\"fsquare_POIs_for_100_BikeStns.csv\", index=False)\n",
    "\n",
    "print(\"foursquare POI file is written to csv\")\n",
    "\n",
    "#total 790 business outlets information received with characteristics such as 'average distance from nearest \n",
    "#bike station', 'nature of business', 'latitude' and 'longitude'. Majority of business outlets belonged to \n",
    "#'Dining and Drinking' category (553 out of 790). All business outlet information written to \n",
    "#'fsquare_POIs_for_100_BikeStns.csv'."
   ]
  },
  {
   "cell_type": "markdown",
   "metadata": {},
   "source": [
    "# Yelp"
   ]
  },
  {
   "cell_type": "markdown",
   "metadata": {},
   "source": [
    "Send a request to Yelp with a small radius (1000m) for all the bike stations in your city of choice. "
   ]
  },
  {
   "cell_type": "code",
   "execution_count": 422,
   "metadata": {},
   "outputs": [],
   "source": [
    "import requests \n",
    "from IPython.display import JSON\n",
    "import json\n",
    "import pandas as pd\n",
    "import numpy as np\n",
    "import warnings\n",
    "warnings.filterwarnings('ignore')"
   ]
  },
  {
   "cell_type": "code",
   "execution_count": 423,
   "metadata": {},
   "outputs": [],
   "source": [
    "y = open(\"YELP_API_KEY.txt\", \"r\")\n",
    "YELP_API_KEY = y.read()\n",
    "headers = {'Authorization': \"Bearer \" + YELP_API_KEY,\n",
    "           'accept': 'application/JSON'}"
   ]
  },
  {
   "cell_type": "markdown",
   "metadata": {},
   "source": [
    "Parse through the response to get the POI (such as restaurants, bars, etc) details you want (ratings, name, location, etc)"
   ]
  },
  {
   "cell_type": "markdown",
   "metadata": {},
   "source": [
    "Put your parsed results into a DataFrame"
   ]
  },
  {
   "cell_type": "code",
   "execution_count": 426,
   "metadata": {},
   "outputs": [
    {
     "name": "stdout",
     "output_type": "stream",
     "text": [
      "parsing completed for yelp POIs for 100 bike stations\n",
      "yelp csv file is also written\n",
      "<class 'pandas.core.frame.DataFrame'>\n",
      "RangeIndex: 2000 entries, 0 to 1999\n",
      "Data columns (total 9 columns):\n",
      " #   Column                      Non-Null Count  Dtype  \n",
      "---  ------                      --------------  -----  \n",
      " 0   poi_id                      2000 non-null   object \n",
      " 1   poi_name                    2000 non-null   object \n",
      " 2   review_count                2000 non-null   int64  \n",
      " 3   rating                      2000 non-null   float64\n",
      " 4   poi_distance_from_bike_stn  2000 non-null   int64  \n",
      " 5   poi_latitude                2000 non-null   float64\n",
      " 6   poi_longitude               2000 non-null   float64\n",
      " 7   bike_station_id             2000 non-null   object \n",
      " 8   poi_bsns_category           2000 non-null   object \n",
      "dtypes: float64(3), int64(2), object(4)\n",
      "memory usage: 140.8+ KB\n",
      "None\n"
     ]
    }
   ],
   "source": [
    "#collection of business outlets information for the first 100 bike stations in london city using yelp API.\n",
    "\n",
    "df_citybikes = pd.read_csv('london_city_bikes_stns.csv')\n",
    "\n",
    "url = 'https://api.yelp.com/v3/businesses/search'\n",
    "\n",
    "df_yelp = pd.DataFrame()\n",
    "\n",
    "df_stn = pd.DataFrame()\n",
    "\n",
    "i = 0\n",
    "\n",
    "for index, row in df_citybikes.iterrows():\n",
    "    latitude = row['station_latitude']\n",
    "    longitude = row['station_longitude']\n",
    "    \n",
    "    params = {'latitude':latitude, 'longitude':longitude, 'radius': 1000}\n",
    "    \n",
    "    res_stn = requests.get(url, headers=headers, params=params)\n",
    "          \n",
    "    df_stn = pd.json_normalize(res_stn.json(), record_path = ['businesses'])\n",
    "    \n",
    "    df_stn['bike_station_id'] = row['station_id']\n",
    "    \n",
    "    df_stn['distance'] = df_stn['distance'].astype(int)\n",
    "    \n",
    "    df_yelp = df_yelp.append(df_stn, ignore_index = True)\n",
    "    \n",
    "    i += 1\n",
    "    \n",
    "    if i == 100:\n",
    "        break\n",
    "\n",
    "\n",
    "print(\"parsing completed for yelp POIs for 100 bike stations\")\n",
    "\n",
    "df_yelp.drop(['alias', 'image_url', 'is_closed', 'url', 'transactions',\n",
    "              'location.address1', 'location.address2', 'location.address3',\n",
    "              'location.city', 'location.state', 'location.zip_code', 'location.country',\n",
    "              'location.display_address', 'price', 'phone', 'display_phone', 'categories'\n",
    "             ], inplace = True, axis = 1)\n",
    "    \n",
    "df_yelp.rename(columns = {'id':'poi_id', 'name': 'poi_name', 'distance':'poi_distance_from_bike_stn', \n",
    "                          'coordinates.latitude':'poi_latitude', 'coordinates.longitude':'poi_longitude'}, \n",
    "                           inplace = True)\n",
    "\n",
    "df_yelp['poi_bsns_category'] = 'Dining and Drinking'\n",
    "\n",
    "df_yelp.to_csv(\"yelp_POIs_for_100_BikeStns.csv\", index=False)\n",
    "\n",
    "print(\"yelp csv file is also written\")\n",
    "\n",
    "print(df_yelp.info())\n",
    "\n",
    "#total of 2000 business outlets identified with POI characteristics such as 'ratings', 'reviews',  \n",
    "#'average distance from nearest bike station(s)', 'latitude' and 'longitude'. Almost all outlets are 'food'\n",
    "#outlets."
   ]
  },
  {
   "cell_type": "markdown",
   "metadata": {},
   "source": [
    "# Comparing Results"
   ]
  },
  {
   "cell_type": "markdown",
   "metadata": {},
   "source": [
    "Which API provided you with more complete data? Provide an explanation. "
   ]
  },
  {
   "cell_type": "markdown",
   "metadata": {},
   "source": [
    "#Ans: yelp provides more detailed data for businesses but the nature of data is \n",
    "restricted to food outlets. \n",
    "On the other hand, data provided by foursquare is varied and covers different businesses categories. However, the quality of data in four square is limited to just their averg"
   ]
  },
  {
   "cell_type": "markdown",
   "metadata": {},
   "source": [
    "Get the top 10 restaurants according to their rating"
   ]
  },
  {
   "cell_type": "code",
   "execution_count": null,
   "metadata": {},
   "outputs": [],
   "source": [
    "df_yelp.sort_values(by='rating', ascending=False).head(10)"
   ]
  }
 ],
 "metadata": {
  "kernelspec": {
   "display_name": "Python 3 (ipykernel)",
   "language": "python",
   "name": "python3"
  },
  "language_info": {
   "codemirror_mode": {
    "name": "ipython",
    "version": 3
   },
   "file_extension": ".py",
   "mimetype": "text/x-python",
   "name": "python",
   "nbconvert_exporter": "python",
   "pygments_lexer": "ipython3",
   "version": "3.8.15"
  }
 },
 "nbformat": 4,
 "nbformat_minor": 4
}
