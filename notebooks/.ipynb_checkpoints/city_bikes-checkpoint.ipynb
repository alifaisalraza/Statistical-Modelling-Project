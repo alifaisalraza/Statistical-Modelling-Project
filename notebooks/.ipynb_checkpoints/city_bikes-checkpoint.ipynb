{
 "cells": [
  {
   "cell_type": "markdown",
   "metadata": {},
   "source": [
    "# CityBikes"
   ]
  },
  {
   "cell_type": "markdown",
   "metadata": {},
   "source": [
    "Send a request to CityBikes for the city of your choice. "
   ]
  },
  {
   "cell_type": "code",
   "execution_count": 196,
   "metadata": {},
   "outputs": [],
   "source": [
    "import requests \n",
    "from IPython.display import JSON\n",
    "import json\n",
    "import pandas as pd"
   ]
  },
  {
   "cell_type": "code",
   "execution_count": 197,
   "metadata": {},
   "outputs": [
    {
     "data": {
      "application/json": {
       "networks": [
        {
         "company": [
          "ЗАО «СитиБайк»"
         ],
         "href": "/v2/networks/velobike-moscow",
         "id": "velobike-moscow",
         "location": {
          "city": "Moscow",
          "country": "RU",
          "latitude": 55.75,
          "longitude": 37.616667
         },
         "name": "Velobike"
        },
        {
         "company": [
          "Urban Infrastructure Partner"
         ],
         "href": "/v2/networks/baerum-bysykkel",
         "id": "baerum-bysykkel",
         "location": {
          "city": "Bærum",
          "country": "NO",
          "latitude": 59.89455,
          "longitude": 10.546343
         },
         "name": "Bysykkel"
        },
        {
         "company": [
          "Comunicare S.r.l."
         ],
         "href": "/v2/networks/bicincitta-siena",
         "id": "bicincitta-siena",
         "location": {
          "city": "Siena",
          "country": "IT",
          "latitude": 43.3186,
          "longitude": 11.3306
         },
         "name": "Bicincittà",
         "source": "https://www.bicincitta.com/frmLeStazioni.aspx?ID=202"
        },
        {
         "company": [
          "Cyclopolis Systems"
         ],
         "href": "/v2/networks/cyclopolis-maroussi",
         "id": "cyclopolis-maroussi",
         "location": {
          "city": "Maroussi",
          "country": "GR",
          "latitude": 38.0568722388,
          "longitude": 23.8083299536
         },
         "name": "Cyclopolis"
        },
        {
         "company": [
          "Groundwork",
          "Slough Borough Council",
          "ITS"
         ],
         "href": "/v2/networks/cycle-hire-slough",
         "id": "cycle-hire-slough",
         "location": {
          "city": "Slough",
          "country": "GB",
          "latitude": 51.51135,
          "longitude": -0.591562
         },
         "name": "Cycle Hire"
        },
        {
         "company": [
          "Cyclopolis Systems"
         ],
         "href": "/v2/networks/cyclopolis-nafplio",
         "id": "cyclopolis-nafplio",
         "location": {
          "city": "Maroussi",
          "country": "GR",
          "latitude": 37.5639397319,
          "longitude": 22.8093402872
         },
         "name": "Cyclopolis"
        },
        {
         "company": [
          "Comunicare S.r.l."
         ],
         "href": "/v2/networks/bicincitta-parco-dei-colli-di-bergamo",
         "id": "bicincitta-parco-dei-colli-di-bergamo",
         "location": {
          "city": "Parco dei Colli di Bergamo",
          "country": "IT",
          "latitude": 45.72295637032245,
          "longitude": 9.649230073016383
         },
         "name": "Bicincittà",
         "source": "https://www.bicincitta.com/frmLeStazioni.aspx?ID=203"
        },
        {
         "company": [
          "Cyclopolis Systems"
         ],
         "href": "/v2/networks/cyclopolis-aigialeia",
         "id": "cyclopolis-aigialeia",
         "location": {
          "city": "Maroussi",
          "country": "GR",
          "latitude": 38.2511101325,
          "longitude": 22.0821570196
         },
         "name": "Cyclopolis"
        },
        {
         "company": [
          "Cyclopolis Systems"
         ],
         "href": "/v2/networks/cyclopolis-marathon",
         "id": "cyclopolis-marathon",
         "location": {
          "city": "Marathon",
          "country": "GR",
          "latitude": 38.0855680022,
          "longitude": 23.9776389963
         },
         "name": "Cyclopolis"
        },
        {
         "company": [
          "Comunicare S.r.l."
         ],
         "href": "/v2/networks/bicincitta-mantova",
         "id": "bicincitta-mantova",
         "location": {
          "city": "Mantova",
          "country": "IT",
          "latitude": 45.15866370764634,
          "longitude": 10.783718973016335
         },
         "name": "Bicincittà",
         "source": "https://www.bicincitta.com/frmLeStazioni.aspx?ID=204"
        },
        {
         "company": [
          "Cyclopolis Systems"
         ],
         "href": "/v2/networks/cyclopolis-neasmyrni",
         "id": "cyclopolis-neasmyrni",
         "location": {
          "city": "Νea Smyrni",
          "country": "GR",
          "latitude": 37.9381,
          "longitude": 23.7126
         },
         "name": "Cyclopolis"
        },
        {
         "company": [
          "Cyclopolis Systems"
         ],
         "href": "/v2/networks/cyclopolis-moschatotavros",
         "id": "cyclopolis-moschatotavros",
         "location": {
          "city": "Μoschato-Tavros",
          "country": "GR",
          "latitude": 37.9538991434,
          "longitude": 23.6824746661
         },
         "name": "Cyclopolis"
        },
        {
         "company": [
          "Cyclopolis Systems"
         ],
         "href": "/v2/networks/cyclopolis-arxaiaolympia",
         "id": "cyclopolis-arxaiaolympia",
         "location": {
          "city": "Αrxaia Olympia",
          "country": "GR",
          "latitude": 37.6419700934,
          "longitude": 21.6247265179
         },
         "name": "Cyclopolis"
        },
        {
         "company": [
          "Cyclopolis Systems"
         ],
         "href": "/v2/networks/cyclopolis-kiato",
         "id": "cyclopolis-kiato",
         "location": {
          "city": "Kιato",
          "country": "GR",
          "latitude": 38.0132674508,
          "longitude": 22.7493819902
         },
         "name": "Cyclopolis"
        },
        {
         "company": [
          "Comunicare S.r.l."
         ],
         "href": "/v2/networks/bicincitta-assemini",
         "id": "bicincitta-assemini",
         "location": {
          "city": "Assemini",
          "country": "IT",
          "latitude": 39.28956306007679,
          "longitude": 9.006601555294765
         },
         "name": "Bicincittà",
         "source": "https://www.bicincitta.com/frmLeStazioni.aspx?ID=205"
        },
        {
         "company": [
          "Cyclopolis Systems"
         ],
         "href": "/v2/networks/cyclopolis-rhodes",
         "id": "cyclopolis-rhodes",
         "location": {
          "city": "Rhodes",
          "country": "GR",
          "latitude": 36.4509118,
          "longitude": 28.2246966
         },
         "name": "Cyclopolis"
        },
        {
         "company": [
          "Cyclopolis Systems"
         ],
         "href": "/v2/networks/cyclopolis-florina",
         "id": "cyclopolis-florina",
         "location": {
          "city": "Florina",
          "country": "GR",
          "latitude": 40.8016111,
          "longitude": 21.4245222
         },
         "name": "Cyclopolis"
        },
        {
         "company": [
          "Comunicare S.r.l."
         ],
         "href": "/v2/networks/bicincitta-tortoli",
         "id": "bicincitta-tortoli",
         "location": {
          "city": "Tortolì",
          "country": "IT",
          "latitude": 39.92664489852196,
          "longitude": 9.654953570777934
         },
         "name": "Bicincittà",
         "source": "https://www.bicincitta.com/frmLeStazioni.aspx?ID=206"
        },
        {
         "company": [
          "Cyclopolis Systems"
         ],
         "href": "/v2/networks/cyclopolis-limnos",
         "id": "cyclopolis-limnos",
         "location": {
          "city": "Limnos",
          "country": "GR",
          "latitude": 39.8747861,
          "longitude": 25.0586722
         },
         "name": "Cyclopolis"
        },
        {
         "company": [
          "Comunicare S.r.l."
         ],
         "href": "/v2/networks/bicincitta-gaeta",
         "id": "bicincitta-gaeta",
         "location": {
          "city": "Gaeta",
          "country": "IT",
          "latitude": 41.209620965538036,
          "longitude": 13.584335125656139
         },
         "name": "Bicincittà",
         "source": "https://www.bicincitta.com/frmLeStazioni.aspx?ID=207"
        },
        {
         "company": [
          "Comunicare S.r.l."
         ],
         "href": "/v2/networks/bicincitta-borgarello",
         "id": "bicincitta-borgarello",
         "location": {
          "city": "Borgarello",
          "country": "IT",
          "latitude": 45.23963753440171,
          "longitude": 9.136150475640875
         },
         "name": "Bicincittà",
         "source": "https://www.bicincitta.com/frmLeStazioni.aspx?ID=208"
        },
        {
         "company": [
          "Comunicare S.r.l."
         ],
         "href": "/v2/networks/bicincitta-pizzighettone-formigara",
         "id": "bicincitta-pizzighettone-formigara",
         "location": {
          "city": "Pizzighettone e Formigara",
          "country": "IT",
          "latitude": 45.186748819167434,
          "longitude": 9.778087948479424
         },
         "name": "Bicincittà",
         "source": "https://www.bicincitta.com/frmLeStazioni.aspx?ID=209"
        },
        {
         "company": [
          "The National Transport Authority"
         ],
         "href": "/v2/networks/cork",
         "id": "cork",
         "location": {
          "city": "Cork",
          "country": "IE",
          "latitude": 51.893604,
          "longitude": -8.494174
         },
         "name": "Coca-Cola Zero® Bikes"
        },
        {
         "company": [
          "The National Transport Authority"
         ],
         "href": "/v2/networks/limerick",
         "id": "limerick",
         "location": {
          "city": "Limerick",
          "country": "IE",
          "latitude": 52.668746,
          "longitude": -8.627809
         },
         "name": "Coca-Cola Zero® Bikes"
        },
        {
         "company": [
          "BTS Group Holdings"
         ],
         "href": "/v2/networks/punpunbikeshare",
         "id": "punpunbikeshare",
         "location": {
          "city": "Bangkok",
          "country": "TH",
          "latitude": 13.75,
          "longitude": 100.516667
         },
         "name": "Pun Pun Bike Share"
        },
        {
         "company": [
          "The National Transport Authority"
         ],
         "href": "/v2/networks/galway",
         "id": "galway",
         "location": {
          "city": "Galway",
          "country": "IE",
          "latitude": 53.2783491544,
          "longitude": -9.05069143207
         },
         "name": "Coca-Cola Zero® Bikes"
        },
        {
         "company": [
          "Bike U Sp. z o.o."
         ],
         "href": "/v2/networks/bbbike",
         "id": "bbbike",
         "location": {
          "city": "Bielsko-Biała",
          "country": "PL",
          "latitude": 49.8225,
          "longitude": 19.044444
         },
         "name": "BBBike"
        },
        {
         "company": [
          "Comunicare S.r.l."
         ],
         "href": "/v2/networks/bicincitta-montecatini-terme",
         "id": "bicincitta-montecatini-terme",
         "location": {
          "city": "Montecatini Terme",
          "country": "IT",
          "latitude": 43.88362791665083,
          "longitude": 10.764385656591799
         },
         "name": "Bicincittà",
         "source": "https://www.bicincitta.com/frmLeStazioni.aspx?ID=210"
        },
        {
         "company": [
          "Bike U Sp. z o.o."
         ],
         "href": "/v2/networks/bikeu-bra",
         "id": "bikeu-bra",
         "location": {
          "city": "Bydgoszcz",
          "country": "PL",
          "latitude": 53.12193,
          "longitude": 18.00038
         },
         "name": "Bydgoski rower aglomeracyjny"
        },
        {
         "company": [
          "PBSC",
          "Serco Group plc"
         ],
         "href": "/v2/networks/santander-cycles",
         "id": "santander-cycles",
         "location": {
          "city": "London",
          "country": "GB",
          "latitude": 51.51121389999999,
          "longitude": -0.1198244
         },
         "name": "Santander Cycles"
        },
        {
         "company": [
          "PBSC",
          "Alta Bicycle Share, Inc"
         ],
         "gbfs_href": "https://asp.publicbikesystem.net/ube/gbfs/v1/gbfs.json",
         "href": "/v2/networks/we-cycle",
         "id": "we-cycle",
         "location": {
          "city": "Aspen, CO",
          "country": "US",
          "latitude": 39.194951,
          "longitude": -106.837002
         },
         "name": "WE-cycle"
        },
        {
         "company": [
          "Comunicare S.r.l."
         ],
         "href": "/v2/networks/bicincitta-carrara",
         "id": "bicincitta-carrara",
         "location": {
          "city": "Carrara",
          "country": "IT",
          "latitude": 44.07731805550891,
          "longitude": 10.097172450401331
         },
         "name": "Bicincittà",
         "source": "https://www.bicincitta.com/frmLeStazioni.aspx?ID=211"
        },
        {
         "company": [
          "PBSC",
          "Alta Bicycle Share, Inc"
         ],
         "href": "/v2/networks/wowcycle-reykjavik",
         "id": "wowcycle-reykjavik",
         "location": {
          "city": "Reykjavík",
          "country": "IS",
          "latitude": 64.128288,
          "longitude": -21.827774
         },
         "name": "WOW Citybike"
        },
        {
         "company": [
          "Transparenzportal Hamburg"
         ],
         "href": "/v2/networks/stadtrad-hamburg",
         "id": "stadtrad-hamburg",
         "license": {
          "name": "Data licence Germany – attribution – version 2.0",
          "url": "https://www.govdata.de/dl-de/by-2-0"
         },
         "location": {
          "city": "Hamburg",
          "country": "DE",
          "latitude": 53.57532,
          "longitude": 10.01534
         },
         "name": "StadtRAD Hamburg'"
        },
        {
         "company": [
          "Comunicare S.r.l."
         ],
         "href": "/v2/networks/tigullionbike",
         "id": "tigullionbike",
         "location": {
          "city": "Sestri Levante - Lavagna",
          "country": "IT",
          "latitude": 44.272554,
          "longitude": 9.395714
         },
         "name": "Tigullionbike",
         "source": "https://www.bicincitta.com/frmLeStazioni.aspx?ID=80"
        },
        {
         "company": [
          "Comunicare S.r.l."
         ],
         "href": "/v2/networks/arbike",
         "id": "arbike",
         "location": {
          "city": "Arezzo",
          "country": "IT",
          "latitude": 43.473333,
          "longitude": 11.87
         },
         "name": "ARbike",
         "source": "https://www.bicincitta.com/frmLeStazioni.aspx?ID=84"
        },
        {
         "company": [
          "Velobike.kz, LLP",
          "Smoove"
         ],
         "href": "/v2/networks/velobike",
         "id": "velobike",
         "location": {
          "city": "Astana",
          "country": "KZ",
          "latitude": 51.166667,
          "longitude": 71.416667
         },
         "name": "Velobike"
        },
        {
         "company": null,
         "ebikes": true,
         "gbfs_href": "https://velib-metropole-opendata.smoove.pro/opendata/Velib_Metropole/gbfs.json",
         "href": "/v2/networks/velib",
         "id": "velib",
         "license": {
          "name": "OPEN LICENCE 2.0",
          "url": "etalab.gouv.fr/wp-content/uploads/2018/11/open-licence.pdf"
         },
         "location": {
          "city": "Paris",
          "country": "FR",
          "latitude": 48.856614,
          "longitude": 2.3522219
         },
         "name": "Vélib' Métropole"
        },
        {
         "company": [
          "Comunicare S.r.l."
         ],
         "href": "/v2/networks/ascoli-piceno",
         "id": "ascoli-piceno",
         "location": {
          "city": "Ascoli Piceno",
          "country": "IT",
          "latitude": 42.85,
          "longitude": 13.583333
         },
         "name": "Ascoli Piceno",
         "source": "https://www.bicincitta.com/frmLeStazioni.aspx?ID=73"
        },
        {
         "company": [
          "Comunicare S.r.l."
         ],
         "href": "/v2/networks/bigi",
         "id": "bigi",
         "location": {
          "city": "Bergamo",
          "country": "IT",
          "latitude": 45.695,
          "longitude": 9.67
         },
         "name": "BiGi",
         "source": "https://www.bicincitta.com/frmLeStazioni.aspx?ID=133"
        },
        {
         "company": [
          "ICNITA S.L."
         ],
         "href": "/v2/networks/girocleta",
         "id": "girocleta",
         "location": {
          "city": "Girona",
          "country": "ES",
          "latitude": 41.9794005,
          "longitude": 2.8214264
         },
         "name": "Girocleta"
        },
        {
         "company": [
          "Comunicare S.r.l."
         ],
         "href": "/v2/networks/alba",
         "id": "alba",
         "location": {
          "city": "Alba",
          "country": "IT",
          "latitude": 44.716667,
          "longitude": 8.083333
         },
         "name": "Alba",
         "source": "https://www.bicincitta.com/frmLeStazioni.aspx?ID=139"
        },
        {
         "company": [
          "ClearChannel"
         ],
         "ebikes": true,
         "href": "/v2/networks/bikemi",
         "id": "bikemi",
         "location": {
          "city": "Milano",
          "country": "IT",
          "latitude": 45.4654542,
          "longitude": 9.186516
         },
         "name": "BikeMi"
        },
        {
         "company": [
          "Comunicare S.r.l."
         ],
         "href": "/v2/networks/biella",
         "id": "biella",
         "location": {
          "city": "Biella",
          "country": "IT",
          "latitude": 45.5775,
          "longitude": 8.051111
         },
         "name": "Biella",
         "source": "https://www.bicincitta.com/frmLeStazioni.aspx?ID=112"
        },
        {
         "company": [
          "Comunicare S.r.l."
         ],
         "href": "/v2/networks/chivasso",
         "id": "chivasso",
         "location": {
          "city": "Chivasso",
          "country": "IT",
          "latitude": 45.189765,
          "longitude": 7.888935
         },
         "name": "Chivasso",
         "source": "https://www.bicincitta.com/frmLeStazioni.aspx?ID=201"
        },
        {
         "company": [
          "ClearChannel"
         ],
         "href": "/v2/networks/bizi",
         "id": "bizi",
         "location": {
          "city": "Zaragoza",
          "country": "ES",
          "latitude": 41.6487908,
          "longitude": -0.8895811
         },
         "name": "Bizi"
        },
        {
         "company": null,
         "gbfs_href": "https://gbfs.mex.lyftbikes.com/gbfs/gbfs.json",
         "href": "/v2/networks/ecobici",
         "id": "ecobici",
         "location": {
          "city": "Cd de México",
          "country": "MX",
          "latitude": 19.4326077,
          "longitude": -99.133208
         },
         "name": "EcoBici"
        },
        {
         "company": [
          "Comunicare S.r.l."
         ],
         "href": "/v2/networks/bici-in-busto",
         "id": "bici-in-busto",
         "location": {
          "city": "Busto Arsizio",
          "country": "IT",
          "latitude": 45.610555,
          "longitude": 8.852062
         },
         "name": "Bici in Busto",
         "source": "https://www.bicincitta.com/frmLeStazioni.aspx?ID=66"
        },
        {
         "company": [
          "ClearChannel"
         ],
         "href": "/v2/networks/velo-antwerpen",
         "id": "velo-antwerpen",
         "location": {
          "city": "Antwerpen",
          "country": "BE",
          "latitude": 51.216667,
          "longitude": 4.4
         },
         "name": "Velo Antwerpen"
        },
        {
         "company": [
          "Comunicare S.r.l."
         ],
         "href": "/v2/networks/cuneo",
         "id": "cuneo",
         "location": {
          "city": "Cuneo",
          "country": "IT",
          "latitude": 44.384238,
          "longitude": 7.541428
         },
         "name": "Cuneo",
         "source": "https://www.bicincitta.com/frmLeStazioni.aspx?ID=39"
        },
        {
         "company": [
          "ClearChannel"
         ],
         "href": "/v2/networks/malmobybike",
         "id": "malmobybike",
         "location": {
          "city": "Malmö",
          "country": "SE",
          "latitude": 55.605,
          "longitude": 13.0038
         },
         "name": "Malmö by bike"
        },
        {
         "company": [
          "ClearChannel"
         ],
         "href": "/v2/networks/bicilascondes",
         "id": "bicilascondes",
         "location": {
          "city": "Las Condes",
          "country": "CL",
          "latitude": -33.401944,
          "longitude": -70.55
         },
         "name": "Bici las Condes"
        },
        {
         "company": "Empresa Municipal de Transportes de Madrid, S.A.",
         "href": "/v2/networks/bicimad",
         "id": "bicimad",
         "location": {
          "city": "Madrid",
          "country": "ES",
          "latitude": 40.4168,
          "longitude": -3.7038
         },
         "name": "BiciMAD"
        },
        {
         "company": [
          "Brainbox Technology",
          "Smoove SAS"
         ],
         "href": "/v2/networks/easybike-didymoteicho",
         "id": "easybike-didymoteicho",
         "location": {
          "city": "Didymoteicho",
          "country": "GR",
          "latitude": 41.3502539849,
          "longitude": 26.4972960949
         },
         "name": "EasyBike"
        },
        {
         "company": [
          "Comunicare S.r.l."
         ],
         "href": "/v2/networks/free-bike-sharing",
         "id": "free-bike-sharing",
         "location": {
          "city": "Frosinone",
          "country": "IT",
          "latitude": 41.645081,
          "longitude": 13.342123
         },
         "name": "FRee Bike sharing",
         "source": "https://www.bicincitta.com/frmLeStazioni.aspx?ID=53"
        },
        {
         "company": [
          "Brainbox Technology",
          "Smoove SAS"
         ],
         "href": "/v2/networks/easybike-glyfada",
         "id": "easybike-glyfada",
         "location": {
          "city": "Glyfada",
          "country": "GR",
          "latitude": 37.8715809825,
          "longitude": 23.7355544376
         },
         "name": "EasyBike"
        },
        {
         "company": [
          "Brainbox Technology",
          "Smoove SAS"
         ],
         "href": "/v2/networks/easybike-igoumenitsa",
         "id": "easybike-igoumenitsa",
         "location": {
          "city": "Igoumenitsa",
          "country": "GR",
          "latitude": 39.5005770633,
          "longitude": 20.2635206985
         },
         "name": "EasyBike"
        },
        {
         "company": [
          "Comunicare S.r.l."
         ],
         "href": "/v2/networks/lecce",
         "id": "lecce",
         "location": {
          "city": "Lecce",
          "country": "IT",
          "latitude": 40.35040350928062,
          "longitude": 18.177824020385742
         },
         "name": "lecce",
         "source": "https://www.bicincitta.com/frmLeStazioni.aspx?ID=159"
        },
        {
         "company": [
          "Brainbox Technology",
          "Smoove SAS"
         ],
         "href": "/v2/networks/easybike-ioannina",
         "id": "easybike-ioannina",
         "location": {
          "city": "Ioannina",
          "country": "GR",
          "latitude": 39.6639818,
          "longitude": 20.8522784
         },
         "name": "EasyBike"
        },
        {
         "company": [
          "Brainbox Technology",
          "Smoove SAS"
         ],
         "href": "/v2/networks/easybike-karditsa",
         "id": "easybike-karditsa",
         "location": {
          "city": "Karditsa",
          "country": "GR",
          "latitude": 39.3634604,
          "longitude": 21.9211192
         },
         "name": "EasyBike"
        },
        {
         "company": [
          "Comunicare S.r.l."
         ],
         "href": "/v2/networks/manerba-in-bici",
         "id": "manerba-in-bici",
         "location": {
          "city": "Manerba del Garda",
          "country": "IT",
          "latitude": 45.561179,
          "longitude": 10.559406
         },
         "name": "Manerba in Bici",
         "source": "https://www.bicincitta.com/frmLeStazioni.aspx?ID=102"
        },
        {
         "company": [
          "Brainbox Technology",
          "Smoove SAS"
         ],
         "href": "/v2/networks/easybike-kavala",
         "id": "easybike-kavala",
         "location": {
          "city": "Kavala",
          "country": "GR",
          "latitude": 40.9369068,
          "longitude": 24.4122164
         },
         "name": "EasyBike"
        },
        {
         "company": [
          "Brainbox Technology",
          "Smoove SAS"
         ],
         "href": "/v2/networks/easybike-kinouria",
         "id": "easybike-kinouria",
         "location": {
          "city": "Kinouria",
          "country": "GR",
          "latitude": 37.1476704305,
          "longitude": 22.8933729935
         },
         "name": "EasyBike"
        },
        {
         "company": [
          "Brainbox Technology",
          "Smoove SAS"
         ],
         "href": "/v2/networks/easybike-komotini",
         "id": "easybike-komotini",
         "location": {
          "city": "Komotini",
          "country": "GR",
          "latitude": 41.117833,
          "longitude": 25.4041307
         },
         "name": "EasyBike"
        },
        {
         "company": [
          "Brainbox Technology",
          "Smoove SAS"
         ],
         "href": "/v2/networks/easybike-patra",
         "id": "easybike-patra",
         "location": {
          "city": "Patra",
          "country": "GR",
          "latitude": 38.2410966371,
          "longitude": 21.7259683418
         },
         "name": "EasyBike"
        },
        {
         "company": [
          "Comunicare S.r.l."
         ],
         "href": "/v2/networks/mar-e-bici",
         "id": "mar-e-bici",
         "location": {
          "city": "Marciana Marina",
          "country": "IT",
          "latitude": 42.805855,
          "longitude": 10.196514
         },
         "name": "Mar e Bici",
         "source": "https://www.bicincitta.com/frmLeStazioni.aspx?ID=90"
        },
        {
         "company": [
          "Brainbox Technology",
          "Smoove SAS"
         ],
         "href": "/v2/networks/easybike-rethymno",
         "id": "easybike-rethymno",
         "location": {
          "city": "Rethymno",
          "country": "GR",
          "latitude": 35.3667571777,
          "longitude": 24.4832845736
         },
         "name": "EasyBike"
        },
        {
         "company": [
          "Brainbox Technology",
          "Smoove SAS"
         ],
         "href": "/v2/networks/easybike-samos",
         "id": "easybike-samos",
         "location": {
          "city": "Samos",
          "country": "GR",
          "latitude": 37.754065919,
          "longitude": 26.9787850189
         },
         "name": "EasyBike"
        },
        {
         "company": [
          "Comunicare S.r.l."
         ],
         "href": "/v2/networks/novara",
         "id": "novara",
         "location": {
          "city": "Novara",
          "country": "IT",
          "latitude": 45.44574,
          "longitude": 8.622165
         },
         "name": "Novara",
         "source": "https://www.bicincitta.com/frmLeStazioni.aspx?ID=131"
        },
        {
         "company": [
          "Brainbox Technology",
          "Smoove SAS"
         ],
         "href": "/v2/networks/easybike-nicosia",
         "id": "easybike-nicosia",
         "location": {
          "city": "Nicosia",
          "country": "CY",
          "latitude": 35.1739302,
          "longitude": 33.364726
         },
         "name": "EasyBike"
        },
        {
         "company": [
          "Brainbox Technology",
          "Smoove SAS"
         ],
         "href": "/v2/networks/easybike-mani",
         "id": "easybike-mani",
         "location": {
          "city": "Mani",
          "country": "GR",
          "latitude": 41.4097472,
          "longitude": 26.4024952
         },
         "name": "EasyBike"
        },
        {
         "company": [
          "Brainbox Technology",
          "Smoove SAS"
         ],
         "href": "/v2/networks/easybike-irakleio",
         "id": "easybike-irakleio",
         "location": {
          "city": "Irakleio",
          "country": "GR",
          "latitude": 35.338735,
          "longitude": 25.144213
         },
         "name": "EasyBike"
        },
        {
         "company": [
          "Brainbox Technology",
          "Smoove SAS"
         ],
         "href": "/v2/networks/thessbike",
         "id": "thessbike",
         "location": {
          "city": "Thessaloniki",
          "country": "GR",
          "latitude": 40.6403167,
          "longitude": 22.9352716
         },
         "name": "ThessBike"
        },
        {
         "company": [
          "Brainbox Technology",
          "Smoove SAS"
         ],
         "href": "/v2/networks/athens-bikes",
         "id": "athens-bikes",
         "location": {
          "city": "Athens",
          "country": "GR",
          "latitude": 37.9838,
          "longitude": 23.7275
         },
         "name": "AthensBikes"
        },
        {
         "company": [
          "Comunicare S.r.l."
         ],
         "href": "/v2/networks/goodbike",
         "id": "goodbike",
         "location": {
          "city": "Padova",
          "country": "IT",
          "latitude": 45.4064349,
          "longitude": 11.8767611
         },
         "name": "GoodBike",
         "source": "http://www.goodbikepadova.it/frmLeStazioni.aspx?ID=59"
        },
        {
         "company": [
          "PegBike"
         ],
         "href": "/v2/networks/ciclosampa",
         "id": "ciclosampa",
         "location": {
          "city": "São Paulo",
          "country": "BR",
          "latitude": -23.55,
          "longitude": -46.6333
         },
         "name": "CicloSampa"
        },
        {
         "company": null,
         "gbfs_href": "https://acoruna.publicbikesystem.net/customer/gbfs/v2/gbfs.json",
         "href": "/v2/networks/bicicorunha",
         "id": "bicicorunha",
         "location": {
          "city": "A Coruña",
          "country": "ES",
          "latitude": 43.3623,
          "longitude": -8.4115
         },
         "name": "Bicicoruña"
        },
        {
         "company": [
          "Tuimil S.A."
         ],
         "href": "/v2/networks/bici-ferrol-terra",
         "id": "bici-ferrol-terra",
         "location": {
          "city": "Ferrol - Narón",
          "country": "ES",
          "latitude": 43.4896,
          "longitude": -8.2193
         },
         "name": "BiciFerrolTerra"
        },
        {
         "company": [
          "Social Bicycles Inc."
         ],
         "gbfs_href": "http://curtinbikeshare.com/opendata/gbfs.json",
         "href": "/v2/networks/curtin-bike-share",
         "id": "curtin-bike-share",
         "location": {
          "city": "Curtin University, Perth, WA",
          "country": "AU",
          "latitude": -32.0034172153127,
          "longitude": 115.89431270956993
         },
         "name": "Curtin Bike Share"
        },
        {
         "company": [
          "Social Bicycles Inc."
         ],
         "gbfs_href": "https://monashbikeshare.com/opendata/gbfs.json",
         "href": "/v2/networks/monash-bikeshare",
         "id": "monash-bikeshare",
         "location": {
          "city": "Melbourne, AU",
          "country": "AU",
          "latitude": -37.91238410208696,
          "longitude": 145.1362281292677
         },
         "name": "Monash BikeShare"
        },
        {
         "company": [
          "Comunicare S.r.l."
         ],
         "href": "/v2/networks/mimuovofe",
         "id": "mimuovofe",
         "location": {
          "city": "Ferrara",
          "country": "IT",
          "latitude": 44.8350382,
          "longitude": 11.6240562
         },
         "name": "Mi Muovo in Bici",
         "source": "http://www.mimuovoinbici.it/frmLeStazioni.aspx?ID=142"
        },
        {
         "company": [
          "Motivate International, Inc.",
          "PBSC Urban Solutions",
          "BIXI Montréal"
         ],
         "ebikes": true,
         "gbfs_href": "https://gbfs.velobixi.com/gbfs/gbfs.json",
         "href": "/v2/networks/bixi-montreal",
         "id": "bixi-montreal",
         "location": {
          "city": "Montréal, QC",
          "country": "CA",
          "latitude": 45.508693,
          "longitude": -73.553928
         },
         "name": "Bixi"
        },
        {
         "company": [
          "Comunicare S.r.l."
         ],
         "href": "/v2/networks/parma",
         "id": "parma",
         "location": {
          "city": "Parma",
          "country": "IT",
          "latitude": 44.801485,
          "longitude": 10.3279036
         },
         "name": "Mi Muovo in Bici",
         "source": "http://www.mimuovoinbici.it/frmLeStazioni.aspx?ID=58"
        },
        {
         "company": [
          "Motivate International, Inc.",
          "PBSC Urban Solutions"
         ],
         "gbfs_href": "https://tor.publicbikesystem.net/ube/gbfs/v1/",
         "href": "/v2/networks/bixi-toronto",
         "id": "bixi-toronto",
         "location": {
          "city": "Toronto, ON",
          "country": "CA",
          "latitude": 43.653226,
          "longitude": -79.3831843
         },
         "name": "Bike Share Toronto"
        },
        {
         "company": [
          "Social Bicycles Inc."
         ],
         "gbfs_href": "https://hamilton.socialbicycles.com/opendata/gbfs.json",
         "href": "/v2/networks/sobi-hamilton",
         "id": "sobi-hamilton",
         "location": {
          "city": "Hamilton, ON",
          "country": "CA",
          "latitude": 43.25643601915583,
          "longitude": -79.86929655075073
         },
         "name": "SoBi"
        },
        {
         "company": [
          "Clean Energy Coalition",
          "BCycle, LLC"
         ],
         "gbfs_href": "https://gbfs.bcycle.com/bcycle_arborbike/gbfs.json",
         "href": "/v2/networks/arborbike",
         "id": "arborbike",
         "location": {
          "city": "Ann Arbor, MI",
          "country": "US",
          "latitude": 42.27853,
          "longitude": -83.74536
         },
         "name": "ArborBike"
        },
        {
         "company": [
          "Comunicare S.r.l."
         ],
         "href": "/v2/networks/pavia-in-bici",
         "id": "pavia-in-bici",
         "location": {
          "city": "Pavia",
          "country": "IT",
          "latitude": 45.1847248,
          "longitude": 9.1582069
         },
         "name": "Pavia in bici",
         "source": "https://www.bicincitta.com/frmLeStazioni.aspx?ID=45"
        },
        {
         "company": [
          "Comunicare S.r.l."
         ],
         "href": "/v2/networks/bici-perugia",
         "id": "bici-perugia",
         "location": {
          "city": "Perugia",
          "country": "IT",
          "latitude": 43.1107168,
          "longitude": 12.3908279
         },
         "name": "Bici Perugia",
         "source": "https://www.bicincitta.com/frmLeStazioni.aspx?ID=122"
        },
        {
         "company": [
          "BCycle, LLC"
         ],
         "gbfs_href": "https://gbfs.bcycle.com/bcycle_austin/gbfs.json",
         "href": "/v2/networks/austin",
         "id": "austin",
         "location": {
          "city": "Austin, TX",
          "country": "US",
          "latitude": 30.26408,
          "longitude": -97.74355
         },
         "name": "Austin B-cycle"
        },
        {
         "company": [
          "Motivate International, Inc",
          "PBSC"
         ],
         "ebikes": true,
         "gbfs_href": "https://chat.publicbikesystem.net/ube/gbfs/v1/",
         "href": "/v2/networks/bike-chattanooga",
         "id": "bike-chattanooga",
         "location": {
          "city": "Chattanooga, TN",
          "country": "US",
          "latitude": 35.0456297,
          "longitude": -85.3096801
         },
         "name": "Bike Chattanooga"
        },
        {
         "company": [
          "Comunicare S.r.l."
         ],
         "href": "/v2/networks/piacenza",
         "id": "piacenza",
         "location": {
          "city": "Piacenza",
          "country": "IT",
          "latitude": 45.0473754,
          "longitude": 9.6865813
         },
         "name": "Mi Muovo in Bici",
         "source": "http://www.mimuovoinbici.it/frmLeStazioni.aspx?ID=148"
        },
        {
         "company": [
          "Comunicare S.r.l."
         ],
         "href": "/v2/networks/pinerolo",
         "id": "pinerolo",
         "location": {
          "city": "Pinerolo",
          "country": "IT",
          "latitude": 44.8850256,
          "longitude": 7.3499953
         },
         "name": "Pinerolo",
         "source": "https://www.bicincitta.com/frmLeStazioni.aspx?ID=71"
        },
        {
         "company": [
          "Portland Bureau of Transportation (PBOT)",
          "Motivate International, Inc",
          "Social Bicycles Inc."
         ],
         "gbfs_href": "http://biketownpdx.socialbicycles.com/opendata/gbfs.json",
         "href": "/v2/networks/biketown",
         "id": "biketown",
         "location": {
          "city": "Portland, OR",
          "country": "US",
          "latitude": 45.52175423291714,
          "longitude": -122.68107935786247
         },
         "name": "BIKETOWN"
        },
        {
         "company": [
          "Comunicare S.r.l."
         ],
         "href": "/v2/networks/reggio-emilia",
         "id": "reggio-emilia",
         "location": {
          "city": "Reggio Emilia",
          "country": "IT",
          "latitude": 44.6989932,
          "longitude": 10.6296859
         },
         "name": "Mi Muovo in Bici",
         "source": "http://www.mimuovoinbici.it/frmLeStazioni.aspx?ID=155"
        },
        {
         "company": [
          "CycleHop, LLC",
          "Social Bicycles Inc."
         ],
         "gbfs_href": "http://britebikes.socialbicycles.com/opendata/gbfs.json",
         "href": "/v2/networks/britebikes",
         "id": "britebikes",
         "location": {
          "city": "San Ramon, CA",
          "country": "US",
          "latitude": 37.759444753878,
          "longitude": -121.955134881881
         },
         "name": "BRiteBikes"
        },
        {
         "company": [
          "ValleyRide",
          "Social Bicycles Inc."
         ],
         "gbfs_href": "http://boise.greenbike.com/opendata/gbfs.json",
         "href": "/v2/networks/boise-greenbike",
         "id": "boise-greenbike",
         "location": {
          "city": "Boise, ID",
          "country": "US",
          "latitude": 43.6153060610528,
          "longitude": -116.201761349309
         },
         "name": "Boise GreenBike"
        },
        {
         "company": [
          "BCycle, LLC"
         ],
         "gbfs_href": "https://gbfs.bcycle.com/bcycle_boulder/gbfs.json",
         "href": "/v2/networks/boulder",
         "id": "boulder",
         "location": {
          "city": "Boulder, CO",
          "country": "US",
          "latitude": 40.00811,
          "longitude": -105.26385
         },
         "name": "Boulder B-cycle"
        },
        {
         "company": [
          "CycleHop, LLC",
          "Social Bicycles Inc."
         ],
         "gbfs_href": "http://santamonicabikeshare.com/opendata/gbfs.json",
         "href": "/v2/networks/breeze-bike-share",
         "id": "breeze-bike-share",
         "location": {
          "city": "Santa Monica, CA",
          "country": "US",
          "latitude": 34.01780925008178,
          "longitude": -118.4965717792511
         },
         "name": "Breeze Bike Share"
        },
        {
         "company": [
          "Comunicare S.r.l."
         ],
         "href": "/v2/networks/rimini",
         "id": "rimini",
         "location": {
          "city": "Rimini",
          "country": "IT",
          "latitude": 44.0570817,
          "longitude": 12.5646003
         },
         "name": "Mi Muovo in Bici",
         "source": "http://www.mimuovoinbici.it/frmLeStazioni.aspx?ID=149"
        },
        {
         "company": [
          "BCycle, LLC"
         ],
         "gbfs_href": "https://gbfs.bcycle.com/bcycle_broward/gbfs.json",
         "href": "/v2/networks/broward",
         "id": "broward",
         "location": {
          "city": "Fort Lauderdale, FL",
          "country": "US",
          "latitude": 26.12026,
          "longitude": -80.14819
         },
         "name": "Broward B-cycle"
        },
        {
         "company": [
          "BCycle, LLC"
         ],
         "gbfs_href": "https://gbfs.bcycle.com/bcycle_bublr/gbfs.json",
         "href": "/v2/networks/bublr-bikes",
         "id": "bublr-bikes",
         "location": {
          "city": "Milwaukee, WI",
          "country": "US",
          "latitude": 43.0369,
          "longitude": -87.89667
         },
         "name": "Bublr Bikes"
        },
        {
         "company": [
          "Shared Mobility Inc.",
          "Social Bicycles Inc."
         ],
         "gbfs_href": "https://reddybikeshare.socialbicycles.com/opendata/gbfs.json",
         "href": "/v2/networks/reddy-bike-share",
         "id": "reddy-bike-share",
         "location": {
          "city": "Buffalo, NY",
          "country": "US",
          "latitude": 42.89373841865211,
          "longitude": -78.8718044757843
         },
         "name": "Reddy Bike Share"
        },
        {
         "company": [
          "Motivate International, Inc.",
          "PBSC Urban Solutions"
         ],
         "ebikes": true,
         "gbfs_href": "https://gbfs.capitalbikeshare.com/gbfs/gbfs.json",
         "href": "/v2/networks/capital-bikeshare",
         "id": "capital-bikeshare",
         "location": {
          "city": "Washington, DC",
          "country": "US",
          "latitude": 38.8967584,
          "longitude": -77.03701629999999
         },
         "name": "Capital BikeShare"
        },
        {
         "company": [
          "BCycle, LLC"
         ],
         "gbfs_href": "https://gbfs.bcycle.com/bcycle_charlotte/gbfs.json",
         "href": "/v2/networks/charlotte",
         "id": "charlotte",
         "location": {
          "city": "Charlotte, NC",
          "country": "US",
          "latitude": 35.22716,
          "longitude": -80.83855
         },
         "name": "Charlotte B-cycle"
        },
        {
         "company": [
          "Comunicare S.r.l."
         ],
         "href": "/v2/networks/saluzzo",
         "id": "saluzzo",
         "location": {
          "city": "Saluzzo",
          "country": "IT",
          "latitude": 44.6445404,
          "longitude": 7.492735499999999
         },
         "name": "Saluzzo",
         "source": "https://www.bicincitta.com/frmLeStazioni.aspx?ID=51"
        },
        {
         "company": [
          "BCycle, LLC"
         ],
         "gbfs_href": "https://gbfs.bcycle.com/bcycle_cincyredbike/gbfs.json",
         "href": "/v2/networks/cincy-red-bike",
         "id": "cincy-red-bike",
         "location": {
          "city": "Cincinnati, OH",
          "country": "US",
          "latitude": 39.10138,
          "longitude": -84.51217
         },
         "name": "Cincy Red Bike"
        },
        {
         "company": [
          "Comunicare S.r.l."
         ],
         "href": "/v2/networks/savigliano",
         "id": "savigliano",
         "location": {
          "city": "Savigliano",
          "country": "IT",
          "latitude": 44.6470327,
          "longitude": 7.662463499999999
         },
         "name": "Savigliano",
         "source": "https://www.bicincitta.com/frmLeStazioni.aspx?ID=52"
        },
        {
         "company": [
          "NYC Bike Share, LLC",
          "Motivate International, Inc.",
          "PBSC Urban Solutions"
         ],
         "ebikes": true,
         "gbfs_href": "https://gbfs.citibikenyc.com/gbfs/gbfs.json",
         "href": "/v2/networks/citi-bike-nyc",
         "id": "citi-bike-nyc",
         "location": {
          "city": "New York, NY",
          "country": "US",
          "latitude": 40.7143528,
          "longitude": -74.00597309999999
         },
         "name": "Citi Bike"
        },
        {
         "company": [
          "CycleHop, LLC"
         ],
         "gbfs_href": "https://gbfs.hopr.city/api/gbfs/8/",
         "href": "/v2/networks/coast-bike-share",
         "id": "coast-bike-share",
         "location": {
          "city": "Tampa, FL",
          "country": "US",
          "latitude": 27.9627193250593,
          "longitude": -82.438056400783
         },
         "name": "Coast Bike Share"
        },
        {
         "company": [
          "Comunicare S.r.l."
         ],
         "href": "/v2/networks/terni",
         "id": "terni",
         "location": {
          "city": "Terni",
          "country": "IT",
          "latitude": 42.5636168,
          "longitude": 12.6426604
         },
         "name": "Terni",
         "source": "https://www.bicincitta.com/frmLeStazioni.aspx?ID=134"
        },
        {
         "company": [
          "Motivate International, Inc.",
          "PBSC Urban Solutions"
         ],
         "ebikes": true,
         "gbfs_href": "https://gbfs.cogobikeshare.com/gbfs/gbfs.json",
         "href": "/v2/networks/cogo",
         "id": "cogo",
         "location": {
          "city": "Columbus, OH",
          "country": "US",
          "latitude": 39.983333,
          "longitude": -82.983333
         },
         "name": "CoGo"
        },
        {
         "company": [
          "BCycle, LLC"
         ],
         "gbfs_href": "https://gbfs.bcycle.com/bcycle_denver/gbfs.json",
         "href": "/v2/networks/denver",
         "id": "denver",
         "location": {
          "city": "Denver, CO",
          "country": "US",
          "latitude": 39.72055,
          "longitude": -104.95253
         },
         "name": "Denver B-cycle"
        },
        {
         "company": [
          "Motivate International, Inc.",
          "PBSC Urban Solutions"
         ],
         "ebikes": true,
         "gbfs_href": "https://gbfs.divvybikes.com/gbfs/gbfs.json",
         "href": "/v2/networks/divvy",
         "id": "divvy",
         "location": {
          "city": "Chicago, IL",
          "country": "US",
          "latitude": 41.8781136,
          "longitude": -87.6297982
         },
         "name": "Divvy"
        },
        {
         "company": [
          "Comunicare S.r.l."
         ],
         "href": "/v2/networks/tirano-in-bici",
         "id": "tirano-in-bici",
         "location": {
          "city": "Tirano",
          "country": "IT",
          "latitude": 46.216168,
          "longitude": 10.1696056
         },
         "name": "Tirano in Bici",
         "source": "https://www.bicincitta.com/frmLeStazioni.aspx?ID=141"
        },
        {
         "company": [
          "BCycle, LLC"
         ],
         "gbfs_href": "https://gbfs.bcycle.com/bcycle_elpaso/gbfs.json",
         "href": "/v2/networks/elpaso",
         "id": "elpaso",
         "location": {
          "city": "El Paso, TX",
          "country": "US",
          "latitude": 31.76148,
          "longitude": -106.48507
         },
         "name": "El Paso B-cycle"
        },
        {
         "company": [
          "BCycle, LLC"
         ],
         "gbfs_href": "https://gbfs.bcycle.com/bcycle_fortworth/gbfs.json",
         "href": "/v2/networks/fortworth",
         "id": "fortworth",
         "location": {
          "city": "Fort Worth, TX",
          "country": "US",
          "latitude": 32.7516,
          "longitude": -97.32888
         },
         "name": "Fort Worth Bike Sharing"
        },
        {
         "company": [
          "Comunicare S.r.l."
         ],
         "href": "/v2/networks/udine",
         "id": "udine",
         "location": {
          "city": "Udine",
          "country": "IT",
          "latitude": 46.0710668,
          "longitude": 13.2345794
         },
         "name": "Udine",
         "source": "https://www.bicincitta.com/frmLeStazioni.aspx?ID=126"
        },
        {
         "company": [
          "BCycle, LLC"
         ],
         "gbfs_href": "https://gbfs.bcycle.com/bcycle_greatrides/gbfs.json",
         "href": "/v2/networks/greatrides",
         "id": "greatrides",
         "location": {
          "city": "Fargo, ND",
          "country": "US",
          "latitude": 46.89248,
          "longitude": -96.80095
         },
         "name": "Great Rides Bike Share"
        },
        {
         "company": [
          "BCycle, LLC"
         ],
         "gbfs_href": "https://gbfs.bcycle.com/bcycle_greenbikeslc/gbfs.json",
         "href": "/v2/networks/greenbikeslc",
         "id": "greenbikeslc",
         "location": {
          "city": "Salt Lake City",
          "country": "US",
          "latitude": 40.76745,
          "longitude": -111.88736
         },
         "name": "GREENbike"
        },
        {
         "company": [
          "CycleHop, LLC",
          "Social Bicycles Inc."
         ],
         "gbfs_href": "https://grid.socialbicycles.com/opendata/gbfs.json",
         "href": "/v2/networks/grid-bike-share",
         "id": "grid-bike-share",
         "location": {
          "city": "Phoenix, AZ",
          "country": "US",
          "latitude": 33.4591031356657,
          "longitude": -112.074010667085
         },
         "name": "Grid Bike Share"
        },
        {
         "company": [
          "BCycle, LLC"
         ],
         "gbfs_href": "https://gbfs.bcycle.com/bcycle_heartland/gbfs.json",
         "href": "/v2/networks/omaha",
         "id": "omaha",
         "location": {
          "city": "Omaha, NE",
          "country": "US",
          "latitude": 41.25832,
          "longitude": -96.00853
         },
         "name": "Heartland B-cycle"
        },
        {
         "company": [
          "BCycle, LLC"
         ],
         "gbfs_href": "https://gbfs.bcycle.com/bcycle_houston/gbfs.json",
         "href": "/v2/networks/houston",
         "id": "houston",
         "location": {
          "city": "Houston, TX",
          "country": "US",
          "latitude": 29.75983,
          "longitude": -95.36949
         },
         "name": "Houston B-cycle"
        },
        {
         "company": [
          "Motivate International, Inc.",
          "PBSC Urban Solutions"
         ],
         "ebikes": true,
         "gbfs_href": "https://gbfs.bluebikes.com/gbfs/gbfs.json",
         "href": "/v2/networks/blue-bikes",
         "id": "blue-bikes",
         "location": {
          "city": "Boston, MA",
          "country": "US",
          "latitude": 42.3584308,
          "longitude": -71.0597732
         },
         "name": "Blue Bikes"
        },
        {
         "company": [
          "Comunicare S.r.l."
         ],
         "href": "/v2/networks/ustica",
         "id": "ustica",
         "location": {
          "city": "Ustica",
          "country": "IT",
          "latitude": 38.7031179,
          "longitude": 13.1682675
         },
         "name": "Ustica",
         "source": "https://www.bicincitta.com/frmLeStazioni.aspx?ID=138"
        },
        {
         "company": [
          "City of Philadelphia",
          "Bicycle Transit Systems",
          "BCycle, LLC"
         ],
         "gbfs_href": "https://gbfs.bcycle.com/bcycle_indego/gbfs.json",
         "href": "/v2/networks/indego",
         "id": "indego",
         "location": {
          "city": "Philadelphia, PA",
          "country": "US",
          "latitude": 39.95378,
          "longitude": -75.16374
         },
         "name": "Indego"
        },
        {
         "company": [
          "BCycle, LLC"
         ],
         "gbfs_href": "https://gbfs.bcycle.com/bcycle_pacersbikeshare/gbfs.json",
         "href": "/v2/networks/indiana-pacers-bikeshare",
         "id": "indiana-pacers-bikeshare",
         "location": {
          "city": "Indianapolis, IN",
          "country": "US",
          "latitude": 39.76593,
          "longitude": -86.16216
         },
         "name": "Indiana Pacers Bikeshare"
        },
        {
         "company": [
          "CycleHop, LLC",
          "Social Bicycles Inc."
         ],
         "gbfs_href": "https://juicebikeshare.com/opendata/gbfs.json",
         "href": "/v2/networks/juice-bike-share",
         "id": "juice-bike-share",
         "location": {
          "city": "Orlando, FL",
          "country": "US",
          "latitude": 28.536663311743688,
          "longitude": -81.37922197580338
         },
         "name": "Juice"
        },
        {
         "company": [
          "Comunicare S.r.l."
         ],
         "href": "/v2/networks/bici-co",
         "id": "bici-co",
         "location": {
          "city": "Como",
          "country": "IT",
          "latitude": 45.8080597,
          "longitude": 9.0851765
         },
         "name": "BICI&CO",
         "source": "https://www.bicincitta.com/frmLeStazioni.aspx?ID=157"
        },
        {
         "company": [
          "BCycle, LLC"
         ],
         "gbfs_href": "https://gbfs.bcycle.com/bcycle_kc/gbfs.json",
         "href": "/v2/networks/kansascity",
         "id": "kansascity",
         "location": {
          "city": "Kansas City, MO",
          "country": "US",
          "latitude": 39.0999,
          "longitude": -94.5857
         },
         "name": "B-cycle"
        },
        {
         "company": [
          "BCycle, LLC"
         ],
         "gbfs_href": "https://gbfs.bcycle.com/bcycle_linkdayton/gbfs.json",
         "href": "/v2/networks/linkdayton",
         "id": "linkdayton",
         "location": {
          "city": "Dayton, OH",
          "country": "US",
          "latitude": 39.75626,
          "longitude": -84.21119
         },
         "name": "Link"
        },
        {
         "company": [
          "BCycle, LLC"
         ],
         "gbfs_href": "https://gbfs.bcycle.com/bcycle_madison/gbfs.json",
         "href": "/v2/networks/madison",
         "id": "madison",
         "location": {
          "city": "Madison, WI",
          "country": "US",
          "latitude": 43.07571,
          "longitude": -89.38527
         },
         "name": "B-cycle"
        },
        {
         "company": [
          "Los Angeles County Metropolitan Transportation Authority (Metro)",
          "Bicycle Transit Systems",
          "BCycle, LLC"
         ],
         "gbfs_href": "https://gbfs.bcycle.com/bcycle_lametro/gbfs.json",
         "href": "/v2/networks/metro-bike-share",
         "id": "metro-bike-share",
         "location": {
          "city": "Los Angeles, CA",
          "country": "US",
          "latitude": 34.04855,
          "longitude": -118.25905
         },
         "name": "Metro Bike Share"
        },
        {
         "company": [
          "Mountain Rides",
          "Social Bicycles Inc."
         ],
         "gbfs_href": "http://mrbikeshare.org/opendata/gbfs.json",
         "href": "/v2/networks/mountain-rides-bike-share",
         "id": "mountain-rides-bike-share",
         "location": {
          "city": "Ketchum / Sun Valley, ID",
          "country": "US",
          "latitude": 43.5194695168239,
          "longitude": -114.317415758737
         },
         "name": "Mountain Rides Bike Share"
        },
        {
         "company": [
          "Nice Ride Minnesota",
          "Lyft"
         ],
         "gbfs_href": "https://gbfs.niceridemn.com/gbfs/gbfs.json",
         "href": "/v2/networks/nice-ride",
         "id": "nice-ride",
         "location": {
          "city": "Minneapolis, MN",
          "country": "US",
          "latitude": 44.983334,
          "longitude": -93.26666999999999
         },
         "name": "Nice Ride"
        },
        {
         "company": [
          "Comunicare S.r.l."
         ],
         "href": "/v2/networks/speziainbici",
         "id": "speziainbici",
         "location": {
          "city": "La Spezia",
          "country": "IT",
          "latitude": 44.1024504,
          "longitude": 9.824082599999999
         },
         "name": "Speziainbici",
         "source": "https://www.bicincitta.com/frmLeStazioni.aspx?ID=137"
        },
        {
         "company": [
          "BCycle, LLC"
         ],
         "gbfs_href": "https://gbfs.bcycle.com/bcycle_sanantonio/gbfs.json",
         "href": "/v2/networks/sanantonio",
         "id": "sanantonio",
         "location": {
          "city": "San Antonio, TX",
          "country": "US",
          "latitude": 29.43701,
          "longitude": -98.48236
         },
         "name": "SWell Cycle"
        },
        {
         "company": [
          "Social Bicycles Inc."
         ],
         "gbfs_href": "https://usf.socialbicycles.com/opendata/gbfs.json",
         "href": "/v2/networks/share-a-bull-bikes",
         "id": "share-a-bull-bikes",
         "location": {
          "city": "University of South Florida, FL",
          "country": "US",
          "latitude": 28.060548696070995,
          "longitude": -82.4076198041439
         },
         "name": "Share-a-Bull Bikes"
        },
        {
         "company": [
          "Comunicare S.r.l."
         ],
         "href": "/v2/networks/venezia",
         "id": "venezia",
         "location": {
          "city": "Venezia",
          "country": "IT",
          "latitude": 45.4408474,
          "longitude": 12.3155151
         },
         "name": "Venezia",
         "source": "https://www.bicincitta.com/frmLeStazioni.aspx?ID=93"
        },
        {
         "company": [
          "Social Bicycles Inc."
         ],
         "gbfs_href": "http://sobilongbeach.com/opendata/gbfs.json",
         "href": "/v2/networks/sobi-long-beach",
         "id": "sobi-long-beach",
         "location": {
          "city": "Long Beach, NY",
          "country": "US",
          "latitude": 40.5833058203002,
          "longitude": -73.6482682794673
         },
         "name": "SoBi"
        },
        {
         "company": [
          "BCycle, LLC"
         ],
         "gbfs_href": "https://gbfs.bcycle.com/bcycle_spartanburg/gbfs.json",
         "href": "/v2/networks/spartanburg",
         "id": "spartanburg",
         "location": {
          "city": "Spartanburg, SC",
          "country": "US",
          "latitude": 34.94867,
          "longitude": -81.93345
         },
         "name": "Spartanburg BCycle"
        },
        {
         "company": [
          "Topeka Metropolitan Transit Authority",
          "Social Bicycles Inc."
         ],
         "gbfs_href": "http://topekametrobikes.org/opendata/gbfs.json",
         "href": "/v2/networks/topeka-metro-bikes",
         "id": "topeka-metro-bikes",
         "location": {
          "city": "Topeka, KS",
          "country": "US",
          "latitude": 39.0337646098385,
          "longitude": -95.7027213202284
         },
         "name": "Topeka Metro Bikes"
        },
        {
         "company": [
          "Comunicare S.r.l."
         ],
         "href": "/v2/networks/to-bike",
         "id": "to-bike",
         "location": {
          "city": "Torino",
          "country": "IT",
          "latitude": 45.07098200000001,
          "longitude": 7.685676
         },
         "name": "[TO]BIKE",
         "source": "http://www.tobike.it/frmLeStazioni.aspx?ID=22"
        },
        {
         "company": [
          "Social Bicycles Inc."
         ],
         "gbfs_href": "http://ubike.virginia.edu/opendata/gbfs.json",
         "href": "/v2/networks/ubike",
         "id": "ubike",
         "location": {
          "city": "University of Virginia, VA",
          "country": "US",
          "latitude": 38.0357625021372,
          "longitude": -78.5072994363201
         },
         "name": "UBike"
        },
        {
         "company": [
          "CycleHop, LLC",
          "Social Bicycles Inc"
         ],
         "gbfs_href": "https://relaybikeshare.socialbicycles.com/opendata/gbfs.json",
         "href": "/v2/networks/relay-atlanta",
         "id": "relay-atlanta",
         "location": {
          "city": "Atlanta, GA",
          "country": "US",
          "latitude": 33.7627941119619,
          "longitude": -84.38727110624313
         },
         "name": "Relay Bike Share"
        },
        {
         "company": [
          "Tembici",
          "PBSC Urban Solutions"
         ],
         "gbfs_href": "https://rec.publicbikesystem.net/ube/gbfs/v1/",
         "href": "/v2/networks/bikerecife",
         "id": "bikerecife",
         "location": {
          "city": "Recife",
          "country": "BR",
          "latitude": -8.047129,
          "longitude": -34.873437
         },
         "name": "BikeRecife"
        },
        {
         "company": [
          "Tembici",
          "PBSC Urban Solutions"
         ],
         "gbfs_href": "https://saopaulo.publicbikesystem.net/ube/gbfs/v1/",
         "href": "/v2/networks/bikesampa",
         "id": "bikesampa",
         "location": {
          "city": "São Paulo",
          "country": "BR",
          "latitude": -23.55,
          "longitude": -46.6333
         },
         "name": "BikeSampa"
        },
        {
         "company": [
          "Tembici",
          "PBSC Urban Solutions"
         ],
         "gbfs_href": "https://riodejaneiro.publicbikesystem.net/ube/gbfs/v1/",
         "href": "/v2/networks/bikerio",
         "id": "bikerio",
         "location": {
          "city": "Rio de Janeiro",
          "country": "BR",
          "latitude": -22.904315,
          "longitude": -43.184776
         },
         "name": "BikeRio"
        },
        {
         "company": [
          "Tembici",
          "PBSC Urban Solutions"
         ],
         "gbfs_href": "https://salvador.publicbikesystem.net/ube/gbfs/v1/",
         "href": "/v2/networks/bikesalvador",
         "id": "bikesalvador",
         "location": {
          "city": "Salvador",
          "country": "BR",
          "latitude": -12.973959,
          "longitude": -38.508171
         },
         "name": "BikeSalvador"
        },
        {
         "company": [
          "Tembici",
          "PBSC Urban Solutions"
         ],
         "gbfs_href": "https://poa.publicbikesystem.net/ube/gbfs/v1/",
         "href": "/v2/networks/bikepoa",
         "id": "bikepoa",
         "location": {
          "city": "Porto Alegre",
          "country": "BR",
          "latitude": -30.033079,
          "longitude": -51.23654
         },
         "name": "BikePOA"
        },
        {
         "company": [
          "BKT bici publica S.A. de C.V.",
          "PBSC Urban Solutions"
         ],
         "gbfs_href": "https://guad.publicbikesystem.net/ube/gbfs/v1/",
         "href": "/v2/networks/mibici-guadalajara",
         "id": "mibici-guadalajara",
         "location": {
          "city": "Guadalajara",
          "country": "MX",
          "latitude": 20.6737883,
          "longitude": -103.3704325
         },
         "name": "MIBICI"
        },
        {
         "company": [
          "Your Bike",
          "Urban Sharing"
         ],
         "gbfs_href": "https://gbfs.urbansharing.com/edinburghcyclehire.com/gbfs.json",
         "href": "/v2/networks/edinburgh-cycle-hire",
         "id": "edinburgh-cycle-hire",
         "license": {
          "name": "OGL v3 license",
          "url": "http://www.nationalarchives.gov.uk/doc/open-government-licence/version/3/"
         },
         "location": {
          "city": "Edinburgh",
          "country": "UK",
          "latitude": 55.9411885,
          "longitude": -3.2753783
         },
         "name": "Just Eat Cycles"
        },
        {
         "company": [
          "PBSC",
          "Alta Bicycle Share, Inc"
         ],
         "gbfs_href": "https://gbfs.melbourne.8d.com/gbfs/gbfs.json",
         "href": "/v2/networks/melbourne-bike-share",
         "id": "melbourne-bike-share",
         "location": {
          "city": "Melbourne",
          "country": "AU",
          "latitude": -37.814107,
          "longitude": 144.96328
         },
         "name": "Melbourne Bike Share"
        },
        {
         "company": [
          "PBSC Urban Solutions"
         ],
         "gbfs_href": "https://valencefr.publicbikesystem.net/ube/gbfs/v1/",
         "href": "/v2/networks/libelo",
         "id": "libelo",
         "location": {
          "city": "Valence",
          "country": "FR",
          "latitude": 44.922726,
          "longitude": 4.905634
         },
         "name": "Libélo"
        },
        {
         "company": [
          "Tembici",
          "PBSC Urban Solutions"
         ],
         "gbfs_href": "https://santiago.publicbikesystem.net/ube/gbfs/v1/",
         "href": "/v2/networks/bikesantiago",
         "id": "bikesantiago",
         "location": {
          "city": "Santiago",
          "country": "CL",
          "latitude": -33.45,
          "longitude": -70.67
         },
         "name": "BikeSantiago"
        },
        {
         "company": null,
         "gbfs_href": "https://gbfs.urbansharing.com/oslobysykkel.no/gbfs.json",
         "href": "/v2/networks/oslo-bysykkel",
         "id": "oslo-bysykkel",
         "location": {
          "city": "Oslo",
          "country": "NO",
          "latitude": 59.913869,
          "longitude": 10.752245
         },
         "name": "Bysykkel"
        },
        {
         "company": null,
         "gbfs_href": "https://gbfs.urbansharing.com/bergenbysykkel.no/gbfs.json",
         "href": "/v2/networks/bergen-bysykkel",
         "id": "bergen-bysykkel",
         "location": {
          "city": "Bergen",
          "country": "NO",
          "latitude": 60.391263,
          "longitude": 5.322054
         },
         "name": "Bysykkel"
        },
        {
         "company": null,
         "gbfs_href": "https://gbfs.urbansharing.com/trondheimbysykkel.no/gbfs.json",
         "href": "/v2/networks/trondheim-bysykkel",
         "id": "trondheim-bysykkel",
         "location": {
          "city": "Trondheim",
          "country": "NO",
          "latitude": 63.4307238,
          "longitude": 10.3936781
         },
         "name": "Bysykkel"
        },
        {
         "company": [
          "Keolis",
          "Rennes Metropole"
         ],
         "href": "/v2/networks/le-velo-star",
         "id": "le-velo-star",
         "location": {
          "city": "Rennes",
          "country": "FR",
          "latitude": 48.114167,
          "longitude": -1.680833
         },
         "name": "LE vélo Star",
         "source": "https://data.explore.star.fr/explore/dataset/vls-stations-etat-tr/"
        },
        {
         "company": [
          "Keolis Bordeaux Métropole"
         ],
         "ebikes": true,
         "href": "/v2/networks/v3-bordeaux",
         "id": "v3-bordeaux",
         "location": {
          "city": "Bordeaux",
          "country": "FR",
          "latitude": 44.837789,
          "longitude": -0.57918
         },
         "name": "V³"
        },
        {
         "company": [
          "Keolis"
         ],
         "href": "/v2/networks/vlille",
         "id": "vlille",
         "location": {
          "city": "Lille",
          "country": "FR",
          "latitude": 50.62925,
          "longitude": 3.057256
         },
         "name": "V'Lille",
         "source": "https://opendata.lillemetropole.fr/explore/dataset/vlille-realtime/"
        },
        {
         "company": [
          "Keolis",
          "STAP"
         ],
         "href": "/v2/networks/idecycle",
         "id": "idecycle",
         "location": {
          "city": "Pau",
          "country": "FR",
          "latitude": 43.2951,
          "longitude": -0.370797
         },
         "name": "IDECycle"
        },
        {
         "company": [
          "Labici Bicicletas Públicas SL"
         ],
         "href": "/v2/networks/bicialtea",
         "id": "bicialtea",
         "location": {
          "city": "Altea",
          "country": "ES",
          "latitude": 38.6029075,
          "longitude": -0.0450666
         },
         "name": "Bicialtea"
        },
        {
         "company": [
          "Labici Bicicletas Públicas SL"
         ],
         "href": "/v2/networks/bicidorm",
         "id": "bicidorm",
         "location": {
          "city": "Benidorm",
          "country": "ES",
          "latitude": 38.5410566,
          "longitude": -0.1224937
         },
         "name": "Bicidorm"
        },
        {
         "company": [
          "Labici Bicicletas Públicas SL"
         ],
         "href": "/v2/networks/saforbici",
         "id": "saforbici",
         "location": {
          "city": "Gandía",
          "country": "ES",
          "latitude": 38.968032,
          "longitude": -0.1844671
         },
         "name": "SaforBici"
        },
        {
         "company": [
          "Comunicare S.r.l."
         ],
         "href": "/v2/networks/ciclopi",
         "id": "ciclopi",
         "location": {
          "city": "Pisa",
          "country": "IT",
          "latitude": 43.7228386,
          "longitude": 10.4016888
         },
         "name": "Ciclopi",
         "source": "https://www.bicincitta.com/frmLeStazioni.aspx?ID=144"
        },
        {
         "company": [
          "Labici Bicicletas Públicas SL"
         ],
         "href": "/v2/networks/gbici",
         "id": "gbici",
         "location": {
          "city": "Getafe",
          "country": "ES",
          "latitude": 40.3082504,
          "longitude": -3.7323934
         },
         "name": "Gbici"
        },
        {
         "company": [
          "Labici Bicicletas Públicas SL"
         ],
         "href": "/v2/networks/muybici",
         "id": "muybici",
         "location": {
          "city": "Murcia",
          "country": "ES",
          "latitude": 37.9922399,
          "longitude": -1.1306544
         },
         "name": "MuyBici"
        },
        {
         "company": [
          "Labici Bicicletas Públicas SL"
         ],
         "href": "/v2/networks/ponfemobi",
         "id": "ponfemobi",
         "location": {
          "city": "Ponferrada",
          "country": "ES",
          "latitude": 42.5499958,
          "longitude": -6.598259000000001
         },
         "name": "PonfeMobi"
        },
        {
         "company": [
          "Labici Bicicletas Públicas SL"
         ],
         "href": "/v2/networks/vaibike",
         "id": "vaibike",
         "location": {
          "city": "Vilagarcía de Arousa",
          "country": "ES",
          "latitude": 42.5999265,
          "longitude": -8.7885744
         },
         "name": "VaiBike"
        },
        {
         "company": [
          "Comunicare S.r.l."
         ],
         "href": "/v2/networks/cagliari",
         "id": "cagliari",
         "location": {
          "city": "Cagliari",
          "country": "IT",
          "latitude": 39.220817,
          "longitude": 9.121399
         },
         "name": "Cagliari",
         "source": "https://www.bicincitta.com/frmLeStazioni.aspx?ID=177"
        },
        {
         "company": [
          "Buenos Aires Ciudad"
         ],
         "gbfs_href": "https://apitransporte.buenosaires.gob.ar/ecobici/gbfs/",
         "href": "/v2/networks/ecobici-buenos-aires",
         "id": "ecobici-buenos-aires",
         "license": {
          "name": "Open Data Commons Open Database License 1.0 (ODbL)",
          "url": "https://opendatacommons.org/licenses/odbl/"
         },
         "location": {
          "city": "Buenos Aires",
          "country": "AR",
          "latitude": -34.630665,
          "longitude": -58.41156
         },
         "name": "Ecobici",
         "source": "https://www.buenosaires.gob.ar/desarrollourbano/transporte/apitransporte"
        },
        {
         "company": [
          "EMEL"
         ],
         "href": "/v2/networks/gira",
         "id": "gira",
         "location": {
          "city": "Lisbon",
          "country": "PT",
          "latitude": 38.724954,
          "longitude": -9.149334
         },
         "name": "Gira"
        },
        {
         "company": [
          "Comunicare S.r.l."
         ],
         "href": "/v2/networks/gimme-bike",
         "id": "gimme-bike",
         "location": {
          "city": "Varese",
          "country": "IT",
          "latitude": 45.8183902,
          "longitude": 8.823913
         },
         "name": "Gimme Bike",
         "source": "https://www.bicincitta.com/frmLeStazioni.aspx?ID=50"
        },
        {
         "company": [
          "JCDecaux"
         ],
         "href": "/v2/networks/cyclic",
         "id": "cyclic",
         "license": {
          "name": "Open Licence",
          "url": "https://developer.jcdecaux.com/#/opendata/licence"
         },
         "location": {
          "city": "Rouen",
          "country": "FR",
          "latitude": 49.44323199999999,
          "longitude": 1.099971
         },
         "name": "cy'clic",
         "source": "https://developer.jcdecaux.com"
        },
        {
         "company": [
          "JCDecaux"
         ],
         "href": "/v2/networks/velo",
         "id": "velo",
         "license": {
          "name": "Open Licence",
          "url": "https://developer.jcdecaux.com/#/opendata/licence"
         },
         "location": {
          "city": "Toulouse",
          "country": "FR",
          "latitude": 43.604652,
          "longitude": 1.444209
         },
         "name": "Vélô",
         "source": "https://developer.jcdecaux.com"
        },
        {
         "company": [
          "JCDecaux"
         ],
         "href": "/v2/networks/veloh",
         "id": "veloh",
         "license": {
          "name": "Open Licence",
          "url": "https://developer.jcdecaux.com/#/opendata/licence"
         },
         "location": {
          "city": "Luxembourg",
          "country": "LU",
          "latitude": 49.6301025,
          "longitude": 6.1520185
         },
         "name": "Veloh",
         "source": "https://developer.jcdecaux.com"
        },
        {
         "company": [
          "JCDecaux"
         ],
         "href": "/v2/networks/valenbisi",
         "id": "valenbisi",
         "license": {
          "name": "Open Licence",
          "url": "https://developer.jcdecaux.com/#/opendata/licence"
         },
         "location": {
          "city": "Valencia",
          "country": "ES",
          "latitude": 39.4699075,
          "longitude": -0.3762881
         },
         "name": "Valenbisi",
         "source": "https://developer.jcdecaux.com"
        },
        {
         "company": [
          "Comunicare S.r.l."
         ],
         "href": "/v2/networks/sellero",
         "id": "sellero",
         "location": {
          "city": "Sellero",
          "country": "IT",
          "latitude": 46.06304765446406,
          "longitude": 10.353434085845947
         },
         "name": "Sellero",
         "source": "https://www.bicincitta.com/frmLeStazioni.aspx?ID=85"
        },
        {
         "company": [
          "JCDecaux"
         ],
         "href": "/v2/networks/goeteborg",
         "id": "goeteborg",
         "license": {
          "name": "Open Licence",
          "url": "https://developer.jcdecaux.com/#/opendata/licence"
         },
         "location": {
          "city": "Göteborg",
          "country": "SE",
          "latitude": 57.70887,
          "longitude": 11.97456
         },
         "name": "Styr & Ställ",
         "source": "https://developer.jcdecaux.com"
        },
        {
         "company": [
          "JCDecaux"
         ],
         "href": "/v2/networks/lundahoj",
         "id": "lundahoj",
         "license": {
          "name": "Open Licence",
          "url": "https://developer.jcdecaux.com/#/opendata/licence"
         },
         "location": {
          "city": "Lund",
          "country": "SE",
          "latitude": 55.7046601,
          "longitude": 13.1910073
         },
         "name": "Lundahoj",
         "source": "https://developer.jcdecaux.com"
        },
        {
         "company": [
          "Comunicare S.r.l."
         ],
         "href": "/v2/networks/ugento",
         "id": "ugento",
         "location": {
          "city": "Ugento",
          "country": "IT",
          "latitude": 39.9273518,
          "longitude": 18.1582962
         },
         "name": "Ugento",
         "source": "https://www.bicincitta.com/frmLeStazioni.aspx?ID=103"
        },
        {
         "company": [
          "JCDecaux"
         ],
         "href": "/v2/networks/tusbic",
         "id": "tusbic",
         "license": {
          "name": "Open Licence",
          "url": "https://developer.jcdecaux.com/#/opendata/licence"
         },
         "location": {
          "city": "Santander",
          "country": "ES",
          "latitude": 43.46230569999999,
          "longitude": -3.8099803
         },
         "name": "Tusbic",
         "source": "https://developer.jcdecaux.com"
        },
        {
         "company": [
          "JCDecaux"
         ],
         "href": "/v2/networks/velam",
         "id": "velam",
         "license": {
          "name": "Open Licence",
          "url": "https://developer.jcdecaux.com/#/opendata/licence"
         },
         "location": {
          "city": "Amiens",
          "country": "FR",
          "latitude": 49.894067,
          "longitude": 2.295753
         },
         "name": "Vélam",
         "source": "https://developer.jcdecaux.com"
        },
        {
         "company": [
          "JCDecaux"
         ],
         "href": "/v2/networks/bysykkel-lillestrom",
         "id": "bysykkel-lillestrom",
         "license": {
          "name": "Open Licence",
          "url": "https://developer.jcdecaux.com/#/opendata/licence"
         },
         "location": {
          "city": "Lillestrøm",
          "country": "NO",
          "latitude": 59.9559696,
          "longitude": 11.0503785
         },
         "name": "Bysykkel",
         "source": "https://developer.jcdecaux.com"
        },
        {
         "company": [
          "JCDecaux"
         ],
         "href": "/v2/networks/velocite-mulhouse",
         "id": "velocite-mulhouse",
         "license": {
          "name": "Open Licence",
          "url": "https://developer.jcdecaux.com/#/opendata/licence"
         },
         "location": {
          "city": "Mulhouse",
          "country": "FR",
          "latitude": 47.750839,
          "longitude": 7.335888
         },
         "name": "VéloCité",
         "source": "https://developer.jcdecaux.com"
        },
        {
         "company": [
          "Comunicare S.r.l."
         ],
         "href": "/v2/networks/prata-camportaccio",
         "id": "prata-camportaccio",
         "location": {
          "city": "Prata Camportaccio",
          "country": "IT",
          "latitude": 46.3042146,
          "longitude": 9.3964914
         },
         "name": "Prata Camportaccio",
         "source": "https://www.bicincitta.com/frmLeStazioni.aspx?ID=108"
        },
        {
         "company": [
          "JCDecaux"
         ],
         "href": "/v2/networks/velov",
         "id": "velov",
         "license": {
          "name": "Open Licence",
          "url": "https://developer.jcdecaux.com/#/opendata/licence"
         },
         "location": {
          "city": "Lyon",
          "country": "FR",
          "latitude": 45.764043,
          "longitude": 4.835659
         },
         "name": "Vélo'V",
         "source": "https://developer.jcdecaux.com"
        },
        {
         "company": [
          "JCDecaux"
         ],
         "href": "/v2/networks/bicikelj",
         "id": "bicikelj",
         "license": {
          "name": "Open Licence",
          "url": "https://developer.jcdecaux.com/#/opendata/licence"
         },
         "location": {
          "city": "Ljubljana",
          "country": "SI",
          "latitude": 46.05645089999999,
          "longitude": 14.5080702
         },
         "name": "Bicikelj",
         "source": "https://developer.jcdecaux.com"
        },
        {
         "company": [
          "Comunicare S.r.l."
         ],
         "href": "/v2/networks/civitavecchia",
         "id": "civitavecchia",
         "location": {
          "city": "Civitavecchia",
          "country": "IT",
          "latitude": 42.0937524,
          "longitude": 11.7922462
         },
         "name": "Civitavecchia",
         "source": "https://www.bicincitta.com/frmLeStazioni.aspx?ID=127"
        },
        {
         "company": [
          "JCDecaux"
         ],
         "href": "/v2/networks/sevici",
         "id": "sevici",
         "license": {
          "name": "Open Licence",
          "url": "https://developer.jcdecaux.com/#/opendata/licence"
         },
         "location": {
          "city": "Sevilla",
          "country": "ES",
          "latitude": 37.3880961,
          "longitude": -5.9823299
         },
         "name": "Sevici",
         "source": "https://developer.jcdecaux.com"
        },
        {
         "company": [
          "Comunicare S.r.l."
         ],
         "href": "/v2/networks/longanoinbici",
         "id": "longanoinbici",
         "location": {
          "city": "Barcellona Pozzo di Gotto",
          "country": "IT",
          "latitude": 38.149812517944284,
          "longitude": 15.212116241455078
         },
         "name": "LonganoinBici",
         "source": "https://www.bicincitta.com/frmLeStazioni.aspx?ID=140"
        },
        {
         "company": [
          "JCDecaux"
         ],
         "href": "/v2/networks/li-bia-velo",
         "id": "li-bia-velo",
         "license": {
          "name": "Open Licence",
          "url": "https://developer.jcdecaux.com/#/opendata/licence"
         },
         "location": {
          "city": "Namur",
          "country": "BE",
          "latitude": 50.465328,
          "longitude": 4.867665
         },
         "name": "Li bia velo",
         "source": "https://developer.jcdecaux.com"
        },
        {
         "company": [
          "JCDecaux"
         ],
         "href": "/v2/networks/velostanlib",
         "id": "velostanlib",
         "license": {
          "name": "Open Licence",
          "url": "https://developer.jcdecaux.com/#/opendata/licence"
         },
         "location": {
          "city": "Nancy",
          "country": "FR",
          "latitude": 48.692054,
          "longitude": 6.184417
         },
         "name": "vélOstan'lib",
         "source": "https://developer.jcdecaux.com"
        },
        {
         "company": [
          "JCDecaux"
         ],
         "href": "/v2/networks/cristolib",
         "id": "cristolib",
         "license": {
          "name": "Open Licence",
          "url": "https://developer.jcdecaux.com/#/opendata/licence"
         },
         "location": {
          "city": "Créteil",
          "country": "FR",
          "latitude": 48.790367,
          "longitude": 2.455572
         },
         "name": "Cristolib",
         "source": "https://developer.jcdecaux.com"
        },
        {
         "company": [
          "JCDecaux"
         ],
         "href": "/v2/networks/villo",
         "id": "villo",
         "license": {
          "name": "Open Licence",
          "url": "https://developer.jcdecaux.com/#/opendata/licence"
         },
         "location": {
          "city": "Bruxelles",
          "country": "BE",
          "latitude": 50.8503396,
          "longitude": 4.3517103
         },
         "name": "villo",
         "source": "https://developer.jcdecaux.com"
        },
        {
         "company": [
          "Comunicare S.r.l."
         ],
         "href": "/v2/networks/cassano-d-adda",
         "id": "cassano-d-adda",
         "location": {
          "city": "Cassano d'Adda",
          "country": "IT",
          "latitude": 45.5309616,
          "longitude": 9.5155813
         },
         "name": "Cassano d'Adda",
         "source": "https://www.bicincitta.com/frmLeStazioni.aspx?ID=143"
        },
        {
         "company": [
          "JCDecaux"
         ],
         "href": "/v2/networks/velo2",
         "id": "velo2",
         "license": {
          "name": "Open Licence",
          "url": "https://developer.jcdecaux.com/#/opendata/licence"
         },
         "location": {
          "city": "Cergy",
          "country": "FR",
          "latitude": 49.03561699999999,
          "longitude": 2.060325
         },
         "name": "Velo2",
         "source": "https://developer.jcdecaux.com"
        },
        {
         "company": [
          "JCDecaux"
         ],
         "href": "/v2/networks/vilnius-cyclocity",
         "id": "vilnius-cyclocity",
         "license": {
          "name": "Open Licence",
          "url": "https://developer.jcdecaux.com/#/opendata/licence"
         },
         "location": {
          "city": "Vilnius",
          "country": "LT",
          "latitude": 54.6871555,
          "longitude": 25.2796514
         },
         "name": "Cyclocity",
         "source": "https://developer.jcdecaux.com"
        },
        {
         "company": [
          "JCDecaux"
         ],
         "href": "/v2/networks/toyama-cyclocity",
         "id": "toyama-cyclocity",
         "license": {
          "name": "Open Licence",
          "url": "https://developer.jcdecaux.com/#/opendata/licence"
         },
         "location": {
          "city": "富山市",
          "country": "JP",
          "latitude": 36.6959518,
          "longitude": 137.2136768
         },
         "name": "cyclocity",
         "source": "https://developer.jcdecaux.com"
        },
        {
         "company": [
          "JCDecaux"
         ],
         "href": "/v2/networks/velik",
         "id": "velik",
         "license": {
          "name": "Open Licence",
          "url": "https://developer.jcdecaux.com/#/opendata/licence"
         },
         "location": {
          "city": "Казань",
          "country": "RU",
          "latitude": 55.7949414,
          "longitude": 49.1050445
         },
         "name": "Veli'k",
         "source": "https://developer.jcdecaux.com"
        },
        {
         "company": [
          "Comunicare S.r.l."
         ],
         "href": "/v2/networks/bianzone-in-bici",
         "id": "bianzone-in-bici",
         "location": {
          "city": "Bianzone",
          "country": "IT",
          "latitude": 46.188197,
          "longitude": 10.109354
         },
         "name": "Bianzone in Bici",
         "source": "https://www.bicincitta.com/frmLeStazioni.aspx?ID=147"
        },
        {
         "company": [
          "LeVélo AMP Métropole",
          "Ville de Marseille",
          "Fifteen SAS"
         ],
         "href": "/v2/networks/le-velo",
         "id": "le-velo",
         "location": {
          "city": "Marseille",
          "country": "FR",
          "latitude": 43.296482,
          "longitude": 5.36978
         },
         "name": "LeVélo"
        },
        {
         "company": [
          "JCDecaux"
         ],
         "href": "/v2/networks/bicloo",
         "id": "bicloo",
         "license": {
          "name": "Open Licence",
          "url": "https://developer.jcdecaux.com/#/opendata/licence"
         },
         "location": {
          "city": "Nantes",
          "country": "FR",
          "latitude": 47.218371,
          "longitude": -1.553621
         },
         "name": "Bicloo",
         "source": "https://developer.jcdecaux.com"
        },
        {
         "company": [
          "JCDecaux"
         ],
         "href": "/v2/networks/velocite-besancon",
         "id": "velocite-besancon",
         "license": {
          "name": "Open Licence",
          "url": "https://developer.jcdecaux.com/#/opendata/licence"
         },
         "location": {
          "city": "Besançon",
          "country": "FR",
          "latitude": 47.237829,
          "longitude": 6.024053899999999
         },
         "name": "VéloCité",
         "source": "https://developer.jcdecaux.com"
        },
        {
         "company": [
          "Comunicare S.r.l."
         ],
         "href": "/v2/networks/rietinbici",
         "id": "rietinbici",
         "location": {
          "city": "Rieti",
          "country": "IT",
          "latitude": 42.40262397383167,
          "longitude": 12.86099910736084
         },
         "name": "Rietinbici",
         "source": "https://www.bicincitta.com/frmLeStazioni.aspx?ID=158"
        },
        {
         "company": [
          "JCDecaux"
         ],
         "href": "/v2/networks/dublinbikes",
         "id": "dublinbikes",
         "license": {
          "name": "Open Licence",
          "url": "https://developer.jcdecaux.com/#/opendata/licence"
         },
         "location": {
          "city": "Dublin",
          "country": "IE",
          "latitude": 53.3498053,
          "longitude": -6.2603097
         },
         "name": "dublinbikes",
         "source": "https://developer.jcdecaux.com"
        },
        {
         "company": [
          "JCDecaux"
         ],
         "href": "/v2/networks/citycycle",
         "id": "citycycle",
         "license": {
          "name": "Open Licence",
          "url": "https://developer.jcdecaux.com/#/opendata/licence"
         },
         "location": {
          "city": "Brisbane",
          "country": "AU",
          "latitude": -27.4710107,
          "longitude": 153.0234489
         },
         "name": "CityCycle",
         "source": "https://developer.jcdecaux.com"
        },
        {
         "company": null,
         "href": "/v2/networks/bicipalma",
         "id": "bicipalma",
         "location": {
          "city": "Palma",
          "country": "ES",
          "latitude": 39.57119,
          "longitude": 2.646634
         },
         "name": "Bicipalma"
        },
        {
         "company": [
          "Cyacle Bicycle Rental LLC"
         ],
         "href": "/v2/networks/adcb-bikeshare",
         "id": "adcb-bikeshare",
         "location": {
          "city": "Abu Dhabi",
          "country": "AE",
          "latitude": 24.450278,
          "longitude": 54.39
         },
         "name": "ADCB Bikeshare"
        },
        {
         "company": [
          "Comunicare S.r.l."
         ],
         "href": "/v2/networks/castellucchio",
         "id": "castellucchio",
         "location": {
          "city": "Castellucchio",
          "country": "IT",
          "latitude": 45.15047821582959,
          "longitude": 10.651202201843262
         },
         "name": "Castellucchio",
         "source": "https://www.bicincitta.com/frmLeStazioni.aspx?ID=161"
        },
        {
         "company": [
          "Veolia"
         ],
         "href": "/v2/networks/velobleu",
         "id": "velobleu",
         "location": {
          "city": "Nice",
          "country": "FR",
          "latitude": 43.695949,
          "longitude": 7.271413
         },
         "name": "Vélo Bleu"
        },
        {
         "company": [
          "Comunicare S.r.l."
         ],
         "href": "/v2/networks/notoinbici",
         "id": "notoinbici",
         "location": {
          "city": "Noto",
          "country": "IT",
          "latitude": 36.889437754839854,
          "longitude": 15.074658393859863
         },
         "name": "NotoinBici",
         "source": "https://www.bicincitta.com/frmLeStazioni.aspx?ID=162"
        },
        {
         "company": [
          "Comunicare S.r.l."
         ],
         "href": "/v2/networks/enna",
         "id": "enna",
         "location": {
          "city": "Enna",
          "country": "IT",
          "latitude": 37.56342572664775,
          "longitude": 14.27973747253418
         },
         "name": "Enna",
         "source": "https://www.bicincitta.com/frmLeStazioni.aspx?ID=163"
        },
        {
         "company": [
          "Comunicare S.r.l."
         ],
         "href": "/v2/networks/pordenone",
         "id": "pordenone",
         "location": {
          "city": "Pordenone",
          "country": "IT",
          "latitude": 45.94790101663391,
          "longitude": 12.674491020251475
         },
         "name": "Pordenone",
         "source": "https://www.bicincitta.com/frmLeStazioni.aspx?ID=164"
        },
        {
         "company": [
          "Veolia"
         ],
         "href": "/v2/networks/vel-in",
         "id": "vel-in",
         "location": {
          "city": "Calais",
          "country": "FR",
          "latitude": 50.95,
          "longitude": 1.85
         },
         "name": "Vél'in"
        },
        {
         "company": [
          "Comunicare S.r.l."
         ],
         "href": "/v2/networks/carbonia",
         "id": "carbonia",
         "location": {
          "city": "Carbonia",
          "country": "IT",
          "latitude": 39.167222,
          "longitude": 8.522222
         },
         "name": "Carbonia",
         "source": "https://www.bicincitta.com/frmLeStazioni.aspx?ID=173"
        },
        {
         "company": [
          "Municipiul Cluj-Napoca"
         ],
         "href": "/v2/networks/clujbike",
         "id": "clujbike",
         "location": {
          "city": "Cluj-Napoca",
          "country": "RO",
          "latitude": 46.775,
          "longitude": 23.5975
         },
         "name": "Cluj Bike"
        },
        {
         "company": [
          "Comunicare S.r.l."
         ],
         "href": "/v2/networks/mobike",
         "id": "mobike",
         "location": {
          "city": "Genova",
          "country": "IT",
          "latitude": 44.40430089372731,
          "longitude": 8.92908986230462
         },
         "name": "MoBike",
         "source": "https://www.bicincitta.com/frmLeStazioni.aspx?ID=175"
        },
        {
         "company": [
          "Prefeiture de Sorocaba",
          "Urbes"
         ],
         "href": "/v2/networks/integrabike",
         "id": "integrabike",
         "location": {
          "city": "Sorocaba",
          "country": "BR",
          "latitude": -23.5015,
          "longitude": -47.4526
         },
         "name": "Integrabike"
        },
        {
         "company": [
          "Comunicare S.r.l."
         ],
         "href": "/v2/networks/scegli-in-bici",
         "id": "scegli-in-bici",
         "location": {
          "city": "Cremona",
          "country": "IT",
          "latitude": 45.134914104864116,
          "longitude": 10.0222648619018
         },
         "name": "Scegli in Bici",
         "source": "https://www.bicincitta.com/frmLeStazioni.aspx?ID=178"
        },
        {
         "company": [
          "Associação dos Amigos da Riviera de São Lourenço",
          "Sobloco"
         ],
         "href": "/v2/networks/rivibike",
         "id": "rivibike",
         "location": {
          "city": "São Lourenço",
          "country": "BR",
          "latitude": -22.1124,
          "longitude": -45.028
         },
         "name": "RiviBike"
        },
        {
         "company": [
          "Comunicare S.r.l."
         ],
         "href": "/v2/networks/e-motion-trento",
         "id": "e-motion-trento",
         "location": {
          "city": "Trento",
          "country": "IT",
          "latitude": 46.06643205823519,
          "longitude": 11.122145390351879
         },
         "name": "e.motion",
         "source": "https://www.bicincitta.com/frmLeStazioni.aspx?ID=187"
        },
        {
         "company": [
          "Duke Energy Brasil",
          "Governo de Ipaussu"
         ],
         "href": "/v2/networks/dukebike",
         "id": "dukebike",
         "location": {
          "city": "Ipaússu",
          "country": "BR",
          "latitude": -23.0553,
          "longitude": -49.6237
         },
         "name": "DukeBike"
        },
        {
         "company": [
          "Barcelona de Serveis Municipals, S.A. (BSM)",
          "CESPA",
          "PBSC"
         ],
         "gbfs_href": "https://api.bsmsa.eu/ext/api/bsm/gbfs/v2/",
         "href": "/v2/networks/bicing",
         "id": "bicing",
         "location": {
          "city": "Barcelona",
          "country": "ES",
          "latitude": 41.3850639,
          "longitude": 2.1734035
         },
         "name": "Bicing"
        },
        {
         "company": [
          "Baksi Bike Sharing System"
         ],
         "href": "/v2/networks/baksi-antalya",
         "id": "baksi-antalya",
         "location": {
          "city": "Antalya",
          "country": "TR",
          "latitude": 36.862048,
          "longitude": 30.638866
         },
         "name": "Baksi"
        },
        {
         "company": [
          "Baksi Bike Sharing System"
         ],
         "href": "/v2/networks/baksi-bisim",
         "id": "baksi-bisim",
         "location": {
          "city": "Izmir",
          "country": "TR",
          "latitude": 38.4134047464,
          "longitude": 27.0325753524
         },
         "name": "Baksi"
        },
        {
         "company": [
          "Comunicare S.r.l."
         ],
         "href": "/v2/networks/e-motion-rovereto",
         "id": "e-motion-rovereto",
         "location": {
          "city": "Rovereto",
          "country": "IT",
          "latitude": 45.88710661061543,
          "longitude": 11.042242751867644
         },
         "name": "e.motion",
         "source": "https://www.bicincitta.com/frmLeStazioni.aspx?ID=189"
        },
        {
         "company": [
          "Baksi Bike Sharing System"
         ],
         "href": "/v2/networks/baksi-istanbul",
         "id": "baksi-istanbul",
         "location": {
          "city": "Istanbul",
          "country": "TR",
          "latitude": 40.9696887925,
          "longitude": 29.0475373717
         },
         "name": "Isbike"
        },
        {
         "company": [
          "Baksi Bike Sharing System"
         ],
         "href": "/v2/networks/baksi-kobis",
         "id": "baksi-kobis",
         "location": {
          "city": "Kocaeli",
          "country": "TR",
          "latitude": 40.7674733342,
          "longitude": 29.9755885985
         },
         "name": "Baksi"
        },
        {
         "company": [
          "Helsinki City Transport",
          "Helsinki Regional Transport",
          "CityBikeFinland",
          "Smoove SAS",
          "Moventia",
          "Alepa"
         ],
         "href": "/v2/networks/citybikes-helsinki",
         "id": "citybikes-helsinki",
         "location": {
          "city": "Helsinki",
          "country": "FI",
          "latitude": 60.16985569999999,
          "longitude": 24.938379
         },
         "name": "City bikes"
        },
        {
         "company": [
          "Comunicare S.r.l."
         ],
         "href": "/v2/networks/monopoli-bike",
         "id": "monopoli-bike",
         "location": {
          "city": "Monopoli",
          "country": "IT",
          "latitude": 40.94519109440738,
          "longitude": 17.311687995336918
         },
         "name": "Monopoli BIKE",
         "source": "https://www.bicincitta.com/frmLeStazioni.aspx?ID=191"
        },
        {
         "company": [
          "Turku Region Traffic Föli",
          "Nextbike Polska"
         ],
         "href": "/v2/networks/foli",
         "id": "foli",
         "location": {
          "city": "Turku",
          "country": "FI",
          "latitude": 60.4506,
          "longitude": 22.2666
         },
         "name": "Föli-fillari"
        },
        {
         "company": [
          "Comunicare S.r.l."
         ],
         "href": "/v2/networks/bicimia",
         "id": "bicimia",
         "location": {
          "city": "Brescia",
          "country": "IT",
          "latitude": 45.5378,
          "longitude": 10.2173
         },
         "name": "bicimia",
         "source": "https://bicimia.bresciamobilita.it/frmLeStazioni.aspx?ID=40"
        },
        {
         "company": [
          "FSM Ground Services Ltd."
         ],
         "href": "/v2/networks/telofun",
         "id": "telofun",
         "location": {
          "city": "Tel Aviv-Yaffo, Giv'atayim, Ramat-Gan",
          "country": "IL",
          "latitude": 32.087053,
          "longitude": 34.789776
         },
         "name": "Tel-O-Fun"
        },
        {
         "company": [
          "Comunicare S.r.l."
         ],
         "href": "/v2/networks/andria",
         "id": "andria",
         "location": {
          "city": "Andria",
          "country": "IT",
          "latitude": 41.224346932834,
          "longitude": 16.296983922753956
         },
         "name": "Andria in Bici",
         "source": "https://www.bicincitta.com/frmLeStazioni.aspx?ID=192"
        },
        {
         "company": [
          "Open Source Bike Share"
         ],
         "href": "/v2/networks/whitebikes",
         "id": "whitebikes",
         "location": {
          "city": "Bratislava",
          "country": "SK",
          "latitude": 48.149424,
          "longitude": 17.113922
         },
         "name": "WhiteBikes"
        },
        {
         "company": [
          "Dopravný podnik Bratislava",
          "Bratislavská integrovaná doprava, a.s.",
          "Hlavné mesto SR Bratislava"
         ],
         "href": "/v2/networks/slovnaft-bajk",
         "id": "slovnaft-bajk",
         "location": {
          "city": "Bratislava",
          "country": "SK",
          "latitude": 48.1356952,
          "longitude": 16.9758332
         },
         "name": "Slovnaft BAjk"
        },
        {
         "company": [
          "Open Source Bike Share"
         ],
         "href": "/v2/networks/cykl",
         "id": "cykl",
         "location": {
          "city": "Wageningen",
          "country": "NL",
          "latitude": 51.974,
          "longitude": 5.6671
         },
         "name": "Cykl"
        },
        {
         "company": [
          "Open Source Bike Share"
         ],
         "href": "/v2/networks/bicyklezadobreskutky",
         "id": "bicyklezadobreskutky",
         "location": {
          "city": "Prešov",
          "country": "SK",
          "latitude": 48.996275,
          "longitude": 21.234341
         },
         "name": "Bicykle za dobré skutky"
        },
        {
         "company": [
          "Social Bicycles Inc."
         ],
         "href": "/v2/networks/socialbicycles-wavelo",
         "id": "socialbicycles-wavelo",
         "location": {
          "city": "Kraków",
          "country": "PL",
          "latitude": 50.06143,
          "longitude": 19.93658
         },
         "name": "Wavelo"
        },
        {
         "company": [
          "Comunicare S.r.l."
         ],
         "href": "/v2/networks/bicinquartucciu",
         "id": "bicinquartucciu",
         "location": {
          "city": "Quartucciu",
          "country": "IT",
          "latitude": 39.25043149806156,
          "longitude": 9.179296426489255
         },
         "name": "BicinQuartucciu",
         "source": "https://www.bicincitta.com/frmLeStazioni.aspx?ID=193"
        },
        {
         "company": [
          "Mainzer Verkehrsgesellschaft mbH (MVG)"
         ],
         "href": "/v2/networks/mvgmeinrad",
         "id": "mvgmeinrad",
         "location": {
          "city": "Mainz",
          "country": "DE",
          "latitude": 49.992862,
          "longitude": 8.247253
         },
         "name": "MVGmeinrad"
        },
        {
         "company": [
          "Sistema de Bicicletas Públicas del Valle de Aburrá"
         ],
         "href": "/v2/networks/encicla",
         "id": "encicla",
         "location": {
          "city": "Medellin",
          "country": "CO",
          "latitude": 6.254942,
          "longitude": -75.567982
         },
         "name": "EnCicla"
        },
        {
         "company": [
          "Comunicare S.r.l."
         ],
         "href": "/v2/networks/olbia-bike",
         "id": "olbia-bike",
         "location": {
          "city": "Olbia",
          "country": "IT",
          "latitude": 40.9240543,
          "longitude": 9.4994397
         },
         "name": "Olbia Bike",
         "source": "https://www.bicincitta.com/frmLeStazioni.aspx?ID=194"
        },
        {
         "company": [
          "Vanncouver Bike Share Inc",
          "CycleHop LLC",
          "City of Vancouver",
          "Smoove SAS"
         ],
         "href": "/v2/networks/mobibikes",
         "id": "mobibikes",
         "location": {
          "city": "Vancouver",
          "country": "CA",
          "latitude": 49.2827,
          "longitude": -123.1207
         },
         "name": "Mobi"
        },
        {
         "company": [
          "Comunicare S.r.l."
         ],
         "href": "/v2/networks/savona",
         "id": "savona",
         "location": {
          "city": "Savona",
          "country": "IT",
          "latitude": 44.29516444397244,
          "longitude": 8.463126708984431
         },
         "name": "Savona",
         "source": "https://www.bicincitta.com/frmLeStazioni.aspx?ID=195"
        },
        {
         "company": [
          "CityBike France",
          "PBSC Urban Solutions"
         ],
         "gbfs_href": "https://clermontferrand.publicbikesystem.net/customer/ube/gbfs/v1/",
         "href": "/v2/networks/c-velo",
         "id": "c-velo",
         "location": {
          "city": "Clermont-Ferrand",
          "country": "FR",
          "latitude": 45.7831,
          "longitude": 3.0824
         },
         "name": "C.vélo"
        },
        {
         "company": [
          "Smoove"
         ],
         "gbfs_href": "https://saint-etienne-fr-smoove.klervi.net/gbfs/gbfs.json",
         "href": "/v2/networks/velivert",
         "id": "velivert",
         "location": {
          "city": "Saint-Étienne",
          "country": "FR",
          "latitude": 45.396667,
          "longitude": 4.290833
         },
         "name": "VéliVert"
        },
        {
         "company": [
          "Comunicare S.r.l."
         ],
         "href": "/v2/networks/brindisi",
         "id": "brindisi",
         "location": {
          "city": "Brindisi",
          "country": "IT",
          "latitude": 40.637580319936106,
          "longitude": 17.940774547082572
         },
         "name": "BrindisiByBike",
         "source": "https://www.bicincitta.com/frmLeStazioni.aspx?ID=197"
        },
        {
         "company": [
          "TCRA Public Transport Region Avignon",
          "Fifteen"
         ],
         "gbfs_href": "",
         "href": "/v2/networks/velopop",
         "id": "velopop",
         "location": {
          "city": "Avignon",
          "country": "FR",
          "latitude": 43.943689,
          "longitude": 4.805833
         },
         "name": "Vélopop"
        },
        {
         "company": [
          "Smoove"
         ],
         "href": "/v2/networks/batumvelo",
         "id": "batumvelo",
         "location": {
          "city": "Batumi",
          "country": "GE",
          "latitude": 41.660906,
          "longitude": 41.678835
         },
         "name": "Batumvelo"
        },
        {
         "company": [
          "Comunicare S.r.l."
         ],
         "href": "/v2/networks/tradate",
         "id": "tradate",
         "location": {
          "city": "Tradate",
          "country": "IT",
          "latitude": 45.70938576720161,
          "longitude": 8.915993391601548
         },
         "name": "Tradate",
         "source": "https://www.bicincitta.com/frmLeStazioni.aspx?ID=198"
        },
        {
         "company": [
          "Mobilicidade Tecnologia LTD",
          "Grupo Serttel LTDA"
         ],
         "href": "/v2/networks/bikebh",
         "id": "bikebh",
         "location": {
          "city": "Belo Horizonte",
          "country": "BR",
          "latitude": -19.920793,
          "longitude": -43.922165
         },
         "name": "BikeBH"
        },
        {
         "company": [
          "Mobilicidade Tecnologia LTD",
          "Grupo Serttel LTDA"
         ],
         "href": "/v2/networks/bikepetrolina",
         "id": "bikepetrolina",
         "location": {
          "city": "Petrolina",
          "country": "BR",
          "latitude": -9.389049,
          "longitude": -40.502751
         },
         "name": "BikePetrolina"
        },
        {
         "company": [
          "Comunicare S.r.l."
         ],
         "href": "/v2/networks/jesinbici",
         "id": "jesinbici",
         "location": {
          "city": "Jesi",
          "country": "IT",
          "latitude": 43.522601,
          "longitude": 13.244448
         },
         "name": "JesinBici",
         "source": "https://www.bicincitta.com/frmLeStazioni.aspx?ID=236"
        },
        {
         "company": [
          "Comunicare S.r.l."
         ],
         "href": "/v2/networks/nbici",
         "id": "nbici",
         "location": {
          "city": "Pamplona",
          "country": "ES",
          "latitude": 42.8116631,
          "longitude": -1.6482653
         },
         "name": "nbici",
         "source": "https://www.bicincitta.com/frmLeStazioni.aspx?ID=230"
        },
        {
         "company": [
          "Tembici"
         ],
         "gbfs_href": "https://brasilia.publicbikesystem.net/customer/ube/gbfs/v1/",
         "href": "/v2/networks/bikebrasilia",
         "id": "bikebrasilia",
         "location": {
          "city": "Brasília",
          "country": "BR",
          "latitude": -15.795115,
          "longitude": -47.887424
         },
         "name": "BikeBrasilia"
        },
        {
         "company": [
          "Mobilicidade Tecnologia LTD",
          "Grupo Serttel LTDA"
         ],
         "href": "/v2/networks/debikegoiania",
         "id": "debikegoiania",
         "location": {
          "city": "Goiânia",
          "country": "BR",
          "latitude": -16.670492,
          "longitude": -49.259535
         },
         "name": "GynDebike"
        },
        {
         "company": [
          "Comunicare S.r.l."
         ],
         "href": "/v2/networks/treviso",
         "id": "treviso",
         "location": {
          "city": "Treviso",
          "country": "IT",
          "latitude": 45.6669011,
          "longitude": 12.243039
         },
         "name": "Treviso",
         "source": "https://www.bicincitta.com/frmLeStazioni.aspx?ID=179"
        },
        {
         "company": [
          "Mobilicidade Tecnologia LTD",
          "Grupo Serttel LTDA"
         ],
         "href": "/v2/networks/bicicletar",
         "id": "bicicletar",
         "location": {
          "city": "Fortaleza",
          "country": "BR",
          "latitude": -3.7321944,
          "longitude": -38.510347
         },
         "name": "Bicicletar"
        },
        {
         "company": [
          "Mobilicidade Tecnologia LTD",
          "Grupo Serttel LTDA"
         ],
         "href": "/v2/networks/cajubike",
         "id": "cajubike",
         "location": {
          "city": "Aracajú",
          "country": "BR",
          "latitude": -10.987263,
          "longitude": -37.051898
         },
         "name": "CajuBike"
        },
        {
         "company": [
          "Mobilicidade Tecnologia LTD",
          "Grupo Serttel LTDA"
         ],
         "href": "/v2/networks/bikebelem",
         "id": "bikebelem",
         "location": {
          "city": "Belém",
          "country": "BR",
          "latitude": -1.4600794,
          "longitude": -48.490865
         },
         "name": "Bike Belém"
        },
        {
         "company": [
          "Comunicare S.r.l."
         ],
         "href": "/v2/networks/sondrio",
         "id": "sondrio",
         "location": {
          "city": "Sondrio",
          "country": "IT",
          "latitude": 46.1698583,
          "longitude": 9.8787674
         },
         "name": "Sondrio",
         "source": "https://www.bicincitta.com/frmLeStazioni.aspx?ID=213"
        },
        {
         "company": [
          "Mobilicidade Tecnologia LTD",
          "Grupo Serttel LTDA"
         ],
         "href": "/v2/networks/bikesantos",
         "id": "bikesantos",
         "location": {
          "city": "Santos",
          "country": "BR",
          "latitude": -23.954052,
          "longitude": -46.333345
         },
         "name": "BikeSantos"
        },
        {
         "company": [
          "Comunicare S.r.l."
         ],
         "href": "/v2/networks/vercelli",
         "id": "vercelli",
         "location": {
          "city": "Vercelli",
          "country": "IT",
          "latitude": 45.32022720000001,
          "longitude": 8.418573499999999
         },
         "name": "Vercelli",
         "source": "https://www.bicincitta.com/frmLeStazioni.aspx?ID=235"
        },
        {
         "company": [
          "Comunicare S.r.l."
         ],
         "href": "/v2/networks/portofino-park-and-bike",
         "id": "portofino-park-and-bike",
         "location": {
          "city": "Santa Margherita Ligure - Portofino - Camogli",
          "country": "IT",
          "latitude": 44.335084,
          "longitude": 9.211264
         },
         "name": "Portofino Park and Bike",
         "source": "https://www.bicincitta.com/frmLeStazioni.aspx?ID=128"
        },
        {
         "company": [
          "Mobilicidade Tecnologia LTD",
          "Municipalidad de Rosario"
         ],
         "gbfs_href": "https://www.mibicitubici.gob.ar/opendata/gbfs.json",
         "href": "/v2/networks/mibicitubici",
         "id": "mibicitubici",
         "location": {
          "city": "Rosario",
          "country": "AR",
          "latitude": -32.95,
          "longitude": -60.65
         },
         "name": "Mi bici tu bici"
        },
        {
         "company": [
          "DecoBike LLC"
         ],
         "href": "/v2/networks/decobike-miami-beach",
         "id": "decobike-miami-beach",
         "location": {
          "city": "Miami Beach, FL",
          "country": "US",
          "latitude": 25.790654,
          "longitude": -80.1300455
         },
         "name": "Citi Bike Miami"
        },
        {
         "company": [
          "DecoBike LLC"
         ],
         "href": "/v2/networks/decobike-san-diego",
         "id": "decobike-san-diego",
         "location": {
          "city": "San Diego, CA",
          "country": "US",
          "latitude": 32.715738,
          "longitude": -117.1610838
         },
         "name": "Decobike San Diego"
        },
        {
         "company": [
          "Comunicare S.r.l."
         ],
         "href": "/v2/networks/meglio-in-bici",
         "id": "meglio-in-bici",
         "location": {
          "city": "Cernusco sul Naviglio - Pioltello - Carugate",
          "country": "IT",
          "latitude": 45.520541,
          "longitude": 9.341984
         },
         "name": "Meglio in Bici",
         "source": "https://www.bicincitta.com/frmLeStazioni.aspx?ID=121"
        },
        {
         "company": [
          "BCycle, LLC"
         ],
         "gbfs_href": "https://gbfs.bcycle.com/bcycle_desmoines/gbfs.json",
         "href": "/v2/networks/desmoines",
         "id": "desmoines",
         "location": {
          "city": "Des Moines, IA",
          "country": "US",
          "latitude": 41.6005448,
          "longitude": -93.6091064
         },
         "name": "Des Moines B-cycle"
        },
        {
         "company": [
          "Comunicare S.r.l."
         ],
         "href": "/v2/networks/ossola",
         "id": "ossola",
         "location": {
          "city": "Santa Maria Maggiore - Malesco - Villette",
          "country": "IT",
          "latitude": 46.127196,
          "longitude": 8.499169
         },
         "name": "Comunità Montana Valli dell'Ossola",
         "source": "https://www.bicincitta.com/frmLeStazioni.aspx?ID=152"
        },
        {
         "company": [
          "BCycle, LLC"
         ],
         "gbfs_href": "https://gbfs.bcycle.com/bcycle_greenville/gbfs.json",
         "href": "/v2/networks/greenville",
         "id": "greenville",
         "location": {
          "city": "Greenville, SC",
          "country": "US",
          "latitude": 34.85261759999999,
          "longitude": -82.3940104
         },
         "name": "Greenville B-cycle"
        },
        {
         "company": [
          "Comunicare S.r.l."
         ],
         "href": "/v2/networks/bicincitta-mezzolombardo",
         "id": "bicincitta-mezzolombardo",
         "location": {
          "city": "Mezzolombardo",
          "country": "IT",
          "latitude": 46.21400260000001,
          "longitude": 11.0967867
         },
         "name": "Bicincittà",
         "source": "https://www.bicincitta.com/frmLeStazioni.aspx?ID=228"
        },
        {
         "company": [
          "Comunicare S.r.l."
         ],
         "href": "/v2/networks/bicincitta-lausanne-campus-morges",
         "id": "bicincitta-lausanne-campus-morges",
         "location": {
          "city": "Lausanne - Morges - Campus",
          "country": "CH",
          "latitude": 46.5196535,
          "longitude": 6.6322734
         },
         "name": "Bicincittà",
         "source": "https://www.bicincitta.com/frmLeStazioni.aspx?ID=123"
        },
        {
         "company": [
          "Comunicare S.r.l."
         ],
         "href": "/v2/networks/bicincitta-scafati",
         "id": "bicincitta-scafati",
         "location": {
          "city": "Scafati",
          "country": "IT",
          "latitude": 40.7620174,
          "longitude": 14.5363969
         },
         "name": "Bicincittà",
         "source": "https://www.bicincitta.com/frmLeStazioni.aspx?ID=106"
        },
        {
         "company": [
          "Comunicare S.r.l."
         ],
         "href": "/v2/networks/bicincitta-livorno",
         "id": "bicincitta-livorno",
         "location": {
          "city": "Livorno",
          "country": "IT",
          "latitude": 43.548473,
          "longitude": 10.3105674
         },
         "name": "Bicincittà",
         "source": "https://www.bicincitta.com/frmLeStazioni.aspx?ID=226"
        },
        {
         "company": [
          "Comunicare S.r.l."
         ],
         "href": "/v2/networks/bicincitta-valais-central",
         "id": "bicincitta-valais-central",
         "location": {
          "city": "Sion",
          "country": "CH",
          "latitude": 46.2331221,
          "longitude": 7.360625999999999
         },
         "name": "Bicincittà",
         "source": "https://www.bicincitta.com/frmLeStazioni.aspx?ID=89"
        },
        {
         "company": [
          "Comunicare S.r.l."
         ],
         "href": "/v2/networks/bicincitta-forli",
         "id": "bicincitta-forli",
         "location": {
          "city": "Forlì",
          "country": "IT",
          "latitude": 44.2227398,
          "longitude": 12.0407312
         },
         "name": "Mi Muovo in Bici",
         "source": "http://www.mimuovoinbici.it/frmLeStazioni.aspx?ID=119"
        },
        {
         "company": [
          "Comunicare S.r.l."
         ],
         "href": "/v2/networks/bicincitta-rivarolo-canavese",
         "id": "bicincitta-rivarolo-canavese",
         "location": {
          "city": "Rivarolo Canavese",
          "country": "IT",
          "latitude": 45.306633,
          "longitude": 7.723242
         },
         "name": "Bicincittà",
         "source": "https://www.bicincitta.com/frmLeStazioni.aspx?ID=227"
        },
        {
         "company": [
          "Comunicare S.r.l."
         ],
         "href": "/v2/networks/bicincitta-monserrato",
         "id": "bicincitta-monserrato",
         "location": {
          "city": "Monserrato",
          "country": "IT",
          "latitude": 39.2560191,
          "longitude": 9.1453579
         },
         "name": "Bicincittà",
         "source": "https://www.bicincitta.com/frmLeStazioni.aspx?ID=220"
        },
        {
         "company": [
          "Comunicare S.r.l."
         ],
         "href": "/v2/networks/bicincitta-mezzocorona",
         "id": "bicincitta-mezzocorona",
         "location": {
          "city": "Mezzocorona",
          "country": "IT",
          "latitude": 46.2339047,
          "longitude": 11.1277461
         },
         "name": "Bicincittà",
         "source": "https://www.bicincitta.com/frmLeStazioni.aspx?ID=229"
        },
        {
         "company": [
          "Comunicare S.r.l."
         ],
         "href": "/v2/networks/bicincitta-san-lazzaro-di-savena",
         "id": "bicincitta-san-lazzaro-di-savena",
         "location": {
          "city": "San Lazzaro di Savena",
          "country": "IT",
          "latitude": 44.4702725,
          "longitude": 11.409399
         },
         "name": "Mi Muovo in Bici",
         "source": "http://www.mimuovoinbici.it/frmLeStazioni.aspx?ID=100"
        },
        {
         "company": [
          "Comunicare S.r.l."
         ],
         "href": "/v2/networks/bicincitta-san-teodoro",
         "id": "bicincitta-san-teodoro",
         "location": {
          "city": "San Teodoro",
          "country": "IT",
          "latitude": 40.7722837,
          "longitude": 9.6695458
         },
         "name": "Bicincittà",
         "source": "https://www.bicincitta.com/frmLeStazioni.aspx?ID=225"
        },
        {
         "company": [
          "Comunicare S.r.l."
         ],
         "href": "/v2/networks/bicincitta-parco-molentargius-saline",
         "id": "bicincitta-parco-molentargius-saline",
         "location": {
          "city": "Parco Naturale Molentargius - Saline",
          "country": "IT",
          "latitude": 39.2052545,
          "longitude": 9.146761099999999
         },
         "name": "Bicincittà",
         "source": "https://www.bicincitta.com/frmLeStazioni.aspx?ID=151"
        },
        {
         "company": [
          "Comunicare S.r.l."
         ],
         "href": "/v2/networks/parkinbici",
         "id": "parkinbici",
         "location": {
          "city": "Parco Nazionale del Gargano",
          "country": "IT",
          "latitude": 41.7817081,
          "longitude": 15.8516421
         },
         "name": "Parkinbici",
         "source": "https://www.bicincitta.com/frmLeStazioni.aspx?ID=105"
        },
        {
         "company": [
          "Comunicare S.r.l."
         ],
         "href": "/v2/networks/bicincitta-gallipoli",
         "id": "bicincitta-gallipoli",
         "location": {
          "city": "Gallipoli",
          "country": "IT",
          "latitude": 40.0558554,
          "longitude": 17.9925085
         },
         "name": "Bicincittà",
         "source": "https://www.bicincitta.com/frmLeStazioni.aspx?ID=109"
        },
        {
         "company": [
          "Comunicare S.r.l."
         ],
         "href": "/v2/networks/bicincitta-castel-guelfo-the-style-outlets",
         "id": "bicincitta-castel-guelfo-the-style-outlets",
         "location": {
          "city": "Castel Guelfo di Bologna",
          "country": "IT",
          "latitude": 44.4328527,
          "longitude": 11.6750857
         },
         "name": "Bicincittà",
         "source": "https://www.bicincitta.com/frmLeStazioni.aspx?ID=233"
        },
        {
         "company": [
          "Comunicare S.r.l."
         ],
         "href": "/v2/networks/bicincitta-san-michele-alladige",
         "id": "bicincitta-san-michele-alladige",
         "location": {
          "city": "San Michele All'adige",
          "country": "IT",
          "latitude": 46.1878653,
          "longitude": 11.1330423
         },
         "name": "Bicincittà",
         "source": "https://www.bicincitta.com/frmLeStazioni.aspx?ID=231"
        },
        {
         "company": [
          "Comunicare S.r.l."
         ],
         "href": "/v2/networks/bicincitta-agglo-fribourg",
         "id": "bicincitta-agglo-fribourg",
         "location": {
          "city": "Fribourg",
          "country": "CH",
          "latitude": 46.8064773,
          "longitude": 7.161971899999999
         },
         "name": "Bicincittà",
         "source": "https://www.bicincitta.com/frmLeStazioni.aspx?ID=33"
        },
        {
         "company": [
          "Comunicare S.r.l."
         ],
         "href": "/v2/networks/bicincitta-modena",
         "id": "bicincitta-modena",
         "location": {
          "city": "Modena",
          "country": "IT",
          "latitude": 44.647128,
          "longitude": 10.9252269
         },
         "name": "Mi Muovo in bici",
         "source": "http://www.mimuovoinbici.it/frmLeStazioni.aspx?ID=180"
        },
        {
         "company": [
          "Comunicare S.r.l."
         ],
         "href": "/v2/networks/bicincitta-brancaleone",
         "id": "bicincitta-brancaleone",
         "location": {
          "city": "Brancaleone",
          "country": "IT",
          "latitude": 37.9679084,
          "longitude": 16.0757749
         },
         "name": "Bicincittà",
         "source": "https://www.bicincitta.com/frmLeStazioni.aspx?ID=104"
        },
        {
         "company": [
          "Comunicare S.r.l."
         ],
         "href": "/v2/networks/bicincitta-bulle",
         "id": "bicincitta-bulle",
         "location": {
          "city": "Bulle",
          "country": "CH",
          "latitude": 46.6154512,
          "longitude": 7.057726799999999
         },
         "name": "Bicincittà",
         "source": "https://www.bicincitta.com/frmLeStazioni.aspx?ID=34"
        },
        {
         "company": [
          "Comunicare S.r.l."
         ],
         "href": "/v2/networks/bicincitta-riviera",
         "id": "bicincitta-riviera",
         "location": {
          "city": "Distretto della Riviera-Pays-d'Enhaut",
          "country": "CH",
          "latitude": 46.4628333,
          "longitude": 6.8419192
         },
         "name": "Bicincittà",
         "source": "https://www.bicincitta.com/frmLeStazioni.aspx?ID=129"
        },
        {
         "company": [
          "Comunicare S.r.l."
         ],
         "href": "/v2/networks/bicincitta-scandiano",
         "id": "bicincitta-scandiano",
         "location": {
          "city": "Scandiano",
          "country": "IT",
          "latitude": 44.5982342,
          "longitude": 10.6909273
         },
         "name": "Mi Muovo in Bici",
         "source": "http://www.mimuovoinbici.it/frmLeStazioni.aspx?ID=94"
        },
        {
         "company": [
          "Comunicare S.r.l."
         ],
         "href": "/v2/networks/bicincitta-elmas",
         "id": "bicincitta-elmas",
         "location": {
          "city": "Elmas",
          "country": "IT",
          "latitude": 39.2634329,
          "longitude": 9.0515805
         },
         "name": "Bicincittà",
         "source": "https://www.bicincitta.com/frmLeStazioni.aspx?ID=218"
        },
        {
         "company": [
          "Comunicare S.r.l."
         ],
         "href": "/v2/networks/bicincitta-tivat",
         "id": "bicincitta-tivat",
         "location": {
          "city": "TV",
          "country": "ME",
          "latitude": 42.4349809,
          "longitude": 18.7066398
         },
         "name": "Bicincittà",
         "source": "https://www.bicincitta.com/frmLeStazioni.aspx?ID=87"
        },
        {
         "company": [
          "Comunicare S.r.l."
         ],
         "href": "/v2/networks/bicincitta-acquaviva-delle-fonti",
         "id": "bicincitta-acquaviva-delle-fonti",
         "location": {
          "city": "Acquaviva delle fonti",
          "country": "IT",
          "latitude": 40.9303721,
          "longitude": 16.8414374
         },
         "name": "Bicincittà",
         "source": "https://www.bicincitta.com/frmLeStazioni.aspx?ID=160"
        },
        {
         "company": [
          "Comunicare S.r.l."
         ],
         "href": "/v2/networks/we-love-bike",
         "id": "we-love-bike",
         "location": {
          "city": "Lodi",
          "country": "IT",
          "latitude": 45.3097228,
          "longitude": 9.503715999999999
         },
         "name": "We Love bike",
         "source": "https://www.bicincitta.com/frmLeStazioni.aspx?ID=190"
        },
        {
         "company": [
          "Comunicare S.r.l."
         ],
         "href": "/v2/networks/bicincitta-acquarica-del-capo",
         "id": "bicincitta-acquarica-del-capo",
         "location": {
          "city": "Acquarica del Capo",
          "country": "IT",
          "latitude": 39.9144573,
          "longitude": 18.2450324
         },
         "name": "Bicincittà",
         "source": "https://www.bicincitta.com/frmLeStazioni.aspx?ID=146"
        },
        {
         "company": [
          "Comunicare S.r.l."
         ],
         "href": "/v2/networks/bicincitta-vicolungo-the-style-outlets",
         "id": "bicincitta-vicolungo-the-style-outlets",
         "location": {
          "city": "Vicolungo",
          "country": "IT",
          "latitude": 45.47167229999999,
          "longitude": 8.4633922
         },
         "name": "Bicincittà",
         "source": "https://www.bicincitta.com/frmLeStazioni.aspx?ID=232"
        },
        {
         "company": [
          "Comunicare S.r.l."
         ],
         "href": "/v2/networks/bicincitta-porto-torres",
         "id": "bicincitta-porto-torres",
         "location": {
          "city": "Porto Torres",
          "country": "IT",
          "latitude": 40.8333682,
          "longitude": 8.402292899999999
         },
         "name": "Bicincittà",
         "source": "https://www.bicincitta.com/frmLeStazioni.aspx?ID=221"
        },
        {
         "company": [
          "Comunicare S.r.l."
         ],
         "href": "/v2/networks/bicincitta-cisterna-di-latina",
         "id": "bicincitta-cisterna-di-latina",
         "location": {
          "city": "Cisterna di Latina",
          "country": "IT",
          "latitude": 41.5754029,
          "longitude": 12.8284772
         },
         "name": "Bicincittà",
         "source": "https://www.bicincitta.com/frmLeStazioni.aspx?ID=217"
        },
        {
         "company": [
          "Comunicare S.r.l."
         ],
         "href": "/v2/networks/bicincitta-casaletto-spartano",
         "id": "bicincitta-casaletto-spartano",
         "location": {
          "city": "Casaletto Spartano",
          "country": "IT",
          "latitude": 40.1532801,
          "longitude": 15.6211479
         },
         "name": "Bicincittà",
         "source": "https://www.bicincitta.com/frmLeStazioni.aspx?ID=199"
        },
        {
         "company": [
          "Comunicare S.r.l."
         ],
         "href": "/v2/networks/bicincitta-selargius",
         "id": "bicincitta-selargius",
         "location": {
          "city": "Selargius",
          "country": "IT",
          "latitude": 39.2596768,
          "longitude": 9.1629372
         },
         "name": "Bicincittà",
         "source": "https://www.bicincitta.com/frmLeStazioni.aspx?ID=219"
        },
        {
         "company": [
          "Comunicare S.r.l."
         ],
         "href": "/v2/networks/bicincitta-yverdon-les-bains",
         "id": "bicincitta-yverdon-les-bains",
         "location": {
          "city": "Yverdon-les-Bains",
          "country": "CH",
          "latitude": 46.7784736,
          "longitude": 6.641183
         },
         "name": "Bicincittà",
         "source": "https://www.bicincitta.com/frmLeStazioni.aspx?ID=116"
        },
        {
         "company": [
          "Comunicare S.r.l."
         ],
         "href": "/v2/networks/bicincitta-monza",
         "id": "bicincitta-monza",
         "location": {
          "city": "Monza",
          "country": "IT",
          "latitude": 45.5845001,
          "longitude": 9.2744485
         },
         "name": "Bicincittà",
         "source": "https://www.bicincitta.com/frmLeStazioni.aspx?ID=224"
        },
        {
         "company": [
          "Comunicare S.r.l."
         ],
         "href": "/v2/networks/bicincitta-la-cote",
         "id": "bicincitta-la-cote",
         "location": {
          "city": "Nyon",
          "country": "CH",
          "latitude": 46.3832683,
          "longitude": 6.2347852
         },
         "name": "Bicincittà",
         "source": "https://www.bicincitta.com/frmLeStazioni.aspx?ID=32"
        },
        {
         "company": [
          "Comunicare S.r.l."
         ],
         "href": "/v2/networks/bicincitta-morigerati",
         "id": "bicincitta-morigerati",
         "location": {
          "city": "Morigerati",
          "country": "IT",
          "latitude": 40.1422031,
          "longitude": 15.5298525
         },
         "name": "Bicincittà",
         "source": "https://www.bicincitta.com/frmLeStazioni.aspx?ID=200"
        },
        {
         "company": [
          "Comunicare S.r.l."
         ],
         "href": "/v2/networks/bicincitta-san-donato-milanese",
         "id": "bicincitta-san-donato-milanese",
         "location": {
          "city": "San Donato Milanese",
          "country": "IT",
          "latitude": 45.4092402,
          "longitude": 9.2684867
         },
         "name": "Bicincittà",
         "source": "https://www.bicincitta.com/frmLeStazioni.aspx?ID=234"
        },
        {
         "company": [
          "Comunicare S.r.l."
         ],
         "href": "/v2/networks/bicincitta-chablais",
         "id": "bicincitta-chablais",
         "location": {
          "city": "Monthey - Aigle",
          "country": "CH",
          "latitude": 46.2521873,
          "longitude": 6.9469598
         },
         "name": "Bicincittà",
         "source": "https://www.bicincitta.com/frmLeStazioni.aspx?ID=60"
        },
        {
         "company": [
          "Comunicare S.r.l."
         ],
         "href": "/v2/networks/bicincitta-ente-parco-del-circeo",
         "id": "bicincitta-ente-parco-del-circeo",
         "location": {
          "city": "Parco Nazionale del Circeo",
          "country": "IT",
          "latitude": 41.3151015,
          "longitude": 13.0330782
         },
         "name": "Bicincittà",
         "source": "https://www.bicincitta.com/frmLeStazioni.aspx?ID=135"
        },
        {
         "company": [
          "Comunicare S.r.l."
         ],
         "href": "/v2/networks/bicincitta-cesena",
         "id": "bicincitta-cesena",
         "location": {
          "city": "Cesena",
          "country": "IT",
          "latitude": 44.1396438,
          "longitude": 12.2464292
         },
         "name": "Mi Muovo in bici",
         "source": "http://www.mimuovoinbici.it/frmLeStazioni.aspx?ID=120"
        },
        {
         "company": [
          "Comunicare S.r.l."
         ],
         "href": "/v2/networks/bicincitta-lugano-paradiso",
         "id": "bicincitta-lugano-paradiso",
         "location": {
          "city": "Paradiso",
          "country": "CH",
          "latitude": 45.9907174,
          "longitude": 8.945261799999999
         },
         "name": "Bicincittà",
         "source": "https://www.bicincitta.com/frmLeStazioni.aspx?ID=130"
        },
        {
         "company": [
          "Comunicare S.r.l."
         ],
         "href": "/v2/networks/lecco",
         "id": "lecco",
         "location": {
          "city": "Lecco",
          "country": "IT",
          "latitude": 45.8565698,
          "longitude": 9.397670399999999
         },
         "name": "Bicincittà",
         "source": "https://www.bicincitta.com/frmLeStazioni.aspx?ID=49"
        },
        {
         "company": [
          "Comunicare S.r.l."
         ],
         "href": "/v2/networks/bicincitta-alghero",
         "id": "bicincitta-alghero",
         "location": {
          "city": "Alghero",
          "country": "IT",
          "latitude": 40.5579517,
          "longitude": 8.319294900000001
         },
         "name": "Bicincittà",
         "source": "https://www.bicincitta.com/frmLeStazioni.aspx?ID=237"
        },
        {
         "company": [
          "Comunicare S.r.l."
         ],
         "href": "/v2/networks/bicincitta-san-giovanni-in-persiceto",
         "id": "bicincitta-san-giovanni-in-persiceto",
         "location": {
          "city": "San Giovanni in Persiceto",
          "country": "IT",
          "latitude": 44.6405433,
          "longitude": 11.1893053
         },
         "name": "Mi Muovo in Bici",
         "source": "http://www.mimuovoinbici.it/frmLeStazioni.aspx?ID=101"
        },
        {
         "company": [
          "Comunicare S.r.l."
         ],
         "href": "/v2/networks/bicincitta-ente-parco-san-rossore",
         "id": "bicincitta-ente-parco-san-rossore",
         "location": {
          "city": "Parco naturale Migliarino San Rossore Massaciuccoli",
          "country": "IT",
          "latitude": 43.723826,
          "longitude": 10.339509
         },
         "name": "Bicincittà",
         "source": "https://www.bicincitta.com/frmLeStazioni.aspx?ID=145"
        },
        {
         "company": [
          "Comunicare S.r.l."
         ],
         "href": "/v2/networks/bicincitta-treviglio",
         "id": "bicincitta-treviglio",
         "location": {
          "city": "Treviglio",
          "country": "IT",
          "latitude": 45.5293372,
          "longitude": 9.591435899999999
         },
         "name": "Bicincittà",
         "source": "https://www.bicincitta.com/frmLeStazioni.aspx?ID=174"
        },
        {
         "company": [
          "Comunicare S.r.l."
         ],
         "href": "/v2/networks/bicincitta-lavis",
         "id": "bicincitta-lavis",
         "location": {
          "city": "Lavis",
          "country": "IT",
          "latitude": 46.1408423,
          "longitude": 11.1124935
         },
         "name": "Bicincittà",
         "source": "https://www.bicincitta.com/frmLeStazioni.aspx?ID=238"
        },
        {
         "company": [
          "Comunicare S.r.l."
         ],
         "href": "/v2/networks/bicincitta-les-lacs-romont",
         "id": "bicincitta-les-lacs-romont",
         "location": {
          "city": "Murten",
          "country": "CH",
          "latitude": 46.92922110000001,
          "longitude": 7.120184
         },
         "name": "Bicincittà",
         "source": "https://www.bicincitta.com/frmLeStazioni.aspx?ID=35"
        },
        {
         "company": [
          "Comunicare S.r.l."
         ],
         "href": "/v2/networks/bicincitta-ente-parco-di-montemarcello-magra",
         "id": "bicincitta-ente-parco-di-montemarcello-magra",
         "location": {
          "city": "Ente Parco Montemarcello Magra",
          "country": "IT",
          "latitude": 44.1143897,
          "longitude": 9.9635986
         },
         "name": "Bicincittà",
         "source": "https://www.bicincitta.com/frmLeStazioni.aspx?ID=132"
        },
        {
         "company": [
          "Comunicare S.r.l."
         ],
         "href": "/v2/networks/bicischio",
         "id": "bicischio",
         "location": {
          "city": "Schio",
          "country": "IT",
          "latitude": 45.7170517,
          "longitude": 11.3597702
         },
         "name": "BiciSchio",
         "source": "https://www.bicincitta.com/frmLeStazioni.aspx?ID=91"
        },
        {
         "company": [
          "Comunicare S.r.l."
         ],
         "href": "/v2/networks/bicincitta-imola",
         "id": "bicincitta-imola",
         "location": {
          "city": "Imola",
          "country": "IT",
          "latitude": 44.3559128,
          "longitude": 11.7161197
         },
         "name": "Mi Muovo in bici",
         "source": "http://www.mimuovoinbici.it/frmLeStazioni.aspx?ID=196"
        },
        {
         "company": [
          "Nextbike GmbH"
         ],
         "href": "/v2/networks/nextbike-leipzig",
         "id": "nextbike-leipzig",
         "location": {
          "city": "Leipzig",
          "country": "DE",
          "latitude": 51.3415,
          "longitude": 12.3625
         },
         "name": "Nextbike"
        },
        {
         "company": [
          "Nextbike GmbH"
         ],
         "href": "/v2/networks/nextbike-wiesbaden",
         "id": "nextbike-wiesbaden",
         "location": {
          "city": "Wiesbaden",
          "country": "DE",
          "latitude": 50.0709,
          "longitude": 8.24322
         },
         "name": "Nextbike"
        },
        {
         "company": [
          "Nextbike GmbH"
         ],
         "href": "/v2/networks/visa-frankfurt",
         "id": "visa-frankfurt",
         "location": {
          "city": "Frankfurt",
          "country": "DE",
          "latitude": 50.1072,
          "longitude": 8.66375
         },
         "name": "VISA"
        },
        {
         "company": [
          "Nextbike GmbH"
         ],
         "href": "/v2/networks/kvb-rad-koln",
         "id": "kvb-rad-koln",
         "location": {
          "city": "Köln",
          "country": "DE",
          "latitude": 50.9429,
          "longitude": 6.95649
         },
         "name": "KVB Rad"
        },
        {
         "company": [
          "Nextbike GmbH"
         ],
         "href": "/v2/networks/facherrad-karlsruhe",
         "id": "facherrad-karlsruhe",
         "location": {
          "city": "Karlsruhe",
          "country": "DE",
          "latitude": 49.0102,
          "longitude": 8.41827
         },
         "name": "Fächerrad"
        },
        {
         "company": [
          "Nextbike GmbH"
         ],
         "href": "/v2/networks/burgenland-neusiedler-see",
         "id": "burgenland-neusiedler-see",
         "location": {
          "city": "Neusiedler See",
          "country": "AT",
          "latitude": 47.839,
          "longitude": 16.761
         },
         "name": "Burgenland"
        },
        {
         "company": [
          "Nextbike GmbH"
         ],
         "href": "/v2/networks/nextbike-dusseldorf",
         "id": "nextbike-dusseldorf",
         "location": {
          "city": "Düsseldorf",
          "country": "DE",
          "latitude": 51.2243,
          "longitude": 6.77204
         },
         "name": "Nextbike"
        },
        {
         "company": [
          "Nextbike GmbH"
         ],
         "href": "/v2/networks/nextbike-stpolten",
         "id": "nextbike-stpolten",
         "location": {
          "city": "St.Pölten",
          "country": "AT",
          "latitude": 48.2058,
          "longitude": 15.6232
         },
         "name": "Nextbike"
        },
        {
         "company": [
          "Nextbike GmbH"
         ],
         "href": "/v2/networks/nextbike-modling",
         "id": "nextbike-modling",
         "location": {
          "city": "Mödling",
          "country": "AT",
          "latitude": 48.1047,
          "longitude": 16.3202
         },
         "name": "Nextbike"
        },
        {
         "company": [
          "Nextbike GmbH"
         ],
         "href": "/v2/networks/nextbike-sursee",
         "id": "nextbike-sursee",
         "location": {
          "city": "Sursee",
          "country": "CH",
          "latitude": 47.1713,
          "longitude": 8.10877
         },
         "name": "Nextbike"
        },
        {
         "company": [
          "Nextbike GmbH"
         ],
         "href": "/v2/networks/nextbike-luzern",
         "id": "nextbike-luzern",
         "location": {
          "city": "Luzern",
          "country": "CH",
          "latitude": 47.0472,
          "longitude": 8.30446
         },
         "name": "Nextbike"
        },
        {
         "company": [
          "Nextbike GmbH"
         ],
         "href": "/v2/networks/sixt-riga",
         "id": "sixt-riga",
         "location": {
          "city": "Rīga",
          "country": "LV",
          "latitude": 56.9453,
          "longitude": 24.1033
         },
         "name": "SiXT"
        },
        {
         "company": [
          "Nextbike GmbH"
         ],
         "href": "/v2/networks/metropolradruhr-dortmund",
         "id": "metropolradruhr-dortmund",
         "location": {
          "city": "Dortmund",
          "country": "DE",
          "latitude": 51.5141,
          "longitude": 7.46255
         },
         "name": "metropolradruhr"
        },
        {
         "company": [
          "Nextbike GmbH"
         ],
         "href": "/v2/networks/metropolradruhr-bochum",
         "id": "metropolradruhr-bochum",
         "location": {
          "city": "Bochum",
          "country": "DE",
          "latitude": 51.4813,
          "longitude": 7.2133
         },
         "name": "metropolradruhr"
        },
        {
         "company": [
          "Nextbike GmbH"
         ],
         "href": "/v2/networks/metropolradruhr-bottrop",
         "id": "metropolradruhr-bottrop",
         "location": {
          "city": "Bottrop",
          "country": "DE",
          "latitude": 51.5263,
          "longitude": 6.94611
         },
         "name": "metropolradruhr"
        },
        {
         "company": [
          "Nextbike GmbH"
         ],
         "href": "/v2/networks/metropolradruhr-duisburg",
         "id": "metropolradruhr-duisburg",
         "location": {
          "city": "Duisburg",
          "country": "DE",
          "latitude": 51.4487,
          "longitude": 6.77513
         },
         "name": "metropolradruhr"
        },
        {
         "company": [
          "Nextbike GmbH"
         ],
         "href": "/v2/networks/metropolradruhr-essen",
         "id": "metropolradruhr-essen",
         "location": {
          "city": "Essen",
          "country": "DE",
          "latitude": 51.4425,
          "longitude": 7.02301
         },
         "name": "metropolradruhr"
        },
        {
         "company": [
          "Nextbike GmbH"
         ],
         "href": "/v2/networks/metropolradruhr-gelsenkirchen",
         "id": "metropolradruhr-gelsenkirchen",
         "location": {
          "city": "Gelsenkirchen",
          "country": "DE",
          "latitude": 51.5404,
          "longitude": 7.07039
         },
         "name": "metropolradruhr"
        },
        {
         "company": [
          "Nextbike GmbH"
         ],
         "href": "/v2/networks/metropolradruhr-hamm",
         "id": "metropolradruhr-hamm",
         "location": {
          "city": "Hamm",
          "country": "DE",
          "latitude": 51.6775,
          "longitude": 7.84836
         },
         "name": "metropolradruhr"
        },
        {
         "company": [
          "Nextbike GmbH"
         ],
         "href": "/v2/networks/metropolradruhr-herne",
         "id": "metropolradruhr-herne",
         "location": {
          "city": "Herne",
          "country": "DE",
          "latitude": 51.5363,
          "longitude": 7.21493
         },
         "name": "metropolradruhr"
        },
        {
         "company": [
          "Nextbike GmbH"
         ],
         "href": "/v2/networks/metropolradruhr-mulheim-adr",
         "id": "metropolradruhr-mulheim-adr",
         "location": {
          "city": "Mülheim a.d.R.",
          "country": "DE",
          "latitude": 51.4308,
          "longitude": 6.87401
         },
         "name": "metropolradruhr"
        },
        {
         "company": [
          "Nextbike GmbH"
         ],
         "href": "/v2/networks/metropolradruhr-oberhausen",
         "id": "metropolradruhr-oberhausen",
         "location": {
          "city": "Oberhausen",
          "country": "DE",
          "latitude": 51.4936,
          "longitude": 6.85169
         },
         "name": "metropolradruhr"
        },
        {
         "company": [
          "Nextbike GmbH"
         ],
         "href": "/v2/networks/nextbike-wachau",
         "id": "nextbike-wachau",
         "location": {
          "city": "Wachau",
          "country": "AT",
          "latitude": 48.3188,
          "longitude": 15.4166
         },
         "name": "Nextbike"
        },
        {
         "company": [
          "Nextbike GmbH"
         ],
         "href": "/v2/networks/nextbike-tulln",
         "id": "nextbike-tulln",
         "location": {
          "city": "Tulln",
          "country": "AT",
          "latitude": 48.3269,
          "longitude": 16.0569
         },
         "name": "Nextbike"
        },
        {
         "company": [
          "Nextbike GmbH"
         ],
         "href": "/v2/networks/nextbike-thermenregion",
         "id": "nextbike-thermenregion",
         "location": {
          "city": "Thermenregion",
          "country": "AT",
          "latitude": 47.9892,
          "longitude": 16.2646
         },
         "name": "Nextbike"
        },
        {
         "company": [
          "Nextbike GmbH"
         ],
         "href": "/v2/networks/wrm-wroclaw",
         "id": "wrm-wroclaw",
         "location": {
          "city": "Wrocław",
          "country": "PL",
          "latitude": 51.1097,
          "longitude": 17.0485
         },
         "name": "WRM"
        },
        {
         "company": [
          "Nextbike GmbH"
         ],
         "href": "/v2/networks/nextbike-offenburg",
         "id": "nextbike-offenburg",
         "location": {
          "city": "Offenburg",
          "country": "DE",
          "latitude": 48.4721,
          "longitude": 7.94243
         },
         "name": "Nextbike"
        },
        {
         "company": [
          "Nextbike GmbH"
         ],
         "href": "/v2/networks/nextbike-wrneustadt",
         "id": "nextbike-wrneustadt",
         "location": {
          "city": "Wr.Neustadt",
          "country": "AT",
          "latitude": 47.8167,
          "longitude": 16.2426
         },
         "name": "Nextbike"
        },
        {
         "company": [
          "Nextbike GmbH"
         ],
         "href": "/v2/networks/nextbike-potsdam",
         "id": "nextbike-potsdam",
         "location": {
          "city": "Potsdam",
          "country": "DE",
          "latitude": 52.3997,
          "longitude": 13.0676
         },
         "name": "Nextbike"
        },
        {
         "company": [
          "Nextbike GmbH"
         ],
         "href": "/v2/networks/nextbike-gutersloh",
         "id": "nextbike-gutersloh",
         "location": {
          "city": "Gütersloh",
          "country": "DE",
          "latitude": 51.9049,
          "longitude": 8.39275
         },
         "name": "Nextbike"
        },
        {
         "company": [
          "Nextbike GmbH"
         ],
         "href": "/v2/networks/nextbike-10vorwien",
         "id": "nextbike-10vorwien",
         "location": {
          "city": "10vorWien",
          "country": "AT",
          "latitude": 48.3403,
          "longitude": 16.279
         },
         "name": "Nextbike"
        },
        {
         "company": [
          "Nextbike GmbH"
         ],
         "href": "/v2/networks/usedomrad-usedom",
         "id": "usedomrad-usedom",
         "location": {
          "city": "Usedom",
          "country": "DE",
          "latitude": 53.9779,
          "longitude": 13.9925
         },
         "name": "UsedomRad"
        },
        {
         "company": [
          "Nextbike GmbH"
         ],
         "href": "/v2/networks/nextbike-norderstedt",
         "id": "nextbike-norderstedt",
         "location": {
          "city": "Norderstedt",
          "country": "DE",
          "latitude": 53.6969,
          "longitude": 10.002
         },
         "name": "Nextbike"
        },
        {
         "company": [
          "Nextbike GmbH"
         ],
         "href": "/v2/networks/swa-rad-augsburg",
         "id": "swa-rad-augsburg",
         "location": {
          "city": "Augsburg",
          "country": "DE",
          "latitude": 48.3647,
          "longitude": 10.8916
         },
         "name": "SWA Rad"
        },
        {
         "company": [
          "Nextbike GmbH"
         ],
         "href": "/v2/networks/nextbike-limassol",
         "id": "nextbike-limassol",
         "location": {
          "city": "Limassol",
          "country": "CY",
          "latitude": 34.6823,
          "longitude": 33.0464
         },
         "name": "Nextbike"
        },
        {
         "company": [
          "Nextbike GmbH"
         ],
         "href": "/v2/networks/prm-poznan",
         "id": "prm-poznan",
         "location": {
          "city": "Poznań",
          "country": "PL",
          "latitude": 52.4077,
          "longitude": 16.9323
         },
         "name": "PRM"
        },
        {
         "company": [
          "Nextbike GmbH"
         ],
         "href": "/v2/networks/nextbike-christchurch",
         "id": "nextbike-christchurch",
         "location": {
          "city": "Christchurch",
          "country": "NZ",
          "latitude": -43.5341,
          "longitude": 172.621
         },
         "name": "Nextbike"
        },
        {
         "company": [
          "Nextbike GmbH"
         ],
         "href": "/v2/networks/vrn-heidelberg",
         "id": "vrn-heidelberg",
         "location": {
          "city": "Heidelberg",
          "country": "DE",
          "latitude": 49.4023,
          "longitude": 8.67577
         },
         "name": "VRN"
        },
        {
         "company": [
          "Nextbike GmbH"
         ],
         "href": "/v2/networks/vrn-mannheim",
         "id": "vrn-mannheim",
         "location": {
          "city": "Mannheim",
          "country": "DE",
          "latitude": 49.4869,
          "longitude": 8.45638
         },
         "name": "VRN"
        },
        {
         "company": [
          "Nextbike GmbH"
         ],
         "href": "/v2/networks/stadtrad-innsbruck",
         "id": "stadtrad-innsbruck",
         "location": {
          "city": "Innsbruck",
          "country": "AT",
          "latitude": 47.2632,
          "longitude": 11.3961
         },
         "name": "Stadtrad"
        },
        {
         "company": [
          "Nextbike GmbH"
         ],
         "href": "/v2/networks/nextbike-nicosia",
         "id": "nextbike-nicosia",
         "location": {
          "city": "Nicosia",
          "country": "CY",
          "latitude": 35.1728,
          "longitude": 33.3653
         },
         "name": "Nextbike"
        },
        {
         "company": [
          "Nextbike GmbH"
         ],
         "href": "/v2/networks/veturilo-warszawa",
         "id": "veturilo-warszawa",
         "location": {
          "city": "Warszawa",
          "country": "PL",
          "latitude": 52.2265,
          "longitude": 21.0127
         },
         "name": "VETURILO"
        },
        {
         "company": [
          "Nextbike GmbH"
         ],
         "href": "/v2/networks/nextbike-hollabrunn",
         "id": "nextbike-hollabrunn",
         "location": {
          "city": "Hollabrunn",
          "country": "AT",
          "latitude": 48.562,
          "longitude": 16.0785
         },
         "name": "Nextbike"
        },
        {
         "company": [
          "Nextbike GmbH"
         ],
         "href": "/v2/networks/nextbike-wienerwald",
         "id": "nextbike-wienerwald",
         "location": {
          "city": "WienerWald",
          "country": "AT",
          "latitude": 48.1926,
          "longitude": 16.141
         },
         "name": "Nextbike"
        },
        {
         "company": [
          "Nextbike GmbH"
         ],
         "href": "/v2/networks/nextbike-zagreb",
         "id": "nextbike-zagreb",
         "location": {
          "city": "Zagreb",
          "country": "HR",
          "latitude": 45.7984,
          "longitude": 15.9789
         },
         "name": "Nextbike"
        },
        {
         "company": [
          "Nextbike GmbH"
         ],
         "href": "/v2/networks/nextbike-glasgow",
         "id": "nextbike-glasgow",
         "location": {
          "city": "Glasgow",
          "country": "GB",
          "latitude": 55.8589,
          "longitude": -4.25549
         },
         "name": "Nextbike"
        },
        {
         "company": [
          "Nextbike GmbH"
         ],
         "href": "/v2/networks/belfastbikes-belfast",
         "id": "belfastbikes-belfast",
         "location": {
          "city": "Belfast",
          "country": "GB",
          "latitude": 54.5969,
          "longitude": -5.92918
         },
         "name": "BelfastBikes"
        },
        {
         "company": [
          "Nextbike GmbH"
         ],
         "href": "/v2/networks/nextbike-stirling",
         "id": "nextbike-stirling",
         "location": {
          "city": "Stirling",
          "country": "GB",
          "latitude": 56.1165,
          "longitude": -3.9369
         },
         "name": "Nextbike"
        },
        {
         "company": [
          "Nextbike GmbH"
         ],
         "href": "/v2/networks/grad-sibenik-sibenik",
         "id": "grad-sibenik-sibenik",
         "location": {
          "city": "Šibenik",
          "country": "HR",
          "latitude": 43.733,
          "longitude": 15.8982
         },
         "name": "Grad Šibenik"
        },
        {
         "company": [
          "Nextbike GmbH"
         ],
         "href": "/v2/networks/lrm-lublin-lublin",
         "id": "lrm-lublin-lublin",
         "location": {
          "city": "Lublin",
          "country": "PL",
          "latitude": 51.2469,
          "longitude": 22.5697
         },
         "name": "LRM Lublin"
        },
        {
         "company": [
          "Nextbike GmbH"
         ],
         "href": "/v2/networks/healthy-ride-pittsburgh-pittsburgh",
         "id": "healthy-ride-pittsburgh-pittsburgh",
         "location": {
          "city": "Pittsburgh",
          "country": "US",
          "latitude": 40.4459,
          "longitude": -79.9945
         },
         "name": "Healthy Ride"
        },
        {
         "company": [
          "Nextbike GmbH"
         ],
         "href": "/v2/networks/grm-grodzisk-grodzisk-mazowiecki",
         "id": "grm-grodzisk-grodzisk-mazowiecki",
         "location": {
          "city": "Grodzisk Mazowiecki",
          "country": "PL",
          "latitude": 52.113,
          "longitude": 20.6265
         },
         "name": "GRM Grodzisk"
        },
        {
         "company": [
          "Nextbike GmbH"
         ],
         "href": "/v2/networks/nextbike-quickborn",
         "id": "nextbike-quickborn",
         "location": {
          "city": "Quickborn",
          "country": "DE",
          "latitude": 53.7333,
          "longitude": 9.90272
         },
         "name": "Nextbike"
        },
        {
         "company": [
          "Nextbike GmbH"
         ],
         "href": "/v2/networks/vrn-ludwigshafen",
         "id": "vrn-ludwigshafen",
         "location": {
          "city": "Ludwigshafen",
          "country": "DE",
          "latitude": 49.4741,
          "longitude": 8.43287
         },
         "name": "VRN"
        },
        {
         "company": [
          "Nextbike GmbH"
         ],
         "href": "/v2/networks/vrn-speyer",
         "id": "vrn-speyer",
         "location": {
          "city": "Speyer",
          "country": "DE",
          "latitude": 49.3126,
          "longitude": 8.45295
         },
         "name": "VRN"
        },
        {
         "company": [
          "Nextbike GmbH"
         ],
         "href": "/v2/networks/nextbike-lviv",
         "id": "nextbike-lviv",
         "location": {
          "city": "Lviv",
          "country": "UA",
          "latitude": 49.8402,
          "longitude": 24.0182
         },
         "name": "Nextbike"
        },
        {
         "company": [
          "Nextbike GmbH"
         ],
         "href": "/v2/networks/nextbike-wurzburg",
         "id": "nextbike-wurzburg",
         "location": {
          "city": "Würzburg",
          "country": "DE",
          "latitude": 49.8,
          "longitude": 9.93333
         },
         "name": "Nextbike"
        },
        {
         "company": [
          "Nextbike GmbH"
         ],
         "href": "/v2/networks/nextbike-serfaus",
         "id": "nextbike-serfaus",
         "location": {
          "city": "Serfaus",
          "country": "AT",
          "latitude": 47.0387,
          "longitude": 10.6048
         },
         "name": "Nextbike"
        },
        {
         "company": [
          "Nextbike GmbH"
         ],
         "href": "/v2/networks/nextbike-malta",
         "id": "nextbike-malta",
         "location": {
          "city": "Malta",
          "country": "MT",
          "latitude": 35.9192,
          "longitude": 14.4889
         },
         "name": "Nextbike"
        },
        {
         "company": [
          "Nextbike GmbH"
         ],
         "href": "/v2/networks/grad-karlovac-karlovac",
         "id": "grad-karlovac-karlovac",
         "location": {
          "city": "Karlovac",
          "country": "HR",
          "latitude": 45.4905,
          "longitude": 15.5503
         },
         "name": "Grad Karlovac"
        },
        {
         "company": [
          "Nextbike GmbH"
         ],
         "href": "/v2/networks/grad-slavonski-brod-slavonski-brod",
         "id": "grad-slavonski-brod-slavonski-brod",
         "location": {
          "city": "Slavonski Brod",
          "country": "HR",
          "latitude": 45.1656,
          "longitude": 18.0183
         },
         "name": "Grad Slavonski Brod"
        },
        {
         "company": [
          "Nextbike GmbH"
         ],
         "href": "/v2/networks/santander-cycles-mk-milton-keynes",
         "id": "santander-cycles-mk-milton-keynes",
         "location": {
          "city": "Milton Keynes",
          "country": "GB",
          "latitude": 52.0406,
          "longitude": -0.759417
         },
         "name": "Santander Cycles MK"
        },
        {
         "company": [
          "Nextbike GmbH"
         ],
         "href": "/v2/networks/nextbike-hergiswil",
         "id": "nextbike-hergiswil",
         "location": {
          "city": "Hergiswil",
          "country": "CH",
          "latitude": 46.9905,
          "longitude": 8.30829
         },
         "name": "Nextbike"
        },
        {
         "company": [
          "Nextbike GmbH"
         ],
         "href": "/v2/networks/grad-makarska-makarska",
         "id": "grad-makarska-makarska",
         "location": {
          "city": "Makarska",
          "country": "HR",
          "latitude": 43.2992,
          "longitude": 17.0184
         },
         "name": "Grad Makarska"
        },
        {
         "company": [
          "Nextbike GmbH"
         ],
         "href": "/v2/networks/opcina-brinje-brinje",
         "id": "opcina-brinje-brinje",
         "location": {
          "city": "Brinje",
          "country": "HR",
          "latitude": 44.9977,
          "longitude": 15.1258
         },
         "name": "Općina Brinje"
        },
        {
         "company": [
          "Nextbike GmbH"
         ],
         "href": "/v2/networks/grad-zadar-zadar",
         "id": "grad-zadar-zadar",
         "location": {
          "city": "Zadar",
          "country": "HR",
          "latitude": 44.0058,
          "longitude": 15.2183
         },
         "name": "Grad Zadar"
        },
        {
         "company": [
          "Nextbike GmbH"
         ],
         "href": "/v2/networks/vrn-bensheim",
         "id": "vrn-bensheim",
         "location": {
          "city": "Bensheim",
          "country": "DE",
          "latitude": 49.6803,
          "longitude": 8.6189
         },
         "name": "VRN"
        },
        {
         "company": [
          "Nextbike GmbH"
         ],
         "href": "/v2/networks/grad-ivanic-grad-ivanic-grad",
         "id": "grad-ivanic-grad-ivanic-grad",
         "location": {
          "city": "Ivanic Grad",
          "country": "HR",
          "latitude": 45.7062,
          "longitude": 16.3919
         },
         "name": "Grad Ivanić-Grad"
        },
        {
         "company": [
          "Nextbike GmbH"
         ],
         "href": "/v2/networks/bike-s-srm-szczecin",
         "id": "bike-s-srm-szczecin",
         "location": {
          "city": "Szczecin",
          "country": "PL",
          "latitude": 53.4301,
          "longitude": 14.5498
         },
         "name": "Bike_S SRM"
        },
        {
         "company": [
          "Nextbike GmbH"
         ],
         "href": "/v2/networks/nextbike-sarajevo",
         "id": "nextbike-sarajevo",
         "location": {
          "city": "Sarajevo",
          "country": "BA",
          "latitude": 43.85,
          "longitude": 18.39
         },
         "name": "Nextbike"
        },
        {
         "company": [
          "Nextbike GmbH"
         ],
         "href": "/v2/networks/co-bikes-exeter",
         "id": "co-bikes-exeter",
         "location": {
          "city": "Exeter",
          "country": "GB",
          "latitude": 50.7272,
          "longitude": -3.53605
         },
         "name": "Co-bikes"
        },
        {
         "company": [
          "Nextbike GmbH"
         ],
         "href": "/v2/networks/nextbike-auckland-waterfront",
         "id": "nextbike-auckland-waterfront",
         "location": {
          "city": "Auckland Waterfront",
          "country": "NZ",
          "latitude": -36.841,
          "longitude": 174.763
         },
         "name": "Nextbike"
        },
        {
         "company": [
          "Nextbike GmbH"
         ],
         "href": "/v2/networks/nextbike-berlin",
         "id": "nextbike-berlin",
         "location": {
          "city": "Berlin",
          "country": "DE",
          "latitude": 52.5087,
          "longitude": 13.3563
         },
         "name": "Nextbike"
        },
        {
         "company": [
          "Nextbike GmbH"
         ],
         "href": "/v2/networks/veturilo-stacje-sponsorskie-nextbike-veturilo",
         "id": "veturilo-stacje-sponsorskie-nextbike-veturilo",
         "location": {
          "city": "Warszawa",
          "country": "PL",
          "latitude": 52.2265,
          "longitude": 21.0127
         },
         "name": "Stacje Sponsorskie Nextbike Veturilo"
        },
        {
         "company": [
          "Nextbike GmbH"
         ],
         "href": "/v2/networks/bike4all-byblos",
         "id": "bike4all-byblos",
         "location": {
          "city": "Byblos",
          "country": "LB",
          "latitude": 34.1236,
          "longitude": 35.6511
         },
         "name": "bike4all"
        },
        {
         "company": [
          "Nextbike GmbH"
         ],
         "href": "/v2/networks/chartered-bike-bhopal-bhopal",
         "id": "chartered-bike-bhopal-bhopal",
         "location": {
          "city": "Bhopal",
          "country": "IN",
          "latitude": 23.2467,
          "longitude": 77.411
         },
         "name": "Chartered Bike"
        },
        {
         "company": [
          "Nextbike GmbH"
         ],
         "href": "/v2/networks/wk-bike-bremen-bremen",
         "id": "wk-bike-bremen-bremen",
         "location": {
          "city": "Bremen",
          "country": "DE",
          "latitude": 53.0781,
          "longitude": 8.80132
         },
         "name": "WK-Bike"
        },
        {
         "company": [
          "Nextbike GmbH"
         ],
         "href": "/v2/networks/vrn-worms",
         "id": "vrn-worms",
         "location": {
          "city": "Worms",
          "country": "DE",
          "latitude": 49.6394,
          "longitude": 8.34618
         },
         "name": "VRN"
        },
        {
         "company": [
          "Nextbike GmbH"
         ],
         "href": "/v2/networks/nextbike-stans",
         "id": "nextbike-stans",
         "location": {
          "city": "Stans",
          "country": "CH",
          "latitude": 46.9593,
          "longitude": 8.36836
         },
         "name": "Nextbike"
        },
        {
         "company": [
          "Nextbike GmbH"
         ],
         "href": "/v2/networks/nextbike-stansstad",
         "id": "nextbike-stansstad",
         "location": {
          "city": "Stansstad",
          "country": "CH",
          "latitude": 46.9801,
          "longitude": 8.34098
         },
         "name": "Nextbike"
        },
        {
         "company": [
          "Nextbike GmbH"
         ],
         "href": "/v2/networks/nextbike-horw",
         "id": "nextbike-horw",
         "location": {
          "city": "Horw",
          "country": "CH",
          "latitude": 47.0188,
          "longitude": 8.30828
         },
         "name": "Nextbike"
        },
        {
         "company": [
          "Nextbike GmbH"
         ],
         "href": "/v2/networks/vrn-burstadt",
         "id": "vrn-burstadt",
         "location": {
          "city": "Bürstadt",
          "country": "DE",
          "latitude": 49.6461,
          "longitude": 8.44917
         },
         "name": "VRN"
        },
        {
         "company": [
          "Nextbike GmbH"
         ],
         "href": "/v2/networks/prm-stacje-sponsorskie-nextbike-prm",
         "id": "prm-stacje-sponsorskie-nextbike-prm",
         "location": {
          "city": "Poznań",
          "country": "PL",
          "latitude": 52.4077,
          "longitude": 16.9323
         },
         "name": "Stacje Sponsorskie Nextbike PRM"
        },
        {
         "company": [
          "Nextbike GmbH"
         ],
         "href": "/v2/networks/nextbike-gross-enzersdorf",
         "id": "nextbike-gross-enzersdorf",
         "location": {
          "city": "Groß Enzersdorf",
          "country": "AT",
          "latitude": 48.1986,
          "longitude": 16.5496
         },
         "name": "Nextbike"
        },
        {
         "company": [
          "Nextbike GmbH"
         ],
         "href": "/v2/networks/nextbike-klagenfurt",
         "id": "nextbike-klagenfurt",
         "location": {
          "city": "Klagenfurt",
          "country": "AT",
          "latitude": 46.6335,
          "longitude": 14.3085
         },
         "name": "Nextbike"
        },
        {
         "company": [
          "Nextbike GmbH"
         ],
         "href": "/v2/networks/vrn-kaiserslautern",
         "id": "vrn-kaiserslautern",
         "location": {
          "city": "Kaiserslautern",
          "country": "DE",
          "latitude": 49.4413,
          "longitude": 7.75566
         },
         "name": "VRN"
        },
        {
         "company": [
          "Nextbike GmbH"
         ],
         "href": "/v2/networks/sitycleta-las-palmas-las-palmas-de-gran-canaria",
         "id": "sitycleta-las-palmas-las-palmas-de-gran-canaria",
         "location": {
          "city": "Las Palmas de Gran Canaria",
          "country": "ES",
          "latitude": 28.1236,
          "longitude": -15.4366
         },
         "name": "Sitycleta"
        },
        {
         "company": [
          "Nextbike GmbH"
         ],
         "href": "/v2/networks/grad-velika-gorica-velika-gorica",
         "id": "grad-velika-gorica-velika-gorica",
         "location": {
          "city": "Velika Gorica",
          "country": "HR",
          "latitude": 45.7161,
          "longitude": 16.0683
         },
         "name": "Grad Velika Gorica"
        },
        {
         "company": [
          "Nextbike GmbH"
         ],
         "href": "/v2/networks/grad-sisak-sisak",
         "id": "grad-sisak-sisak",
         "location": {
          "city": "Sisak",
          "country": "HR",
          "latitude": 45.4875,
          "longitude": 16.3753
         },
         "name": "Grad Sisak"
        },
        {
         "company": [
          "Nextbike GmbH"
         ],
         "href": "/v2/networks/kolobrzeski-rower-miejski-kolobrzeg",
         "id": "kolobrzeski-rower-miejski-kolobrzeg",
         "location": {
          "city": "Kołobrzeg",
          "country": "PL",
          "latitude": 54.1762,
          "longitude": 15.5761
         },
         "name": "Kołobrzeski Rower Miejski"
        },
        {
         "company": [
          "Nextbike GmbH"
         ],
         "href": "/v2/networks/grad-metkovic-metkovic",
         "id": "grad-metkovic-metkovic",
         "location": {
          "city": "Metković",
          "country": "HR",
          "latitude": 43.0654,
          "longitude": 17.642
         },
         "name": "Grad Metković"
        },
        {
         "company": [
          "Nextbike GmbH"
         ],
         "href": "/v2/networks/jastrebarsko-jastrebarsko",
         "id": "jastrebarsko-jastrebarsko",
         "location": {
          "city": "Jastrebarsko",
          "country": "HR",
          "latitude": 45.6692,
          "longitude": 15.6541
         },
         "name": "Nextbike"
        },
        {
         "company": [
          "Nextbike GmbH"
         ],
         "href": "/v2/networks/grad-drnis-drnis",
         "id": "grad-drnis-drnis",
         "location": {
          "city": "Drniš",
          "country": "HR",
          "latitude": 43.8425,
          "longitude": 16.1197
         },
         "name": "Nextbike"
        },
        {
         "company": [
          "Nextbike GmbH"
         ],
         "href": "/v2/networks/nextbike-tuzla",
         "id": "nextbike-tuzla",
         "location": {
          "city": "Tuzla",
          "country": "BA",
          "latitude": 44.5392,
          "longitude": 18.675
         },
         "name": "Nextbike"
        },
        {
         "company": [
          "Nextbike GmbH"
         ],
         "href": "/v2/networks/arriva-nitra",
         "id": "arriva-nitra",
         "location": {
          "city": "Nitra",
          "country": "SK",
          "latitude": 48.3088,
          "longitude": 18.0783
         },
         "name": "Arriva"
        },
        {
         "company": [
          "Nextbike GmbH"
         ],
         "href": "/v2/networks/nextbike-marburg",
         "id": "nextbike-marburg",
         "location": {
          "city": "Marburg",
          "country": "DE",
          "latitude": 50.8019,
          "longitude": 8.76444
         },
         "name": "Nextbike"
        },
        {
         "company": [
          "Nextbike GmbH"
         ],
         "href": "/v2/networks/bubi",
         "id": "bubi",
         "location": {
          "city": "Budapest",
          "country": "HU",
          "latitude": 47.497912,
          "longitude": 19.040235
         },
         "name": "MOL Bubi"
        },
        {
         "company": [
          "Nextbike GmbH"
         ],
         "href": "/v2/networks/nextbike-russelsheim-am-main",
         "id": "nextbike-russelsheim-am-main",
         "location": {
          "city": "Rüsselsheim am Main",
          "country": "DE",
          "latitude": 49.9881,
          "longitude": 8.42142
         },
         "name": "Nextbike"
        },
        {
         "company": [
          "Nextbike GmbH"
         ],
         "href": "/v2/networks/rower-miejski-szamotuly-rms-szamotuly",
         "id": "rower-miejski-szamotuly-rms-szamotuly",
         "location": {
          "city": "Szamotuły",
          "country": "PL",
          "latitude": 52.6112,
          "longitude": 16.5819
         },
         "name": "Rower Miejski Szamotuły"
        },
        {
         "company": [
          "Nextbike GmbH"
         ],
         "href": "/v2/networks/nextbike-dordrecht",
         "id": "nextbike-dordrecht",
         "location": {
          "city": "Dordrecht",
          "country": "NL",
          "latitude": 51.7833,
          "longitude": 4.69391
         },
         "name": "Nextbike"
        },
        {
         "company": [
          "Nextbike GmbH"
         ],
         "href": "/v2/networks/vrn-heppenheim",
         "id": "vrn-heppenheim",
         "location": {
          "city": "Heppenheim",
          "country": "DE",
          "latitude": 49.6431,
          "longitude": 8.63889
         },
         "name": "VRN"
        },
        {
         "company": [
          "Nextbike GmbH"
         ],
         "href": "/v2/networks/piaseczynski-rower-miejski-piaseczno",
         "id": "piaseczynski-rower-miejski-piaseczno",
         "location": {
          "city": "Piaseczno",
          "country": "PL",
          "latitude": 52.0733,
          "longitude": 21.0269
         },
         "name": "Piaseczyński Rower Miejski"
        },
        {
         "company": [
          "Nextbike GmbH"
         ],
         "href": "/v2/networks/nextbike-kassel",
         "id": "nextbike-kassel",
         "location": {
          "city": "Kassel",
          "country": "DE",
          "latitude": 51.3127,
          "longitude": 9.47975
         },
         "name": "Nextbike"
        },
        {
         "company": [
          "Nextbike GmbH"
         ],
         "href": "/v2/networks/nextbike-sarnen",
         "id": "nextbike-sarnen",
         "location": {
          "city": "Sarnen",
          "country": "CH",
          "latitude": 46.8963,
          "longitude": 8.24614
         },
         "name": "Nextbike"
        },
        {
         "company": [
          "Nextbike GmbH"
         ],
         "href": "/v2/networks/nextbike-wolfenschiessen",
         "id": "nextbike-wolfenschiessen",
         "location": {
          "city": "Wolfenschiessen",
          "country": "CH",
          "latitude": 46.9079,
          "longitude": 8.39767
         },
         "name": "Nextbike"
        },
        {
         "company": [
          "Nextbike GmbH"
         ],
         "href": "/v2/networks/nextbike-oberdorf",
         "id": "nextbike-oberdorf",
         "location": {
          "city": "Oberdorf",
          "country": "CH",
          "latitude": 46.9563,
          "longitude": 8.3884
         },
         "name": "Nextbike"
        },
        {
         "company": [
          "Nextbike GmbH"
         ],
         "href": "/v2/networks/nextbike-giessen",
         "id": "nextbike-giessen",
         "location": {
          "city": "Gießen",
          "country": "DE",
          "latitude": 50.5943,
          "longitude": 8.68097
         },
         "name": "Nextbike"
        },
        {
         "company": [
          "Nextbike GmbH"
         ],
         "href": "/v2/networks/vrn-weinheim",
         "id": "vrn-weinheim",
         "location": {
          "city": "Weinheim",
          "country": "DE",
          "latitude": 49.545,
          "longitude": 8.66027
         },
         "name": "VRN"
        },
        {
         "company": [
          "Nextbike GmbH"
         ],
         "href": "/v2/networks/nextbike-cardiff",
         "id": "nextbike-cardiff",
         "location": {
          "city": "Cardiff",
          "country": "GB",
          "latitude": 51.4848,
          "longitude": -3.19062
         },
         "name": "Nextbike"
        },
        {
         "company": [
          "Nextbike GmbH"
         ],
         "href": "/v2/networks/vrn-hockenheim",
         "id": "vrn-hockenheim",
         "location": {
          "city": "Hockenheim",
          "country": "DE",
          "latitude": 49.3227,
          "longitude": 8.54258
         },
         "name": "VRN"
        },
        {
         "company": [
          "Nextbike GmbH"
         ],
         "href": "/v2/networks/vrn-schwetzingen",
         "id": "vrn-schwetzingen",
         "location": {
          "city": "Schwetzingen",
          "country": "DE",
          "latitude": 49.3863,
          "longitude": 8.5756
         },
         "name": "VRN"
        },
        {
         "company": [
          "Nextbike GmbH"
         ],
         "href": "/v2/networks/nextbike-ennetmoos",
         "id": "nextbike-ennetmoos",
         "location": {
          "city": "Ennetmoos",
          "country": "CH",
          "latitude": 46.9573,
          "longitude": 8.3377
         },
         "name": "Nextbike"
        },
        {
         "company": [
          "Nextbike GmbH"
         ],
         "href": "/v2/networks/vrn-eppelheim",
         "id": "vrn-eppelheim",
         "location": {
          "city": "Eppelheim",
          "country": "DE",
          "latitude": 49.4025,
          "longitude": 8.6331
         },
         "name": "VRN"
        },
        {
         "company": [
          "Nextbike GmbH"
         ],
         "href": "/v2/networks/nextbike-university-of-surrey",
         "id": "nextbike-university-of-surrey",
         "location": {
          "city": "Surrey",
          "country": "GB",
          "latitude": 51.2422,
          "longitude": -0.590594
         },
         "name": "Nextbike"
        },
        {
         "company": [
          "Nextbike GmbH"
         ],
         "href": "/v2/networks/santander-cycles-swansea-swansea-university",
         "id": "santander-cycles-swansea-swansea-university",
         "location": {
          "city": "Swansea",
          "country": "GB",
          "latitude": 51.6106,
          "longitude": -3.9764
         },
         "name": "Santander Cycles"
        },
        {
         "company": [
          "Nextbike GmbH"
         ],
         "href": "/v2/networks/nextbike-erfurt",
         "id": "nextbike-erfurt",
         "location": {
          "city": "Erfurt",
          "country": "DE",
          "latitude": 50.9785,
          "longitude": 11.0334
         },
         "name": "Nextbike"
        },
        {
         "company": [
          "Nextbike GmbH"
         ],
         "href": "/v2/networks/bl-bike-banja-luka",
         "id": "bl-bike-banja-luka",
         "location": {
          "city": "Banja Luka",
          "country": "BA",
          "latitude": 44.775,
          "longitude": 17.1994
         },
         "name": "BL bike"
        },
        {
         "company": [
          "Nextbike GmbH"
         ],
         "href": "/v2/networks/lahr-pedelecs-lahr",
         "id": "lahr-pedelecs-lahr",
         "location": {
          "city": "Lahr",
          "country": "DE",
          "latitude": 48.3396,
          "longitude": 7.87376
         },
         "name": "Nextbike"
        },
        {
         "company": [
          "Nextbike GmbH"
         ],
         "href": "/v2/networks/berlin-buch-campus-berlin-buch",
         "id": "berlin-buch-campus-berlin-buch",
         "location": {
          "city": "Berlin",
          "country": "DE",
          "latitude": 52.6364,
          "longitude": 13.5029
         },
         "name": "Berlin-Buch Campus"
        },
        {
         "company": [
          "Nextbike GmbH"
         ],
         "href": "/v2/networks/lviv-odessa",
         "id": "lviv-odessa",
         "location": {
          "city": "Odessa",
          "country": "UA",
          "latitude": 46.463,
          "longitude": 30.7042
         },
         "name": "Nextbike"
        },
        {
         "company": [
          "Nextbike GmbH"
         ],
         "href": "/v2/networks/zielonogorski-rower-miejski-zielona-gora",
         "id": "zielonogorski-rower-miejski-zielona-gora",
         "location": {
          "city": "Zielona Góra",
          "country": "PL",
          "latitude": 51.9381,
          "longitude": 15.5048
         },
         "name": "Zielonogórski Rower Miejski"
        },
        {
         "company": [
          "Nextbike GmbH"
         ],
         "href": "/v2/networks/santander-monchengladbach",
         "id": "santander-monchengladbach",
         "location": {
          "city": "Mönchengladbach",
          "country": "DE",
          "latitude": 51.1817,
          "longitude": 6.43578
         },
         "name": "Santander Mönchengladbach"
        },
        {
         "company": [
          "Nextbike GmbH"
         ],
         "href": "/v2/networks/nomagobikes-celje",
         "id": "nomagobikes-celje",
         "location": {
          "city": "Celje",
          "country": "SI",
          "latitude": 46.2388,
          "longitude": 15.2693
         },
         "name": "NomagoBikes"
        },
        {
         "company": [
          "Nextbike GmbH"
         ],
         "href": "/v2/networks/bilbon-bizi",
         "id": "bilbon-bizi",
         "location": {
          "city": "Bilbao",
          "country": "ES",
          "latitude": 43.2752,
          "longitude": -2.93528
         },
         "name": "BilbonBizi"
        },
        {
         "company": [
          "Nextbike GmbH"
         ],
         "href": "/v2/networks/nomagobikes-lasko",
         "id": "nomagobikes-lasko",
         "location": {
          "city": "Laško",
          "country": "SI",
          "latitude": 46.1458,
          "longitude": 15.2312
         },
         "name": "NomagoBikes"
        },
        {
         "company": [
          "Nextbike GmbH"
         ],
         "href": "/v2/networks/nextbike-lippstadt",
         "id": "nextbike-lippstadt",
         "location": {
          "city": "Lippstadt",
          "country": "DE",
          "latitude": 51.6755,
          "longitude": 8.34394
         },
         "name": "Nextbike"
        },
        {
         "company": [
          "Nextbike GmbH"
         ],
         "href": "/v2/networks/bikekia-zilina",
         "id": "bikekia-zilina",
         "location": {
          "city": "Žilina",
          "country": "SK",
          "latitude": 49.2217,
          "longitude": 18.7572
         },
         "name": "BikeKia"
        },
        {
         "company": [
          "Nextbike GmbH"
         ],
         "href": "/v2/networks/koninski-rower-miejski-konin",
         "id": "koninski-rower-miejski-konin",
         "location": {
          "city": "Konin",
          "country": "PL",
          "latitude": 52.2284,
          "longitude": 18.2553
         },
         "name": "Koniński Rower Miejski"
        },
        {
         "company": [
          "Nextbike GmbH"
         ],
         "href": "/v2/networks/nextbike-vinnytsia",
         "id": "nextbike-vinnytsia",
         "location": {
          "city": "Vinnytsia",
          "country": "UA",
          "latitude": 49.2328,
          "longitude": 28.4625
         },
         "name": "Nextbike"
        },
        {
         "company": [
          "Nextbike GmbH"
         ],
         "href": "/v2/networks/nextbike-bonn",
         "id": "nextbike-bonn",
         "location": {
          "city": "Bonn",
          "country": "DE",
          "latitude": 50.7367,
          "longitude": 7.09541
         },
         "name": "Nextbike"
        },
        {
         "company": [
          "Nextbike GmbH"
         ],
         "href": "/v2/networks/tarnowski-rower-miejski-tarnow",
         "id": "tarnowski-rower-miejski-tarnow",
         "location": {
          "city": "Tarnów",
          "country": "PL",
          "latitude": 50.0113,
          "longitude": 20.9728
         },
         "name": "Tarnowski Rower Miejski"
        },
        {
         "company": [
          "Nextbike GmbH"
         ],
         "href": "/v2/networks/kolo-marek-marki",
         "id": "kolo-marek-marki",
         "location": {
          "city": "Marki",
          "country": "PL",
          "latitude": 52.3256,
          "longitude": 21.1089
         },
         "name": "Koło Marek"
        },
        {
         "company": [
          "Nextbike GmbH"
         ],
         "href": "/v2/networks/rowerowe-lodzkie-rl-koluszki",
         "id": "rowerowe-lodzkie-rl-koluszki",
         "location": {
          "city": "Koluszki",
          "country": "PL",
          "latitude": 51.7401,
          "longitude": 19.835
         },
         "name": "Rowerowe Łódzkie"
        },
        {
         "company": [
          "Nextbike GmbH"
         ],
         "href": "/v2/networks/rowerowe-lodzkie-rl-lask",
         "id": "rowerowe-lodzkie-rl-lask",
         "location": {
          "city": "Łask",
          "country": "PL",
          "latitude": 51.5893,
          "longitude": 19.142
         },
         "name": "Rowerowe Łódzkie"
        },
        {
         "company": [
          "Nextbike GmbH"
         ],
         "href": "/v2/networks/rowerowe-lodzkie-rl-lowicz",
         "id": "rowerowe-lodzkie-rl-lowicz",
         "location": {
          "city": "Łowicz",
          "country": "PL",
          "latitude": 52.1057,
          "longitude": 19.9381
         },
         "name": "Rowerowe Łódzkie"
        },
        {
         "company": [
          "Nextbike GmbH"
         ],
         "href": "/v2/networks/rowerowe-lodzkie-rl-pabianice",
         "id": "rowerowe-lodzkie-rl-pabianice",
         "location": {
          "city": "Pabianice",
          "country": "PL",
          "latitude": 51.6651,
          "longitude": 19.3548
         },
         "name": "Rowerowe Łódzkie"
        },
        {
         "company": [
          "Nextbike GmbH"
         ],
         "href": "/v2/networks/rowerowe-lodzkie-rl-sieradz",
         "id": "rowerowe-lodzkie-rl-sieradz",
         "location": {
          "city": "Sieradz",
          "country": "PL",
          "latitude": 51.5902,
          "longitude": 18.7382
         },
         "name": "Rowerowe Łódzkie"
        },
        {
         "company": [
          "Nextbike GmbH"
         ],
         "href": "/v2/networks/rowerowe-lodzkie-rl-skierniewice",
         "id": "rowerowe-lodzkie-rl-skierniewice",
         "location": {
          "city": "Skierniewice",
          "country": "PL",
          "latitude": 51.9539,
          "longitude": 20.1469
         },
         "name": "Rowerowe Łódzkie"
        },
        {
         "company": [
          "Nextbike GmbH"
         ],
         "href": "/v2/networks/rowerowe-lodzkie-rl-zdunska-wola",
         "id": "rowerowe-lodzkie-rl-zdunska-wola",
         "location": {
          "city": "Zduńska Wola",
          "country": "PL",
          "latitude": 51.6011,
          "longitude": 18.938
         },
         "name": "Rowerowe Łódzkie"
        },
        {
         "company": [
          "Nextbike GmbH"
         ],
         "href": "/v2/networks/rowerowe-lodzkie-rl-zgierz",
         "id": "rowerowe-lodzkie-rl-zgierz",
         "location": {
          "city": "Zgierz",
          "country": "PL",
          "latitude": 51.8551,
          "longitude": 19.4068
         },
         "name": "Rowerowe Łódzkie"
        },
        {
         "company": [
          "Nextbike GmbH"
         ],
         "href": "/v2/networks/rowerowe-lodzkie-rl-kutno",
         "id": "rowerowe-lodzkie-rl-kutno",
         "location": {
          "city": "Kutno",
          "country": "PL",
          "latitude": 52.2317,
          "longitude": 19.3564
         },
         "name": "Rowerowe Łódzkie"
        },
        {
         "company": [
          "Nextbike GmbH"
         ],
         "href": "/v2/networks/rowerowe-lodzkie-rl-lodz-rl",
         "id": "rowerowe-lodzkie-rl-lodz-rl",
         "location": {
          "city": "Łódź",
          "country": "PL",
          "latitude": 51.7674,
          "longitude": 19.4575
         },
         "name": "Rowerowe Łódzkie"
        },
        {
         "company": [
          "Nextbike GmbH"
         ],
         "href": "/v2/networks/frelo-freiburg",
         "id": "frelo-freiburg",
         "location": {
          "city": "Freiburg",
          "country": "DE",
          "latitude": 47.9958,
          "longitude": 7.84453
         },
         "name": "Frelo"
        },
        {
         "company": [
          "Comunicare S.r.l."
         ],
         "href": "/v2/networks/bicincitta-trieste",
         "id": "bicincitta-trieste",
         "location": {
          "city": "Trieste",
          "country": "IT",
          "latitude": 45.6495,
          "longitude": 13.7768
         },
         "name": "BiTS",
         "source": "https://www.bicincitta.com/frmLeStazioni.aspx?ID=266"
        },
        {
         "company": [
          "Nextbike GmbH"
         ],
         "href": "/v2/networks/mobibike-dresden",
         "id": "mobibike-dresden",
         "location": {
          "city": "Dresden",
          "country": "DE",
          "latitude": 51.0535,
          "longitude": 13.7387
         },
         "name": "MOBIbike"
        },
        {
         "company": [
          "ЗАО «СитиБайк»"
         ],
         "href": "/v2/networks/velobike-murmansk",
         "id": "velobike-murmansk",
         "location": {
          "city": "Murmansk",
          "country": "RU",
          "latitude": 68.968,
          "longitude": 33.074
         },
         "name": "Velobike"
        },
        {
         "company": [
          "ЗАО «СитиБайк»"
         ],
         "href": "/v2/networks/velobike-nizhniy-novgorod",
         "id": "velobike-nizhniy-novgorod",
         "location": {
          "city": "Nizhniy Novgorod",
          "country": "RU",
          "latitude": 56.194,
          "longitude": 44.003
         },
         "name": "Velobike"
        },
        {
         "company": [
          "Nextbike GmbH"
         ],
         "href": "/v2/networks/nextbike-ivano-frankivsk",
         "id": "nextbike-ivano-frankivsk",
         "location": {
          "city": "Ivano Frankivsk",
          "country": "UA",
          "latitude": 48.9281,
          "longitude": 24.7103
         },
         "name": "Nextbike"
        },
        {
         "company": [
          "Velobike.kz, LLP",
          "Smoove"
         ],
         "href": "/v2/networks/almatybike",
         "id": "almatybike",
         "location": {
          "city": "Almaty",
          "country": "KZ",
          "latitude": 43.239101,
          "longitude": 76.9268076
         },
         "name": "Almatybike"
        },
        {
         "company": [
          "Velobike.kz, LLP",
          "Smoove"
         ],
         "href": "/v2/networks/shymkentbike",
         "id": "shymkentbike",
         "location": {
          "city": "Shymkent",
          "country": "KZ",
          "latitude": 42.3184,
          "longitude": 69.5978
         },
         "name": "Shymkentbike"
        },
        {
         "company": [
          "Motivate LLC"
         ],
         "gbfs_href": "https://gbfs.baywheels.com/gbfs/gbfs.json",
         "href": "/v2/networks/bay-wheels",
         "id": "bay-wheels",
         "location": {
          "city": "San Francisco Bay Area, CA",
          "country": "US",
          "latitude": 37.7141454,
          "longitude": -122.25
         },
         "name": "Bay Wheels"
        },
        {
         "company": [
          "Smoove"
         ],
         "gbfs_href": "https://vannes-gbfs.klervi.net/gbfs/gbfs.json",
         "href": "/v2/networks/veloceo",
         "id": "veloceo",
         "location": {
          "city": "Vannes",
          "country": "FR",
          "latitude": 47.6559,
          "longitude": -2.7603
         },
         "name": "Vélocéo"
        },
        {
         "company": [
          "PBSC Urban Solutions"
         ],
         "gbfs_href": "https://monaco.publicbikesystem.net/customer/ube/gbfs/v1/",
         "href": "/v2/networks/monabike",
         "id": "monabike",
         "location": {
          "city": "Monaco",
          "country": "MC",
          "latitude": 43.733333,
          "longitude": 7.416667
         },
         "name": "MonaBike"
        },
        {
         "company": [
          "Ecovelo"
         ],
         "ebikes": true,
         "gbfs_href": "https://api.gbfs.v1.ecovelo.mobi/gbfs/tlpmobilites",
         "href": "/v2/networks/tlp-velo",
         "id": "tlp-velo",
         "location": {
          "city": "Tarbes, Lourdes",
          "country": "FR",
          "latitude": 43.23,
          "longitude": 0.07
         },
         "name": "Tarbes et Lourdes vls"
        },
        {
         "company": [
          "Ecovelo"
         ],
         "ebikes": true,
         "gbfs_href": "https://api.gbfs.v1.ecovelo.mobi/gbfs/zebullo",
         "href": "/v2/networks/zebullo",
         "id": "zebullo",
         "location": {
          "city": "Reims",
          "country": "FR",
          "latitude": 49.2628,
          "longitude": 4.0347
         },
         "name": "ZébullO"
        },
        {
         "company": [
          "Ecovelo"
         ],
         "ebikes": true,
         "gbfs_href": "https://api.gbfs.v1.ecovelo.mobi/gbfs/calais",
         "href": "/v2/networks/velectin",
         "id": "velectin",
         "location": {
          "city": "Calais",
          "country": "FR",
          "latitude": 50.948056,
          "longitude": 1.856389
         },
         "name": "Velect’in"
        },
        {
         "company": [
          "Ecovelo"
         ],
         "gbfs_href": "https://api.gbfs.v1.ecovelo.mobi/gbfs/beb",
         "href": "/v2/networks/rubis-velo",
         "id": "rubis-velo",
         "location": {
          "city": "Bourg-en-Bresse",
          "country": "FR",
          "latitude": 46.2056,
          "longitude": 5.2289
         },
         "name": "Rubis'Vélo"
        },
        {
         "company": [
          "Ecovelo"
         ],
         "ebikes": true,
         "gbfs_href": "https://api.gbfs.v1.ecovelo.mobi/gbfs/tanlib",
         "href": "/v2/networks/tanlib",
         "id": "tanlib",
         "location": {
          "city": "Niort",
          "country": "FR",
          "latitude": 46.3258,
          "longitude": -0.4606
         },
         "name": "Vélo tanlib"
        },
        {
         "company": [
          "Ecovelo"
         ],
         "gbfs_href": "https://api.gbfs.v1.ecovelo.mobi/gbfs/marseillan",
         "href": "/v2/networks/marseillan",
         "id": "marseillan",
         "location": {
          "city": "Marseillan",
          "country": "FR",
          "latitude": 43.3572,
          "longitude": 3.5283
         },
         "name": "Marseillan vélo libre-service"
        },
        {
         "company": [
          "Ecovelo"
         ],
         "ebikes": true,
         "gbfs_href": "https://api.gbfs.v1.ecovelo.mobi/gbfs/via",
         "href": "/v2/networks/via-velo",
         "id": "via-velo",
         "location": {
          "city": "Val d'Ille-Aubigné",
          "country": "FR",
          "latitude": 48.2181,
          "longitude": -1.6947
         },
         "name": "VIA Vélo"
        },
        {
         "company": [
          "Ecovelo"
         ],
         "ebikes": true,
         "gbfs_href": "https://api.gbfs.v1.ecovelo.mobi/gbfs/velyceo",
         "href": "/v2/networks/velyceo",
         "id": "velyceo",
         "location": {
          "city": "Saint-Nazaire",
          "country": "FR",
          "latitude": 47.2806,
          "longitude": -2.2086
         },
         "name": "vélYcéo"
        },
        {
         "company": [
          "Ecovelo"
         ],
         "ebikes": true,
         "gbfs_href": "https://api.gbfs.v1.ecovelo.mobi/gbfs/velocite",
         "href": "/v2/networks/velocite-laon",
         "id": "velocite-laon",
         "location": {
          "city": "Laon",
          "country": "FR",
          "latitude": 49.5639,
          "longitude": 3.6244
         },
         "name": "Vélo'Cité"
        },
        {
         "company": [
          "Ecovelo"
         ],
         "ebikes": true,
         "gbfs_href": "https://api.gbfs.v1.ecovelo.mobi/gbfs/labaule",
         "href": "/v2/networks/velo-baulois",
         "id": "velo-baulois",
         "location": {
          "city": "La Baule-Escoublac",
          "country": "FR",
          "latitude": 47.2867,
          "longitude": -2.3908
         },
         "name": "Le Vélo Baulois"
        },
        {
         "company": [
          "Ecovelo"
         ],
         "ebikes": true,
         "gbfs_href": "https://api.gbfs.v1.ecovelo.mobi/gbfs/lemarcel",
         "href": "/v2/networks/le-marcel",
         "id": "le-marcel",
         "location": {
          "city": "Troyes",
          "country": "FR",
          "latitude": 48.2997,
          "longitude": 4.0792
         },
         "name": "Le Marcel"
        },
        {
         "company": [
          "Ecovelo"
         ],
         "ebikes": true,
         "gbfs_href": "https://api.gbfs.v1.ecovelo.mobi/gbfs/tempovelo",
         "href": "/v2/networks/tempo-velo",
         "id": "tempo-velo",
         "location": {
          "city": "Agen",
          "country": "FR",
          "latitude": 44.2049,
          "longitude": 0.6212
         },
         "name": "Tempo Vélo"
        },
        {
         "company": [
          "Ecovelo"
         ],
         "gbfs_href": "https://api.gbfs.v1.ecovelo.mobi/gbfs/semo",
         "href": "/v2/networks/semo",
         "id": "semo",
         "location": {
          "city": "Communauté d'agglomération Seine-Eure",
          "country": "FR",
          "latitude": 49.22,
          "longitude": 1.17
         },
         "name": "semo"
        },
        {
         "company": [
          "Ecovelo"
         ],
         "ebikes": true,
         "gbfs_href": "https://api.gbfs.v1.ecovelo.mobi/gbfs/cyclovis",
         "href": "/v2/networks/cyclovis",
         "id": "cyclovis",
         "location": {
          "city": "Soissons",
          "country": "FR",
          "latitude": 49.3817,
          "longitude": 3.3236
         },
         "name": "Cyclovis"
        },
        {
         "company": [
          "Ecovelo"
         ],
         "ebikes": true,
         "gbfs_href": "https://api.gbfs.v1.ecovelo.mobi/gbfs/chantrerie",
         "href": "/v2/networks/chantrerie-captainbike",
         "id": "chantrerie-captainbike",
         "location": {
          "city": "La Chantrerie, Nantes",
          "country": "FR",
          "latitude": 47.2868203,
          "longitude": -1.5210917
         },
         "name": "Chantrerie VLS (Captain Bike)"
        },
        {
         "company": [
          "Ecovelo"
         ],
         "ebikes": true,
         "gbfs_href": "https://api.gbfs.v1.ecovelo.mobi/gbfs/saclay",
         "href": "/v2/networks/saclay-captainbike",
         "id": "saclay-captainbike",
         "location": {
          "city": "Paris-Saclay",
          "country": "FR",
          "latitude": 48.7098082,
          "longitude": 2.211366
         },
         "name": "Saclay VLS (Captain Bike)"
        },
        {
         "company": [
          "CIGL ESCH"
         ],
         "ebikes": true,
         "href": "/v2/networks/velok",
         "id": "velok",
         "location": {
          "city": "Esch-sur-alzette",
          "country": "LU",
          "latitude": 49.5024,
          "longitude": 5.9722
         },
         "name": "Vël'Ok",
         "source": "https://docs.api.tfl.lu/v1/en/RESTAPIs/BikePoint/"
        },
        {
         "company": [
          "Nextbike GmbH"
         ],
         "href": "/v2/networks/wienmobil-rad",
         "id": "wienmobil-rad",
         "location": {
          "city": "Wien",
          "country": "AT",
          "latitude": 48.2081743,
          "longitude": 16.3738189
         },
         "name": "WienMobil Rad"
        },
        {
         "company": null,
         "gbfs_href": "https://gbfs.urbansharing.com/bikeverona.it/gbfs.json",
         "href": "/v2/networks/bikeverona",
         "id": "bikeverona",
         "location": {
          "city": "Verona",
          "country": "IT",
          "latitude": 45.438611,
          "longitude": 10.992778
         },
         "name": "Verona Bike"
        },
        {
         "company": [
          "Nextbike GmbH"
         ],
         "href": "/v2/networks/sprottenflotte-kiel",
         "id": "sprottenflotte-kiel",
         "location": {
          "city": "Kiel",
          "country": "DE",
          "latitude": 54.2837,
          "longitude": 10.13213
         },
         "name": "Sprottenflotte"
        },
        {
         "company": [
          "TaM",
          "Smoove"
         ],
         "gbfs_href": "https://montpellier-fr-smoove.klervi.net/gbfs/gbfs.json",
         "href": "/v2/networks/velomagg",
         "id": "velomagg",
         "location": {
          "city": "Montpellier",
          "country": "FR",
          "latitude": 43.6119,
          "longitude": 3.8772
         },
         "name": "Vélomagg"
        },
        {
         "company": [
          "Bcycle, LLC",
          "RTC Southern Nevada, Inc"
         ],
         "gbfs_href": "https://gbfs.bcycle.com/bcycle_rtcbikeshare/gbfs.json",
         "href": "/v2/networks/rtc-bike-share",
         "id": "rtc-bike-share",
         "location": {
          "city": "Las Vegas, NV",
          "country": "US",
          "latitude": 36.1438,
          "longitude": -115.15682
         },
         "name": "RTC Bike Share"
        },
        {
         "company": [
          "Bcycle, LLC",
          "Embark, Inc"
         ],
         "gbfs_href": "https://gbfs.bcycle.com/bcycle_spokies/gbfs.json",
         "href": "/v2/networks/spokies",
         "id": "spokies",
         "location": {
          "city": "Oklahoma, OK",
          "country": "US",
          "latitude": 35.46436,
          "longitude": -97.50888
         },
         "name": "Spokies BCycle"
        },
        {
         "company": [
          "Leonbici Nextbike Gmbh Y Autobuses Urbanos De Leon S.a. Ute"
         ],
         "href": "/v2/networks/alsa-nextbike-leon",
         "id": "alsa-nextbike-leon",
         "location": {
          "city": "León",
          "country": "ES",
          "latitude": 42.5987263,
          "longitude": -5.5670959
         },
         "name": "Alsa nextbike León"
        },
        {
         "company": [
          "Strasbourg Mobilités"
         ],
         "gbfs_href": "https://transport.data.gouv.fr/gbfs/strasbourg/gbfs.json",
         "href": "/v2/networks/velhop",
         "id": "velhop",
         "location": {
          "city": "Strasbourg",
          "country": "FR",
          "latitude": 48.583611,
          "longitude": 7.748056
         },
         "name": "Vélhop"
        },
        {
         "company": null,
         "gbfs_href": "https://belfort-gbfs.klervi.net/gbfs/gbfs.json",
         "href": "/v2/networks/optymo",
         "id": "optymo",
         "location": {
          "city": "Belfort",
          "country": "FR",
          "latitude": 47.641111,
          "longitude": 6.849444
         },
         "name": "Optymo"
        },
        {
         "company": [
          "Nextbike GmbH"
         ],
         "href": "/v2/networks/biker-bialystok",
         "id": "biker-bialystok",
         "location": {
          "city": "Białystok",
          "country": "PL",
          "latitude": 53.1262,
          "longitude": 23.1427
         },
         "name": "BIKER Białystok Poland"
        },
        {
         "company": [
          "Nextbike GmbH"
         ],
         "href": "/v2/networks/nextbike-prostejov",
         "id": "nextbike-prostejov",
         "location": {
          "city": "Prostejov",
          "country": "CZ",
          "latitude": 49.4722,
          "longitude": 17.1055
         },
         "name": "nextbike Prostejov"
        },
        {
         "company": [
          "Nextbike GmbH"
         ],
         "href": "/v2/networks/bike-katowice",
         "id": "bike-katowice",
         "location": {
          "city": "Katowice",
          "country": "PL",
          "latitude": 50.2594,
          "longitude": 19.0215
         },
         "name": "Katowice Bike Poland"
        },
        {
         "company": [
          "Nextbike GmbH"
         ],
         "href": "/v2/networks/nextbike-focsani",
         "id": "nextbike-focsani",
         "location": {
          "city": "Focșani",
          "country": "RO",
          "latitude": 45.6947,
          "longitude": 27.1851
         },
         "name": "nextbike Romania"
        },
        {
         "company": [
          "Nextbike GmbH"
         ],
         "href": "/v2/networks/grad-vukovar",
         "id": "grad-vukovar",
         "location": {
          "city": "Vukovar",
          "country": "HR",
          "latitude": 45.3575,
          "longitude": 18.9895
         },
         "name": "Grad Vukovar (Croatia)"
        },
        {
         "company": [
          "Nextbike GmbH"
         ],
         "href": "/v2/networks/system-rowerow-miejskich-w-pszczynie-pszczyna",
         "id": "system-rowerow-miejskich-w-pszczynie-pszczyna",
         "location": {
          "city": "Pszczyna",
          "country": "PL",
          "latitude": 49.9757,
          "longitude": 18.9463
         },
         "name": "System Rowerów Miejskich w Pszczynie Poland"
        },
        {
         "company": [
          "Nextbike GmbH"
         ],
         "href": "/v2/networks/tyski-rower-miejski-tychy",
         "id": "tyski-rower-miejski-tychy",
         "location": {
          "city": "Tychy",
          "country": "PL",
          "latitude": 50.1124,
          "longitude": 18.9972
         },
         "name": "Tyski Rower Miejski Poland"
        },
        {
         "company": [
          "Nextbike GmbH"
         ],
         "href": "/v2/networks/czestochowski-rower-miejski-czestochowa",
         "id": "czestochowski-rower-miejski-czestochowa",
         "location": {
          "city": "Częstochowa",
          "country": "PL",
          "latitude": 50.812,
          "longitude": 19.1375
         },
         "name": "Częstochowski Rower Miejski Poland"
        },
        {
         "company": [
          "Nextbike GmbH"
         ],
         "href": "/v2/networks/pruszkowski-rower-miejski-pruszkow",
         "id": "pruszkowski-rower-miejski-pruszkow",
         "location": {
          "city": "Pruszków",
          "country": "PL",
          "latitude": 52.1622,
          "longitude": 20.8062
         },
         "name": "Pruszkowski Rower Miejski Poland"
        },
        {
         "company": [
          "Nextbike GmbH"
         ],
         "href": "/v2/networks/ok-bike-kedzierzyn-kozle",
         "id": "ok-bike-kedzierzyn-kozle",
         "location": {
          "city": "Kędzierzyn-Koźle",
          "country": "PL",
          "latitude": 50.3392,
          "longitude": 18.2352
         },
         "name": "OK Bike Poland"
        },
        {
         "company": [
          "Nextbike GmbH"
         ],
         "href": "/v2/networks/grad-zapresic",
         "id": "grad-zapresic",
         "location": {
          "city": "Zaprešić",
          "country": "HR",
          "latitude": 45.8622,
          "longitude": 15.8049
         },
         "name": "Grad Zaprešić (Croatia)"
        },
        {
         "company": [
          "Nextbike GmbH"
         ],
         "href": "/v2/networks/porec-bike-share-porec",
         "id": "porec-bike-share-porec",
         "location": {
          "city": "Poreč",
          "country": "HR",
          "latitude": 45.2292,
          "longitude": 13.6035
         },
         "name": "Porec bike share (Croatia)"
        },
        {
         "company": [
          "Nextbike GmbH"
         ],
         "href": "/v2/networks/kaliski-rower-miejski-kalisz",
         "id": "kaliski-rower-miejski-kalisz",
         "location": {
          "city": "Kalisz",
          "country": "PL",
          "latitude": 51.7525,
          "longitude": 18.0341
         },
         "name": "Kaliski Rower Miejski Poland"
        },
        {
         "company": [
          "Nextbike GmbH"
         ],
         "href": "/v2/networks/rower-miejski-w-ostrowie-wielkopolskim-ostrow-wielkopolski",
         "id": "rower-miejski-w-ostrowie-wielkopolskim-ostrow-wielkopolski",
         "location": {
          "city": "Ostrów Wielkopolski",
          "country": "PL",
          "latitude": 51.65,
          "longitude": 17.8253
         },
         "name": "Rower Miejski w Ostrowie Wielkopolskim Poland"
        },
        {
         "company": [
          "Nextbike GmbH"
         ],
         "href": "/v2/networks/santander-brunel",
         "id": "santander-brunel",
         "location": {
          "city": "Brunel University",
          "country": "GB",
          "latitude": 51.5463,
          "longitude": -0.48048
         },
         "name": "Santander Cycles - Brunel"
        },
        {
         "company": [
          "Nextbike GmbH"
         ],
         "href": "/v2/networks/koszalinski-rower-miejski-koszalin",
         "id": "koszalinski-rower-miejski-koszalin",
         "location": {
          "city": "Koszalin",
          "country": "PL",
          "latitude": 54.2026,
          "longitude": 16.1678
         },
         "name": "Koszaliński Rower Miejski Poland"
        },
        {
         "company": [
          "Nextbike GmbH"
         ],
         "href": "/v2/networks/ki-rower-miejski-sosnowiec",
         "id": "ki-rower-miejski-sosnowiec",
         "location": {
          "city": "Sosnowiec",
          "country": "PL",
          "latitude": 50.278,
          "longitude": 19.1345
         },
         "name": "Sosnowiecki Rower Miejski Poland"
        },
        {
         "company": [
          "Nextbike GmbH"
         ],
         "href": "/v2/networks/pobiedziski-rower-gminny-pobiedziska",
         "id": "pobiedziski-rower-gminny-pobiedziska",
         "location": {
          "city": "Pobiedziska",
          "country": "PL",
          "latitude": 52.4765,
          "longitude": 17.2866
         },
         "name": "Pobiedziski Rower Gminny Poland"
        },
        {
         "company": [
          "Nextbike GmbH"
         ],
         "href": "/v2/networks/siemianowicki-rower-miejski-siemianowice-slaskie",
         "id": "siemianowicki-rower-miejski-siemianowice-slaskie",
         "location": {
          "city": "Siemianowice Śląskie",
          "country": "PL",
          "latitude": 50.3031,
          "longitude": 19.0222
         },
         "name": "Siemianowicki Rower Miejski Poland"
        },
        {
         "company": [
          "Nextbike GmbH"
         ],
         "href": "/v2/networks/piotrkowski-rower-miejski-piotrkow-trybunalski",
         "id": "piotrkowski-rower-miejski-piotrkow-trybunalski",
         "location": {
          "city": "Piotrków Trybunalski",
          "country": "PL",
          "latitude": 51.3975,
          "longitude": 19.6779
         },
         "name": "Piotrkowski Rower Miejski Poland"
        },
        {
         "company": [
          "Nextbike GmbH"
         ],
         "href": "/v2/networks/i-rower-miejski-prm-plock",
         "id": "i-rower-miejski-prm-plock",
         "location": {
          "city": "Płock",
          "country": "PL",
          "latitude": 52.5445,
          "longitude": 19.7017
         },
         "name": "Płocki Rower Miejski (PRM) Poland"
        },
        {
         "company": [
          "Nextbike GmbH"
         ],
         "href": "/v2/networks/plocki-rower-miejski-prm-orlen-plock",
         "id": "plocki-rower-miejski-prm-orlen-plock",
         "location": {
          "city": "Orlen Płock",
          "country": "PL",
          "latitude": 52.5466,
          "longitude": 19.7047
         },
         "name": "Płocki Rower Miejski (PRM) Poland"
        },
        {
         "company": [
          "Nextbike GmbH"
         ],
         "href": "/v2/networks/i-rower-miejski-otwock",
         "id": "i-rower-miejski-otwock",
         "location": {
          "city": "Otwock",
          "country": "PL",
          "latitude": 52.1034,
          "longitude": 21.2692
         },
         "name": "Otwocki Rower Miejski Poland"
        },
        {
         "company": [
          "Nextbike GmbH"
         ],
         "href": "/v2/networks/ciechanowski-rower-miejski-ciechanow",
         "id": "ciechanowski-rower-miejski-ciechanow",
         "location": {
          "city": "Ciechanów",
          "country": "PL",
          "latitude": 52.8763,
          "longitude": 20.6102
         },
         "name": "Ciechanowski Rower Miejski Poland"
        },
        {
         "company": [
          "Nextbike GmbH"
         ],
         "href": "/v2/networks/zyrardowski-rower-miejski-zyrardow",
         "id": "zyrardowski-rower-miejski-zyrardow",
         "location": {
          "city": "Żyrardów",
          "country": "PL",
          "latitude": 52.0503,
          "longitude": 20.4464
         },
         "name": "Żyrardowski Rower Miejski Poland"
        },
        {
         "company": [
          "Nextbike GmbH"
         ],
         "href": "/v2/networks/sap-walldorf",
         "id": "sap-walldorf",
         "location": {
          "city": "Walldorf",
          "country": "DE",
          "latitude": 49.2945,
          "longitude": 8.62324
         },
         "name": "SAP Walldorf"
        },
        {
         "company": [
          "Nextbike GmbH"
         ],
         "href": "/v2/networks/opcina-dugopolje",
         "id": "opcina-dugopolje",
         "location": {
          "city": "Dugopolje",
          "country": "HR",
          "latitude": 43.5872,
          "longitude": 16.5879
         },
         "name": "Općina Dugopolje (Croatia)"
        },
        {
         "company": [
          "Nextbike GmbH"
         ],
         "href": "/v2/networks/opcina-pitomaca",
         "id": "opcina-pitomaca",
         "location": {
          "city": "Pitomača",
          "country": "HR",
          "latitude": 45.9077,
          "longitude": 17.2622
         },
         "name": "Općina Pitomača (Croatia)"
        },
        {
         "company": [
          "Nextbike GmbH"
         ],
         "href": "/v2/networks/nomago-ljubljana",
         "id": "nomago-ljubljana",
         "location": {
          "city": "Ljubljana",
          "country": "SI",
          "latitude": 46.0577,
          "longitude": 14.5013
         },
         "name": "Nomago Bikes - LJUBLJANA"
        },
        {
         "company": [
          "Nextbike GmbH"
         ],
         "href": "/v2/networks/system-roweru-gminnego-pielgrzymka",
         "id": "system-roweru-gminnego-pielgrzymka",
         "location": {
          "city": "Pielgrzymka",
          "country": "PL",
          "latitude": 51.1185,
          "longitude": 15.8153
         },
         "name": "System Roweru Gminnego Poland"
        },
        {
         "company": [
          "Nextbike GmbH"
         ],
         "href": "/v2/networks/rvk",
         "id": "rvk",
         "location": {
          "city": "RVK e-Bike",
          "country": "DE",
          "latitude": 50.7069,
          "longitude": 6.87607
         },
         "name": "RVK"
        },
        {
         "company": [
          "Nextbike GmbH"
         ],
         "href": "/v2/networks/partnerzy-nextbike-polska-wolt",
         "id": "partnerzy-nextbike-polska-wolt",
         "location": {
          "city": "Wolt",
          "country": "PL",
          "latitude": 52.2984,
          "longitude": 21.0498
         },
         "name": "Partnerzy Nextbike Polska"
        },
        {
         "company": [
          "Nextbike GmbH"
         ],
         "href": "/v2/networks/wupsi",
         "id": "wupsi",
         "location": {
          "city": "Leverkusen",
          "country": "DE",
          "latitude": 51.0732,
          "longitude": 7.00814
         },
         "name": "wupsiRad Leverkusen"
        },
        {
         "company": [
          "Nextbike GmbH"
         ],
         "href": "/v2/networks/lovesharing-canary-islands-gran-canaria",
         "id": "lovesharing-canary-islands-gran-canaria",
         "location": {
          "city": "Gran Canaria",
          "country": "ES",
          "latitude": 27.8154,
          "longitude": -15.5182
         },
         "name": "Lovesharing (Canary Islands)"
        },
        {
         "company": [
          "Nextbike GmbH"
         ],
         "href": "/v2/networks/lovesharing-canary-islands-lanzarote",
         "id": "lovesharing-canary-islands-lanzarote",
         "location": {
          "city": "Lanzarote",
          "country": "ES",
          "latitude": 29.0491,
          "longitude": -13.5729
         },
         "name": "Lovesharing (Canary Islands)"
        },
        {
         "company": [
          "Nextbike GmbH"
         ],
         "href": "/v2/networks/lovesharing-canary-islands-fuerteventura",
         "id": "lovesharing-canary-islands-fuerteventura",
         "location": {
          "city": "Fuerteventura",
          "country": "ES",
          "latitude": 28.3584,
          "longitude": -14.064
         },
         "name": "Lovesharing (Canary Islands)"
        },
        {
         "company": [
          "VAG Verkehrs-Aktiengesellschaft"
         ],
         "href": "/v2/networks/vagrad",
         "id": "vagrad",
         "location": {
          "city": "Nürnberg",
          "country": "DE",
          "latitude": 49.4487,
          "longitude": 11.0794
         },
         "name": "VAG_Rad"
        },
        {
         "company": [
          "Nextbike GmbH"
         ],
         "href": "/v2/networks/grad-split",
         "id": "grad-split",
         "location": {
          "city": "Split",
          "country": "HR",
          "latitude": 43.5162,
          "longitude": 16.4637
         },
         "name": "Grad Split (Croatia)"
        },
        {
         "company": [
          "Nextbike GmbH"
         ],
         "href": "/v2/networks/grad-split-solin",
         "id": "grad-split-solin",
         "location": {
          "city": "Solin",
          "country": "HR",
          "latitude": 43.5441,
          "longitude": 16.4833
         },
         "name": "Grad Split (Croatia)"
        },
        {
         "company": [
          "Nextbike GmbH"
         ],
         "href": "/v2/networks/grad-split-opcina-klis",
         "id": "grad-split-opcina-klis",
         "location": {
          "city": "Općina Klis",
          "country": "HR",
          "latitude": 43.5605,
          "longitude": 16.5269
         },
         "name": "Grad Split (Croatia)"
        },
        {
         "company": [
          "Nextbike GmbH"
         ],
         "href": "/v2/networks/grad-split-opcina-hrvace",
         "id": "grad-split-opcina-hrvace",
         "location": {
          "city": "Općina Hrvace",
          "country": "HR",
          "latitude": 43.7553,
          "longitude": 16.6197
         },
         "name": "Grad Split (Croatia)"
        },
        {
         "company": [
          "Nextbike GmbH"
         ],
         "href": "/v2/networks/grad-split-opcina-otok-dalmatinski",
         "id": "grad-split-opcina-otok-dalmatinski",
         "location": {
          "city": "Općina Otok Dalmatinski",
          "country": "HR",
          "latitude": 43.6889,
          "longitude": 16.7361
         },
         "name": "Grad Split (Croatia)"
        },
        {
         "company": [
          "Nextbike GmbH"
         ],
         "href": "/v2/networks/grad-split-sinj",
         "id": "grad-split-sinj",
         "location": {
          "city": "Sinj",
          "country": "HR",
          "latitude": 43.7031,
          "longitude": 16.6364
         },
         "name": "Grad Split (Croatia)"
        },
        {
         "company": [
          "Nextbike GmbH"
         ],
         "href": "/v2/networks/grad-split-hvar",
         "id": "grad-split-hvar",
         "location": {
          "city": "Hvar",
          "country": "HR",
          "latitude": 43.1882,
          "longitude": 16.6295
         },
         "name": "Grad Split (Croatia)"
        },
        {
         "company": [
          "Nextbike GmbH"
         ],
         "href": "/v2/networks/grad-split-podstrana",
         "id": "grad-split-podstrana",
         "location": {
          "city": "Podstrana",
          "country": "HR",
          "latitude": 43.4934,
          "longitude": 16.5598
         },
         "name": "Grad Split (Croatia)"
        },
        {
         "company": [
          "Nextbike GmbH"
         ],
         "href": "/v2/networks/grad-split-trogir",
         "id": "grad-split-trogir",
         "location": {
          "city": "Trogir",
          "country": "HR",
          "latitude": 43.5234,
          "longitude": 16.2476
         },
         "name": "Grad Split (Croatia)"
        },
        {
         "company": [
          "Nextbike GmbH"
         ],
         "href": "/v2/networks/nextbike-ostrava",
         "id": "nextbike-ostrava",
         "location": {
          "city": "Ostrava",
          "country": "CZ",
          "latitude": 49.8344,
          "longitude": 18.2823
         },
         "name": "nextbike Ostrava"
        },
        {
         "company": [
          "Nextbike GmbH"
         ],
         "href": "/v2/networks/nextbike-ostrava-hlucin",
         "id": "nextbike-ostrava-hlucin",
         "location": {
          "city": "Hlučín",
          "country": "CZ",
          "latitude": 49.898,
          "longitude": 18.1923
         },
         "name": "nextbike Ostrava"
        },
        {
         "company": [
          "Nextbike GmbH"
         ],
         "href": "/v2/networks/nextbike-ostrava-vresina",
         "id": "nextbike-ostrava-vresina",
         "location": {
          "city": "Vřesina",
          "country": "CZ",
          "latitude": 49.825,
          "longitude": 18.1206
         },
         "name": "nextbike Ostrava"
        },
        {
         "company": [
          "Nextbike GmbH"
         ],
         "href": "/v2/networks/ski-rower-miejski-lubon",
         "id": "ski-rower-miejski-lubon",
         "location": {
          "city": "Luboń",
          "country": "PL",
          "latitude": 52.3461,
          "longitude": 16.8765
         },
         "name": "Luboński Rower Miejski Poland"
        },
        {
         "company": [
          "Nextbike GmbH"
         ],
         "href": "/v2/networks/ibizi-ibiza-city",
         "id": "ibizi-ibiza-city",
         "location": {
          "city": "Ibiza-City",
          "country": "ES",
          "latitude": 38.9066,
          "longitude": 1.42046
         },
         "name": "ibizi"
        },
        {
         "company": [
          "Nextbike GmbH"
         ],
         "href": "/v2/networks/sprintrad",
         "id": "sprintrad",
         "location": {
          "city": "Hannover",
          "country": "DE",
          "latitude": 52.3721,
          "longitude": 9.73569
         },
         "name": "sprintRAD"
        },
        {
         "company": [
          "Nextbike GmbH"
         ],
         "href": "/v2/networks/komornicki-system-rowerowy-komorniki",
         "id": "komornicki-system-rowerowy-komorniki",
         "location": {
          "city": "Komorniki",
          "country": "PL",
          "latitude": 52.3347,
          "longitude": 16.8094
         },
         "name": "Komornicki System Rowerowy Poland"
        },
        {
         "company": [
          "Nextbike GmbH"
         ],
         "href": "/v2/networks/nextbike-havirov",
         "id": "nextbike-havirov",
         "location": {
          "city": "Havířov",
          "country": "CZ",
          "latitude": 49.7799,
          "longitude": 18.4328
         },
         "name": "nextbike Havířov"
        },
        {
         "company": [
          "Nextbike GmbH"
         ],
         "href": "/v2/networks/nextbike-berounsko",
         "id": "nextbike-berounsko",
         "location": {
          "city": "Berounsko",
          "country": "CZ",
          "latitude": 49.9616,
          "longitude": 14.064
         },
         "name": "nextbike Berounsko"
        },
        {
         "company": [
          "Nextbike GmbH"
         ],
         "href": "/v2/networks/ready4green-graben",
         "id": "ready4green-graben",
         "location": {
          "city": "Graben",
          "country": "DE",
          "latitude": 51.1242,
          "longitude": 10.8984
         },
         "name": "Graben - ready4green"
        },
        {
         "company": [
          "Nextbike GmbH"
         ],
         "href": "/v2/networks/oleski-rower-miejski-olesno",
         "id": "oleski-rower-miejski-olesno",
         "location": {
          "city": "Olesno",
          "country": "PL",
          "latitude": 50.8773,
          "longitude": 18.4212
         },
         "name": "Oleski Rower Miejski Poland"
        },
        {
         "company": [
          "Nextbike GmbH"
         ],
         "href": "/v2/networks/styr-staell-goeteborg",
         "id": "styr-staell-goeteborg",
         "location": {
          "city": "Göteborg",
          "country": "SE",
          "latitude": 57.6902,
          "longitude": 11.9881
         },
         "name": "Styr & Ställ (Sweden, Göteborg)"
        },
        {
         "company": [
          "Nextbike GmbH"
         ],
         "href": "/v2/networks/nibelungen-bike-braunschweig",
         "id": "nibelungen-bike-braunschweig",
         "location": {
          "city": "Braunschweig",
          "country": "DE",
          "latitude": 52.2597,
          "longitude": 10.5307
         },
         "name": "Nibelungen-Bike"
        },
        {
         "company": [
          "Nextbike GmbH"
         ],
         "href": "/v2/networks/nextbike-brno",
         "id": "nextbike-brno",
         "location": {
          "city": "Brno",
          "country": "CZ",
          "latitude": 49.1911,
          "longitude": 16.6148
         },
         "name": "nextbike Brno"
        },
        {
         "company": [
          "Nextbike GmbH"
         ],
         "href": "/v2/networks/nextbike-brno-kurim",
         "id": "nextbike-brno-kurim",
         "location": {
          "city": "Kuřim",
          "country": "CZ",
          "latitude": 49.2994,
          "longitude": 16.5368
         },
         "name": "nextbike Brno"
        },
        {
         "company": [
          "Nextbike GmbH"
         ],
         "href": "/v2/networks/nextbike-praha",
         "id": "nextbike-praha",
         "location": {
          "city": "Praha",
          "country": "CZ",
          "latitude": 50.0592,
          "longitude": 14.5761
         },
         "name": "nextbike Praha"
        },
        {
         "company": [
          "Nextbike GmbH"
         ],
         "href": "/v2/networks/nextbike-praha-ricany",
         "id": "nextbike-praha-ricany",
         "location": {
          "city": "Říčany",
          "country": "CZ",
          "latitude": 49.9976,
          "longitude": 14.6685
         },
         "name": "nextbike Praha"
        },
        {
         "company": [
          "Nextbike GmbH"
         ],
         "href": "/v2/networks/nextbike-olomouc",
         "id": "nextbike-olomouc",
         "location": {
          "city": "Olomouc",
          "country": "CZ",
          "latitude": 49.5929,
          "longitude": 17.2459
         },
         "name": "nextbike Olomouc"
        },
        {
         "company": [
          "Nextbike GmbH"
         ],
         "href": "/v2/networks/nextbike-kladno",
         "id": "nextbike-kladno",
         "location": {
          "city": "Kladno",
          "country": "CZ",
          "latitude": 50.1435,
          "longitude": 14.1082
         },
         "name": "nextbike Kladno"
        },
        {
         "company": [
          "Nextbike GmbH"
         ],
         "href": "/v2/networks/nextbike-opava",
         "id": "nextbike-opava",
         "location": {
          "city": "Opava",
          "country": "CZ",
          "latitude": 49.9289,
          "longitude": 18.2634
         },
         "name": "nextbike Opava"
        },
        {
         "company": [
          "Nextbike GmbH"
         ],
         "href": "/v2/networks/nextbike-bielefeld",
         "id": "nextbike-bielefeld",
         "location": {
          "city": "Bielefeld",
          "country": "DE",
          "latitude": 52.0257,
          "longitude": 8.53286
         },
         "name": "meinSiggi"
        },
        {
         "company": [
          "Nextbike GmbH"
         ],
         "href": "/v2/networks/yoy-san-luis-potosi",
         "id": "yoy-san-luis-potosi",
         "location": {
          "city": "San Luis Potosi",
          "country": "MX",
          "latitude": 22.438,
          "longitude": -100.514
         },
         "name": "YOY - San Luis Potosi"
        },
        {
         "company": [
          "Nextbike GmbH"
         ],
         "href": "/v2/networks/yoy-san-luis-potosi-cancun",
         "id": "yoy-san-luis-potosi-cancun",
         "location": {
          "city": "Cancún",
          "country": "MX",
          "latitude": 21.1675,
          "longitude": -86.8498
         },
         "name": "YOY - San Luis Potosi"
        },
        {
         "company": [
          "Nextbike GmbH"
         ],
         "href": "/v2/networks/bergisches-e-bike",
         "id": "bergisches-e-bike",
         "location": {
          "city": "Bergisches e-Bike",
          "country": "DE",
          "latitude": 51.0192,
          "longitude": 7.18025
         },
         "name": "Bergisches e-Bike"
        },
        {
         "company": [
          "Nextbike GmbH"
         ],
         "href": "/v2/networks/nextbike-pardubice",
         "id": "nextbike-pardubice",
         "location": {
          "city": "Pardubice",
          "country": "CZ",
          "latitude": 50.0343,
          "longitude": 15.7812
         },
         "name": "nextbike Pardubice"
        },
        {
         "company": [
          "Nextbike GmbH"
         ],
         "href": "/v2/networks/nextbike-hradec-kralove",
         "id": "nextbike-hradec-kralove",
         "location": {
          "city": "Hradec Králové",
          "country": "CZ",
          "latitude": 50.2079,
          "longitude": 15.8334
         },
         "name": "nextbike Hradec Králové"
        },
        {
         "company": [
          "Nextbike GmbH"
         ],
         "href": "/v2/networks/nextbike-mladoboleslavsko-mlada-boleslav",
         "id": "nextbike-mladoboleslavsko-mlada-boleslav",
         "location": {
          "city": "Mladá Boleslav",
          "country": "CZ",
          "latitude": 50.4278,
          "longitude": 14.8999
         },
         "name": "nextbike Mladoboleslavsko"
        },
        {
         "company": [
          "Nextbike GmbH"
         ],
         "href": "/v2/networks/nextbike-mladoboleslavsko-mnichovo-hradiste",
         "id": "nextbike-mladoboleslavsko-mnichovo-hradiste",
         "location": {
          "city": "Mnichovo Hradiště",
          "country": "CZ",
          "latitude": 50.5218,
          "longitude": 14.9741
         },
         "name": "nextbike Mladoboleslavsko"
        },
        {
         "company": [
          "Nextbike GmbH"
         ],
         "href": "/v2/networks/oeynrad-bad-oeynhausen",
         "id": "oeynrad-bad-oeynhausen",
         "location": {
          "city": "Bad Oeynhausen",
          "country": "DE",
          "latitude": 52.2051,
          "longitude": 8.80074
         },
         "name": "Oeynrad"
        },
        {
         "company": [
          "Nextbike GmbH"
         ],
         "href": "/v2/networks/rsvg-bike",
         "id": "rsvg-bike",
         "location": {
          "city": "RSVG",
          "country": "DE",
          "latitude": 50.7669,
          "longitude": 7.37457
         },
         "name": "RSVG-Bike"
        },
        {
         "company": [
          "Nextbike GmbH"
         ],
         "href": "/v2/networks/citybikelinz",
         "id": "citybikelinz",
         "location": {
          "city": "Linz",
          "country": "AT",
          "latitude": 48.3003,
          "longitude": 14.2843
         },
         "name": "city bike Linz"
        },
        {
         "company": [
          "Nextbike GmbH"
         ],
         "href": "/v2/networks/velopark-drobeta",
         "id": "velopark-drobeta",
         "location": {
          "city": "Drobeta",
          "country": "RO",
          "latitude": 44.6326,
          "longitude": 22.6564
         },
         "name": "Drobeta Velopark"
        },
        {
         "company": [
          "Nextbike GmbH"
         ],
         "href": "/v2/networks/nomago-gorica",
         "id": "nomago-gorica",
         "location": {
          "city": "Nova Gorica",
          "country": "SI",
          "latitude": 45.9576,
          "longitude": 13.6406
         },
         "name": "Nomago Bikes - GO2GO"
        },
        {
         "company": [
          "Nextbike GmbH"
         ],
         "href": "/v2/networks/saturn",
         "id": "saturn",
         "location": {
          "city": "Saturn",
          "country": "RO",
          "latitude": 43.82,
          "longitude": 28.7445
         },
         "name": "Saturn"
        },
        {
         "company": [
          "Nextbike GmbH"
         ],
         "href": "/v2/networks/nextbike-frydek-mistek",
         "id": "nextbike-frydek-mistek",
         "location": {
          "city": "Frýdek-Místek",
          "country": "CZ",
          "latitude": 49.6832,
          "longitude": 18.3457
         },
         "name": "nextbike Frýdek-Místek"
        },
        {
         "company": [
          "Nextbike GmbH"
         ],
         "href": "/v2/networks/nextbike-uherske-hradiste",
         "id": "nextbike-uherske-hradiste",
         "location": {
          "city": "Uherské Hradiště",
          "country": "CZ",
          "latitude": 49.0678,
          "longitude": 17.4665
         },
         "name": "nextbike Uherské Hradiště"
        },
        {
         "company": [
          "Nextbike GmbH"
         ],
         "href": "/v2/networks/nextbike-zlin",
         "id": "nextbike-zlin",
         "location": {
          "city": "Zlín",
          "country": "CZ",
          "latitude": 49.238,
          "longitude": 17.6788
         },
         "name": "nextbike Zlín"
        },
        {
         "company": [
          "Nextbike GmbH"
         ],
         "href": "/v2/networks/nextbike-krnov",
         "id": "nextbike-krnov",
         "location": {
          "city": "Krnov",
          "country": "CZ",
          "latitude": 50.0703,
          "longitude": 17.8837
         },
         "name": "nextbike Krnov"
        },
        {
         "company": [
          "Nextbike GmbH"
         ],
         "href": "/v2/networks/eifel",
         "id": "eifel",
         "location": {
          "city": "Eifel e-Bike",
          "country": "DE",
          "latitude": 50.5771,
          "longitude": 6.64673
         },
         "name": "Eifel e-Bike"
        },
        {
         "company": [
          "Nextbike GmbH"
         ],
         "href": "/v2/networks/nextbike-rychnovsko",
         "id": "nextbike-rychnovsko",
         "location": {
          "city": "Rychnovsko",
          "country": "CZ",
          "latitude": 50.1668,
          "longitude": 16.2828
         },
         "name": "nextbike Rychnovsko"
        },
        {
         "company": [
          "Nextbike GmbH"
         ],
         "href": "/v2/networks/nextbike-pisek",
         "id": "nextbike-pisek",
         "location": {
          "city": "Písek",
          "country": "CZ",
          "latitude": 49.3051,
          "longitude": 14.1463
         },
         "name": "nextbike Písek"
        },
        {
         "company": [
          "Nextbike GmbH"
         ],
         "href": "/v2/networks/nextbike-jihlava",
         "id": "nextbike-jihlava",
         "location": {
          "city": "Jihlava",
          "country": "CZ",
          "latitude": 49.4078,
          "longitude": 15.6061
         },
         "name": "nextbike Jihlava"
        },
        {
         "company": [
          "Nextbike GmbH"
         ],
         "href": "/v2/networks/nomago-zanaprej",
         "id": "nomago-zanaprej",
         "location": {
          "city": "Zagorje ob Savi",
          "country": "SI",
          "latitude": 46.1392,
          "longitude": 14.9785
         },
         "name": "Nomago Bikes - ZANAPREJ"
        },
        {
         "company": [
          "Nextbike GmbH"
         ],
         "href": "/v2/networks/rower-powiatowy-sokolow-podlaski",
         "id": "rower-powiatowy-sokolow-podlaski",
         "location": {
          "city": "Sokołów Podlaski",
          "country": "PL",
          "latitude": 52.4082,
          "longitude": 22.2525
         },
         "name": "Rower Powiatowy Sokołów Podlaski"
        },
        {
         "company": [
          "Nextbike GmbH"
         ],
         "href": "/v2/networks/nextbike-bergamo",
         "id": "nextbike-bergamo",
         "location": {
          "city": "Bergamo",
          "country": "IT",
          "latitude": 45.6986,
          "longitude": 9.67567
         },
         "name": "nextbike Bergamo"
        },
        {
         "company": [
          "Nextbike GmbH"
         ],
         "href": "/v2/networks/emobi-osijek",
         "id": "emobi-osijek",
         "location": {
          "city": "Osijek",
          "country": "HR",
          "latitude": 45.554,
          "longitude": 18.6943
         },
         "name": "eMobi (Croatia)"
        },
        {
         "company": [
          "Nextbike GmbH"
         ],
         "href": "/v2/networks/arval-scandicci",
         "id": "arval-scandicci",
         "location": {
          "city": "Scandicci",
          "country": "IT",
          "latitude": 43.7701,
          "longitude": 11.1592
         },
         "name": "ARVAL"
        },
        {
         "company": [
          "Bremer Tageszeitungen AG"
         ],
         "href": "/v2/networks/nextbike-oldenburg",
         "id": "nextbike-oldenburg",
         "location": {
          "city": "Oldenburg",
          "country": "DE",
          "latitude": 53.1448,
          "longitude": 8.22485
         },
         "name": "OLi-Bike"
        },
        {
         "company": [
          "Nextbike GmbH"
         ],
         "href": "/v2/networks/nextbike-urdaibai",
         "id": "nextbike-urdaibai",
         "location": {
          "city": "Urdaibai",
          "country": "ES",
          "latitude": 43.395,
          "longitude": -2.68815
         },
         "name": "BBK Klimabizi"
        },
        {
         "company": [
          "Nextbike GmbH"
         ],
         "href": "/v2/networks/mvrad-hq",
         "id": "mvrad-hq",
         "location": {
          "city": "MV-Rad",
          "country": "DE",
          "latitude": 53.6707,
          "longitude": 12.4255
         },
         "name": "MV-Rad"
        },
        {
         "company": [
          "Nextbike GmbH"
         ],
         "href": "/v2/networks/mvrad-anklam",
         "id": "mvrad-anklam",
         "location": {
          "city": "Anklam",
          "country": "DE",
          "latitude": 53.8614,
          "longitude": 13.6907
         },
         "name": "MV-Rad"
        },
        {
         "company": [
          "Nextbike GmbH"
         ],
         "href": "/v2/networks/greifswald",
         "id": "greifswald",
         "location": {
          "city": "Greifswald (StadtRad)",
          "country": "DE",
          "latitude": 54.0961,
          "longitude": 13.3787
         },
         "name": "StadtRad Greifswald"
        },
        {
         "company": [
          "Nextbike GmbH"
         ],
         "href": "/v2/networks/nextbike-dvur-kralove",
         "id": "nextbike-dvur-kralove",
         "location": {
          "city": "Dvůr Králové",
          "country": "CZ",
          "latitude": 50.4278,
          "longitude": 15.8162
         },
         "name": "nextbike Dvůr Králové"
        },
        {
         "company": [
          "Nextbike GmbH"
         ],
         "href": "/v2/networks/vvtregiorad-kufstein",
         "id": "vvtregiorad-kufstein",
         "location": {
          "city": "Kufstein",
          "country": "AT",
          "latitude": 47.583,
          "longitude": 12.1692
         },
         "name": "VVT REGIORAD Tirol"
        },
        {
         "company": [
          "Nextbike GmbH"
         ],
         "href": "/v2/networks/vvtregiorad-ellmau",
         "id": "vvtregiorad-ellmau",
         "location": {
          "city": "Ellmau",
          "country": "AT",
          "latitude": 47.5134,
          "longitude": 12.3025
         },
         "name": "VVT REGIORAD Tirol"
        },
        {
         "company": [
          "Nextbike GmbH"
         ],
         "href": "/v2/networks/ski-rower-chelm",
         "id": "ski-rower-chelm",
         "location": {
          "city": "Chełm",
          "country": "PL",
          "latitude": 51.1318,
          "longitude": 23.4755
         },
         "name": "Chełmski Rower"
        },
        {
         "company": [
          "Nextbike GmbH"
         ],
         "href": "/v2/networks/nextbike-vrchlabi",
         "id": "nextbike-vrchlabi",
         "location": {
          "city": "Vrchlabí",
          "country": "CZ",
          "latitude": 50.6222,
          "longitude": 15.6126
         },
         "name": "nextbike Vrchlabí"
        },
        {
         "company": [
          "Nextbike GmbH"
         ],
         "href": "/v2/networks/winsenrad",
         "id": "winsenrad",
         "location": {
          "city": "Winsen (Luhe)",
          "country": "DE",
          "latitude": 53.3547,
          "longitude": 10.2067
         },
         "name": "WinsenRad"
        },
        {
         "company": [
          "Nextbike GmbH"
         ],
         "href": "/v2/networks/loker-lomza",
         "id": "loker-lomza",
         "location": {
          "city": "Łomża",
          "country": "PL",
          "latitude": 53.1649,
          "longitude": 22.0729
         },
         "name": "ŁoKeR - Łomża"
        },
        {
         "company": [
          "Nextbike GmbH"
         ],
         "href": "/v2/networks/nomago-kranjska-gora",
         "id": "nomago-kranjska-gora",
         "location": {
          "city": "Kranjska Gora",
          "country": "SI",
          "latitude": 46.4846,
          "longitude": 13.7836
         },
         "name": "Nomago Bikes - KRANJSKA GORA"
        },
        {
         "company": [
          "Nextbike GmbH"
         ],
         "href": "/v2/networks/nomago-portoroz",
         "id": "nomago-portoroz",
         "location": {
          "city": "Portorož",
          "country": "SI",
          "latitude": 45.5054,
          "longitude": 13.5979
         },
         "name": "Nomago Bikes - PORTOROZ"
        },
        {
         "company": [
          "Nextbike GmbH"
         ],
         "href": "/v2/networks/vrn-landau",
         "id": "vrn-landau",
         "location": {
          "city": "Landau in der Pfalz",
          "country": "DE",
          "latitude": 49.1975,
          "longitude": 8.11693
         },
         "name": "VRN"
        },
        {
         "company": null,
         "gbfs_href": "https://nitro.openvelo.org/aachen/velocity/v2/gbfs.json",
         "href": "/v2/networks/velocity-aachen",
         "id": "velocity-aachen",
         "location": {
          "city": "Aachen",
          "country": "DE",
          "latitude": 50.776667,
          "longitude": 6.083611
         },
         "name": "Velocity"
        },
        {
         "company": null,
         "gbfs_href": "https://quebec.publicbikesystem.net/customer/gbfs/v2/gbfs.json",
         "href": "/v2/networks/avelo-quebec",
         "id": "avelo-quebec",
         "location": {
          "city": "Québec",
          "country": "CA",
          "latitude": 46.81305,
          "longitude": -71.2168
         },
         "name": "àVélo"
        },
        {
         "company": null,
         "gbfs_href": "https://saguenay.publicbikesystem.net/customer/gbfs/v2/gbfs.json",
         "href": "/v2/networks/acces-velo-saguenay",
         "id": "acces-velo-saguenay",
         "location": {
          "city": "Saguenay",
          "country": "CA",
          "latitude": 48.433333,
          "longitude": -71.083333
         },
         "name": "Accès Vélo"
        },
        {
         "company": [
          "Vilvolt CA Épinal",
          "Communauté d'agglomération Épinal",
          "Fifteen SAS"
         ],
         "href": "/v2/networks/vilvolt",
         "id": "vilvolt",
         "location": {
          "city": "Epinal",
          "country": "FR",
          "latitude": 48.1833,
          "longitude": 6.4508
         },
         "name": "Vilvolt"
        },
        {
         "company": [
          "VeloBaie",
          "Fifteen SAS"
         ],
         "gbfs_href": "",
         "href": "/v2/networks/velobaie",
         "id": "velobaie",
         "location": {
          "city": "Saint-Brieuc",
          "country": "FR",
          "latitude": 48.514,
          "longitude": -2.765
         },
         "name": "VeloBaie"
        }
       ]
      },
      "text/plain": [
       "<IPython.core.display.JSON object>"
      ]
     },
     "execution_count": 197,
     "metadata": {
      "application/json": {
       "expanded": false,
       "root": "root"
      }
     },
     "output_type": "execute_result"
    }
   ],
   "source": [
    "URL = 'http://api.citybik.es/v2/networks'\n",
    "response_all = requests.get(URL, headers={'accept': 'application/JSON'})\n",
    "res_all = response_all.json()\n",
    "JSON(res_all)"
   ]
  },
  {
   "cell_type": "code",
   "execution_count": 198,
   "metadata": {},
   "outputs": [
    {
     "name": "stdout",
     "output_type": "stream",
     "text": [
      "['santander-cycles']\n"
     ]
    }
   ],
   "source": [
    "#find out all the networks in the city of 'London' managing city bike stations.\n",
    "network_id = []\n",
    "for network in res_all[\"networks\"]:\n",
    "    if network[\"location\"][\"city\"] == \"London\":\n",
    "        network_id.append(network[\"id\"])\n",
    "\n",
    "print(network_id)"
   ]
  },
  {
   "cell_type": "markdown",
   "metadata": {},
   "source": [
    "Parse through the response to get the details you want for the bike stations in that city (latitude, longitude, number of bikes). "
   ]
  },
  {
   "cell_type": "code",
   "execution_count": 199,
   "metadata": {},
   "outputs": [
    {
     "data": {
      "application/json": {
       "network": {
        "company": [
         "PBSC",
         "Serco Group plc"
        ],
        "href": "/v2/networks/santander-cycles",
        "id": "santander-cycles",
        "location": {
         "city": "London",
         "country": "GB",
         "latitude": 51.51121389999999,
         "longitude": -0.1198244
        },
        "name": "Santander Cycles",
        "stations": [
         {
          "empty_slots": 15,
          "extra": {
           "installDate": "1278947280000",
           "installed": true,
           "locked": false,
           "name": "River Street , Clerkenwell",
           "removalDate": "",
           "temporary": false,
           "terminalName": "001023",
           "uid": 1
          },
          "free_bikes": 4,
          "id": "7f3020118e56165ed8b2f61899edb971",
          "latitude": 51.52916347,
          "longitude": -0.109970527,
          "name": "001023 - River Street , Clerkenwell",
          "timestamp": "2023-01-30T02:45:22.001000Z"
         },
         {
          "empty_slots": 4,
          "extra": {
           "installDate": "1278585780000",
           "installed": true,
           "locked": false,
           "name": "Phillimore Gardens, Kensington",
           "removalDate": "",
           "temporary": false,
           "terminalName": "001018",
           "uid": 2
          },
          "free_bikes": 33,
          "id": "67e6c16bce05410ba4b1f0f5000726ea",
          "latitude": 51.49960695,
          "longitude": -0.197574246,
          "name": "001018 - Phillimore Gardens, Kensington",
          "timestamp": "2023-01-30T02:45:22.003000Z"
         },
         {
          "empty_slots": 24,
          "extra": {
           "installDate": "1278240360000",
           "installed": true,
           "locked": false,
           "name": "Christopher Street, Liverpool Street",
           "removalDate": "",
           "temporary": false,
           "terminalName": "001012",
           "uid": 3
          },
          "free_bikes": 8,
          "id": "2d1fd6bf5426f3dc34fae06f43f76f69",
          "latitude": 51.52128377,
          "longitude": -0.084605692,
          "name": "001012 - Christopher Street, Liverpool Street",
          "timestamp": "2023-01-30T02:45:22.004000Z"
         },
         {
          "empty_slots": 7,
          "extra": {
           "installDate": "1278242460000",
           "installed": true,
           "locked": false,
           "name": "Park Street, Bankside",
           "removalDate": "",
           "temporary": false,
           "terminalName": "001024",
           "uid": 10
          },
          "free_bikes": 11,
          "id": "26184215d38089fcad213ef222e69780",
          "latitude": 51.50597426,
          "longitude": -0.092754157,
          "name": "001024 - Park Street, Bankside",
          "timestamp": "2023-01-30T02:45:22.010000Z"
         },
         {
          "empty_slots": 20,
          "extra": {
           "installDate": "1278340440000",
           "installed": true,
           "locked": false,
           "name": "Brunswick Square, Bloomsbury",
           "removalDate": "",
           "temporary": false,
           "terminalName": "001022",
           "uid": 11
          },
          "free_bikes": 4,
          "id": "1eabd7ac8e781befd03f52ef56a18aa7",
          "latitude": 51.52395143,
          "longitude": -0.122502346,
          "name": "001022 - Brunswick Square, Bloomsbury",
          "timestamp": "2023-01-30T02:45:22.011000Z"
         },
         {
          "empty_slots": 8,
          "extra": {
           "installDate": "1278340620000",
           "installed": true,
           "locked": false,
           "name": "Malet Street, Bloomsbury",
           "removalDate": "",
           "temporary": false,
           "terminalName": "000980",
           "uid": 12
          },
          "free_bikes": 41,
          "id": "23efb32f80a9dcd0e4f61fb44b353ce1",
          "latitude": 51.52168078,
          "longitude": -0.130431727,
          "name": "000980 - Malet Street, Bloomsbury",
          "timestamp": "2023-01-30T02:45:22.011000Z"
         },
         {
          "empty_slots": 26,
          "extra": {
           "installDate": "1278341040000",
           "installed": true,
           "locked": false,
           "name": "Belgrove Street , King's Cross",
           "removalDate": "",
           "temporary": false,
           "terminalName": "001011",
           "uid": 14
          },
          "free_bikes": 22,
          "id": "025ecd9d4f9708f515a36660227c8f3f",
          "latitude": 51.52994371,
          "longitude": -0.123616824,
          "name": "001011 - Belgrove Street , King's Cross",
          "timestamp": "2023-01-30T02:45:22.013000Z"
         },
         {
          "empty_slots": 8,
          "extra": {
           "installDate": "1278341400000",
           "installed": true,
           "locked": false,
           "name": "Cartwright Gardens , Bloomsbury",
           "removalDate": "",
           "temporary": false,
           "terminalName": "001010",
           "uid": 16
          },
          "free_bikes": 13,
          "id": "4c4028fef9930764b34cc63c411cd29f",
          "latitude": 51.52635795,
          "longitude": -0.125979294,
          "name": "001010 - Cartwright Gardens , Bloomsbury",
          "timestamp": "2023-01-30T02:45:22.015000Z"
         },
         {
          "empty_slots": 16,
          "extra": {
           "installDate": "1278426300000",
           "installed": true,
           "locked": false,
           "name": "Drury Lane, Covent Garden",
           "removalDate": "",
           "temporary": false,
           "terminalName": "001007",
           "uid": 18
          },
          "free_bikes": 11,
          "id": "55f4dfcaf7fe3970b8722067a12b2f7f",
          "latitude": 51.51477076,
          "longitude": -0.12221963,
          "name": "001007 - Drury Lane, Covent Garden",
          "timestamp": "2023-01-30T02:45:22.016000Z"
         },
         {
          "empty_slots": 28,
          "extra": {
           "installDate": "1278426720000",
           "installed": true,
           "locked": false,
           "name": "Taviton Street, Bloomsbury",
           "removalDate": "",
           "temporary": false,
           "terminalName": "001009",
           "uid": 19
          },
          "free_bikes": 2,
          "id": "ebe16a8a0722ff26b583e2bda9cd1af4",
          "latitude": 51.52505093,
          "longitude": -0.131161087,
          "name": "001009 - Taviton Street, Bloomsbury",
          "timestamp": "2023-01-30T02:45:22.017000Z"
         },
         {
          "empty_slots": 20,
          "extra": {
           "installDate": "1544659200000",
           "installed": true,
           "locked": false,
           "name": "Drummond Street , Euston",
           "removalDate": "",
           "temporary": false,
           "terminalName": "000993",
           "uid": 20
          },
          "free_bikes": 8,
          "id": "d68d55f9fc5a6ecc846d4e51d9bab5bd",
          "latitude": 51.527326,
          "longitude": -0.13605286,
          "name": "000993 - Drummond Street , Euston",
          "timestamp": "2023-01-30T02:45:22.018000Z"
         },
         {
          "empty_slots": 15,
          "extra": {
           "installDate": "1278434160000",
           "installed": true,
           "locked": false,
           "name": "Ampton Street , Clerkenwell",
           "removalDate": "",
           "temporary": false,
           "terminalName": "001019",
           "uid": 26
          },
          "free_bikes": 6,
          "id": "0c01f449802222cdd504c8eafa0322a4",
          "latitude": 51.52728093,
          "longitude": -0.11829517,
          "name": "001019 - Ampton Street , Clerkenwell",
          "timestamp": "2023-01-30T02:45:22.023000Z"
         },
         {
          "empty_slots": 18,
          "extra": {
           "installDate": "1278500460000",
           "installed": true,
           "locked": false,
           "name": "Bolsover Street, Fitzrovia",
           "removalDate": "",
           "temporary": false,
           "terminalName": "001025",
           "uid": 28
          },
          "free_bikes": 1,
          "id": "d72f1e4f9fcc28128a22a35b05589049",
          "latitude": 51.52351808,
          "longitude": -0.143613641,
          "name": "001025 - Bolsover Street, Fitzrovia",
          "timestamp": "2023-01-30T02:45:22.025000Z"
         },
         {
          "empty_slots": 1,
          "extra": {
           "installDate": "1278501420000",
           "installed": true,
           "locked": false,
           "name": "Windsor Terrace, Hoxton",
           "removalDate": "",
           "temporary": false,
           "terminalName": "001029",
           "uid": 30
          },
          "free_bikes": 23,
          "id": "ad43baa18c9dbea9ba4b0966c386cc0c",
          "latitude": 51.52915444,
          "longitude": -0.093421615,
          "name": "001029 - Windsor Terrace, Hoxton",
          "timestamp": "2023-01-30T02:45:22.026000Z"
         },
         {
          "empty_slots": 23,
          "extra": {
           "installDate": "1278506700000",
           "installed": true,
           "locked": false,
           "name": "Leonard Circus , Shoreditch",
           "removalDate": "",
           "temporary": false,
           "terminalName": "001020",
           "uid": 32
          },
          "free_bikes": 20,
          "id": "491db6b066ce2d6b406508a8ceeb060b",
          "latitude": 51.52469624,
          "longitude": -0.084439283,
          "name": "001020 - Leonard Circus , Shoreditch",
          "timestamp": "2023-01-30T02:45:22.028000Z"
         },
         {
          "empty_slots": 16,
          "extra": {
           "installDate": "1278519900000",
           "installed": true,
           "locked": false,
           "name": "De Vere Gardens, Kensington",
           "removalDate": "",
           "temporary": false,
           "terminalName": "003446",
           "uid": 36
          },
          "free_bikes": 12,
          "id": "2b52d72500bd4fb639ab9f79df7e3c78",
          "latitude": 51.50173726,
          "longitude": -0.184980612,
          "name": "003446 - De Vere Gardens, Kensington",
          "timestamp": "2023-01-30T02:45:22.030000Z"
         },
         {
          "empty_slots": 5,
          "extra": {
           "installDate": "1278601740000",
           "installed": true,
           "locked": false,
           "name": "Shoreditch High Street, Shoreditch",
           "removalDate": "",
           "temporary": false,
           "terminalName": "003445",
           "uid": 39
          },
          "free_bikes": 36,
          "id": "e7899ea58fd18b220d81d76c035834cf",
          "latitude": 51.5263778,
          "longitude": -0.078130921,
          "name": "003445 - Shoreditch High Street, Shoreditch",
          "timestamp": "2023-01-30T02:45:22.033000Z"
         },
         {
          "empty_slots": 23,
          "extra": {
           "installDate": "1278602280000",
           "installed": true,
           "locked": false,
           "name": "Pindar Street, Liverpool Street",
           "removalDate": "",
           "temporary": false,
           "terminalName": "001084",
           "uid": 41
          },
          "free_bikes": 1,
          "id": "909898d9d1513581b527f22453b32aac",
          "latitude": 51.520955,
          "longitude": -0.083493552,
          "name": "001084 - Pindar Street, Liverpool Street",
          "timestamp": "2023-01-30T02:45:22.034000Z"
         },
         {
          "empty_slots": 16,
          "extra": {
           "installDate": "1278687720000",
           "installed": true,
           "locked": false,
           "name": "Crawford Street, Marylebone",
           "removalDate": "",
           "temporary": false,
           "terminalName": "001036",
           "uid": 43
          },
          "free_bikes": 2,
          "id": "eb47143bda16b9e140e9c0ebaaad79e5",
          "latitude": 51.52026,
          "longitude": -0.157183945,
          "name": "001036 - Crawford Street, Marylebone",
          "timestamp": "2023-01-30T02:45:22.036000Z"
         },
         {
          "empty_slots": 8,
          "extra": {
           "installDate": "1278687900000",
           "installed": true,
           "locked": false,
           "name": "Bruton Street, Mayfair",
           "removalDate": "",
           "temporary": false,
           "terminalName": "001034",
           "uid": 44
          },
          "free_bikes": 13,
          "id": "911bcf42fd06c66c5c81e7384762b84c",
          "latitude": 51.51073687,
          "longitude": -0.144165239,
          "name": "001034 - Bruton Street, Mayfair",
          "timestamp": "2023-01-30T02:45:22.037000Z"
         },
         {
          "empty_slots": 9,
          "extra": {
           "installDate": "1278749460000",
           "installed": true,
           "locked": false,
           "name": "Godliman Street, St. Paul's",
           "removalDate": "",
           "temporary": false,
           "terminalName": "000971",
           "uid": 48
          },
          "free_bikes": 16,
          "id": "6da973289e6a340aa31d03dc615d43c8",
          "latitude": 51.51248445,
          "longitude": -0.099141408,
          "name": "000971 - Godliman Street, St. Paul's",
          "timestamp": "2023-01-30T02:45:22.040000Z"
         },
         {
          "empty_slots": 19,
          "extra": {
           "installDate": "1278750240000",
           "installed": true,
           "locked": false,
           "name": "East Road, Hoxton",
           "removalDate": "",
           "temporary": false,
           "terminalName": "001054",
           "uid": 50
          },
          "free_bikes": 8,
          "id": "f8d7365346582b107b65bab899772875",
          "latitude": 51.52867339,
          "longitude": -0.087459376,
          "name": "001054 - East Road, Hoxton",
          "timestamp": "2023-01-30T02:45:22.042000Z"
         },
         {
          "empty_slots": 15,
          "extra": {
           "installDate": "1278750840000",
           "installed": true,
           "locked": false,
           "name": "Roscoe Street, St. Luke's",
           "removalDate": "",
           "temporary": false,
           "terminalName": "001026",
           "uid": 52
          },
          "free_bikes": 3,
          "id": "17080ae3ef6c19fbe59e8e5c17d31d9b",
          "latitude": 51.52295439,
          "longitude": -0.094934859,
          "name": "001026 - Roscoe Street, St. Luke's",
          "timestamp": "2023-01-30T02:45:22.043000Z"
         },
         {
          "empty_slots": 1,
          "extra": {
           "installDate": "1278752580000",
           "installed": true,
           "locked": false,
           "name": "Grafton Street, Mayfair",
           "removalDate": "",
           "temporary": false,
           "terminalName": "003431",
           "uid": 53
          },
          "free_bikes": 17,
          "id": "99e37e228edaf5187aa917de66113607",
          "latitude": 51.5099923,
          "longitude": -0.143495266,
          "name": "003431 - Grafton Street, Mayfair",
          "timestamp": "2023-01-30T02:45:22.044000Z"
         },
         {
          "empty_slots": 3,
          "extra": {
           "installDate": "1278767220000",
           "installed": true,
           "locked": false,
           "name": "Paddington Street, Marylebone",
           "removalDate": "",
           "temporary": false,
           "terminalName": "001033",
           "uid": 56
          },
          "free_bikes": 13,
          "id": "de39548e3080840044daaa7b1e053c59",
          "latitude": 51.52058381,
          "longitude": -0.154701411,
          "name": "001033 - Paddington Street, Marylebone",
          "timestamp": "2023-01-30T02:45:22.047000Z"
         },
         {
          "empty_slots": 4,
          "extra": {
           "installDate": "1278767700000",
           "installed": true,
           "locked": false,
           "name": "New Inn Yard, Shoreditch",
           "removalDate": "",
           "temporary": false,
           "terminalName": "001032",
           "uid": 58
          },
          "free_bikes": 16,
          "id": "75acd596908674204f6b8933c4d3d746",
          "latitude": 51.52452699,
          "longitude": -0.079248081,
          "name": "001032 - New Inn Yard, Shoreditch",
          "timestamp": "2023-01-30T02:45:22.048000Z"
         },
         {
          "empty_slots": 13,
          "extra": {
           "installDate": "1278769140000",
           "installed": true,
           "locked": false,
           "name": "Lisson Grove, St. John's Wood",
           "removalDate": "",
           "temporary": false,
           "terminalName": "001030",
           "uid": 60
          },
          "free_bikes": 5,
          "id": "769aad3f52773505bb81888baf8becad",
          "latitude": 51.52644828,
          "longitude": -0.172190727,
          "name": "001030 - Lisson Grove, St. John's Wood",
          "timestamp": "2023-01-30T02:45:22.049000Z"
         },
         {
          "empty_slots": 4,
          "extra": {
           "installDate": "1278774300000",
           "installed": true,
           "locked": false,
           "name": "William IV Street, Strand",
           "removalDate": "",
           "temporary": false,
           "terminalName": "001028",
           "uid": 64
          },
          "free_bikes": 22,
          "id": "3d6462a5765901813cd2ce67cfc4d4b4",
          "latitude": 51.50946212,
          "longitude": -0.124749274,
          "name": "001028 - William IV Street, Strand",
          "timestamp": "2023-01-30T02:45:22.052000Z"
         },
         {
          "empty_slots": 36,
          "extra": {
           "installDate": "1278845280000",
           "installed": true,
           "locked": false,
           "name": "Holborn Circus, Holborn",
           "removalDate": "",
           "temporary": false,
           "terminalName": "000982",
           "uid": 66
          },
          "free_bikes": 4,
          "id": "93cd71b7afe01549d24d77a3615b8643",
          "latitude": 51.51795029,
          "longitude": -0.108657431,
          "name": "000982 - Holborn Circus, Holborn",
          "timestamp": "2023-01-30T02:45:22.054000Z"
         },
         {
          "empty_slots": 22,
          "extra": {
           "installDate": "1278857040000",
           "installed": true,
           "locked": false,
           "name": "Theobald's Road , Holborn",
           "removalDate": "",
           "temporary": false,
           "terminalName": "000975",
           "uid": 68
          },
          "free_bikes": 4,
          "id": "764f407d99e596ccdf7134f48b3ceaab",
          "latitude": 51.52059681,
          "longitude": -0.116688468,
          "name": "000975 - Theobald's Road , Holborn",
          "timestamp": "2023-01-30T02:45:22.055000Z"
         },
         {
          "empty_slots": 33,
          "extra": {
           "installDate": "1278924900000",
           "installed": true,
           "locked": false,
           "name": "Newgate Street , St. Paul's",
           "removalDate": "",
           "temporary": false,
           "terminalName": "001074",
           "uid": 71
          },
          "free_bikes": 1,
          "id": "c6890bdfb7c054f428bc919fe7362e71",
          "latitude": 51.5154186,
          "longitude": -0.098850915,
          "name": "001074 - Newgate Street , St. Paul's",
          "timestamp": "2023-01-30T02:45:22.057000Z"
         },
         {
          "empty_slots": 16,
          "extra": {
           "installDate": "1278941040000",
           "installed": true,
           "locked": false,
           "name": "Old Street Station, St. Luke's",
           "removalDate": "",
           "temporary": false,
           "terminalName": "001064",
           "uid": 73
          },
          "free_bikes": 13,
          "id": "d153f9c5cca7e8927cb32beecf66d802",
          "latitude": 51.52548,
          "longitude": -0.089659871,
          "name": "001064 - Old Street Station, St. Luke's",
          "timestamp": "2023-01-30T02:45:22.059000Z"
         },
         {
          "empty_slots": 10,
          "extra": {
           "installDate": "1278946860000",
           "installed": true,
           "locked": false,
           "name": "Russell Square Station, Bloomsbury",
           "removalDate": "",
           "temporary": false,
           "terminalName": "000978",
           "uid": 77
          },
          "free_bikes": 16,
          "id": "90496aa7d15852e4cd32d22f4cb1d7a6",
          "latitude": 51.52341837,
          "longitude": -0.124121774,
          "name": "000978 - Russell Square Station, Bloomsbury",
          "timestamp": "2023-01-30T02:45:22.062000Z"
         },
         {
          "empty_slots": 15,
          "extra": {
           "installDate": "1279030020000",
           "installed": true,
           "locked": false,
           "name": "Harrington Square 1, Camden Town",
           "removalDate": "",
           "temporary": false,
           "terminalName": "001038",
           "uid": 90
          },
          "free_bikes": 12,
          "id": "14e89f7dd9cfc6c05e4969720bd9a7d9",
          "latitude": 51.53301907,
          "longitude": -0.139174593,
          "name": "001038 - Harrington Square 1, Camden Town",
          "timestamp": "2023-01-30T02:45:22.072000Z"
         },
         {
          "empty_slots": 17,
          "extra": {
           "installDate": "1279037760000",
           "installed": true,
           "locked": false,
           "name": "Cloudesley Road, Angel",
           "removalDate": "",
           "temporary": false,
           "terminalName": "002586",
           "uid": 93
          },
          "free_bikes": 20,
          "id": "81e0b607d35ac04a4e25136976886bc2",
          "latitude": 51.53440868,
          "longitude": -0.109025404,
          "name": "002586 - Cloudesley Road, Angel",
          "timestamp": "2023-01-30T02:45:22.074000Z"
         },
         {
          "empty_slots": 13,
          "extra": {
           "installDate": "1279096560000",
           "installed": true,
           "locked": false,
           "name": "Aldersgate Street, Barbican",
           "removalDate": "",
           "temporary": false,
           "terminalName": "001065",
           "uid": 95
          },
          "free_bikes": 2,
          "id": "18f219af91ff4dc266c398c03a819291",
          "latitude": 51.5208417,
          "longitude": -0.097340162,
          "name": "001065 - Aldersgate Street, Barbican",
          "timestamp": "2023-01-30T02:45:22.075000Z"
         },
         {
          "empty_slots": 2,
          "extra": {
           "installDate": "1279096980000",
           "installed": true,
           "locked": false,
           "name": "Falkirk Street, Hoxton",
           "removalDate": "",
           "temporary": false,
           "terminalName": "001047",
           "uid": 96
          },
          "free_bikes": 24,
          "id": "cbfcf12500f8b93b594e821ce1bdff87",
          "latitude": 51.53095071,
          "longitude": -0.078505384,
          "name": "001047 - Falkirk Street, Hoxton",
          "timestamp": "2023-01-30T02:45:22.076000Z"
         },
         {
          "empty_slots": 15,
          "extra": {
           "installDate": "1279102680000",
           "installed": true,
           "locked": false,
           "name": "Queen Street 1, Bank",
           "removalDate": "",
           "temporary": false,
           "terminalName": "000999",
           "uid": 101
          },
          "free_bikes": 7,
          "id": "880fa0e2ffbea15a8f200ff3c95630f4",
          "latitude": 51.51155322,
          "longitude": -0.0929401,
          "name": "000999 - Queen Street 1, Bank",
          "timestamp": "2023-01-30T02:45:22.080000Z"
         },
         {
          "empty_slots": 14,
          "extra": {
           "installDate": "1279102860000",
           "installed": true,
           "locked": false,
           "name": "Jewry Street, Aldgate",
           "removalDate": "",
           "temporary": false,
           "terminalName": "001045",
           "uid": 102
          },
          "free_bikes": 3,
          "id": "5effc1e4635d1fae80462676f28a4f50",
          "latitude": 51.51340693,
          "longitude": -0.076793375,
          "name": "001045 - Jewry Street, Aldgate",
          "timestamp": "2023-01-30T02:45:22.080000Z"
         },
         {
          "empty_slots": 6,
          "extra": {
           "installDate": "1279103760000",
           "installed": true,
           "locked": false,
           "name": "Crosswall, Tower",
           "removalDate": "",
           "temporary": false,
           "terminalName": "000991",
           "uid": 104
          },
          "free_bikes": 28,
          "id": "6be38ccc37cd0c70d4dabccf654dc86f",
          "latitude": 51.51159481,
          "longitude": -0.077121322,
          "name": "000991 - Crosswall, Tower",
          "timestamp": "2023-01-30T02:45:22.082000Z"
         },
         {
          "empty_slots": 18,
          "extra": {
           "installDate": "1279106880000",
           "installed": true,
           "locked": false,
           "name": "Woodstock Street, Mayfair",
           "removalDate": "",
           "temporary": false,
           "terminalName": "001042",
           "uid": 106
          },
          "free_bikes": 3,
          "id": "b7208f4a50fc5ebd05cc965793d7d288",
          "latitude": 51.51410514,
          "longitude": -0.147301667,
          "name": "001042 - Woodstock Street, Mayfair",
          "timestamp": "2023-01-30T02:45:22.083000Z"
         },
         {
          "empty_slots": 13,
          "extra": {
           "installDate": "1279107480000",
           "installed": true,
           "locked": false,
           "name": "Finsbury Leisure Centre, St. Luke's",
           "removalDate": "",
           "temporary": false,
           "terminalName": "001049",
           "uid": 107
          },
          "free_bikes": 7,
          "id": "64765752ee49b94e43e906b5d41fb1b8",
          "latitude": 51.52600832,
          "longitude": -0.096317627,
          "name": "001049 - Finsbury Leisure Centre, St. Luke's",
          "timestamp": "2023-01-30T02:45:22.084000Z"
         },
         {
          "empty_slots": 27,
          "extra": {
           "installDate": "1279107720000",
           "installed": true,
           "locked": false,
           "name": "Abbey Orchard Street, Westminster",
           "removalDate": "",
           "temporary": false,
           "terminalName": "003429",
           "uid": 108
          },
          "free_bikes": 2,
          "id": "2e58420ba565800834858cb4a8afcde6",
          "latitude": 51.49812559,
          "longitude": -0.132102166,
          "name": "003429 - Abbey Orchard Street, Westminster",
          "timestamp": "2023-01-30T02:45:22.085000Z"
         },
         {
          "empty_slots": 9,
          "extra": {
           "installDate": "1279108320000",
           "installed": true,
           "locked": false,
           "name": "Soho Square , Soho",
           "removalDate": "",
           "temporary": false,
           "terminalName": "001052",
           "uid": 109
          },
          "free_bikes": 48,
          "id": "69ec102a3c57d63da8b14362270ff37c",
          "latitude": 51.51563144,
          "longitude": -0.132328837,
          "name": "001052 - Soho Square , Soho",
          "timestamp": "2023-01-30T02:45:22.086000Z"
         },
         {
          "empty_slots": 15,
          "extra": {
           "installDate": "1279108920000",
           "installed": true,
           "locked": false,
           "name": "Wellington Road, St. John's Wood",
           "removalDate": "",
           "temporary": false,
           "terminalName": "001055",
           "uid": 110
          },
          "free_bikes": 2,
          "id": "ba9e95e11a120e75eeda6056cc2abbd3",
          "latitude": 51.53304322,
          "longitude": -0.172528678,
          "name": "001055 - Wellington Road, St. John's Wood",
          "timestamp": "2023-01-30T02:45:22.086000Z"
         },
         {
          "empty_slots": 0,
          "extra": {
           "installDate": "1279109160000",
           "installed": true,
           "locked": false,
           "name": "Park Lane , Hyde Park",
           "removalDate": "",
           "temporary": false,
           "terminalName": "001037",
           "uid": 111
          },
          "free_bikes": 28,
          "id": "0f1607337db3f448a30c88647bf8842d",
          "latitude": 51.5100172,
          "longitude": -0.157275636,
          "name": "001037 - Park Lane , Hyde Park",
          "timestamp": "2023-01-30T02:45:22.087000Z"
         },
         {
          "empty_slots": 16,
          "extra": {
           "installDate": "1279119900000",
           "installed": true,
           "locked": false,
           "name": "Park Road (Baker Street), The Regent's Park",
           "removalDate": "",
           "temporary": false,
           "terminalName": "001050",
           "uid": 114
          },
          "free_bikes": 6,
          "id": "af92be8d5fd90a932222d0921beb37d8",
          "latitude": 51.52451738,
          "longitude": -0.158963647,
          "name": "001050 - Park Road (Baker Street), The Regent's Park",
          "timestamp": "2023-01-30T02:45:22.090000Z"
         },
         {
          "empty_slots": 6,
          "extra": {
           "installDate": "1279122360000",
           "installed": true,
           "locked": false,
           "name": "Little Argyll Street, West End",
           "removalDate": "",
           "temporary": false,
           "terminalName": "000995",
           "uid": 116
          },
          "free_bikes": 15,
          "id": "d46fb01d95c44d99b48a515a6fc304ed",
          "latitude": 51.51449962,
          "longitude": -0.141423695,
          "name": "000995 - Little Argyll Street, West End",
          "timestamp": "2023-01-30T02:45:22.091000Z"
         },
         {
          "empty_slots": 12,
          "extra": {
           "installDate": "1279124520000",
           "installed": true,
           "locked": false,
           "name": "Rochester Row, Westminster",
           "removalDate": "",
           "temporary": false,
           "terminalName": "003457",
           "uid": 118
          },
          "free_bikes": 1,
          "id": "d934ab5acccbbb3f3355b65760d2c188",
          "latitude": 51.49582705,
          "longitude": -0.13547809,
          "name": "003457 - Rochester Row, Westminster",
          "timestamp": "2023-01-30T02:45:22.100000Z"
         },
         {
          "empty_slots": 52,
          "extra": {
           "installDate": "1279193340000",
           "installed": true,
           "locked": false,
           "name": "Museum of London, Barbican",
           "removalDate": "",
           "temporary": false,
           "terminalName": "001043",
           "uid": 126
          },
          "free_bikes": 0,
          "id": "192af6c05ee0929d16619c738b4bf2f7",
          "latitude": 51.51782144,
          "longitude": -0.096496865,
          "name": "001043 - Museum of London, Barbican",
          "timestamp": "2023-01-30T02:45:22.111000Z"
         },
         {
          "empty_slots": 15,
          "extra": {
           "installDate": "1279194060000",
           "installed": true,
           "locked": false,
           "name": "Emperor's Gate, South Kensington",
           "removalDate": "",
           "temporary": false,
           "terminalName": "001116",
           "uid": 128
          },
          "free_bikes": 7,
          "id": "e6e811c6c149dd40b03bde12f529f00f",
          "latitude": 51.49536226,
          "longitude": -0.185296516,
          "name": "001116 - Emperor's Gate, South Kensington",
          "timestamp": "2023-01-30T02:45:22.112000Z"
         },
         {
          "empty_slots": 6,
          "extra": {
           "installDate": "1279200900000",
           "installed": true,
           "locked": false,
           "name": "Wapping High Street, Wapping",
           "removalDate": "",
           "temporary": false,
           "terminalName": "001039",
           "uid": 134
          },
          "free_bikes": 14,
          "id": "84ac66ae23991053fd3954c960377f24",
          "latitude": 51.504904,
          "longitude": -0.06797,
          "name": "001039 - Wapping High Street, Wapping",
          "timestamp": "2023-01-30T02:45:22.116000Z"
         },
         {
          "empty_slots": 1,
          "extra": {
           "installDate": "1279201080000",
           "installed": true,
           "locked": false,
           "name": "Clerkenwell Green, Clerkenwell",
           "removalDate": "",
           "temporary": false,
           "terminalName": "001053",
           "uid": 135
          },
          "free_bikes": 20,
          "id": "2f1b132e8ba437cf2c675a845fea7265",
          "latitude": 51.52326004,
          "longitude": -0.104708922,
          "name": "001053 - Clerkenwell Green, Clerkenwell",
          "timestamp": "2023-01-30T02:45:22.117000Z"
         },
         {
          "empty_slots": 30,
          "extra": {
           "installDate": "1279201200000",
           "installed": true,
           "locked": false,
           "name": "Queen Victoria Street, St. Paul's",
           "removalDate": "",
           "temporary": false,
           "terminalName": "001048",
           "uid": 136
          },
          "free_bikes": 2,
          "id": "cda3e1dfbb85c291f1d7f50af91e4e4b",
          "latitude": 51.51196176,
          "longitude": -0.097441687,
          "name": "001048 - Queen Victoria Street, St. Paul's",
          "timestamp": "2023-01-30T02:45:22.118000Z"
         },
         {
          "empty_slots": 10,
          "extra": {
           "installDate": "1279205220000",
           "installed": true,
           "locked": false,
           "name": "Green Street, Mayfair",
           "removalDate": "",
           "temporary": false,
           "terminalName": "003464",
           "uid": 138
          },
          "free_bikes": 9,
          "id": "875b49fd8018996a5f1840b6322d951b",
          "latitude": 51.51227622,
          "longitude": -0.157436972,
          "name": "003464 - Green Street, Mayfair",
          "timestamp": "2023-01-30T02:45:22.118000Z"
         },
         {
          "empty_slots": 17,
          "extra": {
           "installDate": "1279205580000",
           "installed": true,
           "locked": false,
           "name": "Finsbury Square , Moorgate",
           "removalDate": "",
           "temporary": false,
           "terminalName": "001056",
           "uid": 140
          },
          "free_bikes": 16,
          "id": "7a313e52da56a73b85d832b03d57f561",
          "latitude": 51.52096262,
          "longitude": -0.085634242,
          "name": "001056 - Finsbury Square , Moorgate",
          "timestamp": "2023-01-30T02:45:22.120000Z"
         },
         {
          "empty_slots": 27,
          "extra": {
           "installDate": "1279211580000",
           "installed": true,
           "locked": false,
           "name": "Kennington Cross, Kennington",
           "removalDate": "",
           "temporary": false,
           "terminalName": "001093",
           "uid": 144
          },
          "free_bikes": 20,
          "id": "6f0da70cca0d21bcec718b81b1f7ad4a",
          "latitude": 51.48894022,
          "longitude": -0.111435796,
          "name": "001093 - Kennington Cross, Kennington",
          "timestamp": "2023-01-30T02:45:22.123000Z"
         },
         {
          "empty_slots": 17,
          "extra": {
           "installDate": "1279212180000",
           "installed": true,
           "locked": false,
           "name": "Ilchester Place, Kensington",
           "removalDate": "",
           "temporary": false,
           "terminalName": "001115",
           "uid": 145
          },
          "free_bikes": 7,
          "id": "df9f5907d8bc1abc5886ab3e8f030292",
          "latitude": 51.50074359,
          "longitude": -0.202759212,
          "name": "001115 - Ilchester Place, Kensington",
          "timestamp": "2023-01-30T02:45:22.124000Z"
         },
         {
          "empty_slots": 26,
          "extra": {
           "installDate": "1279212360000",
           "installed": true,
           "locked": false,
           "name": "Vauxhall Bridge , Pimlico",
           "removalDate": "",
           "temporary": false,
           "terminalName": "001046",
           "uid": 146
          },
          "free_bikes": 9,
          "id": "e387517d593a5fb0f9285d10114b7be9",
          "latitude": 51.48836528,
          "longitude": -0.129361842,
          "name": "001046 - Vauxhall Bridge , Pimlico",
          "timestamp": "2023-01-30T02:45:22.125000Z"
         },
         {
          "empty_slots": 16,
          "extra": {
           "installDate": "1279214760000",
           "installed": true,
           "locked": false,
           "name": "Portugal Street, Holborn",
           "removalDate": "",
           "temporary": false,
           "terminalName": "003456",
           "uid": 147
          },
          "free_bikes": 0,
          "id": "c1a56df0f3dff761f7955232efc5b3c2",
          "latitude": 51.51494305,
          "longitude": -0.11614642,
          "name": "003456 - Portugal Street, Holborn",
          "timestamp": "2023-01-30T02:45:22.126000Z"
         },
         {
          "empty_slots": 4,
          "extra": {
           "installDate": "1279215900000",
           "installed": true,
           "locked": false,
           "name": "Hampton Street, Walworth",
           "removalDate": "",
           "temporary": false,
           "terminalName": "001118",
           "uid": 152
          },
          "free_bikes": 17,
          "id": "349b2935f590e6258b7a77835b51126b",
          "latitude": 51.49217002,
          "longitude": -0.101536865,
          "name": "001118 - Hampton Street, Walworth",
          "timestamp": "2023-01-30T02:45:22.130000Z"
         },
         {
          "empty_slots": 12,
          "extra": {
           "installDate": "1279272660000",
           "installed": true,
           "locked": false,
           "name": "Lexham Gardens, Kensington",
           "removalDate": "",
           "temporary": false,
           "terminalName": "001121",
           "uid": 155
          },
          "free_bikes": 7,
          "id": "135df949e376eccd60c1439395b54c91",
          "latitude": 51.49586666,
          "longitude": -0.191933711,
          "name": "001121 - Lexham Gardens, Kensington",
          "timestamp": "2023-01-30T02:45:22.132000Z"
         },
         {
          "empty_slots": 9,
          "extra": {
           "installDate": "1279273320000",
           "installed": true,
           "locked": false,
           "name": "Trebovir Road, Earl's Court",
           "removalDate": "",
           "temporary": false,
           "terminalName": "001113",
           "uid": 158
          },
          "free_bikes": 9,
          "id": "655cec233ee257865f8da98f26e8077f",
          "latitude": 51.49085368,
          "longitude": -0.196170309,
          "name": "001113 - Trebovir Road, Earl's Court",
          "timestamp": "2023-01-30T02:45:22.138000Z"
         },
         {
          "empty_slots": 7,
          "extra": {
           "installDate": "1279274280000",
           "installed": true,
           "locked": false,
           "name": "Waterloo Place, St. James's",
           "removalDate": "",
           "temporary": false,
           "terminalName": "003458",
           "uid": 160
          },
          "free_bikes": 13,
          "id": "1bdad998deaa6975621b1c1bc6de6b1e",
          "latitude": 51.50663341,
          "longitude": -0.131773845,
          "name": "003458 - Waterloo Place, St. James's",
          "timestamp": "2023-01-30T02:45:22.139000Z"
         },
         {
          "empty_slots": 2,
          "extra": {
           "installDate": "1279286940000",
           "installed": true,
           "locked": false,
           "name": "Guildhouse Street, Victoria",
           "removalDate": "",
           "temporary": false,
           "terminalName": "003478",
           "uid": 161
          },
          "free_bikes": 14,
          "id": "4aafc6a5480978bfe21cd20a44fe9995",
          "latitude": 51.49234577,
          "longitude": -0.141334487,
          "name": "003478 - Guildhouse Street, Victoria",
          "timestamp": "2023-01-30T02:45:22.140000Z"
         },
         {
          "empty_slots": 20,
          "extra": {
           "installDate": "1279287120000",
           "installed": true,
           "locked": false,
           "name": "Southampton Place, Holborn",
           "removalDate": "",
           "temporary": false,
           "terminalName": "001123",
           "uid": 162
          },
          "free_bikes": 0,
          "id": "dccac47ca79292c05ee74492b18f4b17",
          "latitude": 51.51760685,
          "longitude": -0.121328408,
          "name": "001123 - Southampton Place, Holborn",
          "timestamp": "2023-01-30T02:45:22.141000Z"
         },
         {
          "empty_slots": 1,
          "extra": {
           "installDate": "1279287300000",
           "installed": true,
           "locked": false,
           "name": "Sloane Avenue, Knightsbridge",
           "removalDate": "",
           "temporary": false,
           "terminalName": "003461",
           "uid": 163
          },
          "free_bikes": 26,
          "id": "84960e34bea975c535e1a68f43826654",
          "latitude": 51.4931848,
          "longitude": -0.167894973,
          "name": "003461 - Sloane Avenue, Knightsbridge",
          "timestamp": "2023-01-30T02:45:22.142000Z"
         },
         {
          "empty_slots": 14,
          "extra": {
           "installDate": "1279287960000",
           "installed": true,
           "locked": false,
           "name": "Orsett Terrace, Bayswater",
           "removalDate": "",
           "temporary": false,
           "terminalName": "002585",
           "uid": 165
          },
          "free_bikes": 1,
          "id": "f7a3c78c90b093dbd5180740e0cd534e",
          "latitude": 51.517932,
          "longitude": -0.183716959,
          "name": "002585 - Orsett Terrace, Bayswater",
          "timestamp": "2023-01-30T02:45:22.144000Z"
         },
         {
          "empty_slots": 5,
          "extra": {
           "installDate": "1279289400000",
           "installed": true,
           "locked": false,
           "name": "Argyll Road, Kensington",
           "removalDate": "",
           "temporary": false,
           "terminalName": "003463",
           "uid": 168
          },
          "free_bikes": 14,
          "id": "7557892fad2c965c62483fd1184096fd",
          "latitude": 51.50040123,
          "longitude": -0.195455928,
          "name": "003463 - Argyll Road, Kensington",
          "timestamp": "2023-01-30T02:45:22.146000Z"
         },
         {
          "empty_slots": 17,
          "extra": {
           "installDate": "1279289760000",
           "installed": true,
           "locked": false,
           "name": "Porchester Place, Paddington",
           "removalDate": "",
           "temporary": false,
           "terminalName": "003477",
           "uid": 169
          },
          "free_bikes": 1,
          "id": "4a5e3fb94e4c3a95a10da349093a715e",
          "latitude": 51.51474612,
          "longitude": -0.165164288,
          "name": "003477 - Porchester Place, Paddington",
          "timestamp": "2023-01-30T02:45:22.147000Z"
         },
         {
          "empty_slots": 12,
          "extra": {
           "installDate": "1279291200000",
           "installed": true,
           "locked": false,
           "name": "Collingham Gardens, Earl's Court",
           "removalDate": "",
           "temporary": false,
           "terminalName": "003459",
           "uid": 171
          },
          "free_bikes": 2,
          "id": "1937b785eb3b88881c353b4b0285849b",
          "latitude": 51.4916156,
          "longitude": -0.186753859,
          "name": "003459 - Collingham Gardens, Earl's Court",
          "timestamp": "2023-01-30T02:45:22.149000Z"
         },
         {
          "empty_slots": 17,
          "extra": {
           "installDate": "1279291500000",
           "installed": true,
           "locked": false,
           "name": "Sumner Place, South Kensington",
           "removalDate": "",
           "temporary": false,
           "terminalName": "001124",
           "uid": 172
          },
          "free_bikes": 2,
          "id": "51acbe456158a598628a833232e6e2a2",
          "latitude": 51.49121192,
          "longitude": -0.173715911,
          "name": "001124 - Sumner Place, South Kensington",
          "timestamp": "2023-01-30T02:45:22.149000Z"
         },
         {
          "empty_slots": 4,
          "extra": {
           "installDate": "1279297740000",
           "installed": true,
           "locked": false,
           "name": "Ashley Place, Victoria",
           "removalDate": "",
           "temporary": false,
           "terminalName": "001122",
           "uid": 177
          },
          "free_bikes": 21,
          "id": "1136bc9f41f8ac2a6f7cf136c698b78a",
          "latitude": 51.49616092,
          "longitude": -0.140947636,
          "name": "001122 - Ashley Place, Victoria",
          "timestamp": "2023-01-30T02:45:22.153000Z"
         },
         {
          "empty_slots": 2,
          "extra": {
           "installDate": "1279297920000",
           "installed": true,
           "locked": false,
           "name": "Warwick Square, Pimlico",
           "removalDate": "",
           "temporary": false,
           "terminalName": "003460",
           "uid": 178
          },
          "free_bikes": 17,
          "id": "472240b0886fa0cc682fd7786ca41e8d",
          "latitude": 51.48985626,
          "longitude": -0.141923621,
          "name": "003460 - Warwick Square, Pimlico",
          "timestamp": "2023-01-30T02:45:22.154000Z"
         },
         {
          "empty_slots": 14,
          "extra": {
           "installDate": "1279298220000",
           "installed": true,
           "locked": false,
           "name": "North Audley Street, Mayfair",
           "removalDate": "",
           "temporary": false,
           "terminalName": "001126",
           "uid": 180
          },
          "free_bikes": 3,
          "id": "01995d3d3cff733f43d7809d397b3a7e",
          "latitude": 51.5129118,
          "longitude": -0.153645496,
          "name": "001126 - North Audley Street, Mayfair",
          "timestamp": "2023-01-30T02:45:22.155000Z"
         },
         {
          "empty_slots": 5,
          "extra": {
           "installDate": "1279298460000",
           "installed": true,
           "locked": false,
           "name": "Belgrave Square, Belgravia",
           "removalDate": "",
           "temporary": false,
           "terminalName": "003473",
           "uid": 181
          },
          "free_bikes": 16,
          "id": "c05f04b34ae586704595eabcff60a4b6",
          "latitude": 51.49941247,
          "longitude": -0.152317537,
          "name": "003473 - Belgrave Square, Belgravia",
          "timestamp": "2023-01-30T02:45:22.156000Z"
         },
         {
          "empty_slots": 13,
          "extra": {
           "installDate": "1279365480000",
           "installed": true,
           "locked": false,
           "name": "South Wharf Road, Paddington",
           "removalDate": "",
           "temporary": false,
           "terminalName": "001167",
           "uid": 186
          },
          "free_bikes": 3,
          "id": "cb8d64ceca4f008983502256de21105b",
          "latitude": 51.51733558,
          "longitude": -0.175810943,
          "name": "001167 - South Wharf Road, Paddington",
          "timestamp": "2023-01-30T02:45:22.171000Z"
         },
         {
          "empty_slots": 6,
          "extra": {
           "installDate": "1279376760000",
           "installed": true,
           "locked": false,
           "name": "Nutford Place, Marylebone",
           "removalDate": "",
           "temporary": false,
           "terminalName": "001112",
           "uid": 188
          },
          "free_bikes": 12,
          "id": "af6e4ecfa983d291fcff608792659dbf",
          "latitude": 51.5165179,
          "longitude": -0.164393768,
          "name": "001112 - Nutford Place, Marylebone",
          "timestamp": "2023-01-30T02:45:22.172000Z"
         },
         {
          "empty_slots": 15,
          "extra": {
           "installDate": "1279383300000",
           "installed": true,
           "locked": false,
           "name": "Wardour Street, Soho",
           "removalDate": "",
           "temporary": false,
           "terminalName": "001163",
           "uid": 192
          },
          "free_bikes": 1,
          "id": "4d67a81d9d7aae8a8bef68b05d7fce74",
          "latitude": 51.51251523,
          "longitude": -0.133201961,
          "name": "001163 - Wardour Street, Soho",
          "timestamp": "2023-01-30T02:45:22.175000Z"
         },
         {
          "empty_slots": 10,
          "extra": {
           "installDate": "1279392479395",
           "installed": true,
           "locked": false,
           "name": "Hop Exchange, The Borough",
           "removalDate": "",
           "temporary": false,
           "terminalName": "000960",
           "uid": 194
          },
          "free_bikes": 46,
          "id": "f8dfc16e9f34e5c21bfc24efe8831549",
          "latitude": 51.50462759,
          "longitude": -0.091773776,
          "name": "000960 - Hop Exchange, The Borough",
          "timestamp": "2023-01-30T02:45:22.177000Z"
         },
         {
          "empty_slots": 14,
          "extra": {
           "installDate": "1279441800000",
           "installed": true,
           "locked": false,
           "name": "Great Tower Street, Monument",
           "removalDate": "",
           "temporary": false,
           "terminalName": "001080",
           "uid": 199
          },
          "free_bikes": 10,
          "id": "c7c51ba2cbfd810b0f5b0d89f4349ff0",
          "latitude": 51.51048489,
          "longitude": -0.082989638,
          "name": "001080 - Great Tower Street, Monument",
          "timestamp": "2023-01-30T02:45:22.180000Z"
         },
         {
          "empty_slots": 22,
          "extra": {
           "installDate": "1279444320000",
           "installed": true,
           "locked": false,
           "name": "Leman Street, Aldgate",
           "removalDate": "",
           "temporary": false,
           "terminalName": "001102",
           "uid": 202
          },
          "free_bikes": 15,
          "id": "551cc979f64f7c74c95478f4ea2b59b0",
          "latitude": 51.51236389,
          "longitude": -0.06954201,
          "name": "001102 - Leman Street, Aldgate",
          "timestamp": "2023-01-30T02:45:22.182000Z"
         },
         {
          "empty_slots": 7,
          "extra": {
           "installDate": "1279445580000",
           "installed": true,
           "locked": false,
           "name": "West Smithfield Rotunda, Farringdon",
           "removalDate": "",
           "temporary": false,
           "terminalName": "001040",
           "uid": 203
          },
          "free_bikes": 8,
          "id": "558771e0ea7e67e8c6ca061364fcad88",
          "latitude": 51.51821864,
          "longitude": -0.100791005,
          "name": "001040 - West Smithfield Rotunda, Farringdon",
          "timestamp": "2023-01-30T02:45:22.183000Z"
         },
         {
          "empty_slots": 18,
          "extra": {
           "installDate": "1279466640000",
           "installed": true,
           "locked": false,
           "name": "Margery Street, Clerkenwell",
           "removalDate": "",
           "temporary": false,
           "terminalName": "003468",
           "uid": 204
          },
          "free_bikes": 1,
          "id": "ef8de55fa4b4d20044bf7ebd22e82f1a",
          "latitude": 51.52659961,
          "longitude": -0.112432615,
          "name": "003468 - Margery Street, Clerkenwell",
          "timestamp": "2023-01-30T02:45:22.184000Z"
         },
         {
          "empty_slots": 6,
          "extra": {
           "installDate": "1279535160000",
           "installed": true,
           "locked": false,
           "name": "Hinde Street, Marylebone",
           "removalDate": "",
           "temporary": false,
           "terminalName": "003476",
           "uid": 210
          },
          "free_bikes": 15,
          "id": "e0bd52c7b3db937a18db01cbf8f3ae6c",
          "latitude": 51.51681444,
          "longitude": -0.151926305,
          "name": "003476 - Hinde Street, Marylebone",
          "timestamp": "2023-01-30T02:45:22.188000Z"
         },
         {
          "empty_slots": 6,
          "extra": {
           "installDate": "1279535820000",
           "installed": true,
           "locked": false,
           "name": "Cadogan Place, Knightsbridge",
           "removalDate": "",
           "temporary": false,
           "terminalName": "003469",
           "uid": 211
          },
          "free_bikes": 28,
          "id": "4838dbea96e0282e553c5ffec7d2507b",
          "latitude": 51.49464523,
          "longitude": -0.158105512,
          "name": "003469 - Cadogan Place, Knightsbridge",
          "timestamp": "2023-01-30T02:45:22.189000Z"
         },
         {
          "empty_slots": 7,
          "extra": {
           "installDate": "1279537200000",
           "installed": true,
           "locked": false,
           "name": "Endsleigh Gardens, Euston",
           "removalDate": "",
           "temporary": false,
           "terminalName": "001079",
           "uid": 214
          },
          "free_bikes": 25,
          "id": "e9ab8c33c1f3332a109135bb8f4958bf",
          "latitude": 51.52683806,
          "longitude": -0.130504336,
          "name": "001079 - Endsleigh Gardens, Euston",
          "timestamp": "2023-01-30T02:45:22.191000Z"
         },
         {
          "empty_slots": 54,
          "extra": {
           "installDate": "1279537380000",
           "installed": true,
           "locked": false,
           "name": "Moorfields, Moorgate",
           "removalDate": "",
           "temporary": false,
           "terminalName": "001092",
           "uid": 215
          },
          "free_bikes": 0,
          "id": "98f517ce692ad8848d7a957cfc44d402",
          "latitude": 51.51906932,
          "longitude": -0.088285377,
          "name": "001092 - Moorfields, Moorgate",
          "timestamp": "2023-01-30T02:45:22.192000Z"
         },
         {
          "empty_slots": 25,
          "extra": {
           "installDate": "1279537920000",
           "installed": true,
           "locked": false,
           "name": "Old Brompton Road, South Kensington",
           "removalDate": "",
           "temporary": false,
           "terminalName": "003479",
           "uid": 216
          },
          "free_bikes": 5,
          "id": "44ff26b437e830b5b869ac206ef62434",
          "latitude": 51.49094565,
          "longitude": -0.181190899,
          "name": "003479 - Old Brompton Road, South Kensington",
          "timestamp": "2023-01-30T02:45:22.193000Z"
         },
         {
          "empty_slots": 7,
          "extra": {
           "installDate": "1279538040000",
           "installed": true,
           "locked": false,
           "name": "Wormwood Street, Liverpool Street",
           "removalDate": "",
           "temporary": false,
           "terminalName": "002587",
           "uid": 217
          },
          "free_bikes": 9,
          "id": "0e0da3923f69b417e9c9a6eda7d1cb72",
          "latitude": 51.51615461,
          "longitude": -0.082422399,
          "name": "002587 - Wormwood Street, Liverpool Street",
          "timestamp": "2023-01-30T02:45:22.194000Z"
         },
         {
          "empty_slots": 2,
          "extra": {
           "installDate": "1279543740000",
           "installed": true,
           "locked": false,
           "name": "St. Luke's Church, Chelsea",
           "removalDate": "",
           "temporary": false,
           "terminalName": "003486",
           "uid": 218
          },
          "free_bikes": 18,
          "id": "b33f0ba98da0a91add5a15cb71e6285e",
          "latitude": 51.48971651,
          "longitude": -0.170194408,
          "name": "003486 - St. Luke's Church, Chelsea",
          "timestamp": "2023-01-30T02:45:22.195000Z"
         },
         {
          "empty_slots": 13,
          "extra": {
           "installDate": "1279614420000",
           "installed": true,
           "locked": false,
           "name": "Rodney Road , Walworth",
           "removalDate": "",
           "temporary": false,
           "terminalName": "003481",
           "uid": 223
          },
          "free_bikes": 11,
          "id": "c372997154f979a7f79fbf335ba008f2",
          "latitude": 51.49148474,
          "longitude": -0.090220911,
          "name": "003481 - Rodney Road , Walworth",
          "timestamp": "2023-01-30T02:45:22.199000Z"
         },
         {
          "empty_slots": 5,
          "extra": {
           "installDate": "1279615020000",
           "installed": true,
           "locked": false,
           "name": "Queensway, Kensington Gardens",
           "removalDate": "",
           "temporary": false,
           "terminalName": "001150",
           "uid": 224
          },
          "free_bikes": 12,
          "id": "6c7376417da7dc3ff83663054b240c04",
          "latitude": 51.51031,
          "longitude": -0.18740235,
          "name": "001150 - Queensway, Kensington Gardens",
          "timestamp": "2023-01-30T02:45:22.200000Z"
         },
         {
          "empty_slots": 2,
          "extra": {
           "installDate": "1279616520000",
           "installed": true,
           "locked": false,
           "name": "Charles II Street, West End",
           "removalDate": "",
           "temporary": false,
           "terminalName": "003488",
           "uid": 226
          },
          "free_bikes": 22,
          "id": "0191ad8ece6d587cff8369b58327aacb",
          "latitude": 51.50844614,
          "longitude": -0.131961389,
          "name": "003488 - Charles II Street, West End",
          "timestamp": "2023-01-30T02:45:22.202000Z"
         },
         {
          "empty_slots": 8,
          "extra": {
           "installDate": "1279616700000",
           "installed": true,
           "locked": false,
           "name": "Great Percy Street, Clerkenwell",
           "removalDate": "",
           "temporary": false,
           "terminalName": "003470",
           "uid": 227
          },
          "free_bikes": 14,
          "id": "7b420d2107097aa229db5cc94bfe1e3c",
          "latitude": 51.52891573,
          "longitude": -0.115480888,
          "name": "003470 - Great Percy Street, Clerkenwell",
          "timestamp": "2023-01-30T02:45:22.203000Z"
         },
         {
          "empty_slots": 11,
          "extra": {
           "installDate": "1279616880000",
           "installed": true,
           "locked": false,
           "name": "St. James's Square, St. James's",
           "removalDate": "",
           "temporary": false,
           "terminalName": "001067",
           "uid": 228
          },
          "free_bikes": 29,
          "id": "3867c27ec16223caa0914ccab9bc37cf",
          "latitude": 51.50742485,
          "longitude": -0.134621209,
          "name": "001067 - St. James's Square, St. James's",
          "timestamp": "2023-01-30T02:45:22.203000Z"
         },
         {
          "empty_slots": 1,
          "extra": {
           "installDate": "1279618020000",
           "installed": true,
           "locked": false,
           "name": "Poured Lines, Bankside",
           "removalDate": "",
           "temporary": false,
           "terminalName": "001144",
           "uid": 230
          },
          "free_bikes": 30,
          "id": "11ae894c98e442b611293fff9ff8e8c5",
          "latitude": 51.50669284,
          "longitude": -0.103137426,
          "name": "001144 - Poured Lines, Bankside",
          "timestamp": "2023-01-30T02:45:22.205000Z"
         },
         {
          "empty_slots": 15,
          "extra": {
           "installDate": "1279623240000",
           "installed": true,
           "locked": false,
           "name": "Carey Street, Holborn",
           "removalDate": "",
           "temporary": false,
           "terminalName": "001139",
           "uid": 232
          },
          "free_bikes": 1,
          "id": "bfcb9cc430d19fd33ccef1a31eb34a39",
          "latitude": 51.51501025,
          "longitude": -0.112753217,
          "name": "001139 - Carey Street, Holborn",
          "timestamp": "2023-01-30T02:45:22.207000Z"
         },
         {
          "empty_slots": 1,
          "extra": {
           "installDate": "1279624260000",
           "installed": true,
           "locked": false,
           "name": "Pall Mall East, West End",
           "removalDate": "",
           "temporary": false,
           "terminalName": "001153",
           "uid": 233
          },
          "free_bikes": 21,
          "id": "b41baf49a00ce422208c33520ac42a70",
          "latitude": 51.50777049,
          "longitude": -0.130699733,
          "name": "001153 - Pall Mall East, West End",
          "timestamp": "2023-01-30T02:45:22.207000Z"
         },
         {
          "empty_slots": 25,
          "extra": {
           "installDate": "1279625640000",
           "installed": true,
           "locked": false,
           "name": "Kennington Road  , Vauxhall",
           "removalDate": "",
           "temporary": false,
           "terminalName": "001154",
           "uid": 235
          },
          "free_bikes": 11,
          "id": "36357d1b79aad476e8f97e70dde9f83c",
          "latitude": 51.49571828,
          "longitude": -0.110889274,
          "name": "001154 - Kennington Road  , Vauxhall",
          "timestamp": "2023-01-30T02:45:22.209000Z"
         },
         {
          "empty_slots": 8,
          "extra": {
           "installDate": "1279625940000",
           "installed": true,
           "locked": false,
           "name": "Fashion Street, Whitechapel",
           "removalDate": "",
           "temporary": false,
           "terminalName": "003483",
           "uid": 236
          },
          "free_bikes": 22,
          "id": "6754a242a6750e1897f6ad108a29881f",
          "latitude": 51.51838043,
          "longitude": -0.073438925,
          "name": "003483 - Fashion Street, Whitechapel",
          "timestamp": "2023-01-30T02:45:22.210000Z"
         },
         {
          "empty_slots": 16,
          "extra": {
           "installDate": "1279799040000",
           "installed": true,
           "locked": false,
           "name": "Dock Street, Wapping",
           "removalDate": "",
           "temporary": false,
           "terminalName": "003467",
           "uid": 237
          },
          "free_bikes": 14,
          "id": "b85e28c21e5f79e0eeedb25b01bd7023",
          "latitude": 51.5097860151,
          "longitude": -0.0681619805156,
          "name": "003467 - Dock Street, Wapping",
          "timestamp": "2023-01-30T02:45:22.211000Z"
         },
         {
          "empty_slots": 19,
          "extra": {
           "installDate": "1279628160000",
           "installed": true,
           "locked": false,
           "name": "Warren Street Station, Euston",
           "removalDate": "",
           "temporary": false,
           "terminalName": "001090",
           "uid": 239
          },
          "free_bikes": 7,
          "id": "4d46d714086250894e7fc4d2ededd7b5",
          "latitude": 51.52443845,
          "longitude": -0.138019439,
          "name": "001090 - Warren Street Station, Euston",
          "timestamp": "2023-01-30T02:45:22.212000Z"
         },
         {
          "empty_slots": 14,
          "extra": {
           "installDate": "1279628640000",
           "installed": true,
           "locked": false,
           "name": "Beaumont Street, Marylebone",
           "removalDate": "",
           "temporary": false,
           "terminalName": "003482",
           "uid": 242
          },
          "free_bikes": 9,
          "id": "56786fa54c6f0d4be50f39668da7119d",
          "latitude": 51.52200801,
          "longitude": -0.151359288,
          "name": "003482 - Beaumont Street, Marylebone",
          "timestamp": "2023-01-30T02:45:22.214000Z"
         },
         {
          "empty_slots": 8,
          "extra": {
           "installDate": "1279629240000",
           "installed": true,
           "locked": false,
           "name": "Earnshaw Street , Covent Garden",
           "removalDate": "",
           "temporary": false,
           "terminalName": "001145",
           "uid": 244
          },
          "free_bikes": 10,
          "id": "cdfe1eefce180c10fee9fd7dabeef715",
          "latitude": 51.51611887,
          "longitude": -0.128585022,
          "name": "001145 - Earnshaw Street , Covent Garden",
          "timestamp": "2023-01-30T02:45:22.216000Z"
         },
         {
          "empty_slots": 16,
          "extra": {
           "installDate": "1279629660000",
           "installed": true,
           "locked": false,
           "name": "Grosvenor Road, Pimlico",
           "removalDate": "",
           "temporary": false,
           "terminalName": "001140",
           "uid": 245
          },
          "free_bikes": 13,
          "id": "2293635ff034ae614ff2679f273e6972",
          "latitude": 51.4853572,
          "longitude": -0.142207481,
          "name": "001140 - Grosvenor Road, Pimlico",
          "timestamp": "2023-01-30T02:45:22.216000Z"
         },
         {
          "empty_slots": 34,
          "extra": {
           "installDate": "1279639740000",
           "installed": true,
           "locked": false,
           "name": "Berry Street, Clerkenwell",
           "removalDate": "",
           "temporary": false,
           "terminalName": "001159",
           "uid": 246
          },
          "free_bikes": 7,
          "id": "c68f812c22596a520fa7cd2fee575e8d",
          "latitude": 51.52285301,
          "longitude": -0.099994052,
          "name": "001159 - Berry Street, Clerkenwell",
          "timestamp": "2023-01-30T02:45:22.217000Z"
         },
         {
          "empty_slots": 29,
          "extra": {
           "installDate": "1279700160000",
           "installed": true,
           "locked": false,
           "name": "Brushfield Street, Liverpool Street",
           "removalDate": "",
           "temporary": false,
           "terminalName": "001161",
           "uid": 251
          },
          "free_bikes": 5,
          "id": "e4b16b74ee97108fd8e5fd9cebbcd480",
          "latitude": 51.518908,
          "longitude": -0.079249,
          "name": "001161 - Brushfield Street, Liverpool Street",
          "timestamp": "2023-01-30T02:45:22.222000Z"
         },
         {
          "empty_slots": 13,
          "extra": {
           "installDate": "1279700820000",
           "installed": true,
           "locked": false,
           "name": "Shoreditch Park, Hoxton",
           "removalDate": "",
           "temporary": false,
           "terminalName": "001051",
           "uid": 253
          },
          "free_bikes": 17,
          "id": "b5492904b8e688d168315f1f272e6bd0",
          "latitude": 51.53404294,
          "longitude": -0.086379717,
          "name": "001051 - Shoreditch Park, Hoxton",
          "timestamp": "2023-01-30T02:45:22.223000Z"
         },
         {
          "empty_slots": 16,
          "extra": {
           "installDate": "1279700940000",
           "installed": true,
           "locked": false,
           "name": "Chadwell Street, Angel",
           "removalDate": "",
           "temporary": false,
           "terminalName": "003471",
           "uid": 254
          },
          "free_bikes": 2,
          "id": "bba639efc6aa2bfb2fa3c9762ce92600",
          "latitude": 51.53051587,
          "longitude": -0.106408455,
          "name": "003471 - Chadwell Street, Angel",
          "timestamp": "2023-01-30T02:45:22.224000Z"
         },
         {
          "empty_slots": 13,
          "extra": {
           "installDate": "1279708020000",
           "installed": true,
           "locked": false,
           "name": "Houghton Street, Strand",
           "removalDate": "",
           "temporary": false,
           "terminalName": "003484",
           "uid": 256
          },
          "free_bikes": 2,
          "id": "e14fe63baf41df4b9f0b96bee6895267",
          "latitude": 51.51362054,
          "longitude": -0.116764211,
          "name": "003484 - Houghton Street, Strand",
          "timestamp": "2023-01-30T02:45:22.231000Z"
         },
         {
          "empty_slots": 2,
          "extra": {
           "installDate": "1279711020000",
           "installed": true,
           "locked": false,
           "name": "Broadwick Street, Soho",
           "removalDate": "",
           "temporary": false,
           "terminalName": "003489",
           "uid": 260
          },
          "free_bikes": 16,
          "id": "314bdb3ef5ec9df9f21c179d59808dff",
          "latitude": 51.5136846,
          "longitude": -0.135580879,
          "name": "003489 - Broadwick Street, Soho",
          "timestamp": "2023-01-30T02:45:22.235000Z"
         },
         {
          "empty_slots": 16,
          "extra": {
           "installDate": "1279711200000",
           "installed": true,
           "locked": false,
           "name": "Princes Square, Bayswater",
           "removalDate": "",
           "temporary": false,
           "terminalName": "003491",
           "uid": 261
          },
          "free_bikes": 0,
          "id": "4a4e7d4e529dab07f129b7ee61ea8a9f",
          "latitude": 51.5134891,
          "longitude": -0.191351186,
          "name": "003491 - Princes Square, Bayswater",
          "timestamp": "2023-01-30T02:45:22.236000Z"
         },
         {
          "empty_slots": 7,
          "extra": {
           "installDate": "1279712520000",
           "installed": true,
           "locked": false,
           "name": "Tysoe Street, Clerkenwell",
           "removalDate": "",
           "temporary": false,
           "terminalName": "001146",
           "uid": 264
          },
          "free_bikes": 13,
          "id": "cd6c181cd00ff28ffd8456e2e2b896ba",
          "latitude": 51.52644342,
          "longitude": -0.109256828,
          "name": "001146 - Tysoe Street, Clerkenwell",
          "timestamp": "2023-01-30T02:45:22.238000Z"
         },
         {
          "empty_slots": 8,
          "extra": {
           "installDate": "1279714320000",
           "installed": true,
           "locked": false,
           "name": "Southwick Street, Paddington",
           "removalDate": "",
           "temporary": false,
           "terminalName": "003490",
           "uid": 265
          },
          "free_bikes": 9,
          "id": "6a07ad979e0dfd00f4efa37de319c679",
          "latitude": 51.51595344,
          "longitude": -0.169249375,
          "name": "003490 - Southwick Street, Paddington",
          "timestamp": "2023-01-30T02:45:22.239000Z"
         },
         {
          "empty_slots": 19,
          "extra": {
           "installDate": "1279714740000",
           "installed": true,
           "locked": false,
           "name": "Regency Street, Westminster",
           "removalDate": "",
           "temporary": false,
           "terminalName": "001155",
           "uid": 267
          },
          "free_bikes": 3,
          "id": "0fff4a36bcc719131b5b5f1452148c1a",
          "latitude": 51.49206037,
          "longitude": -0.132224622,
          "name": "001155 - Regency Street, Westminster",
          "timestamp": "2023-01-30T02:45:22.241000Z"
         },
         {
          "empty_slots": 32,
          "extra": {
           "installDate": "1279715100000",
           "installed": true,
           "locked": false,
           "name": "Empire Square, The Borough",
           "removalDate": "",
           "temporary": false,
           "terminalName": "001209",
           "uid": 269
          },
          "free_bikes": 14,
          "id": "021c9ca075163dcca7edbe920bf0d586",
          "latitude": 51.50082346,
          "longitude": -0.089740764,
          "name": "001209 - Empire Square, The Borough",
          "timestamp": "2023-01-30T02:45:22.242000Z"
         },
         {
          "empty_slots": 10,
          "extra": {
           "installDate": "1279720380000",
           "installed": true,
           "locked": false,
           "name": "Kennington Lane Rail Bridge, Vauxhall",
           "removalDate": "",
           "temporary": false,
           "terminalName": "001190",
           "uid": 270
          },
          "free_bikes": 21,
          "id": "056303b9788eab5234cff4abb1bdeff9",
          "latitude": 51.4863434,
          "longitude": -0.122492418,
          "name": "001190 - Kennington Lane Rail Bridge, Vauxhall",
          "timestamp": "2023-01-30T02:45:22.243000Z"
         },
         {
          "empty_slots": 17,
          "extra": {
           "installDate": "1279720920000",
           "installed": true,
           "locked": false,
           "name": "London Zoo,  The Regent's Park",
           "removalDate": "",
           "temporary": false,
           "terminalName": "001136",
           "uid": 271
          },
          "free_bikes": 15,
          "id": "4fea1b4bf76fd7849d6bce8682a8a0d4",
          "latitude": 51.53583617,
          "longitude": -0.156285395,
          "name": "001136 - London Zoo,  The Regent's Park",
          "timestamp": "2023-01-30T02:45:22.244000Z"
         },
         {
          "empty_slots": 16,
          "extra": {
           "installDate": "1279721220000",
           "installed": true,
           "locked": false,
           "name": "Baylis Road, Waterloo",
           "removalDate": "",
           "temporary": false,
           "terminalName": "001133",
           "uid": 272
          },
          "free_bikes": 6,
          "id": "60428640cbb2e1d4986a8fd9f8f440ac",
          "latitude": 51.50144456,
          "longitude": -0.110699309,
          "name": "001133 - Baylis Road, Waterloo",
          "timestamp": "2023-01-30T02:45:22.245000Z"
         },
         {
          "empty_slots": 31,
          "extra": {
           "installDate": "1279721580000",
           "installed": true,
           "locked": false,
           "name": "Warwick Road, Olympia",
           "removalDate": "",
           "temporary": false,
           "terminalName": "001134",
           "uid": 274
          },
          "free_bikes": 5,
          "id": "cd3e444571fd09b673c092f8e3bfbb52",
          "latitude": 51.49671237,
          "longitude": -0.20528437,
          "name": "001134 - Warwick Road, Olympia",
          "timestamp": "2023-01-30T02:45:22.246000Z"
         },
         {
          "empty_slots": 1,
          "extra": {
           "installDate": "1279723320000",
           "installed": true,
           "locked": false,
           "name": "Kensington Church Street, Kensington",
           "removalDate": "",
           "temporary": false,
           "terminalName": "001143",
           "uid": 277
          },
          "free_bikes": 16,
          "id": "03e4ed5b11a4fcefaa386917dd722a5b",
          "latitude": 51.50315739,
          "longitude": -0.191496313,
          "name": "001143 - Kensington Church Street, Kensington",
          "timestamp": "2023-01-30T02:45:22.249000Z"
         },
         {
          "empty_slots": 8,
          "extra": {
           "installDate": "1279723740000",
           "installed": true,
           "locked": false,
           "name": "North Wharf Road, Paddington",
           "removalDate": "",
           "temporary": false,
           "terminalName": "001108",
           "uid": 279
          },
          "free_bikes": 17,
          "id": "e346609eea29b41f4399239c102a38aa",
          "latitude": 51.51862243,
          "longitude": -0.176645823,
          "name": "001108 - North Wharf Road, Paddington",
          "timestamp": "2023-01-30T02:45:22.251000Z"
         },
         {
          "empty_slots": 6,
          "extra": {
           "installDate": "1279726440000",
           "installed": true,
           "locked": false,
           "name": "Royal Avenue 2, Chelsea",
           "removalDate": "",
           "temporary": false,
           "terminalName": "003462",
           "uid": 280
          },
          "free_bikes": 4,
          "id": "ffb92bc589f72ac1783e5696b0714e01",
          "latitude": 51.490083,
          "longitude": -0.162418,
          "name": "003462 - Royal Avenue 2, Chelsea",
          "timestamp": "2023-01-30T02:45:22.251000Z"
         },
         {
          "empty_slots": 12,
          "extra": {
           "installDate": "1279726620000",
           "installed": true,
           "locked": false,
           "name": "Smith Square, Westminster",
           "removalDate": "",
           "temporary": false,
           "terminalName": "003480",
           "uid": 281
          },
          "free_bikes": 6,
          "id": "6c059635b05bf7be510ef4eaff29e93c",
          "latitude": 51.49580589,
          "longitude": -0.127575233,
          "name": "003480 - Smith Square, Westminster",
          "timestamp": "2023-01-30T02:45:22.252000Z"
         },
         {
          "empty_slots": 1,
          "extra": {
           "installDate": "1279727220000",
           "installed": true,
           "locked": false,
           "name": "Kingsway, Covent Garden",
           "removalDate": "",
           "temporary": false,
           "terminalName": "001141",
           "uid": 283
          },
          "free_bikes": 15,
          "id": "e009f8e00b6b4d799332ba17e7571c7d",
          "latitude": 51.51440928,
          "longitude": -0.118478757,
          "name": "001141 - Kingsway, Covent Garden",
          "timestamp": "2023-01-30T02:45:22.254000Z"
         },
         {
          "empty_slots": 3,
          "extra": {
           "installDate": "1279727580000",
           "installed": true,
           "locked": false,
           "name": "Lambeth North Station, Waterloo",
           "removalDate": "",
           "temporary": false,
           "terminalName": "001117",
           "uid": 284
          },
          "free_bikes": 17,
          "id": "dffa4521a68058f10574f66997d074d1",
          "latitude": 51.49914063,
          "longitude": -0.112031483,
          "name": "001117 - Lambeth North Station, Waterloo",
          "timestamp": "2023-01-30T02:45:22.254000Z"
         },
         {
          "empty_slots": 18,
          "extra": {
           "installDate": "1279728060000",
           "installed": true,
           "locked": false,
           "name": "Bedford Way, Bloomsbury",
           "removalDate": "",
           "temporary": false,
           "terminalName": "001156",
           "uid": 287
          },
          "free_bikes": 5,
          "id": "362c216ecec8c67cb68c7c67a8ceb26e",
          "latitude": 51.52367314,
          "longitude": -0.128377673,
          "name": "001156 - Bedford Way, Bloomsbury",
          "timestamp": "2023-01-30T02:45:22.256000Z"
         },
         {
          "empty_slots": 3,
          "extra": {
           "installDate": "1279793820000",
           "installed": true,
           "locked": false,
           "name": "Elizabeth Bridge, Victoria",
           "removalDate": "",
           "temporary": false,
           "terminalName": "001138",
           "uid": 288
          },
          "free_bikes": 31,
          "id": "282e3f242d2799ecfd97d0e50197ecb9",
          "latitude": 51.49236962,
          "longitude": -0.147478734,
          "name": "001138 - Elizabeth Bridge, Victoria",
          "timestamp": "2023-01-30T02:45:22.256000Z"
         },
         {
          "empty_slots": 17,
          "extra": {
           "installDate": "1279795140000",
           "installed": true,
           "locked": false,
           "name": "St Mary's Hospital, Paddington",
           "removalDate": "",
           "temporary": false,
           "terminalName": "003496",
           "uid": 290
          },
          "free_bikes": 3,
          "id": "dfd18ac5219ce5af07ec776558277ed0",
          "latitude": 51.518268,
          "longitude": -0.17110323,
          "name": "003496 - St Mary's Hospital, Paddington",
          "timestamp": "2023-01-30T02:45:22.258000Z"
         },
         {
          "empty_slots": 22,
          "extra": {
           "installDate": "1279800420000",
           "installed": true,
           "locked": false,
           "name": "Claverton Street, Pimlico",
           "removalDate": "",
           "temporary": false,
           "terminalName": "001135",
           "uid": 291
          },
          "free_bikes": 10,
          "id": "62bc2304298cd9c782d8668fce5510d0",
          "latitude": 51.48483991,
          "longitude": -0.138089062,
          "name": "001135 - Claverton Street, Pimlico",
          "timestamp": "2023-01-30T02:45:22.258000Z"
         },
         {
          "empty_slots": 16,
          "extra": {
           "installDate": "1279800780000",
           "installed": true,
           "locked": false,
           "name": "Kensington Olympia Station, Olympia",
           "removalDate": "",
           "temporary": false,
           "terminalName": "001214",
           "uid": 293
          },
          "free_bikes": 9,
          "id": "2b5f1abbbff8e176025b26fae6f0b9ed",
          "latitude": 51.49815779,
          "longitude": -0.209494128,
          "name": "001214 - Kensington Olympia Station, Olympia",
          "timestamp": "2023-01-30T02:45:22.260000Z"
         },
         {
          "empty_slots": 17,
          "extra": {
           "installDate": "1279801080000",
           "installed": true,
           "locked": false,
           "name": "Swan Street, The Borough",
           "removalDate": "",
           "temporary": false,
           "terminalName": "001216",
           "uid": 295
          },
          "free_bikes": 10,
          "id": "b2f81c1785600d02194d55a8bbe7ba88",
          "latitude": 51.50029631,
          "longitude": -0.092762704,
          "name": "001216 - Swan Street, The Borough",
          "timestamp": "2023-01-30T02:45:22.261000Z"
         },
         {
          "empty_slots": 5,
          "extra": {
           "installDate": "1279801560000",
           "installed": true,
           "locked": false,
           "name": "Geraldine Street, Elephant & Castle",
           "removalDate": "",
           "temporary": false,
           "terminalName": "003498",
           "uid": 297
          },
          "free_bikes": 12,
          "id": "d042ccbaa7670a7032c4691d111e3afa",
          "latitude": 51.49612799,
          "longitude": -0.106000855,
          "name": "003498 - Geraldine Street, Elephant & Castle",
          "timestamp": "2023-01-30T02:45:22.263000Z"
         },
         {
          "empty_slots": 19,
          "extra": {
           "installDate": "1279809000000",
           "installed": true,
           "locked": false,
           "name": "Marylebone Lane, Marylebone",
           "removalDate": "",
           "temporary": false,
           "terminalName": "001152",
           "uid": 301
          },
          "free_bikes": 5,
          "id": "069a306e841aed284a84444048b364f2",
          "latitude": 51.51475963,
          "longitude": -0.148105415,
          "name": "001152 - Marylebone Lane, Marylebone",
          "timestamp": "2023-01-30T02:45:22.266000Z"
         },
         {
          "empty_slots": 8,
          "extra": {
           "installDate": "1279812360000",
           "installed": true,
           "locked": false,
           "name": "Putney Pier, Wandsworth",
           "removalDate": "",
           "temporary": false,
           "terminalName": "003492",
           "uid": 302
          },
          "free_bikes": 20,
          "id": "e48ca76cc8c32733296354cb32cdfe34",
          "latitude": 51.466907,
          "longitude": -0.216573,
          "name": "003492 - Putney Pier, Wandsworth",
          "timestamp": "2023-01-30T02:45:22.266000Z"
         },
         {
          "empty_slots": 19,
          "extra": {
           "installDate": "1279816500000",
           "installed": true,
           "locked": false,
           "name": "Black Lion Gate, Kensington Gardens",
           "removalDate": "",
           "temporary": false,
           "terminalName": "001157",
           "uid": 307
          },
          "free_bikes": 5,
          "id": "8ba0194daeb0ac4b294433cbe7d860a3",
          "latitude": 51.50990837,
          "longitude": -0.187842717,
          "name": "001157 - Black Lion Gate, Kensington Gardens",
          "timestamp": "2023-01-30T02:45:22.269000Z"
         },
         {
          "empty_slots": 15,
          "extra": {
           "installDate": "1279880100000",
           "installed": true,
           "locked": false,
           "name": "Foley Street, Fitzrovia",
           "removalDate": "",
           "temporary": false,
           "terminalName": "003494",
           "uid": 311
          },
          "free_bikes": 9,
          "id": "e51dfccac7bfccebc14b422e6d20103e",
          "latitude": 51.51918144,
          "longitude": -0.140485596,
          "name": "003494 - Foley Street, Fitzrovia",
          "timestamp": "2023-01-30T02:45:22.271000Z"
         },
         {
          "empty_slots": 17,
          "extra": {
           "installDate": "1279880340000",
           "installed": true,
           "locked": false,
           "name": "Grove End Road, St. John's Wood",
           "removalDate": "",
           "temporary": false,
           "terminalName": "001130",
           "uid": 312
          },
          "free_bikes": 3,
          "id": "5165a060dd8f374c43c8b90202e34020",
          "latitude": 51.53088935,
          "longitude": -0.176770502,
          "name": "001130 - Grove End Road, St. John's Wood",
          "timestamp": "2023-01-30T02:45:22.272000Z"
         },
         {
          "empty_slots": 24,
          "extra": {
           "installDate": "1279880520000",
           "installed": true,
           "locked": false,
           "name": "Wells Street, Fitzrovia",
           "removalDate": "",
           "temporary": false,
           "terminalName": "003495",
           "uid": 313
          },
          "free_bikes": 14,
          "id": "5e994c58439cd4e02d7426eab22467d8",
          "latitude": 51.51734403,
          "longitude": -0.138072691,
          "name": "003495 - Wells Street, Fitzrovia",
          "timestamp": "2023-01-30T02:45:22.273000Z"
         },
         {
          "empty_slots": 24,
          "extra": {
           "installDate": "1279884480000",
           "installed": true,
           "locked": false,
           "name": "Tyers Gate, Bermondsey",
           "removalDate": "",
           "temporary": false,
           "terminalName": "003485",
           "uid": 314
          },
          "free_bikes": 12,
          "id": "d44450634cab6bc0308883311ae165ea",
          "latitude": 51.50088934,
          "longitude": -0.083159352,
          "name": "003485 - Tyers Gate, Bermondsey",
          "timestamp": "2023-01-30T02:45:22.274000Z"
         },
         {
          "empty_slots": 1,
          "extra": {
           "installDate": "1279884840000",
           "installed": true,
           "locked": false,
           "name": "Warwick Row, Westminster",
           "removalDate": "1539845760000",
           "temporary": false,
           "terminalName": "000968",
           "uid": 316
          },
          "free_bikes": 20,
          "id": "2f86532efc540bb6ac562b048690f15d",
          "latitude": 51.497998,
          "longitude": -0.14296064,
          "name": "000968 - Warwick Row, Westminster",
          "timestamp": "2023-01-30T02:45:22.276000Z"
         },
         {
          "empty_slots": 13,
          "extra": {
           "installDate": "1279890360000",
           "installed": true,
           "locked": false,
           "name": "Baldwin Street, St. Luke's",
           "removalDate": "",
           "temporary": false,
           "terminalName": "003500",
           "uid": 319
          },
          "free_bikes": 8,
          "id": "db5f489cd151eb1dde78ab05e0cf806a",
          "latitude": 51.52702563,
          "longitude": -0.088542771,
          "name": "003500 - Baldwin Street, St. Luke's",
          "timestamp": "2023-01-30T02:45:22.278000Z"
         },
         {
          "empty_slots": 2,
          "extra": {
           "installDate": "1279890840000",
           "installed": true,
           "locked": false,
           "name": "Queen Mother Sports Centre, Victoria",
           "removalDate": "",
           "temporary": false,
           "terminalName": "001148",
           "uid": 320
          },
          "free_bikes": 24,
          "id": "957b94f2958deb69e503d3c6ea37baa6",
          "latitude": 51.49357351,
          "longitude": -0.139956043,
          "name": "001148 - Queen Mother Sports Centre, Victoria",
          "timestamp": "2023-01-30T02:45:22.279000Z"
         },
         {
          "empty_slots": 14,
          "extra": {
           "installDate": "1279891020000",
           "installed": true,
           "locked": false,
           "name": "Bermondsey Street, Bermondsey",
           "removalDate": "",
           "temporary": false,
           "terminalName": "002637",
           "uid": 321
          },
          "free_bikes": 10,
          "id": "6247c35c551e946ba9431f8a5c09bc6f",
          "latitude": 51.49785559,
          "longitude": -0.081608045,
          "name": "002637 - Bermondsey Street, Bermondsey",
          "timestamp": "2023-01-30T02:45:22.279000Z"
         },
         {
          "empty_slots": 1,
          "extra": {
           "installDate": "1279891920000",
           "installed": true,
           "locked": false,
           "name": "Palissy Street, Shoreditch",
           "removalDate": "",
           "temporary": false,
           "terminalName": "003502",
           "uid": 322
          },
          "free_bikes": 25,
          "id": "9559bd41bdd0b32ec6dfe2de4d10b425",
          "latitude": 51.526293,
          "longitude": -0.073955,
          "name": "003502 - Palissy Street, Shoreditch",
          "timestamp": "2023-01-30T02:45:22.280000Z"
         },
         {
          "empty_slots": 13,
          "extra": {
           "installDate": "1279892040000",
           "installed": true,
           "locked": false,
           "name": "Clifton Street, Shoreditch",
           "removalDate": "",
           "temporary": false,
           "terminalName": "003501",
           "uid": 323
          },
          "free_bikes": 11,
          "id": "e01094f7ad40343a0c7adac3e4bcad65",
          "latitude": 51.523196,
          "longitude": -0.083067,
          "name": "003501 - Clifton Street, Shoreditch",
          "timestamp": "2023-01-30T02:45:22.281000Z"
         },
         {
          "empty_slots": 6,
          "extra": {
           "installDate": "1279896840000",
           "installed": true,
           "locked": false,
           "name": "Graham Street, Angel",
           "removalDate": "",
           "temporary": false,
           "terminalName": "001131",
           "uid": 326
          },
          "free_bikes": 20,
          "id": "2d3a46775fd3177343d04ab2ddb36d31",
          "latitude": 51.53266186,
          "longitude": -0.099981142,
          "name": "001131 - Graham Street, Angel",
          "timestamp": "2023-01-30T02:45:22.283000Z"
         },
         {
          "empty_slots": 9,
          "extra": {
           "installDate": "1280133540000",
           "installed": true,
           "locked": false,
           "name": "New North Road 2, Hoxton",
           "removalDate": "",
           "temporary": false,
           "terminalName": "002641",
           "uid": 328
          },
          "free_bikes": 13,
          "id": "0fce6ee73e33ca39c6e551b9347a33ad",
          "latitude": 51.53114,
          "longitude": -0.086016,
          "name": "002641 - New North Road 2, Hoxton",
          "timestamp": "2023-01-30T02:45:22.283000Z"
         },
         {
          "empty_slots": 21,
          "extra": {
           "installDate": "1280133720000",
           "installed": true,
           "locked": false,
           "name": "Prince Albert Road, The Regent's Park",
           "removalDate": "",
           "temporary": false,
           "terminalName": "002636",
           "uid": 329
          },
          "free_bikes": 3,
          "id": "6a909175d0c128dedd6690508f47fceb",
          "latitude": 51.53589283,
          "longitude": -0.160854428,
          "name": "002636 - Prince Albert Road, The Regent's Park",
          "timestamp": "2023-01-30T02:45:22.284000Z"
         },
         {
          "empty_slots": 16,
          "extra": {
           "installDate": "1280141460000",
           "installed": true,
           "locked": false,
           "name": "Bunhill Row, Moorgate",
           "removalDate": "",
           "temporary": false,
           "terminalName": "001211",
           "uid": 331
          },
          "free_bikes": 14,
          "id": "17f03df378612d2d000989d143fd4cb3",
          "latitude": 51.52085887,
          "longitude": -0.089887855,
          "name": "001211 - Bunhill Row, Moorgate",
          "timestamp": "2023-01-30T02:45:22.285000Z"
         },
         {
          "empty_slots": 14,
          "extra": {
           "installDate": "1280142360000",
           "installed": true,
           "locked": false,
           "name": "Nevern Place, Earl's Court",
           "removalDate": "",
           "temporary": false,
           "terminalName": "001210",
           "uid": 332
          },
          "free_bikes": 6,
          "id": "7869387b7f03aea7253facf45a28c46a",
          "latitude": 51.49334336,
          "longitude": -0.194757949,
          "name": "001210 - Nevern Place, Earl's Court",
          "timestamp": "2023-01-30T02:45:22.286000Z"
         },
         {
          "empty_slots": 34,
          "extra": {
           "installDate": "1280142540000",
           "installed": true,
           "locked": false,
           "name": "Palace Gardens Terrace, Notting Hill",
           "removalDate": "",
           "temporary": false,
           "terminalName": "002633",
           "uid": 333
          },
          "free_bikes": 3,
          "id": "c22e168276f2e869a2e4c0f19be3c3bd",
          "latitude": 51.50860544,
          "longitude": -0.193764092,
          "name": "002633 - Palace Gardens Terrace, Notting Hill",
          "timestamp": "2023-01-30T02:45:22.287000Z"
         },
         {
          "empty_slots": 9,
          "extra": {
           "installDate": "1280152560000",
           "installed": true,
           "locked": false,
           "name": "Tavistock Street, Covent Garden",
           "removalDate": "",
           "temporary": false,
           "terminalName": "001207",
           "uid": 335
          },
          "free_bikes": 24,
          "id": "8ffd15ed4e59c4953e1caa6108cff5f3",
          "latitude": 51.51196803,
          "longitude": -0.120718759,
          "name": "001207 - Tavistock Street, Covent Garden",
          "timestamp": "2023-01-30T02:45:22.288000Z"
         },
         {
          "empty_slots": 1,
          "extra": {
           "installDate": "1280160600000",
           "installed": true,
           "locked": false,
           "name": "Risinghill Street, Angel",
           "removalDate": "",
           "temporary": false,
           "terminalName": "001127",
           "uid": 339
          },
          "free_bikes": 24,
          "id": "6344f46f873280d0f644c5c6e08f7b23",
          "latitude": 51.5333196,
          "longitude": -0.1117812,
          "name": "001127 - Risinghill Street, Angel",
          "timestamp": "2023-01-30T02:45:22.291000Z"
         },
         {
          "empty_slots": 13,
          "extra": {
           "installDate": "1280226120000",
           "installed": true,
           "locked": false,
           "name": "Goswell Road (City Uni), Finsbury",
           "removalDate": "",
           "temporary": false,
           "terminalName": "001222",
           "uid": 344
          },
          "free_bikes": 4,
          "id": "c09593793e317790e76f8ed39696c485",
          "latitude": 51.528246,
          "longitude": -0.10102611,
          "name": "001222 - Goswell Road (City Uni), Finsbury",
          "timestamp": "2023-01-30T02:45:22.294000Z"
         },
         {
          "empty_slots": 15,
          "extra": {
           "installDate": "1280229720000",
           "installed": true,
           "locked": false,
           "name": "Flood Street, Chelsea",
           "removalDate": "",
           "temporary": false,
           "terminalName": "001218",
           "uid": 345
          },
          "free_bikes": 18,
          "id": "23a69ac4ef6a7307d45f5a6f56eacdb3",
          "latitude": 51.48802358,
          "longitude": -0.166878535,
          "name": "001218 - Flood Street, Chelsea",
          "timestamp": "2023-01-30T02:45:22.295000Z"
         },
         {
          "empty_slots": 5,
          "extra": {
           "installDate": "1286790480000",
           "installed": true,
           "locked": false,
           "name": "Macclesfield Rd, St Lukes",
           "removalDate": "",
           "temporary": false,
           "terminalName": "001226",
           "uid": 351
          },
          "free_bikes": 23,
          "id": "685ec7e15de302e7e5b48cf569300276",
          "latitude": 51.529423,
          "longitude": -0.097122,
          "name": "001226 - Macclesfield Rd, St Lukes",
          "timestamp": "2023-01-30T02:45:22.298000Z"
         },
         {
          "empty_slots": 3,
          "extra": {
           "installDate": "1286796360000",
           "installed": true,
           "locked": false,
           "name": "Vauxhall Street, Vauxhall",
           "removalDate": "",
           "temporary": false,
           "terminalName": "001224",
           "uid": 352
          },
          "free_bikes": 16,
          "id": "b206d6f7fcd68bfd9c5bc5d44e8cc9e9",
          "latitude": 51.486965,
          "longitude": -0.116625,
          "name": "001224 - Vauxhall Street, Vauxhall",
          "timestamp": "2023-01-30T02:45:22.299000Z"
         },
         {
          "empty_slots": 12,
          "extra": {
           "installDate": "1290079860000",
           "installed": true,
           "locked": false,
           "name": "High Holborn , Covent Garden",
           "removalDate": "",
           "temporary": false,
           "terminalName": "001229",
           "uid": 358
          },
          "free_bikes": 8,
          "id": "a2bda91285c4211ec318b84e3093ea70",
          "latitude": 51.516226,
          "longitude": -0.124826,
          "name": "001229 - High Holborn , Covent Garden",
          "timestamp": "2023-01-30T02:45:22.304000Z"
         },
         {
          "empty_slots": 6,
          "extra": {
           "installDate": "1288950960000",
           "installed": true,
           "locked": false,
           "name": "Butler Place, Westminster",
           "removalDate": "",
           "temporary": false,
           "terminalName": "002662",
           "uid": 359
          },
          "free_bikes": 12,
          "id": "2bac4746bdb4724e87dcdb4cdf9e13fb",
          "latitude": 51.49782999,
          "longitude": -0.135440826,
          "name": "002662 - Butler Place, Westminster",
          "timestamp": "2023-01-30T02:45:22.304000Z"
         },
         {
          "empty_slots": 19,
          "extra": {
           "installDate": "1288958160000",
           "installed": true,
           "locked": false,
           "name": "Howick Place, Westminster",
           "removalDate": "",
           "temporary": false,
           "terminalName": "002666",
           "uid": 360
          },
          "free_bikes": 8,
          "id": "2e63a39cd85a12083f31d2022220a671",
          "latitude": 51.49675303,
          "longitude": -0.138733562,
          "name": "002666 - Howick Place, Westminster",
          "timestamp": "2023-01-30T02:45:22.305000Z"
         },
         {
          "empty_slots": 9,
          "extra": {
           "installDate": "",
           "installed": true,
           "locked": false,
           "name": "Harrowby Street, Marylebone",
           "removalDate": "",
           "temporary": false,
           "terminalName": "002680",
           "uid": 367
          },
          "free_bikes": 7,
          "id": "ff29665797070bd57a6f6fab26ea5f1f",
          "latitude": 51.5173721,
          "longitude": -0.1642075,
          "name": "002680 - Harrowby Street, Marylebone",
          "timestamp": "2023-01-30T02:45:22.309000Z"
         },
         {
          "empty_slots": 1,
          "extra": {
           "installDate": "1291201680000",
           "installed": true,
           "locked": false,
           "name": "Harriet Street, Knightsbridge",
           "removalDate": "",
           "temporary": false,
           "terminalName": "002681",
           "uid": 368
          },
          "free_bikes": 24,
          "id": "1ef34aa90f6cb964a929a6ce99413e60",
          "latitude": 51.50024195,
          "longitude": -0.15934065,
          "name": "002681 - Harriet Street, Knightsbridge",
          "timestamp": "2023-01-30T02:45:22.310000Z"
         },
         {
          "empty_slots": 17,
          "extra": {
           "installDate": "1291647300000",
           "installed": true,
           "locked": false,
           "name": "Paddington Green, Paddington",
           "removalDate": "",
           "temporary": false,
           "terminalName": "002670",
           "uid": 370
          },
          "free_bikes": 3,
          "id": "392ea98fd6b699f24a565c640ab7278d",
          "latitude": 51.520205,
          "longitude": -0.174593,
          "name": "002670 - Paddington Green, Paddington",
          "timestamp": "2023-01-30T02:45:22.310000Z"
         },
         {
          "empty_slots": 1,
          "extra": {
           "installDate": "1291712820000",
           "installed": true,
           "locked": false,
           "name": "King Edward Walk, Waterloo",
           "removalDate": "",
           "temporary": false,
           "terminalName": "002639",
           "uid": 371
          },
          "free_bikes": 21,
          "id": "5e8fa1295724fc52ac1b607c742f5ca8",
          "latitude": 51.49775,
          "longitude": -0.10988,
          "name": "002639 - King Edward Walk, Waterloo",
          "timestamp": "2023-01-30T02:45:22.311000Z"
         },
         {
          "empty_slots": 24,
          "extra": {
           "installDate": "1291713000000",
           "installed": true,
           "locked": false,
           "name": "Sardinia Street, Holborn",
           "removalDate": "",
           "temporary": false,
           "terminalName": "002649",
           "uid": 372
          },
          "free_bikes": 0,
          "id": "d8c7f5fc1ef650ef9609a03113f42d44",
          "latitude": 51.515208,
          "longitude": -0.117863,
          "name": "002649 - Sardinia Street, Holborn",
          "timestamp": "2023-01-30T02:45:22.312000Z"
         },
         {
          "empty_slots": 24,
          "extra": {
           "installDate": "1294660980000",
           "installed": true,
           "locked": false,
           "name": "Millbank Tower, Pimlico",
           "removalDate": "",
           "temporary": false,
           "terminalName": "002683",
           "uid": 376
          },
          "free_bikes": 0,
          "id": "4f85079dd0dcd2d273f345f240fc95f5",
          "latitude": 51.49188409,
          "longitude": -0.125674815,
          "name": "002683 - Millbank Tower, Pimlico",
          "timestamp": "2023-01-30T02:45:22.314000Z"
         },
         {
          "empty_slots": 4,
          "extra": {
           "installDate": "1297159320000",
           "installed": true,
           "locked": false,
           "name": "Farm Street, Mayfair",
           "removalDate": "",
           "temporary": false,
           "terminalName": "002678",
           "uid": 382
          },
          "free_bikes": 11,
          "id": "dbb810088675fbd1e9fb791148c0675c",
          "latitude": 51.50935171,
          "longitude": -0.14744969,
          "name": "002678 - Farm Street, Mayfair",
          "timestamp": "2023-01-30T02:45:22.318000Z"
         },
         {
          "empty_slots": 10,
          "extra": {
           "installDate": "1296649200000",
           "installed": true,
           "locked": false,
           "name": "Frith Street, Soho",
           "removalDate": "",
           "temporary": false,
           "terminalName": "002660",
           "uid": 383
          },
          "free_bikes": 8,
          "id": "ddd725293d95765460863e665a2656b2",
          "latitude": 51.51310333,
          "longitude": -0.13121385,
          "name": "002660 - Frith Street, Soho",
          "timestamp": "2023-01-30T02:45:22.319000Z"
         },
         {
          "empty_slots": 8,
          "extra": {
           "installDate": "1296732540000",
           "installed": true,
           "locked": false,
           "name": "Moor Street, Soho",
           "removalDate": "",
           "temporary": false,
           "terminalName": "003504",
           "uid": 386
          },
          "free_bikes": 8,
          "id": "ce3a271d24b321f0c5f986f81d04e4b0",
          "latitude": 51.51352755,
          "longitude": -0.130110822,
          "name": "003504 - Moor Street, Soho",
          "timestamp": "2023-01-30T02:45:22.320000Z"
         },
         {
          "empty_slots": 1,
          "extra": {
           "installDate": "1297182180000",
           "installed": true,
           "locked": false,
           "name": "Southampton Street, Strand",
           "removalDate": "",
           "temporary": false,
           "terminalName": "001228",
           "uid": 388
          },
          "free_bikes": 13,
          "id": "64c998bc2d9034829c4561256b2e5036",
          "latitude": 51.51070161,
          "longitude": -0.121723604,
          "name": "001228 - Southampton Street, Strand",
          "timestamp": "2023-01-30T02:45:22.322000Z"
         },
         {
          "empty_slots": 1,
          "extra": {
           "installDate": "1297764360000",
           "installed": true,
           "locked": false,
           "name": "Buxton Street 1, Shoreditch",
           "removalDate": "",
           "temporary": false,
           "terminalName": "001223",
           "uid": 390
          },
          "free_bikes": 40,
          "id": "d86287521da384a2de8efb32dfc81ae7",
          "latitude": 51.521776,
          "longitude": -0.068856,
          "name": "001223 - Buxton Street 1, Shoreditch",
          "timestamp": "2023-01-30T02:45:22.323000Z"
         },
         {
          "empty_slots": 12,
          "extra": {
           "installDate": "1299075900000",
           "installed": true,
           "locked": false,
           "name": "Devonshire Terrace, Bayswater",
           "removalDate": "",
           "temporary": false,
           "terminalName": "001227",
           "uid": 397
          },
          "free_bikes": 4,
          "id": "d2f24b0789a5bdeca881d2fd9cd4f5fd",
          "latitude": 51.51348,
          "longitude": -0.17977,
          "name": "001227 - Devonshire Terrace, Bayswater",
          "timestamp": "2023-01-30T02:45:22.329000Z"
         },
         {
          "empty_slots": 24,
          "extra": {
           "installDate": "",
           "installed": true,
           "locked": false,
           "name": "Sun Street, Liverpool Street",
           "removalDate": "",
           "temporary": false,
           "terminalName": "001129",
           "uid": 408
          },
          "free_bikes": 0,
          "id": "48c62bda2793ce5deac0a94be8e51838",
          "latitude": 51.520009,
          "longitude": -0.083935724,
          "name": "001129 - Sun Street, Liverpool Street",
          "timestamp": "2023-01-30T02:45:22.335000Z"
         },
         {
          "empty_slots": 16,
          "extra": {
           "installDate": "",
           "installed": true,
           "locked": false,
           "name": "Strata, Elephant & Castle",
           "removalDate": "",
           "temporary": false,
           "terminalName": "010624",
           "uid": 409
          },
          "free_bikes": 25,
          "id": "484160f9061218d6e62a64342a93f8b6",
          "latitude": 51.493146,
          "longitude": -0.099828,
          "name": "010624 - Strata, Elephant & Castle",
          "timestamp": "2023-01-30T02:45:22.336000Z"
         },
         {
          "empty_slots": 20,
          "extra": {
           "installDate": "1318496100000",
           "installed": true,
           "locked": false,
           "name": "Exhibition Road, Knightsbridge",
           "removalDate": "",
           "temporary": false,
           "terminalName": "022179",
           "uid": 428
          },
          "free_bikes": 0,
          "id": "3ac0f53e7d63fd7e6021b88a78be5f36",
          "latitude": 51.499917,
          "longitude": -0.174554,
          "name": "022179 - Exhibition Road, Knightsbridge",
          "timestamp": "2023-01-30T02:45:22.351000Z"
         },
         {
          "empty_slots": 22,
          "extra": {
           "installDate": "1323350220000",
           "installed": true,
           "locked": false,
           "name": "Red Lion Street, Holborn",
           "removalDate": "",
           "temporary": false,
           "terminalName": "022171",
           "uid": 436
          },
          "free_bikes": 14,
          "id": "894a3f6a2b0c1f0ed33072625b253362",
          "latitude": 51.51824,
          "longitude": -0.11655,
          "name": "022171 - Red Lion Street, Holborn",
          "timestamp": "2023-01-30T02:45:22.358000Z"
         },
         {
          "empty_slots": 7,
          "extra": {
           "installDate": "1325746380000",
           "installed": true,
           "locked": false,
           "name": "Vauxhall Walk, Vauxhall",
           "removalDate": "",
           "temporary": false,
           "terminalName": "200056",
           "uid": 437
          },
          "free_bikes": 20,
          "id": "671b57a2aab1e479e99ac532980ed2ef",
          "latitude": 51.488124,
          "longitude": -0.120903,
          "name": "200056 - Vauxhall Walk, Vauxhall",
          "timestamp": "2023-01-30T02:45:22.359000Z"
         },
         {
          "empty_slots": 2,
          "extra": {
           "installDate": "1325705460000",
           "installed": true,
           "locked": false,
           "name": "Killick Street, King's Cross",
           "removalDate": "",
           "temporary": false,
           "terminalName": "200053",
           "uid": 439
          },
          "free_bikes": 20,
          "id": "ca223882f068af0108340b1129004400",
          "latitude": 51.5338,
          "longitude": -0.118677,
          "name": "200053 - Killick Street, King's Cross",
          "timestamp": "2023-01-30T02:45:22.360000Z"
         },
         {
          "empty_slots": 29,
          "extra": {
           "installDate": "1325708160000",
           "installed": true,
           "locked": false,
           "name": "Kennington Oval, Oval",
           "removalDate": "",
           "temporary": false,
           "terminalName": "200032",
           "uid": 440
          },
          "free_bikes": 4,
          "id": "3e9342f574d2256a1e9482fbd14f84bf",
          "latitude": 51.483145,
          "longitude": -0.113134,
          "name": "200032 - Kennington Oval, Oval",
          "timestamp": "2023-01-30T02:45:22.361000Z"
         },
         {
          "empty_slots": 6,
          "extra": {
           "installDate": "1325711220000",
           "installed": true,
           "locked": false,
           "name": "Sail Street, Vauxhall",
           "removalDate": "",
           "temporary": false,
           "terminalName": "200039",
           "uid": 441
          },
          "free_bikes": 18,
          "id": "735f87c6a19b1c9f4a7223d5e226b2c6",
          "latitude": 51.495656,
          "longitude": -0.114605,
          "name": "200039 - Sail Street, Vauxhall",
          "timestamp": "2023-01-30T02:45:22.361000Z"
         },
         {
          "empty_slots": 8,
          "extra": {
           "installDate": "1325940420000",
           "installed": true,
           "locked": false,
           "name": "Walmer Road, Avondale",
           "removalDate": "",
           "temporary": false,
           "terminalName": "200035",
           "uid": 442
          },
          "free_bikes": 16,
          "id": "cf4ca508a267b39144c43767b17eb289",
          "latitude": 51.510101,
          "longitude": -0.211358,
          "name": "200035 - Walmer Road, Avondale",
          "timestamp": "2023-01-30T02:45:22.362000Z"
         },
         {
          "empty_slots": 20,
          "extra": {
           "installDate": "1325941800000",
           "installed": true,
           "locked": false,
           "name": "Philpot Street, Whitechapel",
           "removalDate": "",
           "temporary": false,
           "terminalName": "200033",
           "uid": 443
          },
          "free_bikes": 10,
          "id": "a6af68f6a64046c74531f4f7655eb209",
          "latitude": 51.515256,
          "longitude": -0.058641,
          "name": "200033 - Philpot Street, Whitechapel",
          "timestamp": "2023-01-30T02:45:22.363000Z"
         },
         {
          "empty_slots": 7,
          "extra": {
           "installDate": "1325944680000",
           "installed": true,
           "locked": false,
           "name": "Bethnal Green Garden, Bethnal Green",
           "removalDate": "",
           "temporary": false,
           "terminalName": "200047",
           "uid": 444
          },
          "free_bikes": 17,
          "id": "eb5ff084d999d5a3e9e541fc821123fd",
          "latitude": 51.52568,
          "longitude": -0.055312,
          "name": "200047 - Bethnal Green Garden, Bethnal Green",
          "timestamp": "2023-01-30T02:45:22.363000Z"
         },
         {
          "empty_slots": 12,
          "extra": {
           "installDate": "1325948880000",
           "installed": true,
           "locked": false,
           "name": "York Hall, Bethnal Green",
           "removalDate": "",
           "temporary": false,
           "terminalName": "200042",
           "uid": 446
          },
          "free_bikes": 15,
          "id": "4ab25e79ef8c9921df430c66cef66e42",
          "latitude": 51.528936,
          "longitude": -0.055894,
          "name": "200042 - York Hall, Bethnal Green",
          "timestamp": "2023-01-30T02:45:22.364000Z"
         },
         {
          "empty_slots": 35,
          "extra": {
           "installDate": "1325949000000",
           "installed": true,
           "locked": false,
           "name": "Jubilee Crescent, Cubitt Town",
           "removalDate": "",
           "temporary": false,
           "terminalName": "200054",
           "uid": 447
          },
          "free_bikes": 19,
          "id": "52c242bf59e02288c985568d958fa5ef",
          "latitude": 51.493381,
          "longitude": -0.007542,
          "name": "200054 - Jubilee Crescent, Cubitt Town",
          "timestamp": "2023-01-30T02:45:22.365000Z"
         },
         {
          "empty_slots": 18,
          "extra": {
           "installDate": "1325952900000",
           "installed": true,
           "locked": false,
           "name": "Shadwell Station, Shadwell",
           "removalDate": "",
           "temporary": false,
           "terminalName": "200020",
           "uid": 449
          },
          "free_bikes": 17,
          "id": "a39712a7eba5ca2a0efb17f94b2178f1",
          "latitude": 51.511088,
          "longitude": -0.057159,
          "name": "200020 - Shadwell Station, Shadwell",
          "timestamp": "2023-01-30T02:45:22.366000Z"
         },
         {
          "empty_slots": 0,
          "extra": {
           "installDate": "1325501400000",
           "installed": true,
           "locked": false,
           "name": "Hermitage Court, Wapping",
           "removalDate": "",
           "temporary": false,
           "terminalName": "200021",
           "uid": 451
          },
          "free_bikes": 16,
          "id": "7240d3c05408687dddf5ea08c19d15de",
          "latitude": 51.504719,
          "longitude": -0.063531,
          "name": "200021 - Hermitage Court, Wapping",
          "timestamp": "2023-01-30T02:45:22.367000Z"
         },
         {
          "empty_slots": 2,
          "extra": {
           "installDate": "1326115380000",
           "installed": true,
           "locked": false,
           "name": "Napier Avenue, Millwall",
           "removalDate": "",
           "temporary": false,
           "terminalName": "200046",
           "uid": 454
          },
          "free_bikes": 18,
          "id": "9afd36f7e608b1b369689c4d565cefa5",
          "latitude": 51.487679,
          "longitude": -0.021582,
          "name": "200046 - Napier Avenue, Millwall",
          "timestamp": "2023-01-30T02:45:22.369000Z"
         },
         {
          "empty_slots": 4,
          "extra": {
           "installDate": "1326117780000",
           "installed": true,
           "locked": false,
           "name": "East Ferry Road, Cubitt Town",
           "removalDate": "",
           "temporary": false,
           "terminalName": "200031",
           "uid": 455
          },
          "free_bikes": 13,
          "id": "e8319b89edd629fd4a9d479c06a915d8",
          "latitude": 51.49447,
          "longitude": -0.014409,
          "name": "200031 - East Ferry Road, Cubitt Town",
          "timestamp": "2023-01-30T02:45:22.370000Z"
         },
         {
          "empty_slots": 17,
          "extra": {
           "installDate": "1326203280000",
           "installed": true,
           "locked": false,
           "name": "Castlehaven Road, Camden Town",
           "removalDate": "",
           "temporary": false,
           "terminalName": "200016",
           "uid": 457
          },
          "free_bikes": 12,
          "id": "fad6a0e7960daa48c37dd90160f4043b",
          "latitude": 51.542138,
          "longitude": -0.145393,
          "name": "200016 - Castlehaven Road, Camden Town",
          "timestamp": "2023-01-30T02:45:22.371000Z"
         },
         {
          "empty_slots": 9,
          "extra": {
           "installDate": "",
           "installed": true,
           "locked": false,
           "name": "Gunmakers Lane, Old Ford",
           "removalDate": "",
           "temporary": false,
           "terminalName": "200014",
           "uid": 459
          },
          "free_bikes": 8,
          "id": "ad15e1cee91ee88986be580b61415f32",
          "latitude": 51.535179,
          "longitude": -0.03338,
          "name": "200014 - Gunmakers Lane, Old Ford",
          "timestamp": "2023-01-30T02:45:22.372000Z"
         },
         {
          "empty_slots": 15,
          "extra": {
           "installDate": "1326293640000",
           "installed": true,
           "locked": false,
           "name": "Aston Street, Stepney",
           "removalDate": "",
           "temporary": true,
           "terminalName": "200013",
           "uid": 461
          },
          "free_bikes": 11,
          "id": "e13b60d2ff2316396077beb9f6e950e2",
          "latitude": 51.516,
          "longitude": -0.038775,
          "name": "200013 - Aston Street, Stepney",
          "timestamp": "2023-01-30T02:45:22.376000Z"
         },
         {
          "empty_slots": 8,
          "extra": {
           "installDate": "1333613280000",
           "installed": true,
           "locked": false,
           "name": "Pitfield Street North,Hoxton",
           "removalDate": "",
           "temporary": false,
           "terminalName": "200152",
           "uid": 465
          },
          "free_bikes": 20,
          "id": "4b3917732d5087003e7fa0bfb9b7b652",
          "latitude": 51.53558,
          "longitude": -0.08249,
          "name": "200152 - Pitfield Street North,Hoxton",
          "timestamp": "2023-01-30T02:45:22.380000Z"
         },
         {
          "empty_slots": 14,
          "extra": {
           "installDate": "1326360000000",
           "installed": true,
           "locked": false,
           "name": "Whiston Road, Haggerston",
           "removalDate": "",
           "temporary": false,
           "terminalName": "200158",
           "uid": 466
          },
          "free_bikes": 7,
          "id": "8cc102540a117cc01347c213ffead6a1",
          "latitude": 51.534464,
          "longitude": -0.076341,
          "name": "200158 - Whiston Road, Haggerston",
          "timestamp": "2023-01-30T02:45:22.384000Z"
         },
         {
          "empty_slots": 13,
          "extra": {
           "installDate": "1326374040000",
           "installed": true,
           "locked": false,
           "name": "Southern Grove, Bow",
           "removalDate": "",
           "temporary": false,
           "terminalName": "200168",
           "uid": 467
          },
          "free_bikes": 4,
          "id": "0f942ff0a5dec38e456175dfeebf0c7d",
          "latitude": 51.523538,
          "longitude": -0.030556,
          "name": "200168 - Southern Grove, Bow",
          "timestamp": "2023-01-30T02:45:22.385000Z"
         },
         {
          "empty_slots": 6,
          "extra": {
           "installDate": "1326375720000",
           "installed": true,
           "locked": false,
           "name": "Cantrell Road, Bow",
           "removalDate": "",
           "temporary": false,
           "terminalName": "200150",
           "uid": 468
          },
          "free_bikes": 18,
          "id": "2b80a6a07465f920bf35dd5a913bec8c",
          "latitude": 51.521564,
          "longitude": -0.022694,
          "name": "200150 - Cantrell Road, Bow",
          "timestamp": "2023-01-30T02:45:22.386000Z"
         },
         {
          "empty_slots": 41,
          "extra": {
           "installDate": "1326790620000",
           "installed": true,
           "locked": false,
           "name": "Mostyn Grove, Bow",
           "removalDate": "",
           "temporary": false,
           "terminalName": "200174",
           "uid": 470
          },
          "free_bikes": 5,
          "id": "8a024f748718e323ba102ad5722768f9",
          "latitude": 51.530535,
          "longitude": -0.025492,
          "name": "200174 - Mostyn Grove, Bow",
          "timestamp": "2023-01-30T02:45:22.389000Z"
         },
         {
          "empty_slots": 13,
          "extra": {
           "installDate": "1326791160000",
           "installed": true,
           "locked": false,
           "name": "Malmesbury Road, Bow",
           "removalDate": "",
           "temporary": false,
           "terminalName": "200019",
           "uid": 472
          },
          "free_bikes": 8,
          "id": "bc9352cb9f3a3437d85bf51e5748c262",
          "latitude": 51.529452,
          "longitude": -0.027616,
          "name": "200019 - Malmesbury Road, Bow",
          "timestamp": "2023-01-30T02:45:22.390000Z"
         },
         {
          "empty_slots": 10,
          "extra": {
           "installDate": "1326822960000",
           "installed": true,
           "locked": false,
           "name": "Gascoyne Road, Victoria Park",
           "removalDate": "",
           "temporary": false,
           "terminalName": "200155",
           "uid": 474
          },
          "free_bikes": 10,
          "id": "9da373b6d3bc7db00224ffce3844e836",
          "latitude": 51.541515,
          "longitude": -0.038557746,
          "name": "200155 - Gascoyne Road, Victoria Park",
          "timestamp": "2023-01-30T02:45:22.392000Z"
         },
         {
          "empty_slots": 6,
          "extra": {
           "installDate": "1326962100000",
           "installed": true,
           "locked": false,
           "name": "Stebondale Street, Cubitt Town",
           "removalDate": "",
           "temporary": false,
           "terminalName": "200009",
           "uid": 476
          },
          "free_bikes": 23,
          "id": "3d10ad40c87e4e7b0d1ebcd7f771ac69",
          "latitude": 51.489096,
          "longitude": -0.009205,
          "name": "200009 - Stebondale Street, Cubitt Town",
          "timestamp": "2023-01-30T02:45:22.393000Z"
         },
         {
          "empty_slots": 12,
          "extra": {
           "installDate": "1326963780000",
           "installed": true,
           "locked": false,
           "name": "Spindrift Avenue, Millwall",
           "removalDate": "",
           "temporary": false,
           "terminalName": "200018",
           "uid": 477
          },
          "free_bikes": 24,
          "id": "a481bcf01f163162baa32267b19a829c",
          "latitude": 51.49109,
          "longitude": -0.018716,
          "name": "200018 - Spindrift Avenue, Millwall",
          "timestamp": "2023-01-30T02:45:22.394000Z"
         },
         {
          "empty_slots": 8,
          "extra": {
           "installDate": "1326965580000",
           "installed": true,
           "locked": false,
           "name": "Stepney Green Station, Stepney",
           "removalDate": "",
           "temporary": false,
           "terminalName": "200012",
           "uid": 478
          },
          "free_bikes": 13,
          "id": "6ed3b502a2687a318dfb1b18a3bb16d5",
          "latitude": 51.521889,
          "longitude": -0.04667,
          "name": "200012 - Stepney Green Station, Stepney",
          "timestamp": "2023-01-30T02:45:22.394000Z"
         },
         {
          "empty_slots": 12,
          "extra": {
           "installDate": "1326966240000",
           "installed": true,
           "locked": false,
           "name": "Pott Street, Bethnal Green",
           "removalDate": "",
           "temporary": false,
           "terminalName": "200156",
           "uid": 479
          },
          "free_bikes": 8,
          "id": "d3d8bc219909f1ba1ab0edeed054a0b0",
          "latitude": 51.527152,
          "longitude": -0.058005,
          "name": "200156 - Pott Street, Bethnal Green",
          "timestamp": "2023-01-30T02:45:22.395000Z"
         },
         {
          "empty_slots": 0,
          "extra": {
           "installDate": "1326996480000",
           "installed": true,
           "locked": false,
           "name": "Saunders Ness Road, Cubitt Town",
           "removalDate": "",
           "temporary": false,
           "terminalName": "200022",
           "uid": 481
          },
          "free_bikes": 35,
          "id": "77cab4a52fac6779037986ebf903b342",
          "latitude": 51.487129,
          "longitude": -0.0090011,
          "name": "200022 - Saunders Ness Road, Cubitt Town",
          "timestamp": "2023-01-30T02:45:22.396000Z"
         },
         {
          "empty_slots": 20,
          "extra": {
           "installDate": "1327256220000",
           "installed": true,
           "locked": false,
           "name": "Queen Mary's, Mile End",
           "removalDate": "",
           "temporary": false,
           "terminalName": "200249",
           "uid": 491
          },
          "free_bikes": 25,
          "id": "0605a2d505f1a706adb2ebf85cf41188",
          "latitude": 51.522507,
          "longitude": -0.041378,
          "name": "200249 - Queen Mary's, Mile End",
          "timestamp": "2023-01-30T02:45:22.401000Z"
         },
         {
          "empty_slots": 18,
          "extra": {
           "installDate": "1327256520000",
           "installed": true,
           "locked": false,
           "name": "Maplin Street, Mile End",
           "removalDate": "",
           "temporary": false,
           "terminalName": "200230",
           "uid": 492
          },
          "free_bikes": 21,
          "id": "1ec5489218722c40b4af21fcecb38b03",
          "latitude": 51.525501,
          "longitude": -0.032267204,
          "name": "200230 - Maplin Street, Mile End",
          "timestamp": "2023-01-30T02:45:22.402000Z"
         },
         {
          "empty_slots": 8,
          "extra": {
           "installDate": "1327433220000",
           "installed": true,
           "locked": false,
           "name": "South Quay East, Canary Wharf",
           "removalDate": "",
           "temporary": false,
           "terminalName": "200233",
           "uid": 494
          },
          "free_bikes": 28,
          "id": "61b0e07b71923748b9c8bc22faed1abd",
          "latitude": 51.50196,
          "longitude": -0.016251,
          "name": "200233 - South Quay East, Canary Wharf",
          "timestamp": "2023-01-30T02:45:22.402000Z"
         },
         {
          "empty_slots": 21,
          "extra": {
           "installDate": "1327340460000",
           "installed": true,
           "locked": false,
           "name": "Bow Church Station, Bow",
           "removalDate": "",
           "temporary": false,
           "terminalName": "200252",
           "uid": 495
          },
          "free_bikes": 18,
          "id": "a5981290c4d7e5e6ca27941bb54bc921",
          "latitude": 51.528169,
          "longitude": -0.018703,
          "name": "200252 - Bow Church Station, Bow",
          "timestamp": "2023-01-30T02:45:22.403000Z"
         },
         {
          "empty_slots": 3,
          "extra": {
           "installDate": "1327400820000",
           "installed": true,
           "locked": false,
           "name": "Devons Road, Bow",
           "removalDate": "",
           "temporary": false,
           "terminalName": "200255",
           "uid": 496
          },
          "free_bikes": 36,
          "id": "5a62c7aa856674fc3ef6edfae4fa6832",
          "latitude": 51.52512,
          "longitude": -0.015578,
          "name": "200255 - Devons Road, Bow",
          "timestamp": "2023-01-30T02:45:22.404000Z"
         },
         {
          "empty_slots": 24,
          "extra": {
           "installDate": "1327398420000",
           "installed": true,
           "locked": false,
           "name": "Merchant Street, Bow",
           "removalDate": "",
           "temporary": false,
           "terminalName": "200242",
           "uid": 497
          },
          "free_bikes": 3,
          "id": "fa0833e381be090f3a07d9e66e0cd208",
          "latitude": 51.526578,
          "longitude": -0.027581,
          "name": "200242 - Merchant Street, Bow",
          "timestamp": "2023-01-30T02:45:22.404000Z"
         },
         {
          "empty_slots": 33,
          "extra": {
           "installDate": "1327398660000",
           "installed": true,
           "locked": false,
           "name": "Bow Road Station, Bow",
           "removalDate": "",
           "temporary": false,
           "terminalName": "200251",
           "uid": 498
          },
          "free_bikes": 9,
          "id": "1bbe1a87ecfe81fd0bc63095f343f6fb",
          "latitude": 51.527058,
          "longitude": -0.025296,
          "name": "200251 - Bow Road Station, Bow",
          "timestamp": "2023-01-30T02:45:22.405000Z"
         },
         {
          "empty_slots": 23,
          "extra": {
           "installDate": "1327407960000",
           "installed": true,
           "locked": false,
           "name": "Furze Green, Bow",
           "removalDate": "",
           "temporary": false,
           "terminalName": "200011",
           "uid": 499
          },
          "free_bikes": 13,
          "id": "d6508a1b88c9ad396ab48658a7aaf8c7",
          "latitude": 51.519265,
          "longitude": -0.021345,
          "name": "200011 - Furze Green, Bow",
          "timestamp": "2023-01-30T02:45:22.406000Z"
         },
         {
          "empty_slots": 18,
          "extra": {
           "installDate": "1327430040000",
           "installed": true,
           "locked": false,
           "name": "Ansell House, Stepney",
           "removalDate": "",
           "temporary": false,
           "terminalName": "200148",
           "uid": 500
          },
          "free_bikes": 23,
          "id": "d60c008e1f0fd885ba1086e592274386",
          "latitude": 51.520019,
          "longitude": -0.05438,
          "name": "200148 - Ansell House, Stepney",
          "timestamp": "2023-01-30T02:45:22.407000Z"
         },
         {
          "empty_slots": 9,
          "extra": {
           "installDate": "1563957840000",
           "installed": true,
           "locked": false,
           "name": "Bonner Gate, Victoria Park",
           "removalDate": "",
           "temporary": false,
           "terminalName": "200241",
           "uid": 502
          },
          "free_bikes": 12,
          "id": "33706f39140272de1b3ccd41e4e2b788",
          "latitude": 51.53341,
          "longitude": -0.049591815,
          "name": "200241 - Bonner Gate, Victoria Park",
          "timestamp": "2023-01-30T02:45:22.408000Z"
         },
         {
          "empty_slots": 10,
          "extra": {
           "installDate": "1327492920000",
           "installed": true,
           "locked": false,
           "name": "Cleveland Way, Stepney",
           "removalDate": "",
           "temporary": false,
           "terminalName": "200250",
           "uid": 503
          },
          "free_bikes": 26,
          "id": "dc715dea9f96b012c42159a14722b9a8",
          "latitude": 51.520893,
          "longitude": -0.051394,
          "name": "200250 - Cleveland Way, Stepney",
          "timestamp": "2023-01-30T02:45:22.409000Z"
         },
         {
          "empty_slots": 20,
          "extra": {
           "installDate": "1327937820000",
           "installed": true,
           "locked": false,
           "name": "St. John's Park, Cubitt Town",
           "removalDate": "",
           "temporary": false,
           "terminalName": "200243",
           "uid": 504
          },
          "free_bikes": 10,
          "id": "2886e8ab5bbcc55d7dbe224274057198",
          "latitude": 51.496454,
          "longitude": -0.009506,
          "name": "200243 - St. John's Park, Cubitt Town",
          "timestamp": "2023-01-30T02:45:22.410000Z"
         },
         {
          "empty_slots": 8,
          "extra": {
           "installDate": "1327937460000",
           "installed": true,
           "locked": false,
           "name": "Ackroyd Drive, Bow",
           "removalDate": "",
           "temporary": false,
           "terminalName": "200038",
           "uid": 505
          },
          "free_bikes": 21,
          "id": "a00180e2a271ca35eebcb929138d5cc9",
          "latitude": 51.520398,
          "longitude": -0.026768,
          "name": "200038 - Ackroyd Drive, Bow",
          "timestamp": "2023-01-30T02:45:22.410000Z"
         },
         {
          "empty_slots": 0,
          "extra": {
           "installDate": "1327938660000",
           "installed": true,
           "locked": false,
           "name": "Bell Lane, Liverpool Street",
           "removalDate": "",
           "temporary": false,
           "terminalName": "200036",
           "uid": 506
          },
          "free_bikes": 23,
          "id": "5418fa3e11ec8aae7a3827182b5ebecf",
          "latitude": 51.517475,
          "longitude": -0.075855,
          "name": "200036 - Bell Lane, Liverpool Street",
          "timestamp": "2023-01-30T02:45:22.411000Z"
         },
         {
          "empty_slots": 0,
          "extra": {
           "installDate": "1327938180000",
           "installed": true,
           "locked": false,
           "name": "Fournier Street, Whitechapel",
           "removalDate": "",
           "temporary": false,
           "terminalName": "200157",
           "uid": 508
          },
          "free_bikes": 18,
          "id": "d280b7b63da641de8de0eb9afbba3ff7",
          "latitude": 51.519362,
          "longitude": -0.074431,
          "name": "200157 - Fournier Street, Whitechapel",
          "timestamp": "2023-01-30T02:45:22.412000Z"
         },
         {
          "empty_slots": 19,
          "extra": {
           "installDate": "1327938120000",
           "installed": true,
           "locked": false,
           "name": "Fore Street, Guildhall",
           "removalDate": "",
           "temporary": false,
           "terminalName": "200253",
           "uid": 509
          },
          "free_bikes": 0,
          "id": "e390d1a827cc7a4b29404540deaf3f44",
          "latitude": 51.517842,
          "longitude": -0.090075,
          "name": "200253 - Fore Street, Guildhall",
          "timestamp": "2023-01-30T02:45:22.413000Z"
         },
         {
          "empty_slots": 12,
          "extra": {
           "installDate": "",
           "installed": true,
           "locked": false,
           "name": "Westferry DLR, Limehouse",
           "removalDate": "",
           "temporary": false,
           "terminalName": "200238",
           "uid": 510
          },
          "free_bikes": 29,
          "id": "11b191b7d850e1bc3d117a2bf999bed5",
          "latitude": 51.509303,
          "longitude": -0.025996,
          "name": "200238 - Westferry DLR, Limehouse",
          "timestamp": "2023-01-30T02:45:22.414000Z"
         },
         {
          "empty_slots": 24,
          "extra": {
           "installDate": "1327937940000",
           "installed": true,
           "locked": false,
           "name": "Sutton Street, Shadwell",
           "removalDate": "",
           "temporary": false,
           "terminalName": "200256",
           "uid": 511
          },
          "free_bikes": 9,
          "id": "7215fe3f29691330166b6f4c58f51c08",
          "latitude": 51.511066,
          "longitude": -0.053558,
          "name": "200256 - Sutton Street, Shadwell",
          "timestamp": "2023-01-30T02:45:22.414000Z"
         },
         {
          "empty_slots": 2,
          "extra": {
           "installDate": "",
           "installed": true,
           "locked": false,
           "name": "Watney Market, Stepney",
           "removalDate": "",
           "temporary": false,
           "terminalName": "200162",
           "uid": 513
          },
          "free_bikes": 49,
          "id": "16fab6f03a4ee334399813f20d6dd47a",
          "latitude": 51.5142228,
          "longitude": -0.055656,
          "name": "200162 - Watney Market, Stepney",
          "timestamp": "2023-01-30T02:45:22.416000Z"
         },
         {
          "empty_slots": 2,
          "extra": {
           "installDate": "1326790860000",
           "installed": true,
           "locked": false,
           "name": "Ford Road, Old Ford",
           "removalDate": "",
           "temporary": false,
           "terminalName": "200027",
           "uid": 517
          },
          "free_bikes": 16,
          "id": "5032091f25ed9daffff5b4c8691cbcef",
          "latitude": 51.532513,
          "longitude": -0.033085,
          "name": "200027 - Ford Road, Old Ford",
          "timestamp": "2023-01-30T02:45:22.418000Z"
         },
         {
          "empty_slots": 10,
          "extra": {
           "installDate": "",
           "installed": true,
           "locked": false,
           "name": "Antill Road, Mile End",
           "removalDate": "",
           "temporary": false,
           "terminalName": "200041",
           "uid": 518
          },
          "free_bikes": 20,
          "id": "7eee5e55c4160640d467e36acef59c1e",
          "latitude": 51.528224,
          "longitude": -0.037471,
          "name": "200041 - Antill Road, Mile End",
          "timestamp": "2023-01-30T02:45:22.419000Z"
         },
         {
          "empty_slots": 4,
          "extra": {
           "installDate": "",
           "installed": true,
           "locked": false,
           "name": "Teviot Street, Poplar",
           "removalDate": "",
           "temporary": false,
           "terminalName": "200254",
           "uid": 519
          },
          "free_bikes": 29,
          "id": "7bf9812c2aac8190d3fa1cf6727c708e",
          "latitude": 51.518811,
          "longitude": -0.011662,
          "name": "200254 - Teviot Street, Poplar",
          "timestamp": "2023-01-30T02:45:22.419000Z"
         },
         {
          "empty_slots": 9,
          "extra": {
           "installDate": "",
           "installed": true,
           "locked": false,
           "name": "Bancroft Road, Bethnal Green",
           "removalDate": "",
           "temporary": false,
           "terminalName": "200234",
           "uid": 520
          },
          "free_bikes": 12,
          "id": "e20d1f7e5f0847bd698ea436d42a36c8",
          "latitude": 51.526041,
          "longitude": -0.047218,
          "name": "200234 - Bancroft Road, Bethnal Green",
          "timestamp": "2023-01-30T02:45:22.420000Z"
         },
         {
          "empty_slots": 10,
          "extra": {
           "installDate": "",
           "installed": true,
           "locked": false,
           "name": "Clinton Road, Mile End",
           "removalDate": "",
           "temporary": false,
           "terminalName": "200161",
           "uid": 522
          },
          "free_bikes": 26,
          "id": "42ec5cd61c5a76834cd53baa47f295ae",
          "latitude": 51.525941,
          "longitude": -0.036017,
          "name": "200161 - Clinton Road, Mile End",
          "timestamp": "2023-01-30T02:45:22.421000Z"
         },
         {
          "empty_slots": 0,
          "extra": {
           "installDate": "",
           "installed": true,
           "locked": false,
           "name": "Langdon Park, Poplar",
           "removalDate": "",
           "temporary": false,
           "terminalName": "200160",
           "uid": 523
          },
          "free_bikes": 24,
          "id": "23584469231acbea6b4fbeac077c2844",
          "latitude": 51.51549,
          "longitude": -0.013475,
          "name": "200160 - Langdon Park, Poplar",
          "timestamp": "2023-01-30T02:45:22.422000Z"
         },
         {
          "empty_slots": 25,
          "extra": {
           "installDate": "1328515080000",
           "installed": true,
           "locked": false,
           "name": "Lancaster Gate , Bayswater",
           "removalDate": "",
           "temporary": false,
           "terminalName": "200017",
           "uid": 524
          },
          "free_bikes": 13,
          "id": "09adf52031e9e0915474c56d5e9c8fb5",
          "latitude": 51.511654,
          "longitude": -0.179668,
          "name": "200017 - Lancaster Gate , Bayswater",
          "timestamp": "2023-01-30T02:45:22.423000Z"
         },
         {
          "empty_slots": 11,
          "extra": {
           "installDate": "1643301180000",
           "installed": true,
           "locked": false,
           "name": "Blythe Road, Olympia",
           "removalDate": "",
           "temporary": false,
           "terminalName": "200153",
           "uid": 525
          },
          "free_bikes": 13,
          "id": "142d474ce6a827391ae84df4d6b219ac",
          "latitude": 51.496927,
          "longitude": -0.21350087,
          "name": "200153 - Blythe Road, Olympia",
          "timestamp": "2023-01-30T02:45:22.423000Z"
         },
         {
          "empty_slots": 15,
          "extra": {
           "installDate": "",
           "installed": true,
           "locked": false,
           "name": "Lancaster Drive, Blackwall",
           "removalDate": "",
           "temporary": false,
           "terminalName": "200143",
           "uid": 526
          },
          "free_bikes": 12,
          "id": "1c8ffe2672b1bea7d3873f35da9f91d7",
          "latitude": 51.503143,
          "longitude": -0.008428,
          "name": "200143 - Lancaster Drive, Blackwall",
          "timestamp": "2023-01-30T02:45:22.424000Z"
         },
         {
          "empty_slots": 2,
          "extra": {
           "installDate": "1328777280000",
           "installed": true,
           "locked": false,
           "name": "Hansard Mews, Holland Park",
           "removalDate": "",
           "temporary": false,
           "terminalName": "200154",
           "uid": 527
          },
          "free_bikes": 18,
          "id": "3f8494a0ce80e37e608d50b1b91a15e7",
          "latitude": 51.503802,
          "longitude": -0.215808,
          "name": "200154 - Hansard Mews, Holland Park",
          "timestamp": "2023-01-30T02:45:22.425000Z"
         },
         {
          "empty_slots": 16,
          "extra": {
           "installDate": "",
           "installed": true,
           "locked": false,
           "name": "Manresa Road, Chelsea",
           "removalDate": "",
           "temporary": false,
           "terminalName": "200010",
           "uid": 529
          },
          "free_bikes": 2,
          "id": "3c3e712aa90b7c44661a9b86cfdea364",
          "latitude": 51.486892,
          "longitude": -0.170983,
          "name": "200010 - Manresa Road, Chelsea",
          "timestamp": "2023-01-30T02:45:22.426000Z"
         },
         {
          "empty_slots": 11,
          "extra": {
           "installDate": "",
           "installed": true,
           "locked": false,
           "name": "Newby Place, Poplar",
           "removalDate": "",
           "temporary": false,
           "terminalName": "200146",
           "uid": 530
          },
          "free_bikes": 7,
          "id": "ee6b962d29901c9b17aab7f4142fd36c",
          "latitude": 51.508896,
          "longitude": -0.012413,
          "name": "200146 - Newby Place, Poplar",
          "timestamp": "2023-01-30T02:45:22.427000Z"
         },
         {
          "empty_slots": 16,
          "extra": {
           "installDate": "1328778840000",
           "installed": true,
           "locked": false,
           "name": "Twig Folly Bridge, Mile End",
           "removalDate": "",
           "temporary": false,
           "terminalName": "200167",
           "uid": 531
          },
          "free_bikes": 5,
          "id": "513288b27c6faacd64d5f2e17c6f6d0e",
          "latitude": 51.530326,
          "longitude": -0.042744,
          "name": "200167 - Twig Folly Bridge, Mile End",
          "timestamp": "2023-01-30T02:45:22.427000Z"
         },
         {
          "empty_slots": 0,
          "extra": {
           "installDate": "",
           "installed": true,
           "locked": false,
           "name": "Wellington Row, Bethnal Green",
           "removalDate": "",
           "temporary": false,
           "terminalName": "200165",
           "uid": 533
          },
          "free_bikes": 33,
          "id": "49910ad7791337e48885a90cb46b78d2",
          "latitude": 51.528222,
          "longitude": -0.069743,
          "name": "200165 - Wellington Row, Bethnal Green",
          "timestamp": "2023-01-30T02:45:22.428000Z"
         },
         {
          "empty_slots": 8,
          "extra": {
           "installDate": "",
           "installed": true,
           "locked": false,
           "name": "Goldsmith's Row, Haggerston",
           "removalDate": "",
           "temporary": false,
           "terminalName": "200159",
           "uid": 534
          },
          "free_bikes": 19,
          "id": "ca95c11b4be680ac88a023c0544a9f0a",
          "latitude": 51.531864,
          "longitude": -0.066035,
          "name": "200159 - Goldsmith's Row, Haggerston",
          "timestamp": "2023-01-30T02:45:22.429000Z"
         },
         {
          "empty_slots": 1,
          "extra": {
           "installDate": "",
           "installed": true,
           "locked": false,
           "name": "Gloucester Avenue, Camden Town",
           "removalDate": "",
           "temporary": false,
           "terminalName": "200145",
           "uid": 535
          },
          "free_bikes": 23,
          "id": "95e4894efdc1051d3f2d35c74f763b5f",
          "latitude": 51.537349,
          "longitude": -0.147154,
          "name": "200145 - Gloucester Avenue, Camden Town",
          "timestamp": "2023-01-30T02:45:22.430000Z"
         },
         {
          "empty_slots": 26,
          "extra": {
           "installDate": "",
           "installed": true,
           "locked": false,
           "name": "Queensbridge Road, Haggerston",
           "removalDate": "",
           "temporary": false,
           "terminalName": "200024",
           "uid": 536
          },
          "free_bikes": 9,
          "id": "85f3fb33c271b65e3e29385a8b726e8c",
          "latitude": 51.53385,
          "longitude": -0.06992,
          "name": "200024 - Queensbridge Road, Haggerston",
          "timestamp": "2023-01-30T02:45:22.430000Z"
         },
         {
          "empty_slots": 14,
          "extra": {
           "installDate": "1330352880000",
           "installed": true,
           "locked": false,
           "name": "Old Montague Street, Whitechapel",
           "removalDate": "",
           "temporary": false,
           "terminalName": "200239",
           "uid": 537
          },
          "free_bikes": 4,
          "id": "fb48301a2645d8a071c1c64cf9379237",
          "latitude": 51.51793,
          "longitude": -0.067937,
          "name": "200239 - Old Montague Street, Whitechapel",
          "timestamp": "2023-01-30T02:45:22.431000Z"
         },
         {
          "empty_slots": 6,
          "extra": {
           "installDate": "",
           "installed": true,
           "locked": false,
           "name": "Naval Row, Blackwall",
           "removalDate": "",
           "temporary": false,
           "terminalName": "200050",
           "uid": 538
          },
          "free_bikes": 15,
          "id": "062ad453718b685176b2cbb07ddcc225",
          "latitude": 51.508981,
          "longitude": -0.00699,
          "name": "200050 - Naval Row, Blackwall",
          "timestamp": "2023-01-30T02:45:22.432000Z"
         },
         {
          "empty_slots": 16,
          "extra": {
           "installDate": "",
           "installed": true,
           "locked": false,
           "name": "Salmon Lane, Limehouse",
           "removalDate": "",
           "temporary": false,
           "terminalName": "200147",
           "uid": 542
          },
          "free_bikes": 17,
          "id": "5da8b79601e2e7e7f2f324249c2372b5",
          "latitude": 51.514115,
          "longitude": -0.033828,
          "name": "200147 - Salmon Lane, Limehouse",
          "timestamp": "2023-01-30T02:45:22.435000Z"
         },
         {
          "empty_slots": 15,
          "extra": {
           "installDate": "",
           "installed": true,
           "locked": false,
           "name": "Percival Street, Finsbury",
           "removalDate": "",
           "temporary": false,
           "terminalName": "200051",
           "uid": 544
          },
          "free_bikes": 7,
          "id": "6f4afa257775c2ffbbfe8d6c5f68bd39",
          "latitude": 51.526153,
          "longitude": -0.102208,
          "name": "200051 - Percival Street, Finsbury",
          "timestamp": "2023-01-30T02:45:22.437000Z"
         },
         {
          "empty_slots": 16,
          "extra": {
           "installDate": "",
           "installed": true,
           "locked": false,
           "name": "Watney Street, Shadwell",
           "removalDate": "",
           "temporary": false,
           "terminalName": "200149",
           "uid": 552
          },
          "free_bikes": 11,
          "id": "0bac19abb9e5463ff38a991da6337555",
          "latitude": 51.511542,
          "longitude": -0.056667,
          "name": "200149 - Watney Street, Shadwell",
          "timestamp": "2023-01-30T02:45:22.442000Z"
         },
         {
          "empty_slots": 7,
          "extra": {
           "installDate": "",
           "installed": true,
           "locked": false,
           "name": "Regent's Row , Haggerston",
           "removalDate": "",
           "temporary": false,
           "terminalName": "200064",
           "uid": 553
          },
          "free_bikes": 17,
          "id": "c86fef1505575a6c05e04db9ca1d7a95",
          "latitude": 51.535678,
          "longitude": -0.062546,
          "name": "200064 - Regent's Row , Haggerston",
          "timestamp": "2023-01-30T02:45:22.442000Z"
         },
         {
          "empty_slots": 18,
          "extra": {
           "installDate": "",
           "installed": true,
           "locked": false,
           "name": "King Edward Street, St Pauls",
           "removalDate": "",
           "temporary": false,
           "terminalName": "200203",
           "uid": 557
          },
          "free_bikes": 2,
          "id": "1a4af3b8d9ae338a82ccc50e677ad526",
          "latitude": 51.51601,
          "longitude": -0.0985,
          "name": "200203 - King Edward Street, St Pauls",
          "timestamp": "2023-01-30T02:45:22.444000Z"
         },
         {
          "empty_slots": 18,
          "extra": {
           "installDate": "1399635120000",
           "installed": true,
           "locked": false,
           "name": "Page Street, Westminster",
           "removalDate": "",
           "temporary": false,
           "terminalName": "200048",
           "uid": 558
          },
          "free_bikes": 6,
          "id": "9577f74a502cb95e298b87ebfbda02f2",
          "latitude": 51.493978,
          "longitude": -0.127554,
          "name": "200048 - Page Street, Westminster",
          "timestamp": "2023-01-30T02:45:22.445000Z"
         },
         {
          "empty_slots": 11,
          "extra": {
           "installDate": "1330503540000",
           "installed": true,
           "locked": false,
           "name": "Rectory Square, Stepney",
           "removalDate": "",
           "temporary": false,
           "terminalName": "200037",
           "uid": 561
          },
          "free_bikes": 11,
          "id": "ed34565ea651bcc1889a3caa0d4b0a49",
          "latitude": 51.518369,
          "longitude": -0.043371,
          "name": "200037 - Rectory Square, Stepney",
          "timestamp": "2023-01-30T02:45:22.447000Z"
         },
         {
          "empty_slots": 6,
          "extra": {
           "installDate": "1330937940000",
           "installed": true,
           "locked": false,
           "name": "Westfield Ariel Way, White City",
           "removalDate": "",
           "temporary": false,
           "terminalName": "200141",
           "uid": 566
          },
          "free_bikes": 36,
          "id": "2d8793fa049d18f478c1670474d17b46",
          "latitude": 51.509158,
          "longitude": -0.224103,
          "name": "200141 - Westfield Ariel Way, White City",
          "timestamp": "2023-01-30T02:45:22.450000Z"
         },
         {
          "empty_slots": 11,
          "extra": {
           "installDate": "",
           "installed": true,
           "locked": false,
           "name": "Pitfield Street Central, Hoxton",
           "removalDate": "",
           "temporary": false,
           "terminalName": "200248",
           "uid": 569
          },
          "free_bikes": 19,
          "id": "e0448008c5b5a4e4f54fa021cf0136bb",
          "latitude": 51.53213,
          "longitude": -0.08299,
          "name": "200248 - Pitfield Street Central, Hoxton",
          "timestamp": "2023-01-30T02:45:22.451000Z"
         },
         {
          "empty_slots": 10,
          "extra": {
           "installDate": "1330620180000",
           "installed": true,
           "locked": false,
           "name": "Westfield Southern Terrace ,Shepherd's Bush",
           "removalDate": "",
           "temporary": false,
           "terminalName": "200061",
           "uid": 571
          },
          "free_bikes": 19,
          "id": "c1ecc87208a30ee6ed7887fcadf07536",
          "latitude": 51.506256,
          "longitude": -0.218337,
          "name": "200061 - Westfield Southern Terrace ,Shepherd's Bush",
          "timestamp": "2023-01-30T02:45:22.453000Z"
         },
         {
          "empty_slots": 34,
          "extra": {
           "installDate": "",
           "installed": true,
           "locked": false,
           "name": "Greenland Road, Camden Town",
           "removalDate": "",
           "temporary": false,
           "terminalName": "200026",
           "uid": 572
          },
          "free_bikes": 2,
          "id": "92e21340a1a18bdc7b6650503b3fcfe9",
          "latitude": 51.539099,
          "longitude": -0.141728,
          "name": "200026 - Greenland Road, Camden Town",
          "timestamp": "2023-01-30T02:45:22.453000Z"
         },
         {
          "empty_slots": 5,
          "extra": {
           "installDate": "1333618560000",
           "installed": true,
           "locked": false,
           "name": "Eagle Wharf Road, Hoxton",
           "removalDate": "",
           "temporary": false,
           "terminalName": "200246",
           "uid": 574
          },
          "free_bikes": 40,
          "id": "d8ec12853314db604ab4ea2bac6b1b02",
          "latitude": 51.53356,
          "longitude": -0.09315,
          "name": "200246 - Eagle Wharf Road, Hoxton",
          "timestamp": "2023-01-30T02:45:22.455000Z"
         },
         {
          "empty_slots": 15,
          "extra": {
           "installDate": "",
           "installed": true,
           "locked": false,
           "name": "Globe Town Market, Bethnal Green",
           "removalDate": "",
           "temporary": false,
           "terminalName": "200247",
           "uid": 577
          },
          "free_bikes": 5,
          "id": "2b2da69426aebcd92baa6a767f6e6577",
          "latitude": 51.528869,
          "longitude": -0.047548,
          "name": "200247 - Globe Town Market, Bethnal Green",
          "timestamp": "2023-01-30T02:45:22.456000Z"
         },
         {
          "empty_slots": 4,
          "extra": {
           "installDate": "1330444680000",
           "installed": true,
           "locked": false,
           "name": "Hollybush Gardens, Bethnal Green",
           "removalDate": "",
           "temporary": false,
           "terminalName": "200244",
           "uid": 578
          },
          "free_bikes": 28,
          "id": "a16b22a924bff65593d0037d0c27c35b",
          "latitude": 51.527607,
          "longitude": -0.057133,
          "name": "200244 - Hollybush Gardens, Bethnal Green",
          "timestamp": "2023-01-30T02:45:22.457000Z"
         },
         {
          "empty_slots": 26,
          "extra": {
           "installDate": "",
           "installed": true,
           "locked": false,
           "name": "Queen Street 2, Bank",
           "removalDate": "",
           "temporary": false,
           "terminalName": "200128",
           "uid": 579
          },
          "free_bikes": 10,
          "id": "72456ec80ef7e9a136379a8e076d0480",
          "latitude": 51.511246,
          "longitude": -0.093051,
          "name": "200128 - Queen Street 2, Bank",
          "timestamp": "2023-01-30T02:45:22.458000Z"
         },
         {
          "empty_slots": 9,
          "extra": {
           "installDate": "",
           "installed": true,
           "locked": false,
           "name": "Drayton Gardens, West Chelsea",
           "removalDate": "",
           "temporary": false,
           "terminalName": "200060",
           "uid": 589
          },
          "free_bikes": 9,
          "id": "fb9cad838aab50f7f745dda64a188285",
          "latitude": 51.487196,
          "longitude": -0.179369,
          "name": "200060 - Drayton Gardens, West Chelsea",
          "timestamp": "2023-01-30T02:45:22.464000Z"
         },
         {
          "empty_slots": 24,
          "extra": {
           "installDate": "",
           "installed": true,
           "locked": false,
           "name": "Greenberry Street, St.John's Wood",
           "removalDate": "",
           "temporary": false,
           "terminalName": "200236",
           "uid": 590
          },
          "free_bikes": 2,
          "id": "513d321ee2eab0fac86c99e3e904f84a",
          "latitude": 51.53256,
          "longitude": -0.16862,
          "name": "200236 - Greenberry Street, St.John's Wood",
          "timestamp": "2023-01-30T02:45:22.465000Z"
         },
         {
          "empty_slots": 5,
          "extra": {
           "installDate": "",
           "installed": true,
           "locked": false,
           "name": "Northdown Street, King's Cross",
           "removalDate": "",
           "temporary": false,
           "terminalName": "200058",
           "uid": 593
          },
          "free_bikes": 16,
          "id": "51b5abdaca17f7881f94da3ec22e981f",
          "latitude": 51.531066,
          "longitude": -0.11934,
          "name": "200058 - Northdown Street, King's Cross",
          "timestamp": "2023-01-30T02:45:22.466000Z"
         },
         {
          "empty_slots": 24,
          "extra": {
           "installDate": "1331710680000",
           "installed": true,
           "locked": false,
           "name": "Kingsway Southbound, Strand",
           "removalDate": "",
           "temporary": false,
           "terminalName": "200226",
           "uid": 594
          },
          "free_bikes": 9,
          "id": "843d6482837acafc806348eb0f23ba39",
          "latitude": 51.513875,
          "longitude": -0.117774,
          "name": "200226 - Kingsway Southbound, Strand",
          "timestamp": "2023-01-30T02:45:22.467000Z"
         },
         {
          "empty_slots": 15,
          "extra": {
           "installDate": "",
           "installed": true,
           "locked": false,
           "name": "Hammersmith Road, Hammersmith",
           "removalDate": "",
           "temporary": false,
           "terminalName": "200142",
           "uid": 595
          },
          "free_bikes": 7,
          "id": "4363606abfd3d732499c427978102b08",
          "latitude": 51.493267,
          "longitude": -0.21985,
          "name": "200142 - Hammersmith Road, Hammersmith",
          "timestamp": "2023-01-30T02:45:22.467000Z"
         },
         {
          "empty_slots": 5,
          "extra": {
           "installDate": "",
           "installed": true,
           "locked": false,
           "name": "Parson's Green , Parson's Green",
           "removalDate": "",
           "temporary": false,
           "terminalName": "200237",
           "uid": 596
          },
          "free_bikes": 16,
          "id": "465c84c404e8f3f73e1143adfc7d538c",
          "latitude": 51.472817,
          "longitude": -0.199783,
          "name": "200237 - Parson's Green , Parson's Green",
          "timestamp": "2023-01-30T02:45:22.468000Z"
         },
         {
          "empty_slots": 25,
          "extra": {
           "installDate": "",
           "installed": true,
           "locked": false,
           "name": "Fulham Park Road, Fulham",
           "removalDate": "",
           "temporary": false,
           "terminalName": "200229",
           "uid": 597
          },
          "free_bikes": 2,
          "id": "cbee2dce2bbc322f7e83b4d9f08c2006",
          "latitude": 51.473471,
          "longitude": -0.20782,
          "name": "200229 - Fulham Park Road, Fulham",
          "timestamp": "2023-01-30T02:45:22.469000Z"
         },
         {
          "empty_slots": 10,
          "extra": {
           "installDate": "",
           "installed": true,
           "locked": false,
           "name": "Manbre Road, Hammersmith",
           "removalDate": "",
           "temporary": false,
           "terminalName": "200235",
           "uid": 599
          },
          "free_bikes": 18,
          "id": "ba25773e45779fb1fa1d5ca30b2939d0",
          "latitude": 51.485743,
          "longitude": -0.223616,
          "name": "200235 - Manbre Road, Hammersmith",
          "timestamp": "2023-01-30T02:45:22.470000Z"
         },
         {
          "empty_slots": 1,
          "extra": {
           "installDate": "",
           "installed": true,
           "locked": false,
           "name": "BBC White City, White City",
           "removalDate": "",
           "temporary": false,
           "terminalName": "200136",
           "uid": 601
          },
          "free_bikes": 35,
          "id": "991480aa8890dcdb90d45b61951b28d2",
          "latitude": 51.514767,
          "longitude": -0.225787,
          "name": "200136 - BBC White City, White City",
          "timestamp": "2023-01-30T02:45:22.471000Z"
         },
         {
          "empty_slots": 25,
          "extra": {
           "installDate": "",
           "installed": true,
           "locked": false,
           "name": "Union Grove, Wandsworth Road",
           "removalDate": "",
           "temporary": false,
           "terminalName": "200211",
           "uid": 602
          },
          "free_bikes": 20,
          "id": "2564725d535c69c5d1f915d8d3c24777",
          "latitude": 51.472993,
          "longitude": -0.133972,
          "name": "200211 - Union Grove, Wandsworth Road",
          "timestamp": "2023-01-30T02:45:22.473000Z"
         },
         {
          "empty_slots": 28,
          "extra": {
           "installDate": "",
           "installed": true,
           "locked": false,
           "name": "Caldwell Street, Stockwell",
           "removalDate": "",
           "temporary": false,
           "terminalName": "200137",
           "uid": 603
          },
          "free_bikes": 16,
          "id": "4b4417d3be97d1bf90708cabf8844806",
          "latitude": 51.477839,
          "longitude": -0.116493,
          "name": "200137 - Caldwell Street, Stockwell",
          "timestamp": "2023-01-30T02:45:22.477000Z"
         },
         {
          "empty_slots": 25,
          "extra": {
           "installDate": "",
           "installed": true,
           "locked": false,
           "name": "Seymour Place, Marylebone",
           "removalDate": "",
           "temporary": false,
           "terminalName": "200198",
           "uid": 605
          },
          "free_bikes": 4,
          "id": "08fa4d8316678d7c4402b0c03a09c952",
          "latitude": 51.520331,
          "longitude": -0.163667,
          "name": "200198 - Seymour Place, Marylebone",
          "timestamp": "2023-01-30T02:45:22.479000Z"
         },
         {
          "empty_slots": 21,
          "extra": {
           "installDate": "",
           "installed": true,
           "locked": false,
           "name": "Addison Road, Holland Park",
           "removalDate": "",
           "temporary": false,
           "terminalName": "200218",
           "uid": 606
          },
          "free_bikes": 5,
          "id": "105a2dff2d4a179b561b6e28eab59185",
          "latitude": 51.504199,
          "longitude": -0.210941,
          "name": "200218 - Addison Road, Holland Park",
          "timestamp": "2023-01-30T02:45:22.480000Z"
         },
         {
          "empty_slots": 12,
          "extra": {
           "installDate": "",
           "installed": true,
           "locked": false,
           "name": "Colet Gardens, Hammersmith",
           "removalDate": "",
           "temporary": false,
           "terminalName": "200224",
           "uid": 608
          },
          "free_bikes": 18,
          "id": "592fcd87128c93fee2336091e529072a",
          "latitude": 51.491093,
          "longitude": -0.216493,
          "name": "200224 - Colet Gardens, Hammersmith",
          "timestamp": "2023-01-30T02:45:22.481000Z"
         },
         {
          "empty_slots": 15,
          "extra": {
           "installDate": "1380109980000",
           "installed": true,
           "locked": false,
           "name": "Sugden Road, Clapham",
           "removalDate": "",
           "temporary": false,
           "terminalName": "200208",
           "uid": 609
          },
          "free_bikes": 4,
          "id": "5a12fc9f1fa719a0ebd8d4d52ca5997c",
          "latitude": 51.46512358,
          "longitude": -0.157788279,
          "name": "200208 - Sugden Road, Clapham",
          "timestamp": "2023-01-30T02:45:22.482000Z"
         },
         {
          "empty_slots": 15,
          "extra": {
           "installDate": "1380113460000",
           "installed": true,
           "locked": false,
           "name": "Danvers Street, West Chelsea",
           "removalDate": "",
           "temporary": false,
           "terminalName": "200222",
           "uid": 610
          },
          "free_bikes": 6,
          "id": "81b5079628ca78b668b84651c710531c",
          "latitude": 51.48256792,
          "longitude": -0.172078187,
          "name": "200222 - Danvers Street, West Chelsea",
          "timestamp": "2023-01-30T02:45:22.486000Z"
         },
         {
          "empty_slots": 7,
          "extra": {
           "installDate": "1380203940000",
           "installed": true,
           "locked": false,
           "name": "Princedale Road , Holland Park",
           "removalDate": "",
           "temporary": false,
           "terminalName": "200067",
           "uid": 611
          },
          "free_bikes": 13,
          "id": "bbf7032a86f129ea4aff85a8c03fba45",
          "latitude": 51.50646524,
          "longitude": -0.208486599,
          "name": "200067 - Princedale Road , Holland Park",
          "timestamp": "2023-01-30T02:45:22.486000Z"
         },
         {
          "empty_slots": 9,
          "extra": {
           "installDate": "1380294600000",
           "installed": true,
           "locked": false,
           "name": "Wandsworth Rd, Isley Court, Wandsworth Road",
           "removalDate": "",
           "temporary": false,
           "terminalName": "200175",
           "uid": 612
          },
          "free_bikes": 21,
          "id": "78dfc43f62e3197e9896b5e0575aaec0",
          "latitude": 51.46925984,
          "longitude": -0.141812513,
          "name": "200175 - Wandsworth Rd, Isley Court, Wandsworth Road",
          "timestamp": "2023-01-30T02:45:22.487000Z"
         },
         {
          "empty_slots": 11,
          "extra": {
           "installDate": "1380211860000",
           "installed": true,
           "locked": false,
           "name": "Woodstock Grove, Shepherd's Bush",
           "removalDate": "",
           "temporary": false,
           "terminalName": "200214",
           "uid": 613
          },
          "free_bikes": 13,
          "id": "6411e039a76d2a69c1329d706742341b",
          "latitude": 51.50403821,
          "longitude": -0.217400093,
          "name": "200214 - Woodstock Grove, Shepherd's Bush",
          "timestamp": "2023-01-30T02:45:22.488000Z"
         },
         {
          "empty_slots": 15,
          "extra": {
           "installDate": "",
           "installed": true,
           "locked": false,
           "name": "Aintree Street, Fulham",
           "removalDate": "",
           "temporary": false,
           "terminalName": "200098",
           "uid": 616
          },
          "free_bikes": 9,
          "id": "ccbe01fc953e48e3490729699f9071bf",
          "latitude": 51.48102131,
          "longitude": -0.209973497,
          "name": "200098 - Aintree Street, Fulham",
          "timestamp": "2023-01-30T02:45:22.490000Z"
         },
         {
          "empty_slots": 12,
          "extra": {
           "installDate": "1380531540000",
           "installed": true,
           "locked": false,
           "name": "Elysium Place, Fulham",
           "removalDate": "",
           "temporary": false,
           "terminalName": "200028",
           "uid": 617
          },
          "free_bikes": 9,
          "id": "18e9d0e2737aeb5fc6c99c3fd8942ecd",
          "latitude": 51.47107905,
          "longitude": -0.207842908,
          "name": "200028 - Elysium Place, Fulham",
          "timestamp": "2023-01-30T02:45:22.491000Z"
         },
         {
          "empty_slots": 8,
          "extra": {
           "installDate": "1380546540000",
           "installed": true,
           "locked": false,
           "name": "Eel Brook Common, Walham Green",
           "removalDate": "",
           "temporary": false,
           "terminalName": "300003",
           "uid": 618
          },
          "free_bikes": 16,
          "id": "436d4a44ab9d0a46411f741bb259bbf9",
          "latitude": 51.47625965,
          "longitude": -0.193254007,
          "name": "300003 - Eel Brook Common, Walham Green",
          "timestamp": "2023-01-30T02:45:22.492000Z"
         },
         {
          "empty_slots": 31,
          "extra": {
           "installDate": "1380552360000",
           "installed": true,
           "locked": false,
           "name": "Irene Road, Parsons Green",
           "removalDate": "",
           "temporary": false,
           "terminalName": "300012",
           "uid": 619
          },
          "free_bikes": 12,
          "id": "4185f641b62b25a84f5ae4037a6fb1e3",
          "latitude": 51.4737636,
          "longitude": -0.197010096,
          "name": "300012 - Irene Road, Parsons Green",
          "timestamp": "2023-01-30T02:45:22.492000Z"
         },
         {
          "empty_slots": 14,
          "extra": {
           "installDate": "1380629040000",
           "installed": true,
           "locked": false,
           "name": "Surrey Lane, Battersea",
           "removalDate": "",
           "temporary": false,
           "terminalName": "300010",
           "uid": 620
          },
          "free_bikes": 14,
          "id": "88e25e1d2859ec013404fde8a2e59734",
          "latitude": 51.47518024,
          "longitude": -0.167160736,
          "name": "300010 - Surrey Lane, Battersea",
          "timestamp": "2023-01-30T02:45:22.493000Z"
         },
         {
          "empty_slots": 19,
          "extra": {
           "installDate": "1380899280000",
           "installed": true,
           "locked": false,
           "name": "Wandsworth Town Station, Wandsworth",
           "removalDate": "",
           "temporary": false,
           "terminalName": "200091",
           "uid": 621
          },
          "free_bikes": 14,
          "id": "0b3566396cee460796fa2c3a08c1bf64",
          "latitude": 51.46086446,
          "longitude": -0.187427294,
          "name": "200091 - Wandsworth Town Station, Wandsworth",
          "timestamp": "2023-01-30T02:45:22.494000Z"
         },
         {
          "empty_slots": 6,
          "extra": {
           "installDate": "1380901680000",
           "installed": true,
           "locked": false,
           "name": "Lansdowne Road, Ladbroke Grove",
           "removalDate": "",
           "temporary": false,
           "terminalName": "200172",
           "uid": 622
          },
          "free_bikes": 23,
          "id": "3c35be6e1fd5840889c6c0b24f0cec4b",
          "latitude": 51.50748124,
          "longitude": -0.205535908,
          "name": "200172 - Lansdowne Road, Ladbroke Grove",
          "timestamp": "2023-01-30T02:45:22.495000Z"
         },
         {
          "empty_slots": 18,
          "extra": {
           "installDate": "1381135320000",
           "installed": true,
           "locked": false,
           "name": "Nantes Close, Wandsworth",
           "removalDate": "",
           "temporary": false,
           "terminalName": "200186",
           "uid": 623
          },
          "free_bikes": 4,
          "id": "f5a52349e2b1ff0cae6c5ec0ad01c3d7",
          "latitude": 51.46193072,
          "longitude": -0.180791784,
          "name": "200186 - Nantes Close, Wandsworth",
          "timestamp": "2023-01-30T02:45:22.496000Z"
         },
         {
          "empty_slots": 22,
          "extra": {
           "installDate": "1381224240000",
           "installed": true,
           "locked": false,
           "name": "Courland Grove, Wandsworth Road",
           "removalDate": "",
           "temporary": false,
           "terminalName": "200173",
           "uid": 624
          },
          "free_bikes": 18,
          "id": "c611c164e9c6b09dae6cbbf25274f23d",
          "latitude": 51.4729184,
          "longitude": -0.132102704,
          "name": "200173 - Courland Grove, Wandsworth Road",
          "timestamp": "2023-01-30T02:45:22.496000Z"
         },
         {
          "empty_slots": 2,
          "extra": {
           "installDate": "1381227480000",
           "installed": true,
           "locked": false,
           "name": "Queen's Circus, Battersea Park",
           "removalDate": "",
           "temporary": false,
           "terminalName": "200190",
           "uid": 625
          },
          "free_bikes": 26,
          "id": "0e1efdedabfc5562db830161f77361ae",
          "latitude": 51.47761941,
          "longitude": -0.149551631,
          "name": "200190 - Queen's Circus, Battersea Park",
          "timestamp": "2023-01-30T02:45:22.497000Z"
         },
         {
          "empty_slots": 20,
          "extra": {
           "installDate": "1381920300000",
           "installed": true,
           "locked": false,
           "name": "Normand Park, West Kensington",
           "removalDate": "",
           "temporary": false,
           "terminalName": "300008",
           "uid": 626
          },
          "free_bikes": 4,
          "id": "17173be0e45e78e08e129395bd66733d",
          "latitude": 51.48438657,
          "longitude": -0.20481514,
          "name": "300008 - Normand Park, West Kensington",
          "timestamp": "2023-01-30T02:45:22.498000Z"
         },
         {
          "empty_slots": 11,
          "extra": {
           "installDate": "1381479480000",
           "installed": true,
           "locked": false,
           "name": "Morie Street, Wandsworth",
           "removalDate": "",
           "temporary": false,
           "terminalName": "200187",
           "uid": 629
          },
          "free_bikes": 17,
          "id": "cc613f88040fad899933fccac3a43d67",
          "latitude": 51.45995384,
          "longitude": -0.190184054,
          "name": "200187 - Morie Street, Wandsworth",
          "timestamp": "2023-01-30T02:45:22.500000Z"
         },
         {
          "empty_slots": 9,
          "extra": {
           "installDate": "1381487100000",
           "installed": true,
           "locked": false,
           "name": "Clarence Walk, Stockwell",
           "removalDate": "",
           "temporary": false,
           "terminalName": "200194",
           "uid": 630
          },
          "free_bikes": 19,
          "id": "11058fd9a19c1e3eb1be438a8fe78026",
          "latitude": 51.47073264,
          "longitude": -0.126994068,
          "name": "200194 - Clarence Walk, Stockwell",
          "timestamp": "2023-01-30T02:45:22.501000Z"
         },
         {
          "empty_slots": 17,
          "extra": {
           "installDate": "1381245300000",
           "installed": true,
           "locked": false,
           "name": "Battersea Park Road, Nine Elms",
           "removalDate": "",
           "temporary": false,
           "terminalName": "200183",
           "uid": 631
          },
          "free_bikes": 10,
          "id": "72f1e1e104f50e394ec6719329d6d954",
          "latitude": 51.4795017,
          "longitude": -0.141770709,
          "name": "200183 - Battersea Park Road, Nine Elms",
          "timestamp": "2023-01-30T02:45:22.502000Z"
         },
         {
          "empty_slots": 2,
          "extra": {
           "installDate": "1381220700000",
           "installed": true,
           "locked": false,
           "name": "Sheepcote Lane, Battersea",
           "removalDate": "",
           "temporary": false,
           "terminalName": "200176",
           "uid": 632
          },
          "free_bikes": 26,
          "id": "99499044d72124bfdf2598f13f3123fa",
          "latitude": 51.47053858,
          "longitude": -0.163041605,
          "name": "200176 - Sheepcote Lane, Battersea",
          "timestamp": "2023-01-30T02:45:22.503000Z"
         },
         {
          "empty_slots": 12,
          "extra": {
           "installDate": "1381402920000",
           "installed": true,
           "locked": false,
           "name": "Vereker Road, West Kensington",
           "removalDate": "",
           "temporary": false,
           "terminalName": "200116",
           "uid": 633
          },
          "free_bikes": 20,
          "id": "176ce23fdcdb9ad0098ba629d49278ad",
          "latitude": 51.48959104,
          "longitude": -0.209378594,
          "name": "200116 - Vereker Road, West Kensington",
          "timestamp": "2023-01-30T02:45:22.503000Z"
         },
         {
          "empty_slots": 18,
          "extra": {
           "installDate": "1381743780000",
           "installed": true,
           "locked": false,
           "name": "Brook Green South, Brook Green",
           "removalDate": "",
           "temporary": false,
           "terminalName": "300002",
           "uid": 634
          },
          "free_bikes": 15,
          "id": "700660c969a41b75d703f0d714df1328",
          "latitude": 51.49434708,
          "longitude": -0.215804559,
          "name": "300002 - Brook Green South, Brook Green",
          "timestamp": "2023-01-30T02:45:22.504000Z"
         },
         {
          "empty_slots": 13,
          "extra": {
           "installDate": "1381756440000",
           "installed": true,
           "locked": false,
           "name": "Greyhound Road, Hammersmith",
           "removalDate": "",
           "temporary": false,
           "terminalName": "200215",
           "uid": 635
          },
          "free_bikes": 24,
          "id": "3b74b71fc8dc2b7b869911f7a13d7b22",
          "latitude": 51.48606206,
          "longitude": -0.214428378,
          "name": "200215 - Greyhound Road, Hammersmith",
          "timestamp": "2023-01-30T02:45:22.505000Z"
         },
         {
          "empty_slots": 25,
          "extra": {
           "installDate": "1381846320000",
           "installed": true,
           "locked": false,
           "name": "South Park, Sands End",
           "removalDate": "",
           "temporary": false,
           "terminalName": "200180",
           "uid": 636
          },
          "free_bikes": 3,
          "id": "0c7b199636e8a47f15dd707b6954ee02",
          "latitude": 51.46706414,
          "longitude": -0.193502076,
          "name": "200180 - South Park, Sands End",
          "timestamp": "2023-01-30T02:45:22.506000Z"
         },
         {
          "empty_slots": 22,
          "extra": {
           "installDate": "1381933680000",
           "installed": true,
           "locked": false,
           "name": "Spencer Park, Wandsworth Common",
           "removalDate": "",
           "temporary": false,
           "terminalName": "200191",
           "uid": 637
          },
          "free_bikes": 3,
          "id": "c6006053a8c0ef4c474eae5a3b0d035d",
          "latitude": 51.45787019,
          "longitude": -0.174691623,
          "name": "200191 - Spencer Park, Wandsworth Common",
          "timestamp": "2023-01-30T02:45:22.509000Z"
         },
         {
          "empty_slots": 24,
          "extra": {
           "installDate": "1382010420000",
           "installed": true,
           "locked": false,
           "name": "Silverthorne Road, Battersea",
           "removalDate": "",
           "temporary": false,
           "terminalName": "200179",
           "uid": 640
          },
          "free_bikes": 4,
          "id": "ee629e8773009cbf69147ffa2beb9871",
          "latitude": 51.47286577,
          "longitude": -0.148059277,
          "name": "200179 - Silverthorne Road, Battersea",
          "timestamp": "2023-01-30T02:45:22.510000Z"
         },
         {
          "empty_slots": 0,
          "extra": {
           "installDate": "1381926900000",
           "installed": true,
           "locked": false,
           "name": "Archbishop's Park, Waterloo",
           "removalDate": "",
           "temporary": false,
           "terminalName": "300025",
           "uid": 641
          },
          "free_bikes": 23,
          "id": "aebfe7a6a3a7f359f526fb32c77bfcba",
          "latitude": 51.49824168,
          "longitude": -0.117495865,
          "name": "300025 - Archbishop's Park, Waterloo",
          "timestamp": "2023-01-30T02:45:22.511000Z"
         },
         {
          "empty_slots": 35,
          "extra": {
           "installDate": "1381934220000",
           "installed": true,
           "locked": false,
           "name": "Fawcett Close, Battersea",
           "removalDate": "",
           "temporary": false,
           "terminalName": "200192",
           "uid": 642
          },
          "free_bikes": 1,
          "id": "c54e6050d68d16efd5ab004b93560c7e",
          "latitude": 51.46916161,
          "longitude": -0.174485792,
          "name": "200192 - Fawcett Close, Battersea",
          "timestamp": "2023-01-30T02:45:22.512000Z"
         },
         {
          "empty_slots": 21,
          "extra": {
           "installDate": "1382278560000",
           "installed": true,
           "locked": false,
           "name": "Rainville Road, Hammersmith",
           "removalDate": "",
           "temporary": false,
           "terminalName": "200182",
           "uid": 644
          },
          "free_bikes": 15,
          "id": "b77f782fb1f2a5abd8f1dea22b9b422d",
          "latitude": 51.48373225,
          "longitude": -0.223852256,
          "name": "200182 - Rainville Road, Hammersmith",
          "timestamp": "2023-01-30T02:45:22.517000Z"
         },
         {
          "empty_slots": 10,
          "extra": {
           "installDate": "1382084340000",
           "installed": true,
           "locked": false,
           "name": "Buckingham Gate, Westminster",
           "removalDate": "",
           "temporary": false,
           "terminalName": "200178",
           "uid": 646
          },
          "free_bikes": 6,
          "id": "d79e95513c3b5e1d3c78a65874054481",
          "latitude": 51.49886563,
          "longitude": -0.137424571,
          "name": "200178 - Buckingham Gate, Westminster",
          "timestamp": "2023-01-30T02:45:22.527000Z"
         },
         {
          "empty_slots": 4,
          "extra": {
           "installDate": "1382347140000",
           "installed": true,
           "locked": false,
           "name": "Richmond Way, Shepherd's Bush",
           "removalDate": "",
           "temporary": false,
           "terminalName": "200181",
           "uid": 647
          },
          "free_bikes": 23,
          "id": "dc7927f5839ade3e41b03c1ce9d1bfaf",
          "latitude": 51.50035306,
          "longitude": -0.217515071,
          "name": "200181 - Richmond Way, Shepherd's Bush",
          "timestamp": "2023-01-30T02:45:22.529000Z"
         },
         {
          "empty_slots": 20,
          "extra": {
           "installDate": "1382352840000",
           "installed": true,
           "locked": false,
           "name": "Peterborough Road, Sands End",
           "removalDate": "",
           "temporary": false,
           "terminalName": "200171",
           "uid": 648
          },
          "free_bikes": 10,
          "id": "1ed9e09a1b36013966b9e4881467acf1",
          "latitude": 51.46904022,
          "longitude": -0.19627483,
          "name": "200171 - Peterborough Road, Sands End",
          "timestamp": "2023-01-30T02:45:22.530000Z"
         },
         {
          "empty_slots": 19,
          "extra": {
           "installDate": "1382348400000",
           "installed": true,
           "locked": false,
           "name": "World's End Place, West Chelsea",
           "removalDate": "",
           "temporary": false,
           "terminalName": "300009",
           "uid": 649
          },
          "free_bikes": 3,
          "id": "7d4bc8e5895e89cd86d1fe4025db6830",
          "latitude": 51.48180515,
          "longitude": -0.18027465,
          "name": "300009 - World's End Place, West Chelsea",
          "timestamp": "2023-01-30T02:45:22.531000Z"
         },
         {
          "empty_slots": 18,
          "extra": {
           "installDate": "1382441580000",
           "installed": true,
           "locked": false,
           "name": "Thorndike Close, West Chelsea",
           "removalDate": "",
           "temporary": false,
           "terminalName": "300030",
           "uid": 651
          },
          "free_bikes": 7,
          "id": "fdb0332e382c526657eea611e4b968bd",
          "latitude": 51.48089844,
          "longitude": -0.183853573,
          "name": "300030 - Thorndike Close, West Chelsea",
          "timestamp": "2023-01-30T02:45:22.532000Z"
         },
         {
          "empty_slots": 11,
          "extra": {
           "installDate": "1381848540000",
           "installed": true,
           "locked": false,
           "name": "Evesham Street, Avondale",
           "removalDate": "",
           "temporary": false,
           "terminalName": "300022",
           "uid": 652
          },
          "free_bikes": 18,
          "id": "37dc40e2a5a71717670821b31382212e",
          "latitude": 51.51148696,
          "longitude": -0.218190203,
          "name": "300022 - Evesham Street, Avondale",
          "timestamp": "2023-01-30T02:45:22.533000Z"
         },
         {
          "empty_slots": 11,
          "extra": {
           "installDate": "1382539860000",
           "installed": true,
           "locked": false,
           "name": "Simpson Street, Clapham Junction",
           "removalDate": "",
           "temporary": false,
           "terminalName": "200196",
           "uid": 653
          },
          "free_bikes": 14,
          "id": "8f10fca04e352fdc2f84a1b1a94677a8",
          "latitude": 51.47084722,
          "longitude": -0.17070367,
          "name": "200196 - Simpson Street, Clapham Junction",
          "timestamp": "2023-01-30T02:45:22.534000Z"
         },
         {
          "empty_slots": 28,
          "extra": {
           "installDate": "1382520000000",
           "installed": true,
           "locked": false,
           "name": "Ashmole Estate, Oval",
           "removalDate": "",
           "temporary": false,
           "terminalName": "200223",
           "uid": 654
          },
          "free_bikes": 6,
          "id": "5ff926c1323dc9ca2cce2ff5eb614962",
          "latitude": 51.48267821,
          "longitude": -0.117661574,
          "name": "200223 - Ashmole Estate, Oval",
          "timestamp": "2023-01-30T02:45:22.535000Z"
         },
         {
          "empty_slots": 8,
          "extra": {
           "installDate": "1382611200000",
           "installed": true,
           "locked": false,
           "name": "Crabtree Lane, Fulham",
           "removalDate": "",
           "temporary": false,
           "terminalName": "200221",
           "uid": 655
          },
          "free_bikes": 19,
          "id": "6549854ef10fd46fe5996f9e19235a18",
          "latitude": 51.48294452,
          "longitude": -0.219346128,
          "name": "200221 - Crabtree Lane, Fulham",
          "timestamp": "2023-01-30T02:45:22.535000Z"
         },
         {
          "empty_slots": 18,
          "extra": {
           "installDate": "1382621400000",
           "installed": true,
           "locked": false,
           "name": "Blythe Road West, Shepherd's Bush",
           "removalDate": "",
           "temporary": false,
           "terminalName": "200220",
           "uid": 657
          },
          "free_bikes": 3,
          "id": "0e32bed2bf97efb8e0ddcdd0446caf15",
          "latitude": 51.49968,
          "longitude": -0.221791551,
          "name": "200220 - Blythe Road West, Shepherd's Bush",
          "timestamp": "2023-01-30T02:45:22.537000Z"
         },
         {
          "empty_slots": 7,
          "extra": {
           "installDate": "1383731100000",
           "installed": true,
           "locked": false,
           "name": "Ethelburga Estate, Battersea Park",
           "removalDate": "",
           "temporary": false,
           "terminalName": "300005",
           "uid": 658
          },
          "free_bikes": 23,
          "id": "e8460349200c2c3cbdf5507a5c62d027",
          "latitude": 51.47729232,
          "longitude": -0.16478637,
          "name": "300005 - Ethelburga Estate, Battersea Park",
          "timestamp": "2023-01-30T02:45:22.538000Z"
         },
         {
          "empty_slots": 28,
          "extra": {
           "installDate": "1382697060000",
           "installed": true,
           "locked": false,
           "name": "Blackfriars Station, St. Paul's",
           "removalDate": "",
           "temporary": false,
           "terminalName": "200212",
           "uid": 659
          },
          "free_bikes": 7,
          "id": "3744c757c4d94f29c6e13ca57a1d1ae2",
          "latitude": 51.511934,
          "longitude": -0.10307894,
          "name": "200212 - Blackfriars Station, St. Paul's",
          "timestamp": "2023-01-30T02:45:22.538000Z"
         },
         {
          "empty_slots": 10,
          "extra": {
           "installDate": "1382866680000",
           "installed": true,
           "locked": false,
           "name": "Phene Street, Chelsea",
           "removalDate": "",
           "temporary": false,
           "terminalName": "200189",
           "uid": 662
          },
          "free_bikes": 14,
          "id": "0d1d53561dbd7567ed35c217a7b37224",
          "latitude": 51.48498496,
          "longitude": -0.167919869,
          "name": "200189 - Phene Street, Chelsea",
          "timestamp": "2023-01-30T02:45:22.541000Z"
         },
         {
          "empty_slots": 8,
          "extra": {
           "installDate": "1382870040000",
           "installed": true,
           "locked": false,
           "name": "Clarendon Road, Avondale",
           "removalDate": "",
           "temporary": false,
           "terminalName": "200124",
           "uid": 663
          },
          "free_bikes": 16,
          "id": "e7f0bedd4f3f1a1bd7ee7dd18e53c6c9",
          "latitude": 51.51323001,
          "longitude": -0.211593602,
          "name": "200124 - Clarendon Road, Avondale",
          "timestamp": "2023-01-30T02:45:22.542000Z"
         },
         {
          "empty_slots": 0,
          "extra": {
           "installDate": "1382964300000",
           "installed": true,
           "locked": false,
           "name": "Austin Road, Battersea Park",
           "removalDate": "",
           "temporary": false,
           "terminalName": "300013",
           "uid": 664
          },
          "free_bikes": 24,
          "id": "aec630f91b132c46f24b929c9f2474aa",
          "latitude": 51.474376,
          "longitude": -0.155442787,
          "name": "300013 - Austin Road, Battersea Park",
          "timestamp": "2023-01-30T02:45:22.543000Z"
         },
         {
          "empty_slots": 15,
          "extra": {
           "installDate": "1382975700000",
           "installed": true,
           "locked": false,
           "name": "Smugglers Way, Wandsworth",
           "removalDate": "",
           "temporary": false,
           "terminalName": "200113",
           "uid": 665
          },
          "free_bikes": 7,
          "id": "a8d02c0bebd9705845f9324574e0ffff",
          "latitude": 51.46108367,
          "longitude": -0.191722864,
          "name": "200113 - Smugglers Way, Wandsworth",
          "timestamp": "2023-01-30T02:45:22.543000Z"
         },
         {
          "empty_slots": 20,
          "extra": {
           "installDate": "1383136140000",
           "installed": true,
           "locked": false,
           "name": "Shepherd's Bush Road North, Shepherd's Bush",
           "removalDate": "",
           "temporary": false,
           "terminalName": "200209",
           "uid": 667
          },
          "free_bikes": 14,
          "id": "0d3bf8a2ca4aff840df4ed3428d77be2",
          "latitude": 51.5015946,
          "longitude": -0.222293381,
          "name": "200209 - Shepherd's Bush Road North, Shepherd's Bush",
          "timestamp": "2023-01-30T02:45:22.545000Z"
         },
         {
          "empty_slots": 1,
          "extra": {
           "installDate": "1383143160000",
           "installed": true,
           "locked": false,
           "name": "Ravenscourt Park Station, Hammersmith",
           "removalDate": "",
           "temporary": false,
           "terminalName": "300037",
           "uid": 668
          },
          "free_bikes": 25,
          "id": "251599019e831fcb8b10dbc859eb2c77",
          "latitude": 51.49422354,
          "longitude": -0.236769936,
          "name": "300037 - Ravenscourt Park Station, Hammersmith",
          "timestamp": "2023-01-30T02:45:22.546000Z"
         },
         {
          "empty_slots": 8,
          "extra": {
           "installDate": "1383147660000",
           "installed": true,
           "locked": false,
           "name": "Teversham Lane, Stockwell",
           "removalDate": "",
           "temporary": false,
           "terminalName": "300036",
           "uid": 669
          },
          "free_bikes": 31,
          "id": "9d0662e41f872b54e0deb92ef31c79ba",
          "latitude": 51.47614939,
          "longitude": -0.1232585,
          "name": "300036 - Teversham Lane, Stockwell",
          "timestamp": "2023-01-30T02:45:22.546000Z"
         },
         {
          "empty_slots": 16,
          "extra": {
           "installDate": "1383212640000",
           "installed": true,
           "locked": false,
           "name": "Ashley Crescent, Battersea",
           "removalDate": "",
           "temporary": false,
           "terminalName": "200169",
           "uid": 670
          },
          "free_bikes": 12,
          "id": "35eecf933325826bd2f7a27a8bf9e7e6",
          "latitude": 51.46718562,
          "longitude": -0.152248582,
          "name": "200169 - Ashley Crescent, Battersea",
          "timestamp": "2023-01-30T02:45:22.547000Z"
         },
         {
          "empty_slots": 35,
          "extra": {
           "installDate": "1383217920000",
           "installed": true,
           "locked": false,
           "name": "Parsons Green Station, Parsons Green",
           "removalDate": "",
           "temporary": false,
           "terminalName": "300052",
           "uid": 671
          },
          "free_bikes": 21,
          "id": "563d60e99e374222fc0e4c463719bd0e",
          "latitude": 51.475089,
          "longitude": -0.201968,
          "name": "300052 - Parsons Green Station, Parsons Green",
          "timestamp": "2023-01-30T02:45:22.548000Z"
         },
         {
          "empty_slots": 22,
          "extra": {
           "installDate": "1383319500000",
           "installed": true,
           "locked": false,
           "name": "Hibbert Street, Battersea",
           "removalDate": "",
           "temporary": false,
           "terminalName": "300051",
           "uid": 673
          },
          "free_bikes": 14,
          "id": "51b87d1008bc88061163c07ce6d878f9",
          "latitude": 51.46517078,
          "longitude": -0.18038939,
          "name": "300051 - Hibbert Street, Battersea",
          "timestamp": "2023-01-30T02:45:22.549000Z"
         },
         {
          "empty_slots": 25,
          "extra": {
           "installDate": "",
           "installed": true,
           "locked": false,
           "name": "Carnegie Street, King's Cross",
           "removalDate": "",
           "temporary": false,
           "terminalName": "300035",
           "uid": 674
          },
          "free_bikes": 15,
          "id": "d909c7c79018edca6ff5562af099e530",
          "latitude": 51.53546778,
          "longitude": -0.11619105,
          "name": "300035 - Carnegie Street, King's Cross",
          "timestamp": "2023-01-30T02:45:22.550000Z"
         },
         {
          "empty_slots": 23,
          "extra": {
           "installDate": "1383322320000",
           "installed": true,
           "locked": false,
           "name": "Usk Road, Clapham Junction",
           "removalDate": "",
           "temporary": false,
           "terminalName": "200126",
           "uid": 675
          },
          "free_bikes": 7,
          "id": "faa7d8335258a5d614e8a917d8877883",
          "latitude": 51.46348914,
          "longitude": -0.182126248,
          "name": "200126 - Usk Road, Clapham Junction",
          "timestamp": "2023-01-30T02:45:22.551000Z"
         },
         {
          "empty_slots": 28,
          "extra": {
           "installDate": "1383584400000",
           "installed": true,
           "locked": false,
           "name": "Hartington Road, Stockwell",
           "removalDate": "",
           "temporary": false,
           "terminalName": "200207",
           "uid": 676
          },
          "free_bikes": 7,
          "id": "487c571900f018ad6147950f3f57b9e3",
          "latitude": 51.47787084,
          "longitude": -0.126874471,
          "name": "200207 - Hartington Road, Stockwell",
          "timestamp": "2023-01-30T02:45:22.552000Z"
         },
         {
          "empty_slots": 16,
          "extra": {
           "installDate": "1383476160000",
           "installed": true,
           "locked": false,
           "name": "Heath Road, Battersea",
           "removalDate": "",
           "temporary": false,
           "terminalName": "200023",
           "uid": 677
          },
          "free_bikes": 11,
          "id": "69f18607900144bb0279ff55ca9c0a09",
          "latitude": 51.46866929,
          "longitude": -0.146544642,
          "name": "200023 - Heath Road, Battersea",
          "timestamp": "2023-01-30T02:45:22.553000Z"
         },
         {
          "empty_slots": 24,
          "extra": {
           "installDate": "1383653580000",
           "installed": true,
           "locked": false,
           "name": "Esmond Street, Putney",
           "removalDate": "",
           "temporary": false,
           "terminalName": "200170",
           "uid": 678
          },
          "free_bikes": 6,
          "id": "7ce9aac767040a31ea152e56112128da",
          "latitude": 51.46231278,
          "longitude": -0.211468596,
          "name": "200170 - Esmond Street, Putney",
          "timestamp": "2023-01-30T02:45:22.553000Z"
         },
         {
          "empty_slots": 13,
          "extra": {
           "installDate": "1383661200000",
           "installed": true,
           "locked": false,
           "name": "Orbel Street, Battersea",
           "removalDate": "",
           "temporary": false,
           "terminalName": "200114",
           "uid": 679
          },
          "free_bikes": 13,
          "id": "2d384a63aaa0a93306df49a5fbb1836d",
          "latitude": 51.47453545,
          "longitude": -0.170210533,
          "name": "200114 - Orbel Street, Battersea",
          "timestamp": "2023-01-30T02:45:22.554000Z"
         },
         {
          "empty_slots": 3,
          "extra": {
           "installDate": "1383657480000",
           "installed": true,
           "locked": false,
           "name": "Westbridge Road, Battersea",
           "removalDate": "",
           "temporary": false,
           "terminalName": "200210",
           "uid": 680
          },
          "free_bikes": 25,
          "id": "207110e525a28de8b818f389ff45e820",
          "latitude": 51.47768469,
          "longitude": -0.170329317,
          "name": "200210 - Westbridge Road, Battersea",
          "timestamp": "2023-01-30T02:45:22.555000Z"
         },
         {
          "empty_slots": 13,
          "extra": {
           "installDate": "1383733440000",
           "installed": true,
           "locked": false,
           "name": "Bishop's Avenue, Fulham",
           "removalDate": "",
           "temporary": false,
           "terminalName": "200043",
           "uid": 681
          },
          "free_bikes": 33,
          "id": "dc04adbb0f5cfea08ea94409b46aaf59",
          "latitude": 51.47303687,
          "longitude": -0.214749808,
          "name": "200043 - Bishop's Avenue, Fulham",
          "timestamp": "2023-01-30T02:45:22.555000Z"
         },
         {
          "empty_slots": 3,
          "extra": {
           "installDate": "1383823380000",
           "installed": true,
           "locked": false,
           "name": "Neville Gill Close, Wandsworth",
           "removalDate": "",
           "temporary": false,
           "terminalName": "200188",
           "uid": 684
          },
          "free_bikes": 29,
          "id": "19b283347402fac16a177e074e2c9572",
          "latitude": 51.45475251,
          "longitude": -0.195197203,
          "name": "200188 - Neville Gill Close, Wandsworth",
          "timestamp": "2023-01-30T02:45:22.558000Z"
         },
         {
          "empty_slots": 17,
          "extra": {
           "installDate": "1383827400000",
           "installed": true,
           "locked": false,
           "name": "Osiers Road, Wandsworth",
           "removalDate": "",
           "temporary": false,
           "terminalName": "200219",
           "uid": 685
          },
          "free_bikes": 13,
          "id": "eeb8609cd4d2f66e9d4bd9d057d711ab",
          "latitude": 51.46067005,
          "longitude": -0.198735357,
          "name": "200219 - Osiers Road, Wandsworth",
          "timestamp": "2023-01-30T02:45:22.559000Z"
         },
         {
          "empty_slots": 6,
          "extra": {
           "installDate": "1383835560000",
           "installed": true,
           "locked": false,
           "name": "Beryl Road, Hammersmith",
           "removalDate": "",
           "temporary": false,
           "terminalName": "200097",
           "uid": 686
          },
          "free_bikes": 20,
          "id": "9c5b9c0b07302a61c8f094de15898226",
          "latitude": 51.48814438,
          "longitude": -0.222456468,
          "name": "200097 - Beryl Road, Hammersmith",
          "timestamp": "2023-01-30T02:45:22.559000Z"
         },
         {
          "empty_slots": 10,
          "extra": {
           "installDate": "1383915240000",
           "installed": true,
           "locked": false,
           "name": "Northfields, Wandsworth",
           "removalDate": "",
           "temporary": false,
           "terminalName": "200204",
           "uid": 688
          },
          "free_bikes": 18,
          "id": "17e868fdabd0f2c24c7bdc613919eaa9",
          "latitude": 51.46095151,
          "longitude": -0.20066766,
          "name": "200204 - Northfields, Wandsworth",
          "timestamp": "2023-01-30T02:45:22.561000Z"
         },
         {
          "empty_slots": 18,
          "extra": {
           "installDate": "1383924660000",
           "installed": true,
           "locked": false,
           "name": "Stanley Grove, Battersea",
           "removalDate": "",
           "temporary": false,
           "terminalName": "200199",
           "uid": 690
          },
          "free_bikes": 6,
          "id": "5a6d57af5918766b5c2b01a0c54316b8",
          "latitude": 51.47047503,
          "longitude": -0.152130083,
          "name": "200199 - Stanley Grove, Battersea",
          "timestamp": "2023-01-30T02:45:22.563000Z"
         },
         {
          "empty_slots": 0,
          "extra": {
           "installDate": "1384763520000",
           "installed": true,
           "locked": false,
           "name": "Erin Close, Walham Green",
           "removalDate": "",
           "temporary": false,
           "terminalName": "200184",
           "uid": 691
          },
          "free_bikes": 24,
          "id": "4f6f219ebcb12bc09e075f477684429f",
          "latitude": 51.47946386,
          "longitude": -0.195777222,
          "name": "200184 - Erin Close, Walham Green",
          "timestamp": "2023-01-30T02:45:22.563000Z"
         },
         {
          "empty_slots": 11,
          "extra": {
           "installDate": "1384166220000",
           "installed": true,
           "locked": false,
           "name": "Cadogan Close, Victoria Park",
           "removalDate": "",
           "temporary": false,
           "terminalName": "200112",
           "uid": 692
          },
          "free_bikes": 11,
          "id": "dff281ce9f8b930df02aafdbf73003cf",
          "latitude": 51.54211855,
          "longitude": -0.028941601,
          "name": "200112 - Cadogan Close, Victoria Park",
          "timestamp": "2023-01-30T02:45:22.564000Z"
         },
         {
          "empty_slots": 1,
          "extra": {
           "installDate": "1384001160000",
           "installed": true,
           "locked": false,
           "name": "Felsham Road, Putney",
           "removalDate": "",
           "temporary": false,
           "terminalName": "300019",
           "uid": 693
          },
          "free_bikes": 17,
          "id": "c5b540329d69c0cef8d2a49cf7f7a2fb",
          "latitude": 51.464786,
          "longitude": -0.215618902,
          "name": "300019 - Felsham Road, Putney",
          "timestamp": "2023-01-30T02:45:22.565000Z"
         },
         {
          "empty_slots": 17,
          "extra": {
           "installDate": "1384004640000",
           "installed": true,
           "locked": false,
           "name": "Putney Rail Station, Putney",
           "removalDate": "",
           "temporary": false,
           "terminalName": "300033",
           "uid": 694
          },
          "free_bikes": 3,
          "id": "aee7721e1c42abcb1708ae3b0ed93bd8",
          "latitude": 51.46071722,
          "longitude": -0.216526155,
          "name": "300033 - Putney Rail Station, Putney",
          "timestamp": "2023-01-30T02:45:22.566000Z"
         },
         {
          "empty_slots": 4,
          "extra": {
           "installDate": "1384172820000",
           "installed": true,
           "locked": false,
           "name": "Islington Green, Angel",
           "removalDate": "",
           "temporary": false,
           "terminalName": "300031",
           "uid": 695
          },
          "free_bikes": 17,
          "id": "ed680c5a625ce29ae517b0bd0b063b0f",
          "latitude": 51.53638435,
          "longitude": -0.102757578,
          "name": "300031 - Islington Green, Angel",
          "timestamp": "2023-01-30T02:45:22.566000Z"
         },
         {
          "empty_slots": 4,
          "extra": {
           "installDate": "1384180020000",
           "installed": true,
           "locked": false,
           "name": "Charing Cross Hospital, Hammersmith",
           "removalDate": "",
           "temporary": false,
           "terminalName": "300018",
           "uid": 696
          },
          "free_bikes": 17,
          "id": "258bae71934e334dd7f77a6826073776",
          "latitude": 51.48728535,
          "longitude": -0.217995921,
          "name": "300018 - Charing Cross Hospital, Hammersmith",
          "timestamp": "2023-01-30T02:45:22.567000Z"
         },
         {
          "empty_slots": 27,
          "extra": {
           "installDate": "1384254300000",
           "installed": true,
           "locked": false,
           "name": "Shoreditch Court, Haggerston",
           "removalDate": "",
           "temporary": false,
           "terminalName": "200121",
           "uid": 698
          },
          "free_bikes": 8,
          "id": "288af2ce5056d6b0c5f7df002bd065fe",
          "latitude": 51.53908372,
          "longitude": -0.070329419,
          "name": "200121 - Shoreditch Court, Haggerston",
          "timestamp": "2023-01-30T02:45:22.569000Z"
         },
         {
          "empty_slots": 18,
          "extra": {
           "installDate": "1384343280000",
           "installed": true,
           "locked": false,
           "name": "Battersea Church Road, Battersea",
           "removalDate": "",
           "temporary": false,
           "terminalName": "200201",
           "uid": 700
          },
          "free_bikes": 7,
          "id": "3d839a0c388434f3f6bb1ec344832c0b",
          "latitude": 51.47696496,
          "longitude": -0.174347066,
          "name": "200201 - Battersea Church Road, Battersea",
          "timestamp": "2023-01-30T02:45:22.570000Z"
         },
         {
          "empty_slots": 2,
          "extra": {
           "installDate": "1384345860000",
           "installed": true,
           "locked": false,
           "name": "Durant Street, Bethnal Green",
           "removalDate": "",
           "temporary": false,
           "terminalName": "200213",
           "uid": 702
          },
          "free_bikes": 22,
          "id": "00531c4ce0f2e75ef2cebf19f1a6c1e3",
          "latitude": 51.52868155,
          "longitude": -0.065550321,
          "name": "200213 - Durant Street, Bethnal Green",
          "timestamp": "2023-01-30T02:45:22.572000Z"
         },
         {
          "empty_slots": 17,
          "extra": {
           "installDate": "1384443480000",
           "installed": true,
           "locked": false,
           "name": "Mexfield Road, East Putney",
           "removalDate": "",
           "temporary": false,
           "terminalName": "200063",
           "uid": 704
          },
          "free_bikes": 1,
          "id": "17a040536d0ab9b22526033eb45c721e",
          "latitude": 51.45682071,
          "longitude": -0.202802098,
          "name": "200063 - Mexfield Road, East Putney",
          "timestamp": "2023-01-30T02:45:22.573000Z"
         },
         {
          "empty_slots": 13,
          "extra": {
           "installDate": "1384420920000",
           "installed": true,
           "locked": false,
           "name": "Snowsfields, London Bridge",
           "removalDate": "",
           "temporary": false,
           "terminalName": "200193",
           "uid": 706
          },
          "free_bikes": 18,
          "id": "63d97c4650fae41b0edeb6e3be02b62d",
          "latitude": 51.50215353,
          "longitude": -0.083632928,
          "name": "200193 - Snowsfields, London Bridge",
          "timestamp": "2023-01-30T02:45:22.575000Z"
         },
         {
          "empty_slots": 31,
          "extra": {
           "installDate": "1384435680000",
           "installed": true,
           "locked": false,
           "name": "Barons Court Station, West Kensington",
           "removalDate": "",
           "temporary": false,
           "terminalName": "200197",
           "uid": 707
          },
          "free_bikes": 1,
          "id": "7d53c79d13354a0926c306506e132d2e",
          "latitude": 51.49021762,
          "longitude": -0.215087092,
          "name": "200197 - Barons Court Station, West Kensington",
          "timestamp": "2023-01-30T02:45:22.576000Z"
         },
         {
          "empty_slots": 13,
          "extra": {
           "installDate": "1384530180000",
           "installed": true,
           "locked": false,
           "name": "Disraeli Road, Putney",
           "removalDate": "",
           "temporary": false,
           "terminalName": "200217",
           "uid": 708
          },
          "free_bikes": 20,
          "id": "8bdbc7b9369ba20858fdba2c52fe5da7",
          "latitude": 51.46161068,
          "longitude": -0.21614583,
          "name": "200217 - Disraeli Road, Putney",
          "timestamp": "2023-01-30T02:45:22.577000Z"
         },
         {
          "empty_slots": 3,
          "extra": {
           "installDate": "1384520580000",
           "installed": true,
           "locked": false,
           "name": "Albert Bridge Road, Battersea Park",
           "removalDate": "",
           "temporary": false,
           "terminalName": "300045",
           "uid": 710
          },
          "free_bikes": 17,
          "id": "b42a30087162a66b986e3ff33211959d",
          "latitude": 51.47439218,
          "longitude": -0.163347594,
          "name": "300045 - Albert Bridge Road, Battersea Park",
          "timestamp": "2023-01-30T02:45:22.578000Z"
         },
         {
          "empty_slots": 25,
          "extra": {
           "installDate": "1384791540000",
           "installed": true,
           "locked": false,
           "name": "Everington Street, Fulham",
           "removalDate": "",
           "temporary": false,
           "terminalName": "300028",
           "uid": 711
          },
          "free_bikes": 6,
          "id": "f720de5eca4ba8646b150ee9fd436a4f",
          "latitude": 51.48335692,
          "longitude": -0.216305546,
          "name": "300028 - Everington Street, Fulham",
          "timestamp": "2023-01-30T02:45:22.579000Z"
         },
         {
          "empty_slots": 17,
          "extra": {
           "installDate": "1384797120000",
           "installed": true,
           "locked": false,
           "name": "Mile End Stadium, Mile End",
           "removalDate": "",
           "temporary": false,
           "terminalName": "300056",
           "uid": 712
          },
          "free_bikes": 5,
          "id": "310944038d05d714291606b973508343",
          "latitude": 51.51854104,
          "longitude": -0.034903714,
          "name": "300056 - Mile End Stadium, Mile End",
          "timestamp": "2023-01-30T02:45:22.580000Z"
         },
         {
          "empty_slots": 20,
          "extra": {
           "installDate": "1384865400000",
           "installed": true,
           "locked": false,
           "name": "Stewart's Road, Wandsworth Road",
           "removalDate": "",
           "temporary": false,
           "terminalName": "300055",
           "uid": 714
          },
          "free_bikes": 8,
          "id": "3f92e6135b78142c34afdcdcbc7cddda",
          "latitude": 51.47311696,
          "longitude": -0.137235175,
          "name": "300055 - Stewart's Road, Wandsworth Road",
          "timestamp": "2023-01-30T02:45:22.581000Z"
         },
         {
          "empty_slots": 12,
          "extra": {
           "installDate": "1384868460000",
           "installed": true,
           "locked": false,
           "name": "Aylward Street, Stepney",
           "removalDate": "",
           "temporary": false,
           "terminalName": "300049",
           "uid": 715
          },
          "free_bikes": 10,
          "id": "5fdbf177176def6919385c5e4799e30f",
          "latitude": 51.51563007,
          "longitude": -0.049067243,
          "name": "300049 - Aylward Street, Stepney",
          "timestamp": "2023-01-30T02:45:22.582000Z"
         },
         {
          "empty_slots": 13,
          "extra": {
           "installDate": "1384952400000",
           "installed": true,
           "locked": false,
           "name": "Dunston Road , Haggerston",
           "removalDate": "",
           "temporary": false,
           "terminalName": "300024",
           "uid": 717
          },
          "free_bikes": 30,
          "id": "12cf22b370092bd57925f3347d093bc9",
          "latitude": 51.53658514,
          "longitude": -0.075885686,
          "name": "300024 - Dunston Road , Haggerston",
          "timestamp": "2023-01-30T02:45:22.584000Z"
         },
         {
          "empty_slots": 19,
          "extra": {
           "installDate": "1384962840000",
           "installed": true,
           "locked": false,
           "name": "Ada Street, Hackney Central",
           "removalDate": "",
           "temporary": false,
           "terminalName": "300040",
           "uid": 718
          },
          "free_bikes": 26,
          "id": "b25ab9b076fd60246136c1e5f64dadb2",
          "latitude": 51.53571683,
          "longitude": -0.060291813,
          "name": "300040 - Ada Street, Hackney Central",
          "timestamp": "2023-01-30T02:45:22.585000Z"
         },
         {
          "empty_slots": 18,
          "extra": {
           "installDate": "1384968480000",
           "installed": true,
           "locked": false,
           "name": "Victoria Park Road, Hackney Central",
           "removalDate": "",
           "temporary": false,
           "terminalName": "300011",
           "uid": 719
          },
          "free_bikes": 16,
          "id": "8ecc337dd1950c019e8d01e27c886e23",
          "latitude": 51.53642464,
          "longitude": -0.054162264,
          "name": "300011 - Victoria Park Road, Hackney Central",
          "timestamp": "2023-01-30T02:45:22.585000Z"
         },
         {
          "empty_slots": 10,
          "extra": {
           "installDate": "1385025840000",
           "installed": true,
           "locked": false,
           "name": "Star Road, West Kensington",
           "removalDate": "",
           "temporary": false,
           "terminalName": "300038",
           "uid": 720
          },
          "free_bikes": 13,
          "id": "91413ad6bfda7be69a8cf41f7e47f431",
          "latitude": 51.48724429,
          "longitude": -0.205279052,
          "name": "300038 - Star Road, West Kensington",
          "timestamp": "2023-01-30T02:45:22.586000Z"
         },
         {
          "empty_slots": 9,
          "extra": {
           "installDate": "1385028480000",
           "installed": true,
           "locked": false,
           "name": "Wendon Street, Old Ford",
           "removalDate": "",
           "temporary": false,
           "terminalName": "300039",
           "uid": 721
          },
          "free_bikes": 9,
          "id": "c67cf776725bf48f5b151fd06b6285b5",
          "latitude": 51.53603947,
          "longitude": -0.026262677,
          "name": "300039 - Wendon Street, Old Ford",
          "timestamp": "2023-01-30T02:45:22.587000Z"
         },
         {
          "empty_slots": 6,
          "extra": {
           "installDate": "1385028600000",
           "installed": true,
           "locked": false,
           "name": "Finnis Street, Bethnal Green",
           "removalDate": "",
           "temporary": false,
           "terminalName": "300041",
           "uid": 722
          },
          "free_bikes": 13,
          "id": "f102b1111f0eaace9eec79779f7bfcda",
          "latitude": 51.52458353,
          "longitude": -0.058631453,
          "name": "300041 - Finnis Street, Bethnal Green",
          "timestamp": "2023-01-30T02:45:22.587000Z"
         },
         {
          "empty_slots": 41,
          "extra": {
           "installDate": "1385035380000",
           "installed": true,
           "locked": false,
           "name": "Stephendale Road, Sands End",
           "removalDate": "",
           "temporary": false,
           "terminalName": "300053",
           "uid": 723
          },
          "free_bikes": 7,
          "id": "8028515daa5c11d7b5fde5d4b7ef4fde",
          "latitude": 51.46822047,
          "longitude": -0.190346493,
          "name": "300053 - Stephendale Road, Sands End",
          "timestamp": "2023-01-30T02:45:22.588000Z"
         },
         {
          "empty_slots": 19,
          "extra": {
           "installDate": "1385125380000",
           "installed": true,
           "locked": false,
           "name": "Alma Road, Wandsworth",
           "removalDate": "",
           "temporary": false,
           "terminalName": "300046",
           "uid": 724
          },
          "free_bikes": 9,
          "id": "2f14a0cf466890807bb172bc12d326b3",
          "latitude": 51.45799126,
          "longitude": -0.184806157,
          "name": "300046 - Alma Road, Wandsworth",
          "timestamp": "2023-01-30T02:45:22.589000Z"
         },
         {
          "empty_slots": 13,
          "extra": {
           "installDate": "1563352500000",
           "installed": true,
           "locked": false,
           "name": "Walworth Square, Walworth",
           "removalDate": "",
           "temporary": false,
           "terminalName": "300050",
           "uid": 725
          },
          "free_bikes": 11,
          "id": "22dd9c7f455f2c8b36f130b8c84d8bbe",
          "latitude": 51.491327,
          "longitude": -0.096518684,
          "name": "300050 - Walworth Square, Walworth",
          "timestamp": "2023-01-30T02:45:22.590000Z"
         },
         {
          "empty_slots": 12,
          "extra": {
           "installDate": "1385128740000",
           "installed": true,
           "locked": false,
           "name": "Alfreda Street, Battersea Park",
           "removalDate": "",
           "temporary": false,
           "terminalName": "300047",
           "uid": 726
          },
          "free_bikes": 10,
          "id": "a20657730893330fc07b24b5ff455fa9",
          "latitude": 51.47505096,
          "longitude": -0.150908371,
          "name": "300047 - Alfreda Street, Battersea Park",
          "timestamp": "2023-01-30T02:45:22.591000Z"
         },
         {
          "empty_slots": 19,
          "extra": {
           "installDate": "1385132160000",
           "installed": true,
           "locked": false,
           "name": "Chesilton Road, Fulham",
           "removalDate": "",
           "temporary": false,
           "terminalName": "300054",
           "uid": 727
          },
          "free_bikes": 4,
          "id": "b91fe9edd1fe68c02e35c22992f206e3",
          "latitude": 51.47569809,
          "longitude": -0.20587627,
          "name": "300054 - Chesilton Road, Fulham",
          "timestamp": "2023-01-30T02:45:22.591000Z"
         },
         {
          "empty_slots": 18,
          "extra": {
           "installDate": "1385466780000",
           "installed": true,
           "locked": false,
           "name": "Putney Bridge Road, East Putney",
           "removalDate": "",
           "temporary": false,
           "terminalName": "300044",
           "uid": 728
          },
          "free_bikes": 11,
          "id": "4df4c1a61068e8b3db4e706cd399707d",
          "latitude": 51.46199911,
          "longitude": -0.206240805,
          "name": "300044 - Putney Bridge Road, East Putney",
          "timestamp": "2023-01-30T02:45:22.592000Z"
         },
         {
          "empty_slots": 15,
          "extra": {
           "installDate": "1385391300000",
           "installed": true,
           "locked": false,
           "name": "St. Peter's Terrace, Fulham",
           "removalDate": "",
           "temporary": false,
           "terminalName": "300043",
           "uid": 729
          },
          "free_bikes": 9,
          "id": "912100dd5d2cde961242dcd492bac422",
          "latitude": 51.47893931,
          "longitude": -0.208485293,
          "name": "300043 - St. Peter's Terrace, Fulham",
          "timestamp": "2023-01-30T02:45:22.598000Z"
         },
         {
          "empty_slots": 1,
          "extra": {
           "installDate": "1385132580000",
           "installed": true,
           "locked": false,
           "name": "Bridge Avenue, Hammersmith",
           "removalDate": "",
           "temporary": false,
           "terminalName": "300082",
           "uid": 730
          },
          "free_bikes": 17,
          "id": "b3bfe920f43212cf2925dfb3f6fa5c43",
          "latitude": 51.49208492,
          "longitude": -0.229116862,
          "name": "300082 - Bridge Avenue, Hammersmith",
          "timestamp": "2023-01-30T02:45:22.599000Z"
         },
         {
          "empty_slots": 15,
          "extra": {
           "installDate": "1385458020000",
           "installed": true,
           "locked": false,
           "name": "Duke Street Hill, London Bridge",
           "removalDate": "",
           "temporary": false,
           "terminalName": "300083",
           "uid": 732
          },
          "free_bikes": 6,
          "id": "22ea277021b0890c2cb89459df7fa1c2",
          "latitude": 51.50630441,
          "longitude": -0.087262995,
          "name": "300083 - Duke Street Hill, London Bridge",
          "timestamp": "2023-01-30T02:45:22.602000Z"
         },
         {
          "empty_slots": 11,
          "extra": {
           "installDate": "1385460840000",
           "installed": true,
           "locked": false,
           "name": "Park Lane, Mayfair",
           "removalDate": "",
           "temporary": false,
           "terminalName": "300093",
           "uid": 733
          },
          "free_bikes": 7,
          "id": "72b245bd6626f4f58721d7ddcac922e5",
          "latitude": 51.50542628,
          "longitude": -0.150817316,
          "name": "300093 - Park Lane, Mayfair",
          "timestamp": "2023-01-30T02:45:22.603000Z"
         },
         {
          "empty_slots": 8,
          "extra": {
           "installDate": "1385383080000",
           "installed": true,
           "locked": false,
           "name": "Grant Road East, Clapham Junction",
           "removalDate": "",
           "temporary": false,
           "terminalName": "200120",
           "uid": 735
          },
          "free_bikes": 20,
          "id": "decc690ca8ab17c12d3cb560edc3a123",
          "latitude": 51.46489445,
          "longitude": -0.17302926,
          "name": "200120 - Grant Road East, Clapham Junction",
          "timestamp": "2023-01-30T02:45:22.604000Z"
         },
         {
          "empty_slots": 2,
          "extra": {
           "installDate": "1385472900000",
           "installed": true,
           "locked": false,
           "name": "Queensdale Road, Shepherd's Bush",
           "removalDate": "",
           "temporary": false,
           "terminalName": "300088",
           "uid": 736
          },
          "free_bikes": 26,
          "id": "885aa1df3cac23559eb5b40d48c37253",
          "latitude": 51.50659035,
          "longitude": -0.216104479,
          "name": "300088 - Queensdale Road, Shepherd's Bush",
          "timestamp": "2023-01-30T02:45:22.605000Z"
         },
         {
          "empty_slots": 1,
          "extra": {
           "installDate": "1385554620000",
           "installed": true,
           "locked": false,
           "name": "Fulham Broadway, Walham Green",
           "removalDate": "",
           "temporary": false,
           "terminalName": "300086",
           "uid": 737
          },
          "free_bikes": 25,
          "id": "f3b91b2486b3d4ad963ed4f1c777fccb",
          "latitude": 51.47993289,
          "longitude": -0.19411695,
          "name": "300086 - Fulham Broadway, Walham Green",
          "timestamp": "2023-01-30T02:45:22.606000Z"
         },
         {
          "empty_slots": 24,
          "extra": {
           "installDate": "1385563380000",
           "installed": true,
           "locked": false,
           "name": "Imperial Road, Sands End",
           "removalDate": "",
           "temporary": false,
           "terminalName": "300087",
           "uid": 738
          },
          "free_bikes": 13,
          "id": "da31d4ed316bd9f373b9b65226e8bd9f",
          "latitude": 51.47514228,
          "longitude": -0.187278987,
          "name": "300087 - Imperial Road, Sands End",
          "timestamp": "2023-01-30T02:45:22.606000Z"
         },
         {
          "empty_slots": 9,
          "extra": {
           "installDate": "1385631000000",
           "installed": true,
           "locked": false,
           "name": "Hortensia Road, West Brompton",
           "removalDate": "",
           "temporary": false,
           "terminalName": "300091",
           "uid": 739
          },
          "free_bikes": 19,
          "id": "9614fa4af225345c3c2fa6fb337274bd",
          "latitude": 51.48176572,
          "longitude": -0.185273723,
          "name": "300091 - Hortensia Road, West Brompton",
          "timestamp": "2023-01-30T02:45:22.607000Z"
         },
         {
          "empty_slots": 13,
          "extra": {
           "installDate": "1385635440000",
           "installed": true,
           "locked": false,
           "name": "Sirdar Road, Avondale",
           "removalDate": "",
           "temporary": false,
           "terminalName": "300084",
           "uid": 740
          },
          "free_bikes": 13,
          "id": "1f723dda1baca2b8c13e7395f4766955",
          "latitude": 51.51092871,
          "longitude": -0.214594781,
          "name": "300084 - Sirdar Road, Avondale",
          "timestamp": "2023-01-30T02:45:22.608000Z"
         },
         {
          "empty_slots": 5,
          "extra": {
           "installDate": "1385640120000",
           "installed": true,
           "locked": false,
           "name": "Freston Road, Avondale",
           "removalDate": "",
           "temporary": false,
           "terminalName": "300085",
           "uid": 741
          },
          "free_bikes": 18,
          "id": "75d93c810d5cbe6cb5a7f2fbb3fb2f61",
          "latitude": 51.5129814,
          "longitude": -0.219486603,
          "name": "300085 - Freston Road, Avondale",
          "timestamp": "2023-01-30T02:45:22.608000Z"
         },
         {
          "empty_slots": 24,
          "extra": {
           "installDate": "1385723700000",
           "installed": true,
           "locked": false,
           "name": "Oxford Road, Putney",
           "removalDate": "",
           "temporary": false,
           "terminalName": "300078",
           "uid": 743
          },
          "free_bikes": 5,
          "id": "df7141a19f8de7e207181417c169f5f1",
          "latitude": 51.46079243,
          "longitude": -0.212607684,
          "name": "300078 - Oxford Road, Putney",
          "timestamp": "2023-01-30T02:45:22.610000Z"
         },
         {
          "empty_slots": 24,
          "extra": {
           "installDate": "1385729760000",
           "installed": true,
           "locked": false,
           "name": "Ingrave Street, Clapham Junction",
           "removalDate": "",
           "temporary": false,
           "terminalName": "300077",
           "uid": 744
          },
          "free_bikes": 6,
          "id": "b50e7fcc091a7bb996645d914858cd81",
          "latitude": 51.46745485,
          "longitude": -0.172293499,
          "name": "300077 - Ingrave Street, Clapham Junction",
          "timestamp": "2023-01-30T02:45:22.610000Z"
         },
         {
          "empty_slots": 10,
          "extra": {
           "installDate": "1385740020000",
           "installed": true,
           "locked": false,
           "name": "Upcerne Road, West Chelsea",
           "removalDate": "",
           "temporary": false,
           "terminalName": "300075",
           "uid": 745
          },
          "free_bikes": 19,
          "id": "db79d474fae5452c0ee6cfa826d14442",
          "latitude": 51.47816972,
          "longitude": -0.18243547,
          "name": "300075 - Upcerne Road, West Chelsea",
          "timestamp": "2023-01-30T02:45:22.611000Z"
         },
         {
          "empty_slots": 20,
          "extra": {
           "installDate": "1385985720000",
           "installed": true,
           "locked": false,
           "name": "Lots Road, West Chelsea",
           "removalDate": "",
           "temporary": false,
           "terminalName": "300076",
           "uid": 746
          },
          "free_bikes": 4,
          "id": "1abd626b32beaac8cb1120144d0c97a4",
          "latitude": 51.4795738,
          "longitude": -0.17903854,
          "name": "300076 - Lots Road, West Chelsea",
          "timestamp": "2023-01-30T02:45:22.612000Z"
         },
         {
          "empty_slots": 8,
          "extra": {
           "installDate": "1385997240000",
           "installed": true,
           "locked": false,
           "name": "Ormonde Gate, Chelsea",
           "removalDate": "",
           "temporary": false,
           "terminalName": "300089",
           "uid": 747
          },
          "free_bikes": 16,
          "id": "87de1a2c4b793d26f62410808c48f7ae",
          "latitude": 51.48796408,
          "longitude": -0.161765173,
          "name": "300089 - Ormonde Gate, Chelsea",
          "timestamp": "2023-01-30T02:45:22.613000Z"
         },
         {
          "empty_slots": 17,
          "extra": {
           "installDate": "1386159900000",
           "installed": true,
           "locked": false,
           "name": "Hertford Road, De Beauvoir Town",
           "removalDate": "",
           "temporary": false,
           "terminalName": "300092",
           "uid": 748
          },
          "free_bikes": 8,
          "id": "fc13cec797c8d375047af309197b3035",
          "latitude": 51.53727795,
          "longitude": -0.079201849,
          "name": "300092 - Hertford Road, De Beauvoir Town",
          "timestamp": "2023-01-30T02:45:22.614000Z"
         },
         {
          "empty_slots": 16,
          "extra": {
           "installDate": "1386172440000",
           "installed": true,
           "locked": false,
           "name": "Haggerston Road, Haggerston",
           "removalDate": "",
           "temporary": false,
           "terminalName": "300081",
           "uid": 749
          },
          "free_bikes": 21,
          "id": "0d050bd8136b44ea4429f899aa5dd06c",
          "latitude": 51.53932857,
          "longitude": -0.074284675,
          "name": "300081 - Haggerston Road, Haggerston",
          "timestamp": "2023-01-30T02:45:22.615000Z"
         },
         {
          "empty_slots": 9,
          "extra": {
           "installDate": "1386240360000",
           "installed": true,
           "locked": false,
           "name": "Culvert Road, Battersea",
           "removalDate": "",
           "temporary": false,
           "terminalName": "300080",
           "uid": 750
          },
          "free_bikes": 18,
          "id": "c8bdcf3ed82231a237888af8de2da458",
          "latitude": 51.4710956,
          "longitude": -0.157850096,
          "name": "300080 - Culvert Road, Battersea",
          "timestamp": "2023-01-30T02:45:22.615000Z"
         },
         {
          "empty_slots": 11,
          "extra": {
           "installDate": "1386250800000",
           "installed": true,
           "locked": false,
           "name": "Newton Street, Covent Garden",
           "removalDate": "",
           "temporary": false,
           "terminalName": "300074",
           "uid": 751
          },
          "free_bikes": 13,
          "id": "a185924831891de121774a0abab95a14",
          "latitude": 51.51612862,
          "longitude": -0.120909408,
          "name": "300074 - Newton Street, Covent Garden",
          "timestamp": "2023-01-30T02:45:22.616000Z"
         },
         {
          "empty_slots": 18,
          "extra": {
           "installDate": "1650364320000",
           "installed": true,
           "locked": false,
           "name": "London Street, Paddington",
           "removalDate": "",
           "temporary": false,
           "terminalName": "300079",
           "uid": 752
          },
          "free_bikes": 1,
          "id": "a29c6d919e37e086fe65901260ba1579",
          "latitude": 51.515117,
          "longitude": -0.17371276,
          "name": "300079 - London Street, Paddington",
          "timestamp": "2023-01-30T02:45:22.617000Z"
         },
         {
          "empty_slots": 9,
          "extra": {
           "installDate": "1389003540000",
           "installed": true,
           "locked": false,
           "name": "Grenfell Road, Avondale",
           "removalDate": "",
           "temporary": false,
           "terminalName": "300067",
           "uid": 754
          },
          "free_bikes": 15,
          "id": "2252f79019ed2aa466bd5750fbe43997",
          "latitude": 51.5129006,
          "longitude": -0.214762686,
          "name": "300067 - Grenfell Road, Avondale",
          "timestamp": "2023-01-30T02:45:22.618000Z"
         },
         {
          "empty_slots": 17,
          "extra": {
           "installDate": "1389008580000",
           "installed": true,
           "locked": false,
           "name": "The Vale, Chelsea",
           "removalDate": "",
           "temporary": false,
           "terminalName": "300058",
           "uid": 755
          },
          "free_bikes": 7,
          "id": "0c214fd5844b79f5ace4631b36babc8a",
          "latitude": 51.48512191,
          "longitude": -0.174971902,
          "name": "300058 - The Vale, Chelsea",
          "timestamp": "2023-01-30T02:45:22.619000Z"
         },
         {
          "empty_slots": 0,
          "extra": {
           "installDate": "1390223040000",
           "installed": true,
           "locked": false,
           "name": "Prince of Wales Drive, Battersea Park",
           "removalDate": "",
           "temporary": false,
           "terminalName": "300073",
           "uid": 756
          },
          "free_bikes": 21,
          "id": "001420f03e8b4f08f1bcc9bdc0260651",
          "latitude": 51.47515398,
          "longitude": -0.159169801,
          "name": "300073 - Prince of Wales Drive, Battersea Park",
          "timestamp": "2023-01-30T02:45:22.619000Z"
         },
         {
          "empty_slots": 16,
          "extra": {
           "installDate": "1389094260000",
           "installed": true,
           "locked": false,
           "name": "Harcourt Terrace, West Brompton",
           "removalDate": "",
           "temporary": false,
           "terminalName": "300069",
           "uid": 757
          },
          "free_bikes": 8,
          "id": "a4ed9c494ef55af5c85cf3fc52cd7efa",
          "latitude": 51.48795853,
          "longitude": -0.187404506,
          "name": "300069 - Harcourt Terrace, West Brompton",
          "timestamp": "2023-01-30T02:45:22.620000Z"
         },
         {
          "empty_slots": 14,
          "extra": {
           "installDate": "1389627480000",
           "installed": true,
           "locked": false,
           "name": "Broadley Terrace, Marylebone",
           "removalDate": "",
           "temporary": false,
           "terminalName": "300072",
           "uid": 759
          },
          "free_bikes": 4,
          "id": "aadb55c43bffce99f9347840c76651cc",
          "latitude": 51.52456169,
          "longitude": -0.165668686,
          "name": "300072 - Broadley Terrace, Marylebone",
          "timestamp": "2023-01-30T02:45:22.622000Z"
         },
         {
          "empty_slots": 12,
          "extra": {
           "installDate": "1389781800000",
           "installed": true,
           "locked": false,
           "name": "Humbolt Road, Fulham",
           "removalDate": "",
           "temporary": false,
           "terminalName": "300068",
           "uid": 761
          },
          "free_bikes": 14,
          "id": "c787b35138626eb5eb146e2c81e870e7",
          "latitude": 51.48321729,
          "longitude": -0.211860644,
          "name": "300068 - Humbolt Road, Fulham",
          "timestamp": "2023-01-30T02:45:22.622000Z"
         },
         {
          "empty_slots": 32,
          "extra": {
           "installDate": "1392043020000",
           "installed": true,
           "locked": false,
           "name": "Mile End Park Leisure Centre, Mile End",
           "removalDate": "",
           "temporary": false,
           "terminalName": "300027",
           "uid": 763
          },
          "free_bikes": 15,
          "id": "7c2cdef30e75123d21edbd7381edf2b5",
          "latitude": 51.52059714,
          "longitude": -0.032566533,
          "name": "300027 - Mile End Park Leisure Centre, Mile End",
          "timestamp": "2023-01-30T02:45:22.624000Z"
         },
         {
          "empty_slots": 10,
          "extra": {
           "installDate": "1392986940000",
           "installed": true,
           "locked": false,
           "name": "Ranelagh Gardens, Fulham",
           "removalDate": "",
           "temporary": false,
           "terminalName": "300064",
           "uid": 765
          },
          "free_bikes": 29,
          "id": "8687fa44c969d19da9b2900804e2508b",
          "latitude": 51.46760141,
          "longitude": -0.20682737,
          "name": "300064 - Ranelagh Gardens, Fulham",
          "timestamp": "2023-01-30T02:45:22.626000Z"
         },
         {
          "empty_slots": 7,
          "extra": {
           "installDate": "1392894840000",
           "installed": true,
           "locked": false,
           "name": "Ram Street, Wandsworth",
           "removalDate": "",
           "temporary": false,
           "terminalName": "200079",
           "uid": 766
          },
          "free_bikes": 18,
          "id": "8277a07a35f76cf828604ae9938fea21",
          "latitude": 51.45752945,
          "longitude": -0.192165613,
          "name": "200079 - Ram Street, Wandsworth",
          "timestamp": "2023-01-30T02:45:22.627000Z"
         },
         {
          "empty_slots": 30,
          "extra": {
           "installDate": "1393406280000",
           "installed": true,
           "locked": false,
           "name": "Santos Road, Wandsworth",
           "removalDate": "",
           "temporary": false,
           "terminalName": "200177",
           "uid": 767
          },
          "free_bikes": 0,
          "id": "8ea647e16f07cdfecb28f07afaf1482b",
          "latitude": 51.45705988,
          "longitude": -0.200806304,
          "name": "200177 - Santos Road, Wandsworth",
          "timestamp": "2023-01-30T02:45:22.628000Z"
         },
         {
          "empty_slots": 15,
          "extra": {
           "installDate": "1393939560000",
           "installed": true,
           "locked": false,
           "name": "Sandilands Road, Walham Green",
           "removalDate": "",
           "temporary": false,
           "terminalName": "300001",
           "uid": 769
          },
          "free_bikes": 6,
          "id": "cf1c7f499d25de073d091384bab78f13",
          "latitude": 51.473611,
          "longitude": -0.191803,
          "name": "300001 - Sandilands Road, Walham Green",
          "timestamp": "2023-01-30T02:45:22.629000Z"
         },
         {
          "empty_slots": 3,
          "extra": {
           "installDate": "1394099280000",
           "installed": true,
           "locked": false,
           "name": "Gwendwr Road, West Kensington",
           "removalDate": "",
           "temporary": false,
           "terminalName": "300097",
           "uid": 770
          },
          "free_bikes": 27,
          "id": "bca593837e5ed71410c9e529945554c7",
          "latitude": 51.491026,
          "longitude": -0.209121,
          "name": "300097 - Gwendwr Road, West Kensington",
          "timestamp": "2023-01-30T02:45:22.630000Z"
         },
         {
          "empty_slots": 11,
          "extra": {
           "installDate": "1394018400000",
           "installed": true,
           "locked": false,
           "name": "Rifle Place, Avondale",
           "removalDate": "",
           "temporary": false,
           "terminalName": "300007",
           "uid": 771
          },
          "free_bikes": 10,
          "id": "270f267381a6a855aeaddebcec4d8003",
          "latitude": 51.509224,
          "longitude": -0.216016,
          "name": "300007 - Rifle Place, Avondale",
          "timestamp": "2023-01-30T02:45:22.631000Z"
         },
         {
          "empty_slots": 32,
          "extra": {
           "installDate": "1396442100000",
           "installed": true,
           "locked": false,
           "name": "Binfield Road, Stockwell",
           "removalDate": "",
           "temporary": false,
           "terminalName": "300015",
           "uid": 772
          },
          "free_bikes": 3,
          "id": "e54b6b92660d5707a55c3b22be51df61",
          "latitude": 51.47250956,
          "longitude": -0.122831913,
          "name": "300015 - Binfield Road, Stockwell",
          "timestamp": "2023-01-30T02:45:22.632000Z"
         },
         {
          "empty_slots": 9,
          "extra": {
           "installDate": "1396265880000",
           "installed": true,
           "locked": false,
           "name": "Hurlingham Park, Parsons Green",
           "removalDate": "",
           "temporary": false,
           "terminalName": "300098",
           "uid": 774
          },
          "free_bikes": 11,
          "id": "631d0a4d673ca6ab0a67af93f61013c1",
          "latitude": 51.470131,
          "longitude": -0.20464,
          "name": "300098 - Hurlingham Park, Parsons Green",
          "timestamp": "2023-01-30T02:45:22.633000Z"
         },
         {
          "empty_slots": 14,
          "extra": {
           "installDate": "1396270320000",
           "installed": true,
           "locked": false,
           "name": "Little Brook Green, Brook Green",
           "removalDate": "",
           "temporary": false,
           "terminalName": "300101",
           "uid": 775
          },
          "free_bikes": 19,
          "id": "74f2d9391f29014770175f75abe90553",
          "latitude": 51.496664,
          "longitude": -0.223868,
          "name": "300101 - Little Brook Green, Brook Green",
          "timestamp": "2023-01-30T02:45:22.634000Z"
         },
         {
          "empty_slots": 17,
          "extra": {
           "installDate": "1406282940000",
           "installed": true,
           "locked": false,
           "name": "Limburg Road, Clapham Junction",
           "removalDate": "",
           "temporary": false,
           "terminalName": "300100",
           "uid": 777
          },
          "free_bikes": 4,
          "id": "6b86ff2eb6ffce7a525b1f7d5290cb1f",
          "latitude": 51.4619230679,
          "longitude": -0.165297856693,
          "name": "300100 - Limburg Road, Clapham Junction",
          "timestamp": "2023-01-30T02:45:22.636000Z"
         },
         {
          "empty_slots": 6,
          "extra": {
           "installDate": "1439455200000",
           "installed": true,
           "locked": false,
           "name": "Imperial Wharf Station, Sands End",
           "removalDate": "",
           "temporary": false,
           "terminalName": "300070",
           "uid": 780
          },
          "free_bikes": 19,
          "id": "2765e4eac07830d01f38edd39e52b6e0",
          "latitude": 51.474665,
          "longitude": -0.18316517,
          "name": "300070 - Imperial Wharf Station, Sands End",
          "timestamp": "2023-01-30T02:45:22.637000Z"
         },
         {
          "empty_slots": 2,
          "extra": {
           "installDate": "1446485340000",
           "installed": true,
           "locked": false,
           "name": "Victoria & Albert Museum, South Kensington",
           "removalDate": "",
           "temporary": false,
           "terminalName": "300032",
           "uid": 781
          },
          "free_bikes": 28,
          "id": "d0fc27bc82f47b9966c048ae5d93878b",
          "latitude": 51.495898,
          "longitude": -0.173009,
          "name": "300032 - Victoria & Albert Museum, South Kensington",
          "timestamp": "2023-01-30T02:45:22.638000Z"
         },
         {
          "empty_slots": 11,
          "extra": {
           "installDate": "1446485820000",
           "installed": true,
           "locked": false,
           "name": "Halford Road, West Kensington",
           "removalDate": "",
           "temporary": false,
           "terminalName": "300210",
           "uid": 782
          },
          "free_bikes": 13,
          "id": "e5bef29f53361738b2e94538ca9d8a9a",
          "latitude": 51.483911,
          "longitude": -0.19760944,
          "name": "300210 - Halford Road, West Kensington",
          "timestamp": "2023-01-30T02:45:22.639000Z"
         },
         {
          "empty_slots": 21,
          "extra": {
           "installDate": "1448529660000",
           "installed": true,
           "locked": false,
           "name": "Monier Road, Hackney Wick",
           "removalDate": "",
           "temporary": false,
           "terminalName": "300213",
           "uid": 783
          },
          "free_bikes": 6,
          "id": "24ab10d466840d868d4bf46225049c54",
          "latitude": 51.5403115,
          "longitude": -0.021630359,
          "name": "300213 - Monier Road, Hackney Wick",
          "timestamp": "2023-01-30T02:45:22.640000Z"
         },
         {
          "empty_slots": 33,
          "extra": {
           "installDate": "1452789240000",
           "installed": true,
           "locked": false,
           "name": "East Village, Queen Elizabeth Olympic Park",
           "removalDate": "",
           "temporary": false,
           "terminalName": "300200",
           "uid": 784
          },
          "free_bikes": 1,
          "id": "b1c256158ef680127fc708ee48af4b3b",
          "latitude": 51.546326,
          "longitude": -0.00993526,
          "name": "300200 - East Village, Queen Elizabeth Olympic Park",
          "timestamp": "2023-01-30T02:45:22.641000Z"
         },
         {
          "empty_slots": 2,
          "extra": {
           "installDate": "1451908440000",
           "installed": true,
           "locked": false,
           "name": "Aquatic Centre, Queen Elizabeth Olympic Park",
           "removalDate": "",
           "temporary": false,
           "terminalName": "300233",
           "uid": 785
          },
          "free_bikes": 62,
          "id": "bcb7d8a448587956340ec74430e0893c",
          "latitude": 51.54094,
          "longitude": -0.010510565,
          "name": "300233 - Aquatic Centre, Queen Elizabeth Olympic Park",
          "timestamp": "2023-01-30T02:45:22.641000Z"
         },
         {
          "empty_slots": 29,
          "extra": {
           "installDate": "1451900700000",
           "installed": true,
           "locked": false,
           "name": "Timber Lodge, Queen Elizabeth Olympic Park",
           "removalDate": "",
           "temporary": false,
           "terminalName": "300227",
           "uid": 787
          },
          "free_bikes": 6,
          "id": "47bba14a9288c1ae740ef66500ed5107",
          "latitude": 51.546805,
          "longitude": -0.01469126,
          "name": "300227 - Timber Lodge, Queen Elizabeth Olympic Park",
          "timestamp": "2023-01-30T02:45:22.643000Z"
         },
         {
          "empty_slots": 8,
          "extra": {
           "installDate": "1451906880000",
           "installed": true,
           "locked": false,
           "name": "Copper Box Arena, Queen Elizabeth Olympic Park",
           "removalDate": "",
           "temporary": false,
           "terminalName": "300226",
           "uid": 788
          },
          "free_bikes": 23,
          "id": "cbfdd7b66cc21a9d41f6b6987ac96fb3",
          "latitude": 51.544909,
          "longitude": -0.0205426,
          "name": "300226 - Copper Box Arena, Queen Elizabeth Olympic Park",
          "timestamp": "2023-01-30T02:45:22.644000Z"
         },
         {
          "empty_slots": 3,
          "extra": {
           "installDate": "1452687420000",
           "installed": true,
           "locked": false,
           "name": "Stratford Station, Stratford",
           "removalDate": "",
           "temporary": false,
           "terminalName": "300234",
           "uid": 790
          },
          "free_bikes": 25,
          "id": "96a2d1f3d11361f21b51da0df5786d20",
          "latitude": 51.541793,
          "longitude": -0.00481,
          "name": "300234 - Stratford Station, Stratford",
          "timestamp": "2023-01-30T02:45:22.645000Z"
         },
         {
          "empty_slots": 5,
          "extra": {
           "installDate": "1454926380000",
           "installed": true,
           "locked": false,
           "name": "Blackfriars Road, Southwark",
           "removalDate": "",
           "temporary": false,
           "terminalName": "300214",
           "uid": 792
          },
          "free_bikes": 37,
          "id": "6a4a5799ca9a7b71a79601454d146d0b",
          "latitude": 51.505461,
          "longitude": -0.10454093,
          "name": "300214 - Blackfriars Road, Southwark",
          "timestamp": "2023-01-30T02:45:22.645000Z"
         },
         {
          "empty_slots": 10,
          "extra": {
           "installDate": "1459424760000",
           "installed": true,
           "locked": false,
           "name": "Cromer Street, Bloomsbury",
           "removalDate": "",
           "temporary": false,
           "terminalName": "300205",
           "uid": 793
          },
          "free_bikes": 18,
          "id": "1573adc95e0db280dd1531ea15f74eda",
          "latitude": 51.528279,
          "longitude": -0.11955857,
          "name": "300205 - Cromer Street, Bloomsbury",
          "timestamp": "2023-01-30T02:45:22.646000Z"
         },
         {
          "empty_slots": 22,
          "extra": {
           "installDate": "1456404240000",
           "installed": true,
           "locked": false,
           "name": "Victoria Rise, Clapham Common",
           "removalDate": "",
           "temporary": false,
           "terminalName": "300204",
           "uid": 794
          },
          "free_bikes": 1,
          "id": "fbd3c3002688d5e6ad8c6479a3031423",
          "latitude": 51.461376,
          "longitude": -0.14780467,
          "name": "300204 - Victoria Rise, Clapham Common",
          "timestamp": "2023-01-30T02:45:22.647000Z"
         },
         {
          "empty_slots": 16,
          "extra": {
           "installDate": "1456746420000",
           "installed": true,
           "locked": false,
           "name": "Coram Street, Bloomsbury",
           "removalDate": "",
           "temporary": false,
           "terminalName": "300201",
           "uid": 796
          },
          "free_bikes": 13,
          "id": "56265577799c01b2754edd655d4aaa06",
          "latitude": 51.524,
          "longitude": -0.12640984,
          "name": "300201 - Coram Street, Bloomsbury",
          "timestamp": "2023-01-30T02:45:22.648000Z"
         },
         {
          "empty_slots": 16,
          "extra": {
           "installDate": "1456839540000",
           "installed": true,
           "locked": false,
           "name": "Ossulston Street, Somers Town",
           "removalDate": "",
           "temporary": false,
           "terminalName": "300211",
           "uid": 797
          },
          "free_bikes": 14,
          "id": "fcedd183a384beb226c0c25e04df208b",
          "latitude": 51.5293,
          "longitude": -0.12827903,
          "name": "300211 - Ossulston Street, Somers Town",
          "timestamp": "2023-01-30T02:45:22.649000Z"
         },
         {
          "empty_slots": 7,
          "extra": {
           "installDate": "1464787980000",
           "installed": true,
           "locked": false,
           "name": "Birkenhead Street, King's Cross",
           "removalDate": "",
           "temporary": false,
           "terminalName": "300212",
           "uid": 798
          },
          "free_bikes": 20,
          "id": "072c36394de14cadaae53d0086822740",
          "latitude": 51.5301998755,
          "longitude": -0.122299440803,
          "name": "300212 - Birkenhead Street, King's Cross",
          "timestamp": "2023-01-30T02:45:22.649000Z"
         },
         {
          "empty_slots": 4,
          "extra": {
           "installDate": "1464876480000",
           "installed": true,
           "locked": false,
           "name": "Kings Gate House, Westminster",
           "removalDate": "",
           "temporary": false,
           "terminalName": "300202",
           "uid": 799
          },
          "free_bikes": 20,
          "id": "6443d6fd204d5485698ddf6113121faa",
          "latitude": 51.4976984561,
          "longitude": -0.137598896295,
          "name": "300202 - Kings Gate House, Westminster",
          "timestamp": "2023-01-30T02:45:22.650000Z"
         },
         {
          "empty_slots": 1,
          "extra": {
           "installDate": "1457107140000",
           "installed": true,
           "locked": false,
           "name": "Sopwith Way, Battersea Park",
           "removalDate": "",
           "temporary": false,
           "terminalName": "300248",
           "uid": 800
          },
          "free_bikes": 29,
          "id": "a24ee9277e9aa1238727097fc4a26f37",
          "latitude": 51.4811219398,
          "longitude": -0.149035374873,
          "name": "300248 - Sopwith Way, Battersea Park",
          "timestamp": "2023-01-30T02:45:22.651000Z"
         },
         {
          "empty_slots": 0,
          "extra": {
           "installDate": "1458824640000",
           "installed": true,
           "locked": false,
           "name": "Lavington Street, Bankside",
           "removalDate": "",
           "temporary": false,
           "terminalName": "300208",
           "uid": 801
          },
          "free_bikes": 29,
          "id": "0f16524487ca1a3265628ca1fdd0bdb9",
          "latitude": 51.5052241745,
          "longitude": -0.0980318118664,
          "name": "300208 - Lavington Street, Bankside",
          "timestamp": "2023-01-30T02:45:22.652000Z"
         },
         {
          "empty_slots": 20,
          "extra": {
           "installDate": "1464865500000",
           "installed": true,
           "locked": false,
           "name": "Albert Square, Stockwell",
           "removalDate": "",
           "temporary": false,
           "terminalName": "300209",
           "uid": 802
          },
          "free_bikes": 12,
          "id": "106c1fdcd37c9cd81b5cfe053d3a1afe",
          "latitude": 51.4765900593,
          "longitude": -0.118256789081,
          "name": "300209 - Albert Square, Stockwell",
          "timestamp": "2023-01-30T02:45:22.652000Z"
         },
         {
          "empty_slots": 0,
          "extra": {
           "installDate": "1464787860000",
           "installed": true,
           "locked": false,
           "name": "Southwark Street, Bankside",
           "removalDate": "",
           "temporary": false,
           "terminalName": "300238",
           "uid": 803
          },
          "free_bikes": 23,
          "id": "4390c32dba33599524f05b3bab0de1dc",
          "latitude": 51.5054099403,
          "longitude": -0.0983410884509,
          "name": "300238 - Southwark Street, Bankside",
          "timestamp": "2023-01-30T02:45:22.653000Z"
         },
         {
          "empty_slots": 13,
          "extra": {
           "installDate": "1459410960000",
           "installed": true,
           "locked": false,
           "name": "Good's Way, King's Cross",
           "removalDate": "",
           "temporary": false,
           "terminalName": "300243",
           "uid": 804
          },
          "free_bikes": 14,
          "id": "95609b82d35fd13d1f6d1bfefcad094c",
          "latitude": 51.5346677396,
          "longitude": -0.125078652873,
          "name": "300243 - Good's Way, King's Cross",
          "timestamp": "2023-01-30T02:45:22.654000Z"
         },
         {
          "empty_slots": 11,
          "extra": {
           "installDate": "1467626400000",
           "installed": true,
           "locked": false,
           "name": "The Metropolitan, Portobello",
           "removalDate": "",
           "temporary": false,
           "terminalName": "300244",
           "uid": 805
          },
          "free_bikes": 7,
          "id": "e8d1dc1f1e8d2256332ed6e32f5921ab",
          "latitude": 51.520509,
          "longitude": -0.20080483,
          "name": "300244 - The Metropolitan, Portobello",
          "timestamp": "2023-01-30T02:45:22.655000Z"
         },
         {
          "empty_slots": 8,
          "extra": {
           "installDate": "1472723460000",
           "installed": true,
           "locked": false,
           "name": "Handyside Street, King's Cross",
           "removalDate": "",
           "temporary": false,
           "terminalName": "300241",
           "uid": 806
          },
          "free_bikes": 19,
          "id": "d36ee573e5439138ff56a137ec945093",
          "latitude": 51.5372405623,
          "longitude": -0.124807385707,
          "name": "300241 - Handyside Street, King's Cross",
          "timestamp": "2023-01-30T02:45:22.656000Z"
         },
         {
          "empty_slots": 13,
          "extra": {
           "installDate": "1466715600000",
           "installed": true,
           "locked": false,
           "name": "Bevington Road West, North Kensington",
           "removalDate": "",
           "temporary": false,
           "terminalName": "300236",
           "uid": 807
          },
          "free_bikes": 11,
          "id": "3c6fe0ea578cbec01bb88d126dfa7d3a",
          "latitude": 51.5212,
          "longitude": -0.208888173,
          "name": "300236 - Bevington Road West, North Kensington",
          "timestamp": "2023-01-30T02:45:22.656000Z"
         },
         {
          "empty_slots": 9,
          "extra": {
           "installDate": "1461753540000",
           "installed": true,
           "locked": false,
           "name": "Gauden Road, Clapham",
           "removalDate": "",
           "temporary": false,
           "terminalName": "300207",
           "uid": 808
          },
          "free_bikes": 19,
          "id": "1e816bbbb2182f9673f9b15db86165bf",
          "latitude": 51.464995,
          "longitude": -0.13090885,
          "name": "300207 - Gauden Road, Clapham",
          "timestamp": "2023-01-30T02:45:22.657000Z"
         },
         {
          "empty_slots": 27,
          "extra": {
           "installDate": "1467640800000",
           "installed": true,
           "locked": false,
           "name": "Lincoln's Inn Fields, Holborn",
           "removalDate": "",
           "temporary": false,
           "terminalName": "300240",
           "uid": 809
          },
          "free_bikes": 1,
          "id": "6470019e9d2cfd6a0a3daab5569f4596",
          "latitude": 51.5162778834,
          "longitude": -0.118272991635,
          "name": "300240 - Lincoln's Inn Fields, Holborn",
          "timestamp": "2023-01-30T02:45:22.658000Z"
         },
         {
          "empty_slots": 9,
          "extra": {
           "installDate": "1464943200000",
           "installed": true,
           "locked": false,
           "name": "Tate Modern, Bankside",
           "removalDate": "",
           "temporary": false,
           "terminalName": "300237",
           "uid": 810
          },
          "free_bikes": 21,
          "id": "8da67bee71b3c7d2f278c25a61c71cea",
          "latitude": 51.5067252868,
          "longitude": -0.0988072461627,
          "name": "300237 - Tate Modern, Bankside",
          "timestamp": "2023-01-30T02:45:22.659000Z"
         },
         {
          "empty_slots": 2,
          "extra": {
           "installDate": "1469538960000",
           "installed": true,
           "locked": false,
           "name": "Westferry Circus, Canary Wharf",
           "removalDate": "",
           "temporary": false,
           "terminalName": "300228",
           "uid": 811
          },
          "free_bikes": 34,
          "id": "d6e1b9e0c27bc47a8adb706ca8755bfd",
          "latitude": 51.5057030357,
          "longitude": -0.0277727426235,
          "name": "300228 - Westferry Circus, Canary Wharf",
          "timestamp": "2023-01-30T02:45:22.660000Z"
         },
         {
          "empty_slots": 8,
          "extra": {
           "installDate": "1469005200000",
           "installed": true,
           "locked": false,
           "name": "Here East North, Queen Elizabeth Olympic Park",
           "removalDate": "",
           "temporary": false,
           "terminalName": "300217",
           "uid": 812
          },
          "free_bikes": 20,
          "id": "93e7b5e58c97efa3c76192e5447d47dd",
          "latitude": 51.5487311915,
          "longitude": -0.0226065549321,
          "name": "300217 - Here East North, Queen Elizabeth Olympic Park",
          "timestamp": "2023-01-30T02:45:22.661000Z"
         },
         {
          "empty_slots": 14,
          "extra": {
           "installDate": "1467627120000",
           "installed": true,
           "locked": false,
           "name": "New Spring Gardens Walk, Vauxhall",
           "removalDate": "",
           "temporary": false,
           "terminalName": "300224",
           "uid": 813
          },
          "free_bikes": 23,
          "id": "ee8c0232639e1cdad44a75f9a59549a5",
          "latitude": 51.4878074485,
          "longitude": -0.122759625866,
          "name": "300224 - New Spring Gardens Walk, Vauxhall",
          "timestamp": "2023-01-30T02:45:22.661000Z"
         },
         {
          "empty_slots": 28,
          "extra": {
           "installDate": "1464870060000",
           "installed": true,
           "locked": false,
           "name": "Clapham Road, Lingham Street, Stockwell",
           "removalDate": "",
           "temporary": false,
           "terminalName": "300245",
           "uid": 814
          },
          "free_bikes": 2,
          "id": "17dd7cad2893d58d50f9f8391bc81d0a",
          "latitude": 51.4714330677,
          "longitude": -0.123670735702,
          "name": "300245 - Clapham Road, Lingham Street, Stockwell",
          "timestamp": "2023-01-30T02:45:22.662000Z"
         },
         {
          "empty_slots": 10,
          "extra": {
           "installDate": "1489065360000",
           "installed": true,
           "locked": false,
           "name": "Here East South, Queen Elizabeth Olympic Park",
           "removalDate": "",
           "temporary": false,
           "terminalName": "300219",
           "uid": 816
          },
          "free_bikes": 18,
          "id": "7bee4aa893c267515322f2a1cfc103ba",
          "latitude": 51.5465327935,
          "longitude": -0.0205975904647,
          "name": "300219 - Here East South, Queen Elizabeth Olympic Park",
          "timestamp": "2023-01-30T02:45:22.668000Z"
         },
         {
          "empty_slots": 3,
          "extra": {
           "installDate": "1464949140000",
           "installed": true,
           "locked": false,
           "name": "Riverlight South, Nine Elms",
           "removalDate": "",
           "temporary": false,
           "terminalName": "300232",
           "uid": 817
          },
          "free_bikes": 23,
          "id": "3cbc93ed6f301f12326001c10c956c04",
          "latitude": 51.4813354746,
          "longitude": -0.138212295869,
          "name": "300232 - Riverlight South, Nine Elms",
          "timestamp": "2023-01-30T02:45:22.669000Z"
         },
         {
          "empty_slots": 15,
          "extra": {
           "installDate": "1481807940000",
           "installed": true,
           "locked": false,
           "name": "Victory Place, Walworth",
           "removalDate": "",
           "temporary": false,
           "terminalName": "300239",
           "uid": 820
          },
          "free_bikes": 9,
          "id": "effde7fc2c87ecdb0ae495030835f6a3",
          "latitude": 51.492807,
          "longitude": -0.091938,
          "name": "300239 - Victory Place, Walworth",
          "timestamp": "2023-01-30T02:45:22.672000Z"
         },
         {
          "empty_slots": 26,
          "extra": {
           "installDate": "1487335920000",
           "installed": true,
           "locked": false,
           "name": "Battersea Power Station, Battersea Park",
           "removalDate": "",
           "temporary": false,
           "terminalName": "300221",
           "uid": 821
          },
          "free_bikes": 1,
          "id": "5c6681ec2db278ca2bba672b509284aa",
          "latitude": 51.4835074867,
          "longitude": -0.147714557371,
          "name": "300221 - Battersea Power Station, Battersea Park",
          "timestamp": "2023-01-30T02:45:22.672000Z"
         },
         {
          "empty_slots": 21,
          "extra": {
           "installDate": "1500554880000",
           "installed": true,
           "locked": false,
           "name": "Allington Street, Victoria",
           "removalDate": "",
           "temporary": false,
           "terminalName": "300242",
           "uid": 826
          },
          "free_bikes": 7,
          "id": "3d1d3d7c761aba65a36b6b22d4975c92",
          "latitude": 51.496863,
          "longitude": -0.1429434,
          "name": "300242 - Allington Street, Victoria",
          "timestamp": "2023-01-30T02:45:22.673000Z"
         },
         {
          "empty_slots": 15,
          "extra": {
           "installDate": "1517788800000",
           "installed": true,
           "locked": false,
           "name": "Cranmer Road, Stockwell",
           "removalDate": "",
           "temporary": false,
           "terminalName": "300247",
           "uid": 827
          },
          "free_bikes": 9,
          "id": "bafe2ed1fb333db963f305340c1ef993",
          "latitude": 51.479601,
          "longitude": -0.11147178,
          "name": "300247 - Cranmer Road, Stockwell",
          "timestamp": "2023-01-30T02:45:22.674000Z"
         },
         {
          "empty_slots": 13,
          "extra": {
           "installDate": "1517788800000",
           "installed": true,
           "locked": false,
           "name": "Normandy Road, Stockwell",
           "removalDate": "",
           "temporary": false,
           "terminalName": "300225",
           "uid": 828
          },
          "free_bikes": 19,
          "id": "ce4c49a845b47ebc7c7a4881d4543798",
          "latitude": 51.473874,
          "longitude": -0.11258096,
          "name": "300225 - Normandy Road, Stockwell",
          "timestamp": "2023-01-30T02:45:22.675000Z"
         },
         {
          "empty_slots": 16,
          "extra": {
           "installDate": "1517443200000",
           "installed": true,
           "locked": false,
           "name": "Wynne Road, Stockwell",
           "removalDate": "",
           "temporary": false,
           "terminalName": "300230",
           "uid": 829
          },
          "free_bikes": 9,
          "id": "3b837e258b1fc7c844a62e292d7e4e39",
          "latitude": 51.469217,
          "longitude": -0.11268674,
          "name": "300230 - Wynne Road, Stockwell",
          "timestamp": "2023-01-30T02:45:22.677000Z"
         },
         {
          "empty_slots": 16,
          "extra": {
           "installDate": "1517961600000",
           "installed": true,
           "locked": false,
           "name": "Sidney Road, Stockwell",
           "removalDate": "",
           "temporary": false,
           "terminalName": "300229",
           "uid": 830
          },
          "free_bikes": 11,
          "id": "2873127caabb5916e1e153e5000ff06b",
          "latitude": 51.469202,
          "longitude": -0.11902256,
          "name": "300229 - Sidney Road, Stockwell",
          "timestamp": "2023-01-30T02:45:22.678000Z"
         },
         {
          "empty_slots": 0,
          "extra": {
           "installDate": "1517961600000",
           "installed": true,
           "locked": false,
           "name": "St John's Crescent, Brixton",
           "removalDate": "",
           "temporary": false,
           "terminalName": "300215",
           "uid": 831
          },
          "free_bikes": 25,
          "id": "fa24c54d901cf271138c7cd43723bdc7",
          "latitude": 51.466232,
          "longitude": -0.11317995,
          "name": "300215 - St John's Crescent, Brixton",
          "timestamp": "2023-01-30T02:45:22.681000Z"
         },
         {
          "empty_slots": 2,
          "extra": {
           "installDate": "1517961600000",
           "installed": true,
           "locked": false,
           "name": "Ferndale Road, Brixton",
           "removalDate": "",
           "temporary": false,
           "terminalName": "200240",
           "uid": 832
          },
          "free_bikes": 28,
          "id": "eaeacbf1ade80d293e545af87b12daa7",
          "latitude": 51.464019,
          "longitude": -0.11578197,
          "name": "200240 - Ferndale Road, Brixton",
          "timestamp": "2023-01-30T02:45:22.683000Z"
         },
         {
          "empty_slots": 0,
          "extra": {
           "installDate": "1517875200000",
           "installed": true,
           "locked": false,
           "name": "Saltoun Road, Brixton",
           "removalDate": "",
           "temporary": false,
           "terminalName": "300206",
           "uid": 833
          },
          "free_bikes": 42,
          "id": "bca76764102e59f7ca3f9a0d85c89b9a",
          "latitude": 51.460232,
          "longitude": -0.11537509,
          "name": "300206 - Saltoun Road, Brixton",
          "timestamp": "2023-01-30T02:45:22.684000Z"
         },
         {
          "empty_slots": 2,
          "extra": {
           "installDate": "1529449200000",
           "installed": true,
           "locked": false,
           "name": "Gas Holders, Battersea Park",
           "removalDate": "",
           "temporary": false,
           "terminalName": "300216",
           "uid": 834
          },
          "free_bikes": 24,
          "id": "ca789275d1eefb41eb4c5882f709ddbc",
          "latitude": 51.477966,
          "longitude": -0.14785703,
          "name": "300216 - Gas Holders, Battersea Park",
          "timestamp": "2023-01-30T02:45:22.685000Z"
         },
         {
          "empty_slots": 25,
          "extra": {
           "installDate": "",
           "installed": true,
           "locked": false,
           "name": "Farringdon Street, Holborn",
           "removalDate": "",
           "temporary": false,
           "terminalName": "300220",
           "uid": 835
          },
          "free_bikes": 0,
          "id": "fc0a260fc584c45809316ef2fbcd9ce7",
          "latitude": 51.516785,
          "longitude": -0.10494775,
          "name": "300220 - Farringdon Street, Holborn",
          "timestamp": "2023-01-30T02:45:22.689000Z"
         },
         {
          "empty_slots": 18,
          "extra": {
           "installDate": "",
           "installed": true,
           "locked": false,
           "name": "York Way, Kings Cross",
           "removalDate": "",
           "temporary": false,
           "terminalName": "300235",
           "uid": 836
          },
          "free_bikes": 6,
          "id": "6900a8774d4b47db2cd8c16b3488d4f2",
          "latitude": 51.541596,
          "longitude": -0.12544145,
          "name": "300235 - York Way, Kings Cross",
          "timestamp": "2023-01-30T02:45:22.690000Z"
         },
         {
          "empty_slots": 24,
          "extra": {
           "installDate": "1539254700000",
           "installed": true,
           "locked": false,
           "name": "Fore Street Avenue, Guildhall",
           "removalDate": "",
           "temporary": false,
           "terminalName": "300222",
           "uid": 838
          },
          "free_bikes": 1,
          "id": "33a8f7debb870fa15bb4c843fc2b5120",
          "latitude": 51.518093,
          "longitude": -0.0914017,
          "name": "300222 - Fore Street Avenue, Guildhall",
          "timestamp": "2023-01-30T02:45:22.691000Z"
         },
         {
          "empty_slots": 11,
          "extra": {
           "installDate": "1544611140000",
           "installed": true,
           "locked": false,
           "name": "Sea Containers, South Bank",
           "removalDate": "",
           "temporary": false,
           "terminalName": "200144",
           "uid": 839
          },
          "free_bikes": 19,
          "id": "81ad7dfdd9e33c21efc5ce00302f4d92",
          "latitude": 51.508033,
          "longitude": -0.10682363,
          "name": "200144 - Sea Containers, South Bank",
          "timestamp": "2023-01-30T02:45:22.691000Z"
         },
         {
          "empty_slots": 1,
          "extra": {
           "installDate": "",
           "installed": true,
           "locked": false,
           "name": "Tower Wharf, Bermondsey",
           "removalDate": "",
           "temporary": false,
           "terminalName": "002667",
           "uid": 841
          },
          "free_bikes": 19,
          "id": "7316372c4a7205d05c5bab52e27493a6",
          "latitude": 51.500845,
          "longitude": -0.074704305,
          "name": "002667 - Tower Wharf, Bermondsey",
          "timestamp": "2023-01-30T02:45:22.709000Z"
         },
         {
          "empty_slots": 2,
          "extra": {
           "installDate": "1608298140000",
           "installed": true,
           "locked": false,
           "name": "Canada Water Station, Rotherhithe",
           "removalDate": "",
           "temporary": false,
           "terminalName": "300252",
           "uid": 844
          },
          "free_bikes": 33,
          "id": "b31dfba79454fb973dfeefbfe5253d7f",
          "latitude": 51.498439,
          "longitude": -0.049150215,
          "name": "300252 - Canada Water Station, Rotherhithe",
          "timestamp": "2023-01-30T02:45:22.737000Z"
         },
         {
          "empty_slots": 9,
          "extra": {
           "installDate": "1451918160000",
           "installed": true,
           "locked": false,
           "name": "Lee Valley VeloPark, Queen Elizabeth Olympic Park",
           "removalDate": "",
           "temporary": false,
           "terminalName": "300029",
           "uid": 786
          },
          "free_bikes": 35,
          "id": "7df7c586d74bbe3dc73d2f5de3686283",
          "latitude": 51.549369,
          "longitude": -0.015717614,
          "name": "300029 - Lee Valley VeloPark, Queen Elizabeth Olympic Park",
          "timestamp": "2023-01-30T02:45:22.642000Z"
         },
         {
          "empty_slots": 0,
          "extra": {
           "installDate": "",
           "installed": true,
           "locked": false,
           "name": "Brandon Street, Walworth",
           "removalDate": "",
           "temporary": false,
           "terminalName": "300060",
           "uid": 850
          },
          "free_bikes": 22,
          "id": "849f48b48bafbb89ec76ebcd99426342",
          "latitude": 51.489102,
          "longitude": -0.0915489,
          "name": "300060 - Brandon Street, Walworth",
          "timestamp": "2023-01-30T02:45:22.747000Z"
         },
         {
          "empty_slots": 20,
          "extra": {
           "installDate": "1659792420000",
           "installed": true,
           "locked": false,
           "name": "Burgess Park Albany Road, Walworth",
           "removalDate": "",
           "temporary": false,
           "terminalName": "300063",
           "uid": 846
          },
          "free_bikes": 10,
          "id": "e3510c1d72764fdb985f5fa0dd6febe3",
          "latitude": 51.48224,
          "longitude": -0.0942844,
          "name": "300063 - Burgess Park Albany Road, Walworth",
          "timestamp": "2023-01-30T02:45:22.739000Z"
         },
         {
          "empty_slots": 10,
          "extra": {
           "installDate": "1326109140000",
           "installed": true,
           "locked": false,
           "name": "St. Katharine's Way, Tower",
           "removalDate": "",
           "temporary": false,
           "terminalName": "200049",
           "uid": 452
          },
          "free_bikes": 14,
          "id": "ba9551ffdb93b1dabce99cafd7973461",
          "latitude": 51.505697,
          "longitude": -0.070542,
          "name": "200049 - St. Katharine's Way, Tower",
          "timestamp": "2023-01-30T02:45:22.368000Z"
         },
         {
          "empty_slots": 16,
          "extra": {
           "installDate": "1382887680000",
           "installed": true,
           "locked": false,
           "name": "All Saints Church, Portobello",
           "removalDate": "",
           "temporary": false,
           "terminalName": "300023",
           "uid": 661
          },
          "free_bikes": 21,
          "id": "2648082b0340961e2ca04b2dc1eb3e9a",
          "latitude": 51.51632095,
          "longitude": -0.202608612,
          "name": "300023 - All Saints Church, Portobello",
          "timestamp": "2023-01-30T02:45:22.540000Z"
         },
         {
          "empty_slots": 19,
          "extra": {
           "installDate": "",
           "installed": true,
           "locked": false,
           "name": "Ladbroke Grove Central, Ladbroke Grove",
           "removalDate": "",
           "temporary": false,
           "terminalName": "200015",
           "uid": 560
          },
          "free_bikes": 2,
          "id": "c96940e376246397b21367f2ded1dfd2",
          "latitude": 51.511624,
          "longitude": -0.205921,
          "name": "200015 - Ladbroke Grove Central, Ladbroke Grove",
          "timestamp": "2023-01-30T02:45:22.446000Z"
         },
         {
          "empty_slots": 11,
          "extra": {
           "installDate": "",
           "installed": true,
           "locked": false,
           "name": "Lansdowne Walk, Ladbroke Grove",
           "removalDate": "",
           "temporary": false,
           "terminalName": "200065",
           "uid": 543
          },
          "free_bikes": 10,
          "id": "fe00fc450f442ff05c04094b92dfdb1b",
          "latitude": 51.509591,
          "longitude": -0.204666,
          "name": "200065 - Lansdowne Walk, Ladbroke Grove",
          "timestamp": "2023-01-30T02:45:22.436000Z"
         },
         {
          "empty_slots": 10,
          "extra": {
           "installDate": "1382438520000",
           "installed": true,
           "locked": false,
           "name": "St. Mark's Road, North Kensington",
           "removalDate": "",
           "temporary": false,
           "terminalName": "300034",
           "uid": 650
          },
          "free_bikes": 11,
          "id": "39e111e0b4b279c6808de06856bbd0a4",
          "latitude": 51.51687069,
          "longitude": -0.213872396,
          "name": "300034 - St. Mark's Road, North Kensington",
          "timestamp": "2023-01-30T02:45:22.531000Z"
         },
         {
          "empty_slots": 16,
          "extra": {
           "installDate": "1278501180000",
           "installed": true,
           "locked": false,
           "name": "Hereford Road, Bayswater",
           "removalDate": "",
           "temporary": false,
           "terminalName": "001016",
           "uid": 29
          },
          "free_bikes": 6,
          "id": "6d6da2e60f3c4b02c87b598efe02fa20",
          "latitude": 51.513735,
          "longitude": -0.193487,
          "name": "001016 - Hereford Road, Bayswater",
          "timestamp": "2023-01-30T02:45:22.025000Z"
         },
         {
          "empty_slots": 30,
          "extra": {
           "installDate": "1279616280000",
           "installed": true,
           "locked": false,
           "name": "Notting Hill Gate Station, Notting Hill",
           "removalDate": "",
           "temporary": false,
           "terminalName": "001182",
           "uid": 225
          },
          "free_bikes": 0,
          "id": "63cb017e99c3f2144a223368da42fb1c",
          "latitude": 51.50935342,
          "longitude": -0.196422,
          "name": "001182 - Notting Hill Gate Station, Notting Hill",
          "timestamp": "2023-01-30T02:45:22.201000Z"
         },
         {
          "empty_slots": 11,
          "extra": {
           "installDate": "1280153100000",
           "installed": true,
           "locked": false,
           "name": "Pembridge Villas, Notting Hill",
           "removalDate": "",
           "temporary": false,
           "terminalName": "002589",
           "uid": 337
          },
          "free_bikes": 5,
          "id": "1f349127b8f58a8a3d1f7294d298dce0",
          "latitude": 51.51108452,
          "longitude": -0.197524944,
          "name": "002589 - Pembridge Villas, Notting Hill",
          "timestamp": "2023-01-30T02:45:22.290000Z"
         },
         {
          "empty_slots": 16,
          "extra": {
           "installDate": "1296121680000",
           "installed": true,
           "locked": false,
           "name": "Turquoise Island, Notting Hill",
           "removalDate": "",
           "temporary": false,
           "terminalName": "002682",
           "uid": 379
          },
          "free_bikes": 5,
          "id": "ccd031a36e054c2989189818d02195af",
          "latitude": 51.51431171,
          "longitude": -0.200838199,
          "name": "002682 - Turquoise Island, Notting Hill",
          "timestamp": "2023-01-30T02:45:22.316000Z"
         },
         {
          "empty_slots": 18,
          "extra": {
           "installDate": "1382010720000",
           "installed": true,
           "locked": false,
           "name": "All Saints' Road, Portobello",
           "removalDate": "",
           "temporary": false,
           "terminalName": "300026",
           "uid": 643
          },
          "free_bikes": 4,
          "id": "3551a750788ff29b0acf85bcf5513a1c",
          "latitude": 51.5190427,
          "longitude": -0.204764421,
          "name": "300026 - All Saints' Road, Portobello",
          "timestamp": "2023-01-30T02:45:22.513000Z"
         },
         {
          "empty_slots": 12,
          "extra": {
           "installDate": "1385649540000",
           "installed": true,
           "locked": false,
           "name": "Blenheim Crescent, Ladbroke Grove",
           "removalDate": "",
           "temporary": false,
           "terminalName": "300090",
           "uid": 742
          },
          "free_bikes": 10,
          "id": "2ee4a83f8407ed8dbccfb872bc3421c1",
          "latitude": 51.51510818,
          "longitude": -0.208565479,
          "name": "300090 - Blenheim Crescent, Ladbroke Grove",
          "timestamp": "2023-01-30T02:45:22.609000Z"
         },
         {
          "empty_slots": 10,
          "extra": {
           "installDate": "1284543120000",
           "installed": true,
           "locked": false,
           "name": "St. George Street, Mayfair",
           "removalDate": "",
           "temporary": false,
           "terminalName": "001221",
           "uid": 349
          },
          "free_bikes": 8,
          "id": "2302e612fc97753472b534a6bb2e4c73",
          "latitude": 51.51196,
          "longitude": -0.142783033,
          "name": "001221 - St. George Street, Mayfair",
          "timestamp": "2023-01-30T02:45:22.297000Z"
         },
         {
          "empty_slots": 2,
          "extra": {
           "installDate": "1279211400000",
           "installed": true,
           "locked": false,
           "name": "Pont Street, Knightsbridge",
           "removalDate": "",
           "temporary": false,
           "terminalName": "001114",
           "uid": 143
          },
          "free_bikes": 22,
          "id": "367e08c523c6b20c0bfcb44d92acb002",
          "latitude": 51.4968865,
          "longitude": -0.161203828,
          "name": "001114 - Pont Street, Knightsbridge",
          "timestamp": "2023-01-30T02:45:22.123000Z"
         },
         {
          "empty_slots": 8,
          "extra": {
           "installDate": "1326111060000",
           "installed": true,
           "locked": false,
           "name": "Garnet Street, Shadwell",
           "removalDate": "",
           "temporary": false,
           "terminalName": "200045",
           "uid": 453
          },
          "free_bikes": 16,
          "id": "9cccc5be9f1211ba2231733085780601",
          "latitude": 51.508447,
          "longitude": -0.055167,
          "name": "200045 - Garnet Street, Shadwell",
          "timestamp": "2023-01-30T02:45:22.368000Z"
         },
         {
          "empty_slots": 19,
          "extra": {
           "installDate": "1290686880000",
           "installed": true,
           "locked": false,
           "name": "Millennium Hotel, Mayfair",
           "removalDate": "",
           "temporary": false,
           "terminalName": "001230",
           "uid": 366
          },
          "free_bikes": 8,
          "id": "87f883703c381d27982f597be44f2968",
          "latitude": 51.5109192966489,
          "longitude": -0.1511263847351,
          "name": "001230 - Millennium Hotel, Mayfair",
          "timestamp": "2023-01-30T02:45:22.308000Z"
         },
         {
          "empty_slots": 2,
          "extra": {
           "installDate": "1278241080000",
           "installed": true,
           "locked": false,
           "name": "St. Chad's Street, King's Cross",
           "removalDate": "",
           "temporary": false,
           "terminalName": "001013",
           "uid": 4
          },
          "free_bikes": 21,
          "id": "d0ca154129878ce71261d563d8da9238",
          "latitude": 51.53005939,
          "longitude": -0.120973687,
          "name": "001013 - St. Chad's Street, King's Cross",
          "timestamp": "2023-01-30T02:45:22.005000Z"
         },
         {
          "empty_slots": 10,
          "extra": {
           "installDate": "1278241440000",
           "installed": true,
           "locked": false,
           "name": "Sedding Street, Sloane Square",
           "removalDate": "",
           "temporary": false,
           "terminalName": "003420",
           "uid": 5
          },
          "free_bikes": 17,
          "id": "8e74e96bcc8d74d7621f8201cee921dd",
          "latitude": 51.49313,
          "longitude": -0.156876,
          "name": "003420 - Sedding Street, Sloane Square",
          "timestamp": "2023-01-30T02:45:22.006000Z"
         },
         {
          "empty_slots": 6,
          "extra": {
           "installDate": "1278241680000",
           "installed": true,
           "locked": false,
           "name": "Broadcasting House, Marylebone",
           "removalDate": "",
           "temporary": false,
           "terminalName": "003424",
           "uid": 6
          },
          "free_bikes": 12,
          "id": "7c43ac2c8fefa2a6e3e0e6b57654e7cf",
          "latitude": 51.51811784,
          "longitude": -0.144228881,
          "name": "003424 - Broadcasting House, Marylebone",
          "timestamp": "2023-01-30T02:45:22.007000Z"
         },
         {
          "empty_slots": 8,
          "extra": {
           "installDate": "1278241800000",
           "installed": true,
           "locked": false,
           "name": "Charlbert Street, St. John's Wood",
           "removalDate": "",
           "temporary": false,
           "terminalName": "003422",
           "uid": 7
          },
          "free_bikes": 8,
          "id": "3cfb2e2f14bae0a732355a62bddc9c5b",
          "latitude": 51.53430039,
          "longitude": -0.1680743,
          "name": "003422 - Charlbert Street, St. John's Wood",
          "timestamp": "2023-01-30T02:45:22.007000Z"
         },
         {
          "empty_slots": 28,
          "extra": {
           "installDate": "1540984560000",
           "installed": true,
           "locked": false,
           "name": "Maida Vale, Maida Vale",
           "removalDate": "",
           "temporary": false,
           "terminalName": "003423",
           "uid": 8
          },
          "free_bikes": 11,
          "id": "eb6118aa3239e9efa04140f0b59d1421",
          "latitude": 51.529857,
          "longitude": -0.18348604,
          "name": "003423 - Maida Vale, Maida Vale",
          "timestamp": "2023-01-30T02:45:22.008000Z"
         },
         {
          "empty_slots": 19,
          "extra": {
           "installDate": "1278340800000",
           "installed": true,
           "locked": false,
           "name": "Scala Street, Fitzrovia",
           "removalDate": "",
           "temporary": false,
           "terminalName": "000970",
           "uid": 13
          },
          "free_bikes": 2,
          "id": "34f12d82e3ca61d17f7d9c12370d3a94",
          "latitude": 51.51991453,
          "longitude": -0.136039674,
          "name": "000970 - Scala Street, Fitzrovia",
          "timestamp": "2023-01-30T02:45:22.012000Z"
         },
         {
          "empty_slots": 21,
          "extra": {
           "installDate": "1278341220000",
           "installed": true,
           "locked": false,
           "name": "Great Russell Street, Bloomsbury",
           "removalDate": "",
           "temporary": false,
           "terminalName": "000988",
           "uid": 15
          },
          "free_bikes": 5,
          "id": "4e51d9371d163d00fa429d4ab45d5a3b",
          "latitude": 51.51772703,
          "longitude": -0.127854211,
          "name": "000988 - Great Russell Street, Bloomsbury",
          "timestamp": "2023-01-30T02:45:22.014000Z"
         },
         {
          "empty_slots": 3,
          "extra": {
           "installDate": "1278427740000",
           "installed": true,
           "locked": false,
           "name": "Lansdowne Drive, Hackney Central",
           "removalDate": "",
           "temporary": false,
           "terminalName": "003426",
           "uid": 21
          },
          "free_bikes": 23,
          "id": "31bdd619e2329a357d6a2539e03a204e",
          "latitude": 51.539834,
          "longitude": -0.062806212,
          "name": "003426 - Lansdowne Drive, Hackney Central",
          "timestamp": "2023-01-30T02:45:22.019000Z"
         },
         {
          "empty_slots": 13,
          "extra": {
           "installDate": "1278428880000",
           "installed": true,
           "locked": false,
           "name": "Northington Street , Holborn",
           "removalDate": "",
           "temporary": false,
           "terminalName": "003425",
           "uid": 22
          },
          "free_bikes": 6,
          "id": "3704deafdc9a47f1a3b445511be1477b",
          "latitude": 51.5222641,
          "longitude": -0.114079481,
          "name": "003425 - Northington Street , Holborn",
          "timestamp": "2023-01-30T02:45:22.020000Z"
         },
         {
          "empty_slots": 14,
          "extra": {
           "installDate": "1278429300000",
           "installed": true,
           "locked": false,
           "name": "Red Lion Square, Holborn",
           "removalDate": "",
           "temporary": false,
           "terminalName": "003421",
           "uid": 23
          },
          "free_bikes": 2,
          "id": "fc361652ce79b548fb53570c962bb381",
          "latitude": 51.51943538,
          "longitude": -0.119123345,
          "name": "003421 - Red Lion Square, Holborn",
          "timestamp": "2023-01-30T02:45:22.021000Z"
         },
         {
          "empty_slots": 21,
          "extra": {
           "installDate": "1278433200000",
           "installed": true,
           "locked": false,
           "name": "Doric Way , Somers Town",
           "removalDate": "",
           "temporary": false,
           "terminalName": "001004",
           "uid": 25
          },
          "free_bikes": 29,
          "id": "b6f5084be0c3ad9e5be9543651f265b4",
          "latitude": 51.5288338,
          "longitude": -0.132250369,
          "name": "001004 - Doric Way , Somers Town",
          "timestamp": "2023-01-30T02:45:22.022000Z"
         },
         {
          "empty_slots": 25,
          "extra": {
           "installDate": "1278501600000",
           "installed": true,
           "locked": false,
           "name": "Fanshaw Street, Hoxton",
           "removalDate": "",
           "temporary": false,
           "terminalName": "003427",
           "uid": 31
          },
          "free_bikes": 11,
          "id": "1fc53089767ea1c8d51982563a0b43ea",
          "latitude": 51.52953709,
          "longitude": -0.083353323,
          "name": "003427 - Fanshaw Street, Hoxton",
          "timestamp": "2023-01-30T02:45:22.027000Z"
         },
         {
          "empty_slots": 7,
          "extra": {
           "installDate": "1278507060000",
           "installed": true,
           "locked": false,
           "name": "Pancras Road, King's Cross",
           "removalDate": "",
           "temporary": false,
           "terminalName": "003428",
           "uid": 34
          },
          "free_bikes": 9,
          "id": "ec216701477953002c2cc922394e7c3d",
          "latitude": 51.5341235,
          "longitude": -0.129386874,
          "name": "003428 - Pancras Road, King's Cross",
          "timestamp": "2023-01-30T02:45:22.029000Z"
         },
         {
          "empty_slots": 11,
          "extra": {
           "installDate": "1278520020000",
           "installed": true,
           "locked": false,
           "name": "Penywern Road, Earl's Court",
           "removalDate": "",
           "temporary": false,
           "terminalName": "003444",
           "uid": 37
          },
          "free_bikes": 6,
          "id": "ecd177cb46c6118e64a17c69d05497d9",
          "latitude": 51.49159394,
          "longitude": -0.192369256,
          "name": "003444 - Penywern Road, Earl's Court",
          "timestamp": "2023-01-30T02:45:22.031000Z"
         },
         {
          "empty_slots": 1,
          "extra": {
           "installDate": "1278584880000",
           "installed": true,
           "locked": false,
           "name": "Abingdon Villas, Kensington",
           "removalDate": "",
           "temporary": false,
           "terminalName": "003442",
           "uid": 38
          },
          "free_bikes": 16,
          "id": "ff26abff5db37c1b3563bd0c430476b2",
          "latitude": 51.4973875,
          "longitude": -0.197245586,
          "name": "003442 - Abingdon Villas, Kensington",
          "timestamp": "2023-01-30T02:45:22.032000Z"
         },
         {
          "empty_slots": 4,
          "extra": {
           "installDate": "1278601980000",
           "installed": true,
           "locked": false,
           "name": "Commercial Street, Shoreditch",
           "removalDate": "",
           "temporary": false,
           "terminalName": "001083",
           "uid": 40
          },
          "free_bikes": 12,
          "id": "f9f8531f585de0fe217f9f5b797c22ad",
          "latitude": 51.52127071,
          "longitude": -0.0755789,
          "name": "001083 - Commercial Street, Shoreditch",
          "timestamp": "2023-01-30T02:45:22.034000Z"
         },
         {
          "empty_slots": 1,
          "extra": {
           "installDate": "1278602700000",
           "installed": true,
           "locked": false,
           "name": "Wenlock Road , Hoxton",
           "removalDate": "",
           "temporary": false,
           "terminalName": "000979",
           "uid": 42
          },
          "free_bikes": 27,
          "id": "a53a337ad06159c59912543b2f2e1415",
          "latitude": 51.53099181,
          "longitude": -0.093903825,
          "name": "000979 - Wenlock Road , Hoxton",
          "timestamp": "2023-01-30T02:45:22.035000Z"
         },
         {
          "empty_slots": 6,
          "extra": {
           "installDate": "1278749940000",
           "installed": true,
           "locked": false,
           "name": "Curzon Street, Mayfair",
           "removalDate": "",
           "temporary": false,
           "terminalName": "003437",
           "uid": 49
          },
          "free_bikes": 10,
          "id": "7a3a5525ca95ba28f5f4edc90a52176a",
          "latitude": 51.50706909,
          "longitude": -0.145904427,
          "name": "003437 - Curzon Street, Mayfair",
          "timestamp": "2023-01-30T02:45:22.041000Z"
         },
         {
          "empty_slots": 17,
          "extra": {
           "installDate": "1278750540000",
           "installed": true,
           "locked": false,
           "name": "Finsbury Library , Finsbury",
           "removalDate": "",
           "temporary": false,
           "terminalName": "000986",
           "uid": 51
          },
          "free_bikes": 12,
          "id": "93b7ba3399d27c5f692353912192d241",
          "latitude": 51.52671796,
          "longitude": -0.104298194,
          "name": "000986 - Finsbury Library , Finsbury",
          "timestamp": "2023-01-30T02:45:22.043000Z"
         },
         {
          "empty_slots": 25,
          "extra": {
           "installDate": "1278766740000",
           "installed": true,
           "locked": false,
           "name": "Golden Lane, Barbican",
           "removalDate": "",
           "temporary": false,
           "terminalName": "000967",
           "uid": 54
          },
          "free_bikes": 2,
          "id": "3747098b1d3172d39190f67f08e4db9a",
          "latitude": 51.52174785,
          "longitude": -0.094475072,
          "name": "000967 - Golden Lane, Barbican",
          "timestamp": "2023-01-30T02:45:22.045000Z"
         },
         {
          "empty_slots": 12,
          "extra": {
           "installDate": "1278767460000",
           "installed": true,
           "locked": false,
           "name": "Guilford Street , Bloomsbury",
           "removalDate": "",
           "temporary": false,
           "terminalName": "000974",
           "uid": 57
          },
          "free_bikes": 20,
          "id": "ad77c823e0df2ff31a5779acfe01ffdf",
          "latitude": 51.52334672,
          "longitude": -0.120202614,
          "name": "000974 - Guilford Street , Bloomsbury",
          "timestamp": "2023-01-30T02:45:22.047000Z"
         },
         {
          "empty_slots": 9,
          "extra": {
           "installDate": "1278773820000",
           "installed": true,
           "locked": false,
           "name": "Great Dover Street, The Borough",
           "removalDate": "",
           "temporary": false,
           "terminalName": "001017",
           "uid": 61
          },
          "free_bikes": 24,
          "id": "705d5bc85eb3db15b490092ac523e8cf",
          "latitude": 51.49738251,
          "longitude": -0.089446947,
          "name": "001017 - Great Dover Street, The Borough",
          "timestamp": "2023-01-30T02:45:22.050000Z"
         },
         {
          "empty_slots": 15,
          "extra": {
           "installDate": "1278773940000",
           "installed": true,
           "locked": false,
           "name": "Cotton Garden Estate, Kennington",
           "removalDate": "",
           "temporary": false,
           "terminalName": "000990",
           "uid": 62
          },
          "free_bikes": 9,
          "id": "8d6c20f30cccc9c52d0e2e03cdfe6588",
          "latitude": 51.4907579,
          "longitude": -0.106323685,
          "name": "000990 - Cotton Garden Estate, Kennington",
          "timestamp": "2023-01-30T02:45:22.050000Z"
         },
         {
          "empty_slots": 2,
          "extra": {
           "installDate": "1278774120000",
           "installed": true,
           "locked": false,
           "name": "Murray Grove , Hoxton",
           "removalDate": "",
           "temporary": false,
           "terminalName": "000989",
           "uid": 63
          },
          "free_bikes": 25,
          "id": "a03acb9739d271058a5a1a82c61d9b4d",
          "latitude": 51.53089041,
          "longitude": -0.089782579,
          "name": "000989 - Murray Grove , Hoxton",
          "timestamp": "2023-01-30T02:45:22.051000Z"
         },
         {
          "empty_slots": 16,
          "extra": {
           "installDate": "1278840660000",
           "installed": true,
           "locked": false,
           "name": "Gower Place , Euston",
           "removalDate": "",
           "temporary": false,
           "terminalName": "000969",
           "uid": 65
          },
          "free_bikes": 1,
          "id": "86ad810b4f6ab5bee635aa544e8c7e20",
          "latitude": 51.52522753,
          "longitude": -0.13518856,
          "name": "000969 - Gower Place , Euston",
          "timestamp": "2023-01-30T02:45:22.053000Z"
         },
         {
          "empty_slots": 25,
          "extra": {
           "installDate": "1278847440000",
           "installed": true,
           "locked": false,
           "name": "Hatton Garden, Holborn",
           "removalDate": "",
           "temporary": false,
           "terminalName": "000985",
           "uid": 67
          },
          "free_bikes": 3,
          "id": "ce35f1c4c63edf5aafb5a5c4c4d0d59e",
          "latitude": 51.51882555,
          "longitude": -0.108028472,
          "name": "000985 - Hatton Garden, Holborn",
          "timestamp": "2023-01-30T02:45:22.054000Z"
         },
         {
          "empty_slots": 23,
          "extra": {
           "installDate": "1278861540000",
           "installed": true,
           "locked": false,
           "name": "Euston Road, Euston",
           "removalDate": "",
           "temporary": false,
           "terminalName": "000983",
           "uid": 69
          },
          "free_bikes": 1,
          "id": "99c99aeaa74346da4dcfc157917181de",
          "latitude": 51.5262363,
          "longitude": -0.134407652,
          "name": "000983 - Euston Road, Euston",
          "timestamp": "2023-01-30T02:45:22.056000Z"
         },
         {
          "empty_slots": 5,
          "extra": {
           "installDate": "1278863340000",
           "installed": true,
           "locked": false,
           "name": "Calshot Street , King's Cross",
           "removalDate": "",
           "temporary": false,
           "terminalName": "001066",
           "uid": 70
          },
          "free_bikes": 19,
          "id": "1b835ecc23009691754761254cf8c0f7",
          "latitude": 51.53136059,
          "longitude": -0.117069978,
          "name": "001066 - Calshot Street , King's Cross",
          "timestamp": "2023-01-30T02:45:22.057000Z"
         },
         {
          "empty_slots": 6,
          "extra": {
           "installDate": "1276948860000",
           "installed": true,
           "locked": false,
           "name": "Farringdon Lane, Clerkenwell",
           "removalDate": "",
           "temporary": false,
           "terminalName": "003432",
           "uid": 72
          },
          "free_bikes": 10,
          "id": "23c0d5f1a5a05824a6f13720427977a7",
          "latitude": 51.52352001,
          "longitude": -0.108340165,
          "name": "003432 - Farringdon Lane, Clerkenwell",
          "timestamp": "2023-01-30T02:45:22.058000Z"
         },
         {
          "empty_slots": 14,
          "extra": {
           "installDate": "1278941160000",
           "installed": true,
           "locked": false,
           "name": "Vauxhall Cross, Vauxhall",
           "removalDate": "",
           "temporary": false,
           "terminalName": "001000",
           "uid": 74
          },
          "free_bikes": 3,
          "id": "5b681d701d430c266f24ba8cb01d1fdd",
          "latitude": 51.48591714,
          "longitude": -0.124469948,
          "name": "001000 - Vauxhall Cross, Vauxhall",
          "timestamp": "2023-01-30T02:45:22.060000Z"
         },
         {
          "empty_slots": 18,
          "extra": {
           "installDate": "1278946560000",
           "installed": true,
           "locked": false,
           "name": "Longford Street, The Regent's Park",
           "removalDate": "",
           "temporary": false,
           "terminalName": "000976",
           "uid": 76
          },
          "free_bikes": 3,
          "id": "f9eb8d8d1e06a80682a9e22fe49bbabd",
          "latitude": 51.52559505,
          "longitude": -0.144083893,
          "name": "000976 - Longford Street, The Regent's Park",
          "timestamp": "2023-01-30T02:45:22.061000Z"
         },
         {
          "empty_slots": 4,
          "extra": {
           "installDate": "1278948480000",
           "installed": true,
           "locked": false,
           "name": "Sadlers Sports Centre, Finsbury",
           "removalDate": "",
           "temporary": false,
           "terminalName": "003433",
           "uid": 78
          },
          "free_bikes": 13,
          "id": "897bb39e0ea6a2102df0eb098a42c594",
          "latitude": 51.52486887,
          "longitude": -0.099489485,
          "name": "003433 - Sadlers Sports Centre, Finsbury",
          "timestamp": "2023-01-30T02:45:22.063000Z"
         },
         {
          "empty_slots": 24,
          "extra": {
           "installDate": "1278952440000",
           "installed": true,
           "locked": false,
           "name": "Webber Street , Southwark",
           "removalDate": "",
           "temporary": false,
           "terminalName": "003448",
           "uid": 80
          },
          "free_bikes": 21,
          "id": "85dd8e823090d655dd4c236851f641e8",
          "latitude": 51.50069361,
          "longitude": -0.102091246,
          "name": "003448 - Webber Street , Southwark",
          "timestamp": "2023-01-30T02:45:22.064000Z"
         },
         {
          "empty_slots": 15,
          "extra": {
           "installDate": "1279012980000",
           "installed": true,
           "locked": false,
           "name": "Great Titchfield Street, Fitzrovia",
           "removalDate": "",
           "temporary": false,
           "terminalName": "003450",
           "uid": 81
          },
          "free_bikes": 4,
          "id": "140eade370399498e89843c64f593e91",
          "latitude": 51.52025302,
          "longitude": -0.141327271,
          "name": "003450 - Great Titchfield Street, Fitzrovia",
          "timestamp": "2023-01-30T02:45:22.065000Z"
         },
         {
          "empty_slots": 15,
          "extra": {
           "installDate": "1279015680000",
           "installed": true,
           "locked": false,
           "name": "Chancery Lane, Holborn",
           "removalDate": "",
           "temporary": false,
           "terminalName": "003453",
           "uid": 82
          },
          "free_bikes": 0,
          "id": "96966d36a0df30576a1f27d3cc7f0c0a",
          "latitude": 51.514274,
          "longitude": -0.111257,
          "name": "003453 - Chancery Lane, Holborn",
          "timestamp": "2023-01-30T02:45:22.066000Z"
         },
         {
          "empty_slots": 8,
          "extra": {
           "installDate": "1279015800000",
           "installed": true,
           "locked": false,
           "name": "Panton Street, West End",
           "removalDate": "",
           "temporary": false,
           "terminalName": "003452",
           "uid": 83
          },
          "free_bikes": 13,
          "id": "97f177f4bd2a57bccad534e306e60efb",
          "latitude": 51.50963938,
          "longitude": -0.131510949,
          "name": "003452 - Panton Street, West End",
          "timestamp": "2023-01-30T02:45:22.066000Z"
         },
         {
          "empty_slots": 20,
          "extra": {
           "installDate": "1279020240000",
           "installed": true,
           "locked": false,
           "name": "Breams Buildings, Holborn",
           "removalDate": "",
           "temporary": false,
           "terminalName": "003449",
           "uid": 84
          },
          "free_bikes": 5,
          "id": "10c02c62cbb5a643643975e3ab27f7d6",
          "latitude": 51.51593725,
          "longitude": -0.111778348,
          "name": "003449 - Breams Buildings, Holborn",
          "timestamp": "2023-01-30T02:45:22.067000Z"
         },
         {
          "empty_slots": 5,
          "extra": {
           "installDate": "1279026060000",
           "installed": true,
           "locked": false,
           "name": "Tanner Street, Bermondsey",
           "removalDate": "",
           "temporary": false,
           "terminalName": "000994",
           "uid": 85
          },
          "free_bikes": 36,
          "id": "aaf16bfefb12f055d960c4e0cbb7917b",
          "latitude": 51.50064702,
          "longitude": -0.078600401,
          "name": "000994 - Tanner Street, Bermondsey",
          "timestamp": "2023-01-30T02:45:22.068000Z"
         },
         {
          "empty_slots": 12,
          "extra": {
           "installDate": "1279027140000",
           "installed": true,
           "locked": false,
           "name": "Sancroft Street, Vauxhall",
           "removalDate": "",
           "temporary": false,
           "terminalName": "003434",
           "uid": 86
          },
          "free_bikes": 12,
          "id": "a4ec3b1ad5679a6c57177acfb1c318ca",
          "latitude": 51.48947903,
          "longitude": -0.115156562,
          "name": "003434 - Sancroft Street, Vauxhall",
          "timestamp": "2023-01-30T02:45:22.069000Z"
         },
         {
          "empty_slots": 5,
          "extra": {
           "installDate": "1279027680000",
           "installed": true,
           "locked": false,
           "name": "Devonshire Square, Liverpool Street",
           "removalDate": "",
           "temporary": false,
           "terminalName": "003438",
           "uid": 87
          },
          "free_bikes": 11,
          "id": "c11da8316d156f016f9d70b598ec8e6e",
          "latitude": 51.51646835,
          "longitude": -0.079684557,
          "name": "003438 - Devonshire Square, Liverpool Street",
          "timestamp": "2023-01-30T02:45:22.069000Z"
         },
         {
          "empty_slots": 16,
          "extra": {
           "installDate": "1279028280000",
           "installed": true,
           "locked": false,
           "name": "Bayley Street , Bloomsbury",
           "removalDate": "",
           "temporary": false,
           "terminalName": "001006",
           "uid": 88
          },
          "free_bikes": 9,
          "id": "4911693b4793a99186f2c90909954ac4",
          "latitude": 51.51858757,
          "longitude": -0.132053392,
          "name": "001006 - Bayley Street , Bloomsbury",
          "timestamp": "2023-01-30T02:45:22.070000Z"
         },
         {
          "empty_slots": 9,
          "extra": {
           "installDate": "1279029360000",
           "installed": true,
           "locked": false,
           "name": "Tavistock Place, Bloomsbury",
           "removalDate": "",
           "temporary": false,
           "terminalName": "003439",
           "uid": 89
          },
          "free_bikes": 10,
          "id": "33b43cd4ba904b92de79cf2e570970dc",
          "latitude": 51.5262503,
          "longitude": -0.123509611,
          "name": "003439 - Tavistock Place, Bloomsbury",
          "timestamp": "2023-01-30T02:45:22.071000Z"
         },
         {
          "empty_slots": 4,
          "extra": {
           "installDate": "1279036740000",
           "installed": true,
           "locked": false,
           "name": "Walnut Tree Walk, Vauxhall",
           "removalDate": "",
           "temporary": false,
           "terminalName": "001076",
           "uid": 91
          },
          "free_bikes": 16,
          "id": "d846a6e65490cdd1dd9ce3781de74e31",
          "latitude": 51.49368637,
          "longitude": -0.111014912,
          "name": "001076 - Walnut Tree Walk, Vauxhall",
          "timestamp": "2023-01-30T02:45:22.072000Z"
         },
         {
          "empty_slots": 2,
          "extra": {
           "installDate": "1279037040000",
           "installed": true,
           "locked": false,
           "name": "Borough Road, Elephant & Castle",
           "removalDate": "",
           "temporary": false,
           "terminalName": "001082",
           "uid": 92
          },
          "free_bikes": 39,
          "id": "26f3ace6e97fd4188f5059d957af55e7",
          "latitude": 51.49889832,
          "longitude": -0.100440521,
          "name": "001082 - Borough Road, Elephant & Castle",
          "timestamp": "2023-01-30T02:45:22.073000Z"
         },
         {
          "empty_slots": 4,
          "extra": {
           "installDate": "1279038420000",
           "installed": true,
           "locked": false,
           "name": "Bricklayers Arms, Borough",
           "removalDate": "",
           "temporary": false,
           "terminalName": "001070",
           "uid": 94
          },
          "free_bikes": 24,
          "id": "34b0ed5dc0e100f0b0f5cd9dc1439f33",
          "latitude": 51.49506109,
          "longitude": -0.085814489,
          "name": "001070 - Bricklayers Arms, Borough",
          "timestamp": "2023-01-30T02:45:22.075000Z"
         },
         {
          "empty_slots": 18,
          "extra": {
           "installDate": "1279097580000",
           "installed": true,
           "locked": false,
           "name": "Gloucester Road (North), Kensington",
           "removalDate": "",
           "temporary": false,
           "terminalName": "003447",
           "uid": 97
          },
          "free_bikes": 0,
          "id": "004cab6485d7adb50b6a85cbe152399a",
          "latitude": 51.49792478,
          "longitude": -0.183834706,
          "name": "003447 - Gloucester Road (North), Kensington",
          "timestamp": "2023-01-30T02:45:22.077000Z"
         },
         {
          "empty_slots": 50,
          "extra": {
           "installDate": "1279099080000",
           "installed": true,
           "locked": false,
           "name": "Hampstead Road, Euston",
           "removalDate": "",
           "temporary": false,
           "terminalName": "000972",
           "uid": 98
          },
          "free_bikes": 4,
          "id": "8900f70cf9dd2215d75a5bcc3f6ab2fb",
          "latitude": 51.52554222,
          "longitude": -0.138231303,
          "name": "000972 - Hampstead Road, Euston",
          "timestamp": "2023-01-30T02:45:22.078000Z"
         },
         {
          "empty_slots": 21,
          "extra": {
           "installDate": "1279099860000",
           "installed": true,
           "locked": false,
           "name": "Albert Embankment, Vauxhall",
           "removalDate": "",
           "temporary": false,
           "terminalName": "001059",
           "uid": 100
          },
          "free_bikes": 3,
          "id": "1c8b54899f475eef63a106429e499ef1",
          "latitude": 51.49043573,
          "longitude": -0.122806861,
          "name": "001059 - Albert Embankment, Vauxhall",
          "timestamp": "2023-01-30T02:45:22.079000Z"
         },
         {
          "empty_slots": 12,
          "extra": {
           "installDate": "1279103520000",
           "installed": true,
           "locked": false,
           "name": "Vicarage Gate, Kensington",
           "removalDate": "",
           "temporary": false,
           "terminalName": "003441",
           "uid": 103
          },
          "free_bikes": 6,
          "id": "a00a8469357c70b0a63b6a19647fc6a5",
          "latitude": 51.50472376,
          "longitude": -0.192538767,
          "name": "003441 - Vicarage Gate, Kensington",
          "timestamp": "2023-01-30T02:45:22.081000Z"
         },
         {
          "empty_slots": 19,
          "extra": {
           "installDate": "1279115460000",
           "installed": true,
           "locked": false,
           "name": "Stonecutter Street, Holborn",
           "removalDate": "",
           "temporary": false,
           "terminalName": "001061",
           "uid": 112
          },
          "free_bikes": 2,
          "id": "5aed0dcfbbed838d25751b6c950446e2",
          "latitude": 51.51580998,
          "longitude": -0.105270275,
          "name": "001061 - Stonecutter Street, Holborn",
          "timestamp": "2023-01-30T02:45:22.088000Z"
         },
         {
          "empty_slots": 17,
          "extra": {
           "installDate": "1279116600000",
           "installed": true,
           "locked": false,
           "name": "Gloucester Road (Central), South Kensington",
           "removalDate": "",
           "temporary": false,
           "terminalName": "003435",
           "uid": 113
          },
          "free_bikes": 2,
          "id": "7ba6641f81a7669039947f3533592670",
          "latitude": 51.49646288,
          "longitude": -0.183289032,
          "name": "003435 - Gloucester Road (Central), South Kensington",
          "timestamp": "2023-01-30T02:45:22.089000Z"
         },
         {
          "empty_slots": 25,
          "extra": {
           "installDate": "1279120680000",
           "installed": true,
           "locked": false,
           "name": "Braham Street, Aldgate",
           "removalDate": "",
           "temporary": false,
           "terminalName": "001062",
           "uid": 115
          },
          "free_bikes": 9,
          "id": "7e06462eb104da436af357e4ccc05a76",
          "latitude": 51.51423368,
          "longitude": -0.073537654,
          "name": "001062 - Braham Street, Aldgate",
          "timestamp": "2023-01-30T02:45:22.090000Z"
         },
         {
          "empty_slots": 3,
          "extra": {
           "installDate": "1279124220000",
           "installed": true,
           "locked": false,
           "name": "Lollard Street, Vauxhall",
           "removalDate": "",
           "temporary": false,
           "terminalName": "000998",
           "uid": 117
          },
          "free_bikes": 22,
          "id": "79eaa08133de6c86ad78ae63ef229fdc",
          "latitude": 51.49288067,
          "longitude": -0.114934001,
          "name": "000998 - Lollard Street, Vauxhall",
          "timestamp": "2023-01-30T02:45:22.092000Z"
         },
         {
          "empty_slots": 1,
          "extra": {
           "installDate": "1279124760000",
           "installed": true,
           "locked": false,
           "name": "Bath Street, St. Luke's",
           "removalDate": "",
           "temporary": false,
           "terminalName": "000964",
           "uid": 119
          },
          "free_bikes": 17,
          "id": "229d9889deda4e8b1a1b6a0f219e159f",
          "latitude": 51.52589324,
          "longitude": -0.090847761,
          "name": "000964 - Bath Street, St. Luke's",
          "timestamp": "2023-01-30T02:45:22.105000Z"
         },
         {
          "empty_slots": 16,
          "extra": {
           "installDate": "1279189200000",
           "installed": true,
           "locked": false,
           "name": "Baker Street, Marylebone",
           "removalDate": "",
           "temporary": false,
           "terminalName": "001086",
           "uid": 121
          },
          "free_bikes": 6,
          "id": "b2dab5bac41bfdcb17578e76bff6f341",
          "latitude": 51.51891348,
          "longitude": -0.156166631,
          "name": "001086 - Baker Street, Marylebone",
          "timestamp": "2023-01-30T02:45:22.107000Z"
         },
         {
          "empty_slots": 8,
          "extra": {
           "installDate": "1279190040000",
           "installed": true,
           "locked": false,
           "name": "Norton Folgate, Liverpool Street",
           "removalDate": "",
           "temporary": false,
           "terminalName": "001068",
           "uid": 122
          },
          "free_bikes": 15,
          "id": "0240e9a1639bc6cb84aa11a2d28e1584",
          "latitude": 51.52111369,
          "longitude": -0.078869751,
          "name": "001068 - Norton Folgate, Liverpool Street",
          "timestamp": "2023-01-30T02:45:22.107000Z"
         },
         {
          "empty_slots": 0,
          "extra": {
           "installDate": "1279191300000",
           "installed": true,
           "locked": false,
           "name": "St. John Street, Finsbury",
           "removalDate": "",
           "temporary": false,
           "terminalName": "000992",
           "uid": 123
          },
          "free_bikes": 18,
          "id": "c93a29476bef09b1d11ab598160c28f4",
          "latitude": 51.52836014,
          "longitude": -0.104724625,
          "name": "000992 - St. John Street, Finsbury",
          "timestamp": "2023-01-30T02:45:22.108000Z"
         },
         {
          "empty_slots": 9,
          "extra": {
           "installDate": "1279191540000",
           "installed": true,
           "locked": false,
           "name": "Eaton Square, Belgravia",
           "removalDate": "",
           "temporary": false,
           "terminalName": "001069",
           "uid": 124
          },
          "free_bikes": 11,
          "id": "95cb9e8de32f7f352b060d10375e05a5",
          "latitude": 51.49654462,
          "longitude": -0.150905245,
          "name": "001069 - Eaton Square, Belgravia",
          "timestamp": "2023-01-30T02:45:22.109000Z"
         },
         {
          "empty_slots": 17,
          "extra": {
           "installDate": "1279193520000",
           "installed": true,
           "locked": false,
           "name": "Wood Street, Guildhall",
           "removalDate": "",
           "temporary": false,
           "terminalName": "001063",
           "uid": 127
          },
          "free_bikes": 0,
          "id": "72c9fde8ce6037dd6c014f5f7e3bef64",
          "latitude": 51.51700801,
          "longitude": -0.09388536,
          "name": "001063 - Wood Street, Guildhall",
          "timestamp": "2023-01-30T02:45:22.111000Z"
         },
         {
          "empty_slots": 3,
          "extra": {
           "installDate": "1279198500000",
           "installed": true,
           "locked": false,
           "name": "Golden Square, Soho",
           "removalDate": "",
           "temporary": false,
           "terminalName": "003451",
           "uid": 129
          },
          "free_bikes": 15,
          "id": "5195a6a803c866bd21d4923f71c3e603",
          "latitude": 51.5118973,
          "longitude": -0.137043852,
          "name": "003451 - Golden Square, Soho",
          "timestamp": "2023-01-30T02:45:22.113000Z"
         },
         {
          "empty_slots": 16,
          "extra": {
           "installDate": "1279199280000",
           "installed": true,
           "locked": false,
           "name": "Eversholt Street , Camden Town",
           "removalDate": "",
           "temporary": false,
           "terminalName": "001005",
           "uid": 131
          },
          "free_bikes": 0,
          "id": "6a71ec355afabf8f1e4b2176c481dbd1",
          "latitude": 51.53300545,
          "longitude": -0.136792671,
          "name": "001005 - Eversholt Street , Camden Town",
          "timestamp": "2023-01-30T02:45:22.114000Z"
         },
         {
          "empty_slots": 6,
          "extra": {
           "installDate": "1279200240000",
           "installed": true,
           "locked": false,
           "name": "Derry Street, Kensington",
           "removalDate": "",
           "temporary": false,
           "terminalName": "003436",
           "uid": 133
          },
          "free_bikes": 12,
          "id": "62cecd6bc82ece1b445983a7b3d110fb",
          "latitude": 51.50136494,
          "longitude": -0.191462381,
          "name": "003436 - Derry Street, Kensington",
          "timestamp": "2023-01-30T02:45:22.115000Z"
         },
         {
          "empty_slots": 16,
          "extra": {
           "installDate": "1279205460000",
           "installed": true,
           "locked": false,
           "name": "Lambeth Road, Vauxhall",
           "removalDate": "",
           "temporary": false,
           "terminalName": "001078",
           "uid": 139
          },
          "free_bikes": 2,
          "id": "6519869a18cd87b32a349aa16cb6ed9e",
          "latitude": 51.49488108,
          "longitude": -0.117974901,
          "name": "001078 - Lambeth Road, Vauxhall",
          "timestamp": "2023-01-30T02:45:22.119000Z"
         },
         {
          "empty_slots": 19,
          "extra": {
           "installDate": "1279210980000",
           "installed": true,
           "locked": false,
           "name": "Chapel Place, Marylebone",
           "removalDate": "",
           "temporary": false,
           "terminalName": "001003",
           "uid": 141
          },
          "free_bikes": 10,
          "id": "7913cdc8a54d24804d90dbe2718c0505",
          "latitude": 51.51530805,
          "longitude": -0.147203711,
          "name": "001003 - Chapel Place, Marylebone",
          "timestamp": "2023-01-30T02:45:22.121000Z"
         },
         {
          "empty_slots": 1,
          "extra": {
           "installDate": "",
           "installed": true,
           "locked": false,
           "name": "Tachbrook Street, Victoria",
           "removalDate": "",
           "temporary": false,
           "terminalName": "000965",
           "uid": 148
          },
          "free_bikes": 15,
          "id": "59e072e16d3bf77a43cd89e9f2f2d35a",
          "latitude": 51.49211134,
          "longitude": -0.138364847,
          "name": "000965 - Tachbrook Street, Victoria",
          "timestamp": "2023-01-30T02:45:22.127000Z"
         },
         {
          "empty_slots": 3,
          "extra": {
           "installDate": "1279215360000",
           "installed": true,
           "locked": false,
           "name": "Kennington Road Post Office, Oval",
           "removalDate": "",
           "temporary": false,
           "terminalName": "001073",
           "uid": 149
          },
          "free_bikes": 15,
          "id": "43683893fc3c5bd00726ebdba71eaccb",
          "latitude": 51.48478899,
          "longitude": -0.110683213,
          "name": "001073 - Kennington Road Post Office, Oval",
          "timestamp": "2023-01-30T02:45:22.128000Z"
         },
         {
          "empty_slots": 5,
          "extra": {
           "installDate": "1279215540000",
           "installed": true,
           "locked": false,
           "name": "Holy Trinity Brompton, Knightsbridge",
           "removalDate": "",
           "temporary": false,
           "terminalName": "001002",
           "uid": 150
          },
          "free_bikes": 23,
          "id": "22111b71adc75acb6bd0a3584907b0c6",
          "latitude": 51.49705603,
          "longitude": -0.168917077,
          "name": "001002 - Holy Trinity Brompton, Knightsbridge",
          "timestamp": "2023-01-30T02:45:22.128000Z"
         },
         {
          "empty_slots": 12,
          "extra": {
           "installDate": "1279273080000",
           "installed": true,
           "locked": false,
           "name": "New Kent Road, The Borough",
           "removalDate": "",
           "temporary": false,
           "terminalName": "000966",
           "uid": 156
          },
          "free_bikes": 21,
          "id": "92d750b2e1edd463883433f9ba22f9cc",
          "latitude": 51.49443626,
          "longitude": -0.092921165,
          "name": "000966 - New Kent Road, The Borough",
          "timestamp": "2023-01-30T02:45:22.137000Z"
         },
         {
          "empty_slots": 15,
          "extra": {
           "installDate": "1279273200000",
           "installed": true,
           "locked": false,
           "name": "Wright's Lane, Kensington",
           "removalDate": "",
           "temporary": false,
           "terminalName": "001094",
           "uid": 157
          },
          "free_bikes": 22,
          "id": "92956fc8461e6fd36db4f14fea45d651",
          "latitude": 51.50039792,
          "longitude": -0.193068385,
          "name": "001094 - Wright's Lane, Kensington",
          "timestamp": "2023-01-30T02:45:22.138000Z"
         },
         {
          "empty_slots": 11,
          "extra": {
           "installDate": "1279287600000",
           "installed": true,
           "locked": false,
           "name": "Cleveland Gardens, Bayswater",
           "removalDate": "",
           "temporary": false,
           "terminalName": "001178",
           "uid": 164
          },
          "free_bikes": 5,
          "id": "a06cf8b22c859d4494da6c819c702fe5",
          "latitude": 51.515607,
          "longitude": -0.183118788,
          "name": "001178 - Cleveland Gardens, Bayswater",
          "timestamp": "2023-01-30T02:45:22.143000Z"
         },
         {
          "empty_slots": 11,
          "extra": {
           "installDate": "1279290180000",
           "installed": true,
           "locked": false,
           "name": "Hardwick Street, Clerkenwell",
           "removalDate": "",
           "temporary": false,
           "terminalName": "001057",
           "uid": 170
          },
          "free_bikes": 19,
          "id": "0299b28dbeb0f206f4bd894105b3c143",
          "latitude": 51.52784273,
          "longitude": -0.108068155,
          "name": "001057 - Hardwick Street, Clerkenwell",
          "timestamp": "2023-01-30T02:45:22.148000Z"
         },
         {
          "empty_slots": 50,
          "extra": {
           "installDate": "1529674980000",
           "installed": true,
           "locked": false,
           "name": "Worship Street, Shoreditch",
           "removalDate": "",
           "temporary": false,
           "terminalName": "000997",
           "uid": 175
          },
          "free_bikes": 1,
          "id": "212adf7b98627cc26db562dc1c293fd0",
          "latitude": 51.521668,
          "longitude": -0.079608554,
          "name": "000997 - Worship Street, Shoreditch",
          "timestamp": "2023-01-30T02:45:22.152000Z"
         },
         {
          "empty_slots": 17,
          "extra": {
           "installDate": "1279297560000",
           "installed": true,
           "locked": false,
           "name": "Gloucester Terrace, Bayswater",
           "removalDate": "",
           "temporary": false,
           "terminalName": "001173",
           "uid": 176
          },
          "free_bikes": 6,
          "id": "2b583796f0c314671d377d6bb7ac374a",
          "latitude": 51.51791921,
          "longitude": -0.188098863,
          "name": "001173 - Gloucester Terrace, Bayswater",
          "timestamp": "2023-01-30T02:45:22.153000Z"
         },
         {
          "empty_slots": 10,
          "extra": {
           "installDate": "1279363140000",
           "installed": true,
           "locked": false,
           "name": "Bell Street , Marylebone",
           "removalDate": "",
           "temporary": false,
           "terminalName": "001166",
           "uid": 182
          },
          "free_bikes": 8,
          "id": "73ee7ff8e483a294f1fc8baed1e2d748",
          "latitude": 51.52202903,
          "longitude": -0.165842551,
          "name": "001166 - Bell Street , Marylebone",
          "timestamp": "2023-01-30T02:45:22.164000Z"
         },
         {
          "empty_slots": 6,
          "extra": {
           "installDate": "1279364160000",
           "installed": true,
           "locked": false,
           "name": "Riverlight North, Nine Elms",
           "removalDate": "",
           "temporary": false,
           "terminalName": "001165",
           "uid": 183
          },
          "free_bikes": 18,
          "id": "db5d85f5545c138a6e65c603a1b414f4",
          "latitude": 51.482362,
          "longitude": -0.13612398,
          "name": "001165 - Riverlight North, Nine Elms",
          "timestamp": "2023-01-30T02:45:22.166000Z"
         },
         {
          "empty_slots": 21,
          "extra": {
           "installDate": "1279364280000",
           "installed": true,
           "locked": false,
           "name": "Portland Place, Marylebone",
           "removalDate": "",
           "temporary": false,
           "terminalName": "001164",
           "uid": 184
          },
          "free_bikes": 13,
          "id": "daf86fce908419d1cc3c5ef61ce440db",
          "latitude": 51.52071513,
          "longitude": -0.14521173,
          "name": "001164 - Portland Place, Marylebone",
          "timestamp": "2023-01-30T02:45:22.167000Z"
         },
         {
          "empty_slots": 3,
          "extra": {
           "installDate": "1279365360000",
           "installed": true,
           "locked": false,
           "name": "Alderney Street, Pimlico",
           "removalDate": "",
           "temporary": false,
           "terminalName": "001174",
           "uid": 185
          },
          "free_bikes": 11,
          "id": "0793190786c7e2436cbd7b2e35b80783",
          "latitude": 51.48805753,
          "longitude": -0.140741432,
          "name": "001174 - Alderney Street, Pimlico",
          "timestamp": "2023-01-30T02:45:22.169000Z"
         },
         {
          "empty_slots": 17,
          "extra": {
           "installDate": "1279365720000",
           "installed": true,
           "locked": false,
           "name": "Queen's Gate (South), South Kensington",
           "removalDate": "",
           "temporary": false,
           "terminalName": "001172",
           "uid": 187
          },
          "free_bikes": 8,
          "id": "8286c006b3a0df87f5dc28855bebc67d",
          "latitude": 51.49247977,
          "longitude": -0.178433004,
          "name": "001172 - Queen's Gate (South), South Kensington",
          "timestamp": "2023-01-30T02:45:22.172000Z"
         },
         {
          "empty_slots": 12,
          "extra": {
           "installDate": "1279377180000",
           "installed": true,
           "locked": false,
           "name": "Claremont Square, Angel",
           "removalDate": "",
           "temporary": false,
           "terminalName": "001104",
           "uid": 189
          },
          "free_bikes": 6,
          "id": "5504ece9023cac24cfc7c6b690786f28",
          "latitude": 51.53166681,
          "longitude": -0.109914711,
          "name": "001104 - Claremont Square, Angel",
          "timestamp": "2023-01-30T02:45:22.173000Z"
         },
         {
          "empty_slots": 10,
          "extra": {
           "installDate": "1279381080000",
           "installed": true,
           "locked": false,
           "name": "Rampayne Street, Pimlico",
           "removalDate": "",
           "temporary": false,
           "terminalName": "001106",
           "uid": 190
          },
          "free_bikes": 11,
          "id": "2af132980e1adfb83bf1c03d248d3d9c",
          "latitude": 51.48997562,
          "longitude": -0.132845681,
          "name": "001106 - Rampayne Street, Pimlico",
          "timestamp": "2023-01-30T02:45:22.174000Z"
         },
         {
          "empty_slots": 7,
          "extra": {
           "installDate": "1279392479471",
           "installed": true,
           "locked": false,
           "name": "Union Street, The Borough",
           "removalDate": "",
           "temporary": false,
           "terminalName": "000961",
           "uid": 196
          },
          "free_bikes": 10,
          "id": "607a284a2ef5f638d04bc3bbdeef1a0a",
          "latitude": 51.50368837,
          "longitude": -0.098497684,
          "name": "000961 - Union Street, The Borough",
          "timestamp": "2023-01-30T02:45:22.178000Z"
         },
         {
          "empty_slots": 8,
          "extra": {
           "installDate": "1279441920000",
           "installed": true,
           "locked": false,
           "name": "LMU Commercial Road, Whitechapel",
           "removalDate": "",
           "temporary": false,
           "terminalName": "001105",
           "uid": 200
          },
          "free_bikes": 6,
          "id": "1f8af740ce4b0aceaf3a6f327d3338c2",
          "latitude": 51.51492456,
          "longitude": -0.066078037,
          "name": "001105 - LMU Commercial Road, Whitechapel",
          "timestamp": "2023-01-30T02:45:22.181000Z"
         },
         {
          "empty_slots": 20,
          "extra": {
           "installDate": "1279471380000",
           "installed": true,
           "locked": false,
           "name": "New Road 1 , Whitechapel",
           "removalDate": "",
           "temporary": false,
           "terminalName": "001171",
           "uid": 206
          },
          "free_bikes": 16,
          "id": "587808be4f977f94d640bee62395d3aa",
          "latitude": 51.518154,
          "longitude": -0.062697,
          "name": "001171 - New Road 1 , Whitechapel",
          "timestamp": "2023-01-30T02:45:22.185000Z"
         },
         {
          "empty_slots": 15,
          "extra": {
           "installDate": "1279472580000",
           "installed": true,
           "locked": false,
           "name": "Mallory Street, Marylebone",
           "removalDate": "",
           "temporary": false,
           "terminalName": "001175",
           "uid": 208
          },
          "free_bikes": 5,
          "id": "631049841514f97b5f6046ef94076c2b",
          "latitude": 51.52505151,
          "longitude": -0.166304359,
          "name": "001175 - Mallory Street, Marylebone",
          "timestamp": "2023-01-30T02:45:22.186000Z"
         },
         {
          "empty_slots": 21,
          "extra": {
           "installDate": "1279529160000",
           "installed": true,
           "locked": false,
           "name": "Denyer Street, Knightsbridge",
           "removalDate": "",
           "temporary": false,
           "terminalName": "003454",
           "uid": 209
          },
          "free_bikes": 9,
          "id": "89c49273f6adc36c18b8104f9900994d",
          "latitude": 51.49358391,
          "longitude": -0.165101392,
          "name": "003454 - Denyer Street, Knightsbridge",
          "timestamp": "2023-01-30T02:45:22.187000Z"
         },
         {
          "empty_slots": 12,
          "extra": {
           "installDate": "1279536840000",
           "installed": true,
           "locked": false,
           "name": "Campden Hill Road, Notting Hill",
           "removalDate": "",
           "temporary": false,
           "terminalName": "003487",
           "uid": 212
          },
          "free_bikes": 5,
          "id": "3ddf95a88940413acffe973f6d391e3d",
          "latitude": 51.50658458,
          "longitude": -0.199004026,
          "name": "003487 - Campden Hill Road, Notting Hill",
          "timestamp": "2023-01-30T02:45:22.190000Z"
         },
         {
          "empty_slots": 1,
          "extra": {
           "installDate": "1279552200000",
           "installed": true,
           "locked": false,
           "name": "Horseferry Road, Westminster",
           "removalDate": "",
           "temporary": false,
           "terminalName": "001170",
           "uid": 221
          },
          "free_bikes": 15,
          "id": "91962365b0cb445b06704d8ab1a4f4fe",
          "latitude": 51.49481649,
          "longitude": -0.13045856,
          "name": "001170 - Horseferry Road, Westminster",
          "timestamp": "2023-01-30T02:45:22.198000Z"
         },
         {
          "empty_slots": 21,
          "extra": {
           "installDate": "1279624680000",
           "installed": true,
           "locked": false,
           "name": "Liverpool Road (N1 Centre), Angel",
           "removalDate": "",
           "temporary": false,
           "terminalName": "001081",
           "uid": 234
          },
          "free_bikes": 3,
          "id": "ac18f9273fd960145da73ab7b7689cf8",
          "latitude": 51.53450449,
          "longitude": -0.106992706,
          "name": "001081 - Liverpool Road (N1 Centre), Angel",
          "timestamp": "2023-01-30T02:45:22.208000Z"
         },
         {
          "empty_slots": 26,
          "extra": {
           "installDate": "1279627920000",
           "installed": true,
           "locked": false,
           "name": "Frampton Street, Paddington",
           "removalDate": "",
           "temporary": false,
           "terminalName": "001099",
           "uid": 238
          },
          "free_bikes": 6,
          "id": "0808c4044c132d65fe7b2993667ff21a",
          "latitude": 51.5233534,
          "longitude": -0.175116099,
          "name": "001099 - Frampton Street, Paddington",
          "timestamp": "2023-01-30T02:45:22.212000Z"
         },
         {
          "empty_slots": 19,
          "extra": {
           "installDate": "1279628940000",
           "installed": true,
           "locked": false,
           "name": "Gloucester Street, Pimlico",
           "removalDate": "",
           "temporary": false,
           "terminalName": "001103",
           "uid": 243
          },
          "free_bikes": 6,
          "id": "2c789b57ba3a7662fa47d6555fedec69",
          "latitude": 51.49096258,
          "longitude": -0.139625122,
          "name": "001103 - Gloucester Street, Pimlico",
          "timestamp": "2023-01-30T02:45:22.215000Z"
         },
         {
          "empty_slots": 48,
          "extra": {
           "installDate": "1279639920000",
           "installed": true,
           "locked": false,
           "name": "St. John's Wood Church, The Regent's Park",
           "removalDate": "",
           "temporary": false,
           "terminalName": "001091",
           "uid": 247
          },
          "free_bikes": 2,
          "id": "449e5356254f1ab3c8aa352a4abfa564",
          "latitude": 51.530529,
          "longitude": -0.167515,
          "name": "001091 - St. John's Wood Church, The Regent's Park",
          "timestamp": "2023-01-30T02:45:22.218000Z"
         },
         {
          "empty_slots": 7,
          "extra": {
           "installDate": "1279641000000",
           "installed": true,
           "locked": false,
           "name": "Royal Avenue 1, Chelsea",
           "removalDate": "",
           "temporary": false,
           "terminalName": "003440",
           "uid": 250
          },
          "free_bikes": 3,
          "id": "bf6df1db7def4f320bacb16a643999e7",
          "latitude": 51.489932,
          "longitude": -0.162727,
          "name": "003440 - Royal Avenue 1, Chelsea",
          "timestamp": "2023-01-30T02:45:22.221000Z"
         },
         {
          "empty_slots": 9,
          "extra": {
           "installDate": "1279708140000",
           "installed": true,
           "locked": false,
           "name": "Westminster University, Marylebone",
           "removalDate": "",
           "temporary": false,
           "terminalName": "001194",
           "uid": 257
          },
          "free_bikes": 7,
          "id": "21c8166f2da7268d15a593e1055fe1f6",
          "latitude": 51.52248185,
          "longitude": -0.154907218,
          "name": "001194 - Westminster University, Marylebone",
          "timestamp": "2023-01-30T02:45:22.232000Z"
         },
         {
          "empty_slots": 4,
          "extra": {
           "installDate": "1279709100000",
           "installed": true,
           "locked": false,
           "name": "Bourne Street, Belgravia",
           "removalDate": "",
           "temporary": false,
           "terminalName": "001180",
           "uid": 259
          },
          "free_bikes": 12,
          "id": "8489307e1040b42b2b4729a430ef93ab",
          "latitude": 51.490959,
          "longitude": -0.1532331,
          "name": "001180 - Bourne Street, Belgravia",
          "timestamp": "2023-01-30T02:45:22.234000Z"
         },
         {
          "empty_slots": 21,
          "extra": {
           "installDate": "1279711620000",
           "installed": true,
           "locked": false,
           "name": "LSBU (Borough Road), Elephant & Castle",
           "removalDate": "",
           "temporary": false,
           "terminalName": "001095",
           "uid": 262
          },
          "free_bikes": 14,
          "id": "4c5f595119d2d0fe504f3e0d0166ebff",
          "latitude": 51.49874469,
          "longitude": -0.103132904,
          "name": "001095 - LSBU (Borough Road), Elephant & Castle",
          "timestamp": "2023-01-30T02:45:22.237000Z"
         },
         {
          "empty_slots": 15,
          "extra": {
           "installDate": "1279712160000",
           "installed": true,
           "locked": false,
           "name": "St. Mary Axe, Aldgate",
           "removalDate": "",
           "temporary": false,
           "terminalName": "001184",
           "uid": 263
          },
          "free_bikes": 6,
          "id": "ffed1f8b73ecaad1a851050b9632e0c7",
          "latitude": 51.51422502,
          "longitude": -0.080660083,
          "name": "001184 - St. Mary Axe, Aldgate",
          "timestamp": "2023-01-30T02:45:22.238000Z"
         },
         {
          "empty_slots": 15,
          "extra": {
           "installDate": "1279714920000",
           "installed": true,
           "locked": false,
           "name": "Belgrave Road, Victoria",
           "removalDate": "",
           "temporary": false,
           "terminalName": "001087",
           "uid": 268
          },
          "free_bikes": 14,
          "id": "e86f0e7be2bdfddfdf8d23e3131d5bae",
          "latitude": 51.49320445,
          "longitude": -0.144132875,
          "name": "001087 - Belgrave Road, Victoria",
          "timestamp": "2023-01-30T02:45:22.242000Z"
         },
         {
          "empty_slots": 18,
          "extra": {
           "installDate": "1279721880000",
           "installed": true,
           "locked": false,
           "name": "Barbican Centre, Barbican",
           "removalDate": "",
           "temporary": false,
           "terminalName": "001191",
           "uid": 275
          },
          "free_bikes": 1,
          "id": "0b3b4139c1537752cee3c2a49f3551ca",
          "latitude": 51.52004497,
          "longitude": -0.092176447,
          "name": "001191 - Barbican Centre, Barbican",
          "timestamp": "2023-01-30T02:45:22.247000Z"
         },
         {
          "empty_slots": 3,
          "extra": {
           "installDate": "1279723500000",
           "installed": true,
           "locked": false,
           "name": "Tooley Street, Bermondsey",
           "removalDate": "",
           "temporary": false,
           "terminalName": "001142",
           "uid": 278
          },
          "free_bikes": 24,
          "id": "b81833c658539bb94d8aec6735fb8029",
          "latitude": 51.5034938,
          "longitude": -0.07962099,
          "name": "001142 - Tooley Street, Bermondsey",
          "timestamp": "2023-01-30T02:45:22.250000Z"
         },
         {
          "empty_slots": 10,
          "extra": {
           "installDate": "1279726980000",
           "installed": true,
           "locked": false,
           "name": "Royal London Hospital, Whitechapel",
           "removalDate": "",
           "temporary": false,
           "terminalName": "001077",
           "uid": 282
          },
          "free_bikes": 32,
          "id": "287b0e689e6bfee27869923990b91bf5",
          "latitude": 51.518675,
          "longitude": -0.06111,
          "name": "001077 - Royal London Hospital, Whitechapel",
          "timestamp": "2023-01-30T02:45:22.253000Z"
         },
         {
          "empty_slots": 28,
          "extra": {
           "installDate": "1279727880000",
           "installed": true,
           "locked": false,
           "name": "St. John's Wood Road, St. John's Wood",
           "removalDate": "",
           "temporary": false,
           "terminalName": "001187",
           "uid": 286
          },
          "free_bikes": 7,
          "id": "90ee7aa32e29e6818e4706e49dda1c31",
          "latitude": 51.5272947,
          "longitude": -0.174653609,
          "name": "001187 - St. John's Wood Road, St. John's Wood",
          "timestamp": "2023-01-30T02:45:22.255000Z"
         },
         {
          "empty_slots": 6,
          "extra": {
           "installDate": "1279800600000",
           "installed": true,
           "locked": false,
           "name": "Montpelier Street, Knightsbridge",
           "removalDate": "",
           "temporary": false,
           "terminalName": "001206",
           "uid": 292
          },
          "free_bikes": 10,
          "id": "c1eb30e4d2f4458fd6a41e4556047e37",
          "latitude": 51.49888404,
          "longitude": -0.165471605,
          "name": "001206 - Montpelier Street, Knightsbridge",
          "timestamp": "2023-01-30T02:45:22.259000Z"
         },
         {
          "empty_slots": 4,
          "extra": {
           "installDate": "1377258960000",
           "installed": true,
           "locked": false,
           "name": "Knaresborough Place, Earl's Court",
           "removalDate": "",
           "temporary": false,
           "terminalName": "200069",
           "uid": 296
          },
          "free_bikes": 14,
          "id": "8644a3e104a87864707ba75ed71875d6",
          "latitude": 51.49363156,
          "longitude": -0.190603326,
          "name": "200069 - Knaresborough Place, Earl's Court",
          "timestamp": "2023-01-30T02:45:22.262000Z"
         },
         {
          "empty_slots": 1,
          "extra": {
           "installDate": "1279808160000",
           "installed": true,
           "locked": false,
           "name": "Vincent Square, Westminster",
           "removalDate": "",
           "temporary": false,
           "terminalName": "001196",
           "uid": 299
          },
          "free_bikes": 18,
          "id": "43394f786a5dae0e1a96bd5fdc09cbd4",
          "latitude": 51.49398524,
          "longitude": -0.136928582,
          "name": "001196 - Vincent Square, Westminster",
          "timestamp": "2023-01-30T02:45:22.264000Z"
         },
         {
          "empty_slots": 7,
          "extra": {
           "installDate": "1279816740000",
           "installed": true,
           "locked": false,
           "name": "Long Lane , Bermondsey",
           "removalDate": "",
           "temporary": false,
           "terminalName": "001189",
           "uid": 308
          },
          "free_bikes": 13,
          "id": "0229d9e377ddbec96804f441d5eaabc3",
          "latitude": 51.49907558,
          "longitude": -0.085666316,
          "name": "001189 - Long Lane , Bermondsey",
          "timestamp": "2023-01-30T02:45:22.269000Z"
         },
         {
          "empty_slots": 10,
          "extra": {
           "installDate": "1279884660000",
           "installed": true,
           "locked": false,
           "name": "The Tennis Courts, The Regent's Park",
           "removalDate": "",
           "temporary": false,
           "terminalName": "001199",
           "uid": 315
          },
          "free_bikes": 6,
          "id": "b224d41f7b616f28ab51d0a647cdcb16",
          "latitude": 51.52536703,
          "longitude": -0.153463612,
          "name": "001199 - The Tennis Courts, The Regent's Park",
          "timestamp": "2023-01-30T02:45:22.274000Z"
         },
         {
          "empty_slots": 8,
          "extra": {
           "installDate": "1279885320000",
           "installed": true,
           "locked": false,
           "name": "Sackville Street, Mayfair",
           "removalDate": "",
           "temporary": false,
           "terminalName": "001197",
           "uid": 318
          },
          "free_bikes": 10,
          "id": "2db775eff9ba5222e5c53580d025782b",
          "latitude": 51.51004801,
          "longitude": -0.138846453,
          "name": "001197 - Sackville Street, Mayfair",
          "timestamp": "2023-01-30T02:45:22.277000Z"
         },
         {
          "empty_slots": 5,
          "extra": {
           "installDate": "1279894920000",
           "installed": true,
           "locked": false,
           "name": "Ontario Street, Elephant & Castle",
           "removalDate": "",
           "temporary": false,
           "terminalName": "001200",
           "uid": 324
          },
          "free_bikes": 10,
          "id": "2f99eb25296c0d8a23bcc9fa5e1ab6d9",
          "latitude": 51.49652013,
          "longitude": -0.101384068,
          "name": "001200 - Ontario Street, Elephant & Castle",
          "timestamp": "2023-01-30T02:45:22.281000Z"
         },
         {
          "empty_slots": 6,
          "extra": {
           "installDate": "1279896660000",
           "installed": true,
           "locked": false,
           "name": "St. Martin's Street, West End",
           "removalDate": "",
           "temporary": false,
           "terminalName": "001158",
           "uid": 325
          },
          "free_bikes": 12,
          "id": "0356bcafae23d70c27ca1c0daeb2a764",
          "latitude": 51.50908747,
          "longitude": -0.129697889,
          "name": "001158 - St. Martin's Street, West End",
          "timestamp": "2023-01-30T02:45:22.282000Z"
         },
         {
          "empty_slots": 33,
          "extra": {
           "installDate": "1280141280000",
           "installed": true,
           "locked": false,
           "name": "Eastbourne Mews, Paddington",
           "removalDate": "",
           "temporary": false,
           "terminalName": "001203",
           "uid": 330
          },
          "free_bikes": 1,
          "id": "6d356f013370095b07a1ac81f7e7def4",
          "latitude": 51.51641749,
          "longitude": -0.179135079,
          "name": "001203 - Eastbourne Mews, Paddington",
          "timestamp": "2023-01-30T02:45:22.285000Z"
         },
         {
          "empty_slots": 8,
          "extra": {
           "installDate": "1280158740000",
           "installed": true,
           "locked": false,
           "name": "Wellington Street , Strand",
           "removalDate": "",
           "temporary": false,
           "terminalName": "001202",
           "uid": 338
          },
          "free_bikes": 16,
          "id": "db33eceb9f98581655c2685f7e811d8f",
          "latitude": 51.51175646,
          "longitude": -0.119643424,
          "name": "001202 - Wellington Street , Strand",
          "timestamp": "2023-01-30T02:45:22.290000Z"
         },
         {
          "empty_slots": 30,
          "extra": {
           "installDate": "1280224260000",
           "installed": true,
           "locked": false,
           "name": "London Zoo Car Park, The Regent's Park",
           "removalDate": "",
           "temporary": false,
           "terminalName": "001188",
           "uid": 343
          },
          "free_bikes": 6,
          "id": "afc905773e187285152c9ebf422103c6",
          "latitude": 51.53692216,
          "longitude": -0.150181444,
          "name": "001188 - London Zoo Car Park, The Regent's Park",
          "timestamp": "2023-01-30T02:45:22.293000Z"
         },
         {
          "empty_slots": 3,
          "extra": {
           "installDate": "1284540540000",
           "installed": true,
           "locked": false,
           "name": "Grosvenor Square, Mayfair",
           "removalDate": "",
           "temporary": false,
           "terminalName": "010627",
           "uid": 348
          },
          "free_bikes": 14,
          "id": "1c5b32240dab6a67650acf77d6aa677b",
          "latitude": 51.51217033,
          "longitude": -0.150481272,
          "name": "010627 - Grosvenor Square, Mayfair",
          "timestamp": "2023-01-30T02:45:22.296000Z"
         },
         {
          "empty_slots": 4,
          "extra": {
           "installDate": "1287652080000",
           "installed": true,
           "locked": false,
           "name": "Greycoat Street , Westminster",
           "removalDate": "",
           "temporary": false,
           "terminalName": "010623",
           "uid": 353
          },
          "free_bikes": 13,
          "id": "0b9d0cf63466b494b222dda8bf8a61aa",
          "latitude": 51.49459148,
          "longitude": -0.134234258,
          "name": "010623 - Greycoat Street , Westminster",
          "timestamp": "2023-01-30T02:45:22.299000Z"
         },
         {
          "empty_slots": 21,
          "extra": {
           "installDate": "1287752460000",
           "installed": true,
           "locked": false,
           "name": "Clapham Common Station, Clapham Common",
           "removalDate": "",
           "temporary": false,
           "terminalName": "002694",
           "uid": 355
          },
          "free_bikes": 0,
          "id": "74626facccd213ef091c1f9b8497f0ce",
          "latitude": 51.461388,
          "longitude": -0.13922146,
          "name": "002694 - Clapham Common Station, Clapham Common",
          "timestamp": "2023-01-30T02:45:22.301000Z"
         },
         {
          "empty_slots": 1,
          "extra": {
           "installDate": "1288009080000",
           "installed": true,
           "locked": false,
           "name": "South Kensington Station, South Kensington",
           "removalDate": "",
           "temporary": false,
           "terminalName": "002685",
           "uid": 356
          },
          "free_bikes": 14,
          "id": "6b89afb2b02682c27ffdfb3c73c7a487",
          "latitude": 51.494412,
          "longitude": -0.173881,
          "name": "002685 - South Kensington Station, South Kensington",
          "timestamp": "2023-01-30T02:45:22.302000Z"
         },
         {
          "empty_slots": 24,
          "extra": {
           "installDate": "1288092420000",
           "installed": true,
           "locked": false,
           "name": "Howland Street, Fitzrovia",
           "removalDate": "",
           "temporary": false,
           "terminalName": "002691",
           "uid": 357
          },
          "free_bikes": 6,
          "id": "abf6c7b8129b0fc2b96da2a2991afcbd",
          "latitude": 51.520994,
          "longitude": -0.139016,
          "name": "002691 - Howland Street, Fitzrovia",
          "timestamp": "2023-01-30T02:45:22.303000Z"
         },
         {
          "empty_slots": 41,
          "extra": {
           "installDate": "1290080220000",
           "installed": true,
           "locked": false,
           "name": "Royal College Street, Camden Town",
           "removalDate": "",
           "temporary": false,
           "terminalName": "002686",
           "uid": 362
          },
          "free_bikes": 16,
          "id": "f24e5a2aa55df64ce4bbc9c1e8ccb478",
          "latitude": 51.536264,
          "longitude": -0.133952,
          "name": "002686 - Royal College Street, Camden Town",
          "timestamp": "2023-01-30T02:45:22.306000Z"
         },
         {
          "empty_slots": 31,
          "extra": {
           "installDate": "1290080640000",
           "installed": true,
           "locked": false,
           "name": "Store Street, Bloomsbury",
           "removalDate": "",
           "temporary": false,
           "terminalName": "003507",
           "uid": 364
          },
          "free_bikes": 1,
          "id": "fcc0e9e121eee23acf6d03fc5d8545f9",
          "latitude": 51.519572,
          "longitude": -0.13214036,
          "name": "003507 - Store Street, Bloomsbury",
          "timestamp": "2023-01-30T02:45:22.307000Z"
         },
         {
          "empty_slots": 3,
          "extra": {
           "installDate": "1290603600000",
           "installed": true,
           "locked": false,
           "name": "City Road, Angel",
           "removalDate": "",
           "temporary": false,
           "terminalName": "002690",
           "uid": 365
          },
          "free_bikes": 44,
          "id": "78f6e5f811d55efc101ca6fa79d497bd",
          "latitude": 51.530344,
          "longitude": -0.100168,
          "name": "002690 - City Road, Angel",
          "timestamp": "2023-01-30T02:45:22.308000Z"
         },
         {
          "empty_slots": 11,
          "extra": {
           "installDate": "1291805820000",
           "installed": true,
           "locked": false,
           "name": "Kensington Town Hall, Kensington",
           "removalDate": "",
           "temporary": false,
           "terminalName": "010632",
           "uid": 375
          },
          "free_bikes": 7,
          "id": "4cd72f7733d5495f3d51cfec30720f5c",
          "latitude": 51.50194596,
          "longitude": -0.194392952,
          "name": "010632 - Kensington Town Hall, Kensington",
          "timestamp": "2023-01-30T02:45:22.314000Z"
         },
         {
          "empty_slots": 9,
          "extra": {
           "installDate": "1296203760000",
           "installed": true,
           "locked": false,
           "name": "Charlotte Street, Fitzrovia",
           "removalDate": "",
           "temporary": false,
           "terminalName": "002669",
           "uid": 381
          },
          "free_bikes": 5,
          "id": "667d571112d82080bf1cd6f7f75fe475",
          "latitude": 51.51953043,
          "longitude": -0.13577731,
          "name": "002669 - Charlotte Street, Fitzrovia",
          "timestamp": "2023-01-30T02:45:22.317000Z"
         },
         {
          "empty_slots": 14,
          "extra": {
           "installDate": "1297077540000",
           "installed": true,
           "locked": false,
           "name": "Fire Brigade Pier, Vauxhall",
           "removalDate": "",
           "temporary": false,
           "terminalName": "002703",
           "uid": 387
          },
          "free_bikes": 16,
          "id": "8f8b91218424d368afb1fd42d198ac48",
          "latitude": 51.49369988,
          "longitude": -0.121394101,
          "name": "002703 - Fire Brigade Pier, Vauxhall",
          "timestamp": "2023-01-30T02:45:22.321000Z"
         },
         {
          "empty_slots": 4,
          "extra": {
           "installDate": "1298545440000",
           "installed": true,
           "locked": false,
           "name": "Snow Hill, Farringdon",
           "removalDate": "",
           "temporary": false,
           "terminalName": "002699",
           "uid": 393
          },
          "free_bikes": 11,
          "id": "468e55c11e25e3e31cf8b6305a6858fb",
          "latitude": 51.51733427,
          "longitude": -0.103604248,
          "name": "002699 - Snow Hill, Farringdon",
          "timestamp": "2023-01-30T02:45:22.325000Z"
         },
         {
          "empty_slots": 10,
          "extra": {
           "installDate": "",
           "installed": true,
           "locked": false,
           "name": "Aberdeen Place, St. John's Wood",
           "removalDate": "",
           "temporary": false,
           "terminalName": "002698",
           "uid": 394
          },
          "free_bikes": 8,
          "id": "840183d5e5c0aaa1afe599b3f3b61afa",
          "latitude": 51.524826,
          "longitude": -0.176268,
          "name": "002698 - Aberdeen Place, St. John's Wood",
          "timestamp": "2023-01-30T02:45:22.326000Z"
         },
         {
          "empty_slots": 6,
          "extra": {
           "installDate": "1298908800000",
           "installed": true,
           "locked": false,
           "name": "Cadogan Gardens, Chelsea",
           "removalDate": "",
           "temporary": false,
           "terminalName": "002695",
           "uid": 395
          },
          "free_bikes": 9,
          "id": "f19019e79f2261e26f7c05d9c49ff6fa",
          "latitude": 51.492462,
          "longitude": -0.159919,
          "name": "002695 - Cadogan Gardens, Chelsea",
          "timestamp": "2023-01-30T02:45:22.327000Z"
         },
         {
          "empty_slots": 9,
          "extra": {
           "installDate": "1299075120000",
           "installed": true,
           "locked": false,
           "name": "Shouldham Street, Marylebone",
           "removalDate": "",
           "temporary": false,
           "terminalName": "002693",
           "uid": 396
          },
          "free_bikes": 7,
          "id": "2c8768870b94da967a117e459bfc38a8",
          "latitude": 51.51809,
          "longitude": -0.163609,
          "name": "002693 - Shouldham Street, Marylebone",
          "timestamp": "2023-01-30T02:45:22.328000Z"
         },
         {
          "empty_slots": 23,
          "extra": {
           "installDate": "1299076440000",
           "installed": true,
           "locked": false,
           "name": "Holland Park, Kensington",
           "removalDate": "",
           "temporary": false,
           "terminalName": "010631",
           "uid": 398
          },
          "free_bikes": 7,
          "id": "42d7fc630fd13200727d88af5f655d87",
          "latitude": 51.502319,
          "longitude": -0.200742,
          "name": "010631 - Holland Park, Kensington",
          "timestamp": "2023-01-30T02:45:22.329000Z"
         },
         {
          "empty_slots": 0,
          "extra": {
           "installDate": "1299582900000",
           "installed": true,
           "locked": false,
           "name": "Brick Lane Market, Shoreditch",
           "removalDate": "",
           "temporary": false,
           "terminalName": "002687",
           "uid": 399
          },
          "free_bikes": 24,
          "id": "a13c0b360e7d73624fb7b891e636d6da",
          "latitude": 51.52261762,
          "longitude": -0.071653961,
          "name": "002687 - Brick Lane Market, Shoreditch",
          "timestamp": "2023-01-30T02:45:22.330000Z"
         },
         {
          "empty_slots": 1,
          "extra": {
           "installDate": "1299592500000",
           "installed": true,
           "locked": false,
           "name": "Columbia Road, Shoreditch",
           "removalDate": "",
           "temporary": false,
           "terminalName": "002701",
           "uid": 401
          },
          "free_bikes": 23,
          "id": "048167d1aabd3c8fe55fe75b2b93dbda",
          "latitude": 51.528187,
          "longitude": -0.075375,
          "name": "002701 - Columbia Road, Shoreditch",
          "timestamp": "2023-01-30T02:45:22.332000Z"
         },
         {
          "empty_slots": 14,
          "extra": {
           "installDate": "1299592860000",
           "installed": true,
           "locked": false,
           "name": "Penfold Street, Marylebone",
           "removalDate": "",
           "temporary": false,
           "terminalName": "010625",
           "uid": 402
          },
          "free_bikes": 1,
          "id": "8b1f02423f3951fd6c337014465d7f7f",
          "latitude": 51.52289229,
          "longitude": -0.171681991,
          "name": "010625 - Penfold Street, Marylebone",
          "timestamp": "2023-01-30T02:45:22.333000Z"
         },
         {
          "empty_slots": 12,
          "extra": {
           "installDate": "1299593640000",
           "installed": true,
           "locked": false,
           "name": "George Place Mews, Marylebone",
           "removalDate": "",
           "temporary": false,
           "terminalName": "010630",
           "uid": 403
          },
          "free_bikes": 4,
          "id": "23ee76ce7a5418e315a92a4f79ea12a2",
          "latitude": 51.51689296,
          "longitude": -0.158249929,
          "name": "010630 - George Place Mews, Marylebone",
          "timestamp": "2023-01-30T02:45:22.333000Z"
         },
         {
          "empty_slots": 14,
          "extra": {
           "installDate": "1299669300000",
           "installed": true,
           "locked": false,
           "name": "Gloucester Road Station, South Kensington",
           "removalDate": "",
           "temporary": false,
           "terminalName": "001107",
           "uid": 405
          },
          "free_bikes": 1,
          "id": "dbc74342043fe3729612c883c38be598",
          "latitude": 51.49418566,
          "longitude": -0.18267094,
          "name": "001107 - Gloucester Road Station, South Kensington",
          "timestamp": "2023-01-30T02:45:22.335000Z"
         },
         {
          "empty_slots": 60,
          "extra": {
           "installDate": "",
           "installed": true,
           "locked": false,
           "name": "Edgware Road Station, Marylebone",
           "removalDate": "",
           "temporary": false,
           "terminalName": "001058",
           "uid": 410
          },
          "free_bikes": 4,
          "id": "51ed3838f972ad14d2ad3fb77a88ecbe",
          "latitude": 51.519968,
          "longitude": -0.169774,
          "name": "001058 - Edgware Road Station, Marylebone",
          "timestamp": "2023-01-30T02:45:22.337000Z"
         },
         {
          "empty_slots": 2,
          "extra": {
           "installDate": "",
           "installed": true,
           "locked": false,
           "name": "Rotherhithe Roundabout, Rotherhithe",
           "removalDate": "",
           "temporary": false,
           "terminalName": "010629",
           "uid": 411
          },
          "free_bikes": 17,
          "id": "10f2182940197719972c8582dedc455d",
          "latitude": 51.499169,
          "longitude": -0.055846029,
          "name": "010629 - Rotherhithe Roundabout, Rotherhithe",
          "timestamp": "2023-01-30T02:45:22.341000Z"
         },
         {
          "empty_slots": 13,
          "extra": {
           "installDate": "1302006180000",
           "installed": true,
           "locked": false,
           "name": "Cleaver Street, Kennington",
           "removalDate": "",
           "temporary": false,
           "terminalName": "010628",
           "uid": 412
          },
          "free_bikes": 4,
          "id": "7183ee31d1efdfd22b0db020578aed9b",
          "latitude": 51.488105,
          "longitude": -0.110121,
          "name": "010628 - Cleaver Street, Kennington",
          "timestamp": "2023-01-30T02:45:22.345000Z"
         },
         {
          "empty_slots": 10,
          "extra": {
           "installDate": "1308735300000",
           "installed": true,
           "locked": false,
           "name": "Chelsea Bridge, Pimlico",
           "removalDate": "",
           "temporary": false,
           "terminalName": "022160",
           "uid": 419
          },
          "free_bikes": 5,
          "id": "7a4a4641fc87cdf7df8317301e441489",
          "latitude": 51.485821,
          "longitude": -0.149004,
          "name": "022160 - Chelsea Bridge, Pimlico",
          "timestamp": "2023-01-30T02:45:22.345000Z"
         },
         {
          "empty_slots": 17,
          "extra": {
           "installDate": "1309860240000",
           "installed": true,
           "locked": false,
           "name": "Eaton Square (South), Belgravia",
           "removalDate": "",
           "temporary": false,
           "terminalName": "022164",
           "uid": 423
          },
          "free_bikes": 14,
          "id": "f6ef303e9fddef1125d77d70779323d0",
          "latitude": 51.49456127,
          "longitude": -0.15393398,
          "name": "022164 - Eaton Square (South), Belgravia",
          "timestamp": "2023-01-30T02:45:22.348000Z"
         },
         {
          "empty_slots": 13,
          "extra": {
           "installDate": "1324551120000",
           "installed": true,
           "locked": false,
           "name": "Ebury Bridge, Pimlico",
           "removalDate": "",
           "temporary": false,
           "terminalName": "022159",
           "uid": 424
          },
          "free_bikes": 16,
          "id": "b7c7d4a63b64fe581bf90c0f503ad850",
          "latitude": 51.490491,
          "longitude": -0.149186,
          "name": "022159 - Ebury Bridge, Pimlico",
          "timestamp": "2023-01-30T02:45:22.349000Z"
         },
         {
          "empty_slots": 16,
          "extra": {
           "installDate": "1310463720000",
           "installed": true,
           "locked": false,
           "name": "Vincent Street, Pimlico",
           "removalDate": "",
           "temporary": false,
           "terminalName": "022161",
           "uid": 426
          },
          "free_bikes": 1,
          "id": "1c2b25875836a3fb31722e96f8e28e03",
          "latitude": 51.493072,
          "longitude": -0.129925,
          "name": "022161 - Vincent Street, Pimlico",
          "timestamp": "2023-01-30T02:45:22.349000Z"
         },
         {
          "empty_slots": 10,
          "extra": {
           "installDate": "1324549980000",
           "installed": true,
           "locked": false,
           "name": "South Parade, Chelsea",
           "removalDate": "",
           "temporary": false,
           "terminalName": "022182",
           "uid": 430
          },
          "free_bikes": 8,
          "id": "ae29319c0f374706026630b67281e0e7",
          "latitude": 51.48902,
          "longitude": -0.17524,
          "name": "022182 - South Parade, Chelsea",
          "timestamp": "2023-01-30T02:45:22.352000Z"
         },
         {
          "empty_slots": 7,
          "extra": {
           "installDate": "1323355020000",
           "installed": true,
           "locked": false,
           "name": "Crinan Street, King's Cross",
           "removalDate": "",
           "temporary": false,
           "terminalName": "022183",
           "uid": 431
          },
          "free_bikes": 13,
          "id": "a2bcb76953c934e02851a2c10a0e2bdb",
          "latitude": 51.534474,
          "longitude": -0.122203,
          "name": "022183 - Crinan Street, King's Cross",
          "timestamp": "2023-01-30T02:45:22.355000Z"
         },
         {
          "empty_slots": 29,
          "extra": {
           "installDate": "1323361560000",
           "installed": true,
           "locked": false,
           "name": "Wren Street, Holborn",
           "removalDate": "",
           "temporary": false,
           "terminalName": "022169",
           "uid": 433
          },
          "free_bikes": 4,
          "id": "15109e5a69409fd8aced9f4f43e9b282",
          "latitude": 51.524564,
          "longitude": -0.116279,
          "name": "022169 - Wren Street, Holborn",
          "timestamp": "2023-01-30T02:45:22.357000Z"
         },
         {
          "empty_slots": 18,
          "extra": {
           "installDate": "1323346020000",
           "installed": true,
           "locked": false,
           "name": "Kennington Station, Kennington",
           "removalDate": "",
           "temporary": false,
           "terminalName": "022170",
           "uid": 435
          },
          "free_bikes": 5,
          "id": "38bf21ad3764f351f8edcd41f7839135",
          "latitude": 51.488852,
          "longitude": -0.105593,
          "name": "022170 - Kennington Station, Kennington",
          "timestamp": "2023-01-30T02:45:22.358000Z"
         },
         {
          "empty_slots": 6,
          "extra": {
           "installDate": "1325945820000",
           "installed": true,
           "locked": false,
           "name": "Cheshire Street, Bethnal Green",
           "removalDate": "",
           "temporary": false,
           "terminalName": "200003",
           "uid": 445
          },
          "free_bikes": 22,
          "id": "7ae75eef039f7de4e0452bd69c33a304",
          "latitude": 51.52388,
          "longitude": -0.065076,
          "name": "200003 - Cheshire Street, Bethnal Green",
          "timestamp": "2023-01-30T02:45:22.364000Z"
         },
         {
          "empty_slots": 6,
          "extra": {
           "installDate": "1325952660000",
           "installed": true,
           "locked": false,
           "name": "Fisherman's Walk West, Canary Wharf",
           "removalDate": "",
           "temporary": false,
           "terminalName": "022165",
           "uid": 448
          },
          "free_bikes": 30,
          "id": "262b58663806397b5489fce04412a3b2",
          "latitude": 51.50623,
          "longitude": -0.02296,
          "name": "022165 - Fisherman's Walk West, Canary Wharf",
          "timestamp": "2023-01-30T02:45:22.366000Z"
         },
         {
          "empty_slots": 17,
          "extra": {
           "installDate": "1326105240000",
           "installed": true,
           "locked": false,
           "name": "Jubilee Street, Stepney",
           "removalDate": "",
           "temporary": false,
           "terminalName": "200002",
           "uid": 450
          },
          "free_bikes": 11,
          "id": "f14bf8c3ef59dd5628d3cd378a537156",
          "latitude": 51.515975,
          "longitude": -0.053177,
          "name": "200002 - Jubilee Street, Stepney",
          "timestamp": "2023-01-30T02:45:22.367000Z"
         },
         {
          "empty_slots": 20,
          "extra": {
           "installDate": "1326197580000",
           "installed": true,
           "locked": false,
           "name": "Parkway, Camden Town",
           "removalDate": "",
           "temporary": false,
           "terminalName": "200118",
           "uid": 456
          },
          "free_bikes": 13,
          "id": "6b38469a16791cc0c1ed61f5a90b142e",
          "latitude": 51.538071,
          "longitude": -0.144664,
          "name": "200118 - Parkway, Camden Town",
          "timestamp": "2023-01-30T02:45:22.370000Z"
         },
         {
          "empty_slots": 0,
          "extra": {
           "installDate": "1326284820000",
           "installed": true,
           "locked": false,
           "name": "Burdett Road, Mile End",
           "removalDate": "",
           "temporary": false,
           "terminalName": "200123",
           "uid": 460
          },
          "free_bikes": 33,
          "id": "7fb8ce74ed1629b194bb5f83c68d1126",
          "latitude": 51.516196,
          "longitude": -0.029138,
          "name": "200123 - Burdett Road, Mile End",
          "timestamp": "2023-01-30T02:45:22.372000Z"
         },
         {
          "empty_slots": 38,
          "extra": {
           "installDate": "1326294600000",
           "installed": true,
           "locked": false,
           "name": "Bonny Street, Camden Town",
           "removalDate": "",
           "temporary": false,
           "terminalName": "200105",
           "uid": 462
          },
          "free_bikes": 7,
          "id": "f32c2c3ca24a2a029479997a7b593836",
          "latitude": 51.541603,
          "longitude": -0.138853,
          "name": "200105 - Bonny Street, Camden Town",
          "timestamp": "2023-01-30T02:45:22.377000Z"
         },
         {
          "empty_slots": 17,
          "extra": {
           "installDate": "",
           "installed": true,
           "locked": false,
           "name": "Thurtle Road, Haggerston",
           "removalDate": "",
           "temporary": false,
           "terminalName": "200093",
           "uid": 463
          },
          "free_bikes": 5,
          "id": "5fc3075a5d19de383fa168861d481edd",
          "latitude": 51.534776,
          "longitude": -0.071881,
          "name": "200093 - Thurtle Road, Haggerston",
          "timestamp": "2023-01-30T02:45:22.378000Z"
         },
         {
          "empty_slots": 12,
          "extra": {
           "installDate": "1326304980000",
           "installed": true,
           "locked": false,
           "name": "St. Mary & St. Michael Church, Stepney",
           "removalDate": "",
           "temporary": false,
           "terminalName": "200082",
           "uid": 464
          },
          "free_bikes": 13,
          "id": "83257108e73bb026fc286017773acf76",
          "latitude": 51.51417,
          "longitude": -0.052099,
          "name": "200082 - St. Mary & St. Michael Church, Stepney",
          "timestamp": "2023-01-30T02:45:22.379000Z"
         },
         {
          "empty_slots": 28,
          "extra": {
           "installDate": "1326381060000",
           "installed": true,
           "locked": false,
           "name": "Lindfield Street, Poplar",
           "removalDate": "",
           "temporary": false,
           "terminalName": "022178",
           "uid": 469
          },
          "free_bikes": 16,
          "id": "67413455082bb7c33bfe468615189289",
          "latitude": 51.513757,
          "longitude": -0.020467,
          "name": "022178 - Lindfield Street, Poplar",
          "timestamp": "2023-01-30T02:45:22.387000Z"
         },
         {
          "empty_slots": 13,
          "extra": {
           "installDate": "1326790860000",
           "installed": true,
           "locked": false,
           "name": "Hewison Street, Old Ford",
           "removalDate": "",
           "temporary": false,
           "terminalName": "200006",
           "uid": 471
          },
          "free_bikes": 6,
          "id": "79bf4e7ec597b420028d1a376014aec1",
          "latitude": 51.533283,
          "longitude": -0.028155,
          "name": "200006 - Hewison Street, Old Ford",
          "timestamp": "2023-01-30T02:45:22.390000Z"
         },
         {
          "empty_slots": 5,
          "extra": {
           "installDate": "1326816540000",
           "installed": true,
           "locked": false,
           "name": "Millharbour, Millwall",
           "removalDate": "",
           "temporary": false,
           "terminalName": "022167",
           "uid": 473
          },
          "free_bikes": 14,
          "id": "15bfe9b89d354f9e475cb0f51d3a85e2",
          "latitude": 51.496137,
          "longitude": -0.019355,
          "name": "022167 - Millharbour, Millwall",
          "timestamp": "2023-01-30T02:45:22.391000Z"
         },
         {
          "empty_slots": 16,
          "extra": {
           "installDate": "1326825480000",
           "installed": true,
           "locked": false,
           "name": "Lightermans Road, Millwall",
           "removalDate": "",
           "temporary": false,
           "terminalName": "200004",
           "uid": 475
          },
          "free_bikes": 15,
          "id": "46693665d824142293283904bf0cc18c",
          "latitude": 51.499041,
          "longitude": -0.020157,
          "name": "200004 - Lightermans Road, Millwall",
          "timestamp": "2023-01-30T02:45:22.393000Z"
         },
         {
          "empty_slots": 8,
          "extra": {
           "installDate": "1326975420000",
           "installed": true,
           "locked": false,
           "name": "Flamborough Street, Limehouse",
           "removalDate": "",
           "temporary": false,
           "terminalName": "200115",
           "uid": 480
          },
          "free_bikes": 17,
          "id": "d3743c478be53f618f6a517de8c87131",
          "latitude": 51.5128711,
          "longitude": -0.0389866,
          "name": "200115 - Flamborough Street, Limehouse",
          "timestamp": "2023-01-30T02:45:22.395000Z"
         },
         {
          "empty_slots": 21,
          "extra": {
           "installDate": "1327088280000",
           "installed": true,
           "locked": false,
           "name": "Albert Gardens, Stepney",
           "removalDate": "",
           "temporary": false,
           "terminalName": "022166",
           "uid": 483
          },
          "free_bikes": 12,
          "id": "d2f75c44903053f21734412f3f99f78c",
          "latitude": 51.51328,
          "longitude": -0.047784,
          "name": "022166 - Albert Gardens, Stepney",
          "timestamp": "2023-01-30T02:45:22.397000Z"
         },
         {
          "empty_slots": 9,
          "extra": {
           "installDate": "1327339740000",
           "installed": true,
           "locked": false,
           "name": "Bromley High Street, Bow",
           "removalDate": "",
           "temporary": false,
           "terminalName": "022172",
           "uid": 484
          },
          "free_bikes": 15,
          "id": "2b2e79b5240d07027b2d16bce65e378d",
          "latitude": 51.528828,
          "longitude": -0.013258,
          "name": "022172 - Bromley High Street, Bow",
          "timestamp": "2023-01-30T02:45:22.398000Z"
         },
         {
          "empty_slots": 23,
          "extra": {
           "installDate": "1327255440000",
           "installed": true,
           "locked": false,
           "name": "Old Ford Road, Bethnal Green",
           "removalDate": "",
           "temporary": false,
           "terminalName": "022173",
           "uid": 485
          },
          "free_bikes": 1,
          "id": "a5ffd1e8cbf9d9df1b3860e3afe7e9a1",
          "latitude": 51.531127,
          "longitude": -0.048017,
          "name": "022173 - Old Ford Road, Bethnal Green",
          "timestamp": "2023-01-30T02:45:22.398000Z"
         },
         {
          "empty_slots": 2,
          "extra": {
           "installDate": "1327338660000",
           "installed": true,
           "locked": false,
           "name": "Granby Street, Shoreditch",
           "removalDate": "",
           "temporary": false,
           "terminalName": "022174",
           "uid": 486
          },
          "free_bikes": 35,
          "id": "4c43ad395d3dac1e1fe832acfe73b271",
          "latitude": 51.525645,
          "longitude": -0.069543,
          "name": "022174 - Granby Street, Shoreditch",
          "timestamp": "2023-01-30T02:45:22.399000Z"
         },
         {
          "empty_slots": 12,
          "extra": {
           "installDate": "1327936860000",
           "installed": true,
           "locked": false,
           "name": "Canton Street, Poplar",
           "removalDate": "",
           "temporary": false,
           "terminalName": "022175",
           "uid": 487
          },
          "free_bikes": 11,
          "id": "dca9de463259af41bb1ec875b1ce4e72",
          "latitude": 51.511811,
          "longitude": -0.025626,
          "name": "022175 - Canton Street, Poplar",
          "timestamp": "2023-01-30T02:45:22.399000Z"
         },
         {
          "empty_slots": 19,
          "extra": {
           "installDate": "1327254960000",
           "installed": true,
           "locked": false,
           "name": "Reardon Street, Wapping",
           "removalDate": "",
           "temporary": false,
           "terminalName": "022176",
           "uid": 488
          },
          "free_bikes": 3,
          "id": "45f0da54e1a89d1baa652bc1824ee2a4",
          "latitude": 51.506946,
          "longitude": -0.058681,
          "name": "022176 - Reardon Street, Wapping",
          "timestamp": "2023-01-30T02:45:22.400000Z"
         },
         {
          "empty_slots": 16,
          "extra": {
           "installDate": "",
           "installed": true,
           "locked": false,
           "name": "Pennington Street, Wapping",
           "removalDate": "",
           "temporary": false,
           "terminalName": "200090",
           "uid": 490
          },
          "free_bikes": 29,
          "id": "70c0359e29d8928f57524b25d232dd55",
          "latitude": 51.508622,
          "longitude": -0.065006,
          "name": "200090 - Pennington Street, Wapping",
          "timestamp": "2023-01-30T02:45:22.400000Z"
         },
         {
          "empty_slots": 17,
          "extra": {
           "installDate": "1327430220000",
           "installed": true,
           "locked": false,
           "name": "Cephas Street, Bethnal Green",
           "removalDate": "",
           "temporary": false,
           "terminalName": "200073",
           "uid": 501
          },
          "free_bikes": 7,
          "id": "0c45f2e9221ff70fcd1393becd3e189e",
          "latitude": 51.522561,
          "longitude": -0.054883,
          "name": "200073 - Cephas Street, Bethnal Green",
          "timestamp": "2023-01-30T02:45:22.407000Z"
         },
         {
          "empty_slots": 14,
          "extra": {
           "installDate": "1327938420000",
           "installed": true,
           "locked": false,
           "name": "Clarkson Street, Bethnal Green",
           "removalDate": "",
           "temporary": false,
           "terminalName": "200131",
           "uid": 507
          },
          "free_bikes": 17,
          "id": "585cdbb961ae5660dc80e186b577717c",
          "latitude": 51.528692,
          "longitude": -0.059091,
          "name": "200131 - Clarkson Street, Bethnal Green",
          "timestamp": "2023-01-30T02:45:22.412000Z"
         },
         {
          "empty_slots": 18,
          "extra": {
           "installDate": "1328112600000",
           "installed": true,
           "locked": false,
           "name": "Pritchard's Road, Bethnal Green",
           "removalDate": "",
           "temporary": false,
           "terminalName": "200083",
           "uid": 512
          },
          "free_bikes": 12,
          "id": "b9dc6b33669800e4d35475ed1c807f5d",
          "latitude": 51.532091,
          "longitude": -0.06142,
          "name": "200083 - Pritchard's Road, Bethnal Green",
          "timestamp": "2023-01-30T02:45:22.415000Z"
         },
         {
          "empty_slots": 14,
          "extra": {
           "installDate": "1328201520000",
           "installed": true,
           "locked": false,
           "name": "Portman Square, Marylebone",
           "removalDate": "",
           "temporary": false,
           "terminalName": "200008",
           "uid": 514
          },
          "free_bikes": 3,
          "id": "2f432dd6fb789831aa0e815906f0aefe",
          "latitude": 51.516204,
          "longitude": -0.155525,
          "name": "200008 - Portman Square, Marylebone",
          "timestamp": "2023-01-30T02:45:22.416000Z"
         },
         {
          "empty_slots": 11,
          "extra": {
           "installDate": "",
           "installed": true,
           "locked": false,
           "name": "Russell Gardens, Olympia",
           "removalDate": "",
           "temporary": false,
           "terminalName": "200080",
           "uid": 515
          },
          "free_bikes": 13,
          "id": "cd36726ef28e2fafac83653494196bb6",
          "latitude": 51.500088,
          "longitude": -0.211316,
          "name": "200080 - Russell Gardens, Olympia",
          "timestamp": "2023-01-30T02:45:22.417000Z"
         },
         {
          "empty_slots": 7,
          "extra": {
           "installDate": "1328202420000",
           "installed": true,
           "locked": false,
           "name": "Chrisp Street Market, Poplar",
           "removalDate": "",
           "temporary": false,
           "terminalName": "200089",
           "uid": 516
          },
          "free_bikes": 11,
          "id": "9be353ece53f5082f98c5d926fa07ef9",
          "latitude": 51.5112,
          "longitude": -0.014438,
          "name": "200089 - Chrisp Street Market, Poplar",
          "timestamp": "2023-01-30T02:45:22.417000Z"
         },
         {
          "empty_slots": 8,
          "extra": {
           "installDate": "1328777880000",
           "installed": true,
           "locked": false,
           "name": "Clarges Street, Mayfair",
           "removalDate": "",
           "temporary": false,
           "terminalName": "200088",
           "uid": 528
          },
          "free_bikes": 8,
          "id": "45ea36f06867de36abe81328a8c0baa3",
          "latitude": 51.507326,
          "longitude": -0.145827,
          "name": "200088 - Clarges Street, Mayfair",
          "timestamp": "2023-01-30T02:45:22.425000Z"
         },
         {
          "empty_slots": 17,
          "extra": {
           "installDate": "",
           "installed": true,
           "locked": false,
           "name": "Albany Street, The Regent's Park",
           "removalDate": "",
           "temporary": false,
           "terminalName": "200134",
           "uid": 540
          },
          "free_bikes": 10,
          "id": "ec88763a4e3d350c67ffd5e62ea72452",
          "latitude": 51.528302,
          "longitude": -0.144466,
          "name": "200134 - Albany Street, The Regent's Park",
          "timestamp": "2023-01-30T02:45:22.434000Z"
         },
         {
          "empty_slots": 10,
          "extra": {
           "installDate": "",
           "installed": true,
           "locked": false,
           "name": "Arlington Road, Camden Town",
           "removalDate": "",
           "temporary": false,
           "terminalName": "200070",
           "uid": 545
          },
          "free_bikes": 14,
          "id": "490fc8f7ce4600ede9fbbd905746a28a",
          "latitude": 51.539957,
          "longitude": -0.145246,
          "name": "200070 - Arlington Road, Camden Town",
          "timestamp": "2023-01-30T02:45:22.437000Z"
         },
         {
          "empty_slots": 23,
          "extra": {
           "installDate": "",
           "installed": true,
           "locked": false,
           "name": "East India DLR, Blackwall",
           "removalDate": "",
           "temporary": false,
           "terminalName": "200127",
           "uid": 547
          },
          "free_bikes": 28,
          "id": "08edaa617d83bde5b4442416268ec796",
          "latitude": 51.509474,
          "longitude": -0.002275,
          "name": "200127 - East India DLR, Blackwall",
          "timestamp": "2023-01-30T02:45:22.439000Z"
         },
         {
          "empty_slots": 6,
          "extra": {
           "installDate": "",
           "installed": true,
           "locked": false,
           "name": "Westminster Bridge Road, Elephant & Castle",
           "removalDate": "",
           "temporary": false,
           "terminalName": "200076",
           "uid": 548
          },
          "free_bikes": 20,
          "id": "a6ad89a32404f74180d5d21194daaac2",
          "latitude": 51.498386,
          "longitude": -0.107913,
          "name": "200076 - Westminster Bridge Road, Elephant & Castle",
          "timestamp": "2023-01-30T02:45:22.439000Z"
         },
         {
          "empty_slots": 3,
          "extra": {
           "installDate": "",
           "installed": true,
           "locked": false,
           "name": "Gaywood  Street, Elephant & Castle",
           "removalDate": "",
           "temporary": false,
           "terminalName": "200132",
           "uid": 549
          },
          "free_bikes": 42,
          "id": "7c45c2340419e6c219adec080c16d68a",
          "latitude": 51.49605,
          "longitude": -0.104193,
          "name": "200132 - Gaywood  Street, Elephant & Castle",
          "timestamp": "2023-01-30T02:45:22.440000Z"
         },
         {
          "empty_slots": 8,
          "extra": {
           "installDate": "",
           "installed": true,
           "locked": false,
           "name": "Harford Street, Mile End",
           "removalDate": "",
           "temporary": false,
           "terminalName": "200102",
           "uid": 550
          },
          "free_bikes": 15,
          "id": "c219946fa438fb0c48a17f724f98fced",
          "latitude": 51.521564,
          "longitude": -0.039264,
          "name": "200102 - Harford Street, Mile End",
          "timestamp": "2023-01-30T02:45:22.441000Z"
         },
         {
          "empty_slots": 0,
          "extra": {
           "installDate": "",
           "installed": true,
           "locked": false,
           "name": "Aberfeldy Street, Poplar",
           "removalDate": "",
           "temporary": false,
           "terminalName": "200078",
           "uid": 554
          },
          "free_bikes": 16,
          "id": "7f7a5907a504e6ac189a9a05f62254b9",
          "latitude": 51.513548,
          "longitude": -0.005659,
          "name": "200078 - Aberfeldy Street, Poplar",
          "timestamp": "2023-01-30T02:45:22.443000Z"
         },
         {
          "empty_slots": 13,
          "extra": {
           "installDate": "",
           "installed": true,
           "locked": false,
           "name": "Abbotsbury Road, Holland Park",
           "removalDate": "",
           "temporary": false,
           "terminalName": "200111",
           "uid": 559
          },
          "free_bikes": 11,
          "id": "b44e99fc6f4a9f41caad7e84d8fc598d",
          "latitude": 51.501391,
          "longitude": -0.205991,
          "name": "200111 - Abbotsbury Road, Holland Park",
          "timestamp": "2023-01-30T02:45:22.446000Z"
         },
         {
          "empty_slots": 7,
          "extra": {
           "installDate": "1330503420000",
           "installed": true,
           "locked": false,
           "name": "Bury Place, Holborn",
           "removalDate": "",
           "temporary": false,
           "terminalName": "200074",
           "uid": 562
          },
          "free_bikes": 14,
          "id": "227e07b1a65023f34b6a81216978d358",
          "latitude": 51.51746,
          "longitude": -0.12335,
          "name": "200074 - Bury Place, Holborn",
          "timestamp": "2023-01-30T02:45:22.448000Z"
         },
         {
          "empty_slots": 1,
          "extra": {
           "installDate": "",
           "installed": true,
           "locked": false,
           "name": "Selby Street, Whitechapel",
           "removalDate": "",
           "temporary": false,
           "terminalName": "200135",
           "uid": 565
          },
          "free_bikes": 16,
          "id": "ad2ba3451277638c10f6949385e6c5de",
          "latitude": 51.521905,
          "longitude": -0.063386,
          "name": "200135 - Selby Street, Whitechapel",
          "timestamp": "2023-01-30T02:45:22.450000Z"
         },
         {
          "empty_slots": 11,
          "extra": {
           "installDate": "",
           "installed": true,
           "locked": false,
           "name": "Bishop's Bridge Road West, Bayswater",
           "removalDate": "",
           "temporary": false,
           "terminalName": "200110",
           "uid": 568
          },
          "free_bikes": 7,
          "id": "217edc964437eb6efdbccc3ed36b0b3e",
          "latitude": 51.51616,
          "longitude": -0.18697,
          "name": "200110 - Bishop's Bridge Road West, Bayswater",
          "timestamp": "2023-01-30T02:45:22.451000Z"
         },
         {
          "empty_slots": 10,
          "extra": {
           "installDate": "1330773180000",
           "installed": true,
           "locked": false,
           "name": "Upper Bank Street, Canary Wharf",
           "removalDate": "",
           "temporary": false,
           "terminalName": "200099",
           "uid": 570
          },
          "free_bikes": 26,
          "id": "3f28f578d3de1ffad83363ea9326bdcd",
          "latitude": 51.503083,
          "longitude": -0.017676,
          "name": "200099 - Upper Bank Street, Canary Wharf",
          "timestamp": "2023-01-30T02:45:22.452000Z"
         },
         {
          "empty_slots": 17,
          "extra": {
           "installDate": "1331796060000",
           "installed": true,
           "locked": false,
           "name": "Limerston Street, West Chelsea",
           "removalDate": "",
           "temporary": false,
           "terminalName": "200001",
           "uid": 573
          },
          "free_bikes": 1,
          "id": "75729b0848cbff44155d48a4af4da81b",
          "latitude": 51.485587,
          "longitude": -0.18119,
          "name": "200001 - Limerston Street, West Chelsea",
          "timestamp": "2023-01-30T02:45:22.454000Z"
         },
         {
          "empty_slots": 7,
          "extra": {
           "installDate": "",
           "installed": true,
           "locked": false,
           "name": "Alpha Grove, Millwall",
           "removalDate": "",
           "temporary": false,
           "terminalName": "200109",
           "uid": 576
          },
          "free_bikes": 15,
          "id": "82df910a038aab0860599aab3b493498",
          "latitude": 51.497304,
          "longitude": -0.022793,
          "name": "200109 - Alpha Grove, Millwall",
          "timestamp": "2023-01-30T02:45:22.455000Z"
         },
         {
          "empty_slots": 29,
          "extra": {
           "installDate": "1392208500000",
           "installed": true,
           "locked": false,
           "name": "Doddington Grove, Kennington",
           "removalDate": "",
           "temporary": false,
           "terminalName": "200084",
           "uid": 580
          },
          "free_bikes": 7,
          "id": "77cea77e8439d3798d5fa927465eb6d9",
          "latitude": 51.48692917,
          "longitude": -0.102996299,
          "name": "200084 - Doddington Grove, Kennington",
          "timestamp": "2023-01-30T02:45:22.460000Z"
         },
         {
          "empty_slots": 9,
          "extra": {
           "installDate": "1331883540000",
           "installed": true,
           "locked": false,
           "name": "New Cavendish Street, Marylebone",
           "removalDate": "",
           "temporary": false,
           "terminalName": "200005",
           "uid": 581
          },
          "free_bikes": 9,
          "id": "367d60bd642bccad99e175c831253da3",
          "latitude": 51.519167,
          "longitude": -0.147983,
          "name": "200005 - New Cavendish Street, Marylebone",
          "timestamp": "2023-01-30T02:45:22.460000Z"
         },
         {
          "empty_slots": 17,
          "extra": {
           "installDate": "",
           "installed": true,
           "locked": false,
           "name": "Ilchester Gardens, Bayswater",
           "removalDate": "",
           "temporary": false,
           "terminalName": "200086",
           "uid": 584
          },
          "free_bikes": 4,
          "id": "1607af940b203fa105918dfa704b7f8a",
          "latitude": 51.51244,
          "longitude": -0.19096,
          "name": "200086 - Ilchester Gardens, Bayswater",
          "timestamp": "2023-01-30T02:45:22.462000Z"
         },
         {
          "empty_slots": 29,
          "extra": {
           "installDate": "1331797200000",
           "installed": true,
           "locked": false,
           "name": "Mudchute DLR, Cubitt Town",
           "removalDate": "",
           "temporary": false,
           "terminalName": "200092",
           "uid": 586
          },
          "free_bikes": 2,
          "id": "504982eb10df74147802015114f59769",
          "latitude": 51.490645,
          "longitude": -0.014582,
          "name": "200092 - Mudchute DLR, Cubitt Town",
          "timestamp": "2023-01-30T02:45:22.462000Z"
         },
         {
          "empty_slots": 13,
          "extra": {
           "installDate": "1332406320000",
           "installed": true,
           "locked": false,
           "name": "Monument Street, Monument",
           "removalDate": "",
           "temporary": false,
           "terminalName": "200101",
           "uid": 587
          },
          "free_bikes": 9,
          "id": "f982e224fe3c97d63ad8a1a1866d07c0",
          "latitude": 51.50964,
          "longitude": -0.08497,
          "name": "200101 - Monument Street, Monument",
          "timestamp": "2023-01-30T02:45:22.463000Z"
         },
         {
          "empty_slots": 16,
          "extra": {
           "installDate": "",
           "installed": true,
           "locked": false,
           "name": "Bishop's Bridge Road East, Bayswater",
           "removalDate": "",
           "temporary": false,
           "terminalName": "200108",
           "uid": 592
          },
          "free_bikes": 4,
          "id": "61e324d4415765955c6d325cbea107a8",
          "latitude": 51.5171,
          "longitude": -0.18377,
          "name": "200108 - Bishop's Bridge Road East, Bayswater",
          "timestamp": "2023-01-30T02:45:22.465000Z"
         },
         {
          "empty_slots": 9,
          "extra": {
           "installDate": "",
           "installed": true,
           "locked": false,
           "name": "South Lambeth Road, Vauxhall",
           "removalDate": "",
           "temporary": false,
           "terminalName": "200133",
           "uid": 600
          },
          "free_bikes": 12,
          "id": "3d4b2ff3bc7e66de0a5b53ab9fcd8662",
          "latitude": 51.481747,
          "longitude": -0.124642,
          "name": "200133 - South Lambeth Road, Vauxhall",
          "timestamp": "2023-01-30T02:45:22.470000Z"
         },
         {
          "empty_slots": 11,
          "extra": {
           "installDate": "",
           "installed": true,
           "locked": false,
           "name": "Putney Bridge Station, Fulham",
           "removalDate": "",
           "temporary": false,
           "terminalName": "200125",
           "uid": 607
          },
          "free_bikes": 10,
          "id": "cfccd57188cb7ecee3d3941ab2faa090",
          "latitude": 51.468814,
          "longitude": -0.210279,
          "name": "200125 - Putney Bridge Station, Fulham",
          "timestamp": "2023-01-30T02:45:22.480000Z"
         },
         {
          "empty_slots": 0,
          "extra": {
           "installDate": "1380795000000",
           "installed": true,
           "locked": false,
           "name": "London Fields, Hackney Central",
           "removalDate": "",
           "temporary": false,
           "terminalName": "200025",
           "uid": 614
          },
          "free_bikes": 21,
          "id": "ac7bb375df802f39016e81ce8bf357b0",
          "latitude": 51.54119,
          "longitude": -0.058826101,
          "name": "200025 - London Fields, Hackney Central",
          "timestamp": "2023-01-30T02:45:22.489000Z"
         },
         {
          "empty_slots": 17,
          "extra": {
           "installDate": "1380288900000",
           "installed": true,
           "locked": false,
           "name": "Finlay Street, Fulham",
           "removalDate": "",
           "temporary": false,
           "terminalName": "200029",
           "uid": 615
          },
          "free_bikes": 7,
          "id": "8d8f0a34a7ed926c7ebf4d809ed0ef51",
          "latitude": 51.4768851,
          "longitude": -0.215895601,
          "name": "200029 - Finlay Street, Fulham",
          "timestamp": "2023-01-30T02:45:22.489000Z"
         },
         {
          "empty_slots": 2,
          "extra": {
           "installDate": "1381931400000",
           "installed": true,
           "locked": false,
           "name": "Holden Street, Battersea",
           "removalDate": "",
           "temporary": false,
           "terminalName": "200007",
           "uid": 627
          },
          "free_bikes": 18,
          "id": "17958937b1c48b0fd144259a19a9771e",
          "latitude": 51.4687905,
          "longitude": -0.158230901,
          "name": "200007 - Holden Street, Battersea",
          "timestamp": "2023-01-30T02:45:22.499000Z"
         },
         {
          "empty_slots": 10,
          "extra": {
           "installDate": "1381414980000",
           "installed": true,
           "locked": false,
           "name": "William Morris Way, Sands End",
           "removalDate": "",
           "temporary": false,
           "terminalName": "200062",
           "uid": 628
          },
          "free_bikes": 16,
          "id": "200ce1c95540e578b1ef93671d5c2e08",
          "latitude": 51.46881971,
          "longitude": -0.184318843,
          "name": "200062 - William Morris Way, Sands End",
          "timestamp": "2023-01-30T02:45:22.500000Z"
         },
         {
          "empty_slots": 10,
          "extra": {
           "installDate": "1382614560000",
           "installed": true,
           "locked": false,
           "name": "Broomhouse Lane, Parsons Green",
           "removalDate": "",
           "temporary": false,
           "terminalName": "200040",
           "uid": 656
          },
          "free_bikes": 19,
          "id": "f331e40f9d40ee41bffdbe556311861c",
          "latitude": 51.46841875,
          "longitude": -0.199135704,
          "name": "200040 - Broomhouse Lane, Parsons Green",
          "timestamp": "2023-01-30T02:45:22.536000Z"
         },
         {
          "empty_slots": 17,
          "extra": {
           "installDate": "1383738240000",
           "installed": true,
           "locked": false,
           "name": "Crisp Road, Hammersmith",
           "removalDate": "",
           "temporary": false,
           "terminalName": "200059",
           "uid": 682
          },
          "free_bikes": 29,
          "id": "488f2307faa3e0c03d1f6f08c6c79fa2",
          "latitude": 51.48810829,
          "longitude": -0.22660621,
          "name": "200059 - Crisp Road, Hammersmith",
          "timestamp": "2023-01-30T02:45:22.556000Z"
         },
         {
          "empty_slots": 17,
          "extra": {
           "installDate": "1383750420000",
           "installed": true,
           "locked": false,
           "name": "Dorothy Road, Clapham Junction",
           "removalDate": "",
           "temporary": false,
           "terminalName": "200119",
           "uid": 683
          },
          "free_bikes": 11,
          "id": "8900c1e60f0859d490ead1e113dbe9b2",
          "latitude": 51.46506424,
          "longitude": -0.163750945,
          "name": "200119 - Dorothy Road, Clapham Junction",
          "timestamp": "2023-01-30T02:45:22.557000Z"
         },
         {
          "empty_slots": 24,
          "extra": {
           "installDate": "1383918180000",
           "installed": true,
           "locked": false,
           "name": "Spanish Road, Clapham Junction",
           "removalDate": "",
           "temporary": false,
           "terminalName": "200106",
           "uid": 689
          },
          "free_bikes": 6,
          "id": "12a2abe76471e64e22ffc5f2721fb250",
          "latitude": 51.45922541,
          "longitude": -0.180884959,
          "name": "200106 - Spanish Road, Clapham Junction",
          "timestamp": "2023-01-30T02:45:22.562000Z"
         },
         {
          "empty_slots": 13,
          "extra": {
           "installDate": "1384251120000",
           "installed": true,
           "locked": false,
           "name": "Charlotte Terrace, Angel",
           "removalDate": "",
           "temporary": false,
           "terminalName": "200129",
           "uid": 697
          },
          "free_bikes": 12,
          "id": "240847c90be435be6a1385b18cb689d5",
          "latitude": 51.53639219,
          "longitude": -0.112721065,
          "name": "200129 - Charlotte Terrace, Angel",
          "timestamp": "2023-01-30T02:45:22.568000Z"
         },
         {
          "empty_slots": 37,
          "extra": {
           "installDate": "1384256040000",
           "installed": true,
           "locked": false,
           "name": "Belford House, Haggerston",
           "removalDate": "",
           "temporary": false,
           "terminalName": "200057",
           "uid": 699
          },
          "free_bikes": 2,
          "id": "1b342d9cf15dc60b185b8dedc3f7ef35",
          "latitude": 51.5366541,
          "longitude": -0.07023031,
          "name": "200057 - Belford House, Haggerston",
          "timestamp": "2023-01-30T02:45:22.570000Z"
         },
         {
          "empty_slots": 20,
          "extra": {
           "installDate": "1384345080000",
           "installed": true,
           "locked": false,
           "name": "Vicarage Crescent, Battersea",
           "removalDate": "",
           "temporary": false,
           "terminalName": "200077",
           "uid": 701
          },
          "free_bikes": 10,
          "id": "0d9f93bc4ef280232f179859b1e0735a",
          "latitude": 51.47287627,
          "longitude": -0.176267008,
          "name": "200077 - Vicarage Crescent, Battersea",
          "timestamp": "2023-01-30T02:45:22.571000Z"
         },
         {
          "empty_slots": 25,
          "extra": {
           "installDate": "1384357800000",
           "installed": true,
           "locked": false,
           "name": "St. Bride Street, Holborn",
           "removalDate": "",
           "temporary": false,
           "terminalName": "200094",
           "uid": 703
          },
          "free_bikes": 0,
          "id": "5bc628c96c8e9ca872a1e76429ab77ae",
          "latitude": 51.51505991,
          "longitude": -0.10534448,
          "name": "200094 - St. Bride Street, Holborn",
          "timestamp": "2023-01-30T02:45:22.573000Z"
         },
         {
          "empty_slots": 12,
          "extra": {
           "installDate": "1384774620000",
           "installed": true,
           "locked": false,
           "name": "Hawley Crescent, Camden Town",
           "removalDate": "",
           "temporary": false,
           "terminalName": "200122",
           "uid": 713
          },
          "free_bikes": 10,
          "id": "5d8952bf7bb3deb72eb7ea6c63f7a737",
          "latitude": 51.54100708,
          "longitude": -0.14326094,
          "name": "200122 - Hawley Crescent, Camden Town",
          "timestamp": "2023-01-30T02:45:22.581000Z"
         },
         {
          "empty_slots": 15,
          "extra": {
           "installDate": "1385464500000",
           "installed": true,
           "locked": false,
           "name": "Plough Terrace, Clapham Junction",
           "removalDate": "",
           "temporary": false,
           "terminalName": "300094",
           "uid": 734
          },
          "free_bikes": 16,
          "id": "69a76d985080e3588101a0e2f900735a",
          "latitude": 51.46230566,
          "longitude": -0.175407201,
          "name": "300094 - Plough Terrace, Clapham Junction",
          "timestamp": "2023-01-30T02:45:22.603000Z"
         },
         {
          "empty_slots": 1,
          "extra": {
           "installDate": "1392633480000",
           "installed": true,
           "locked": false,
           "name": "St. John's Road, Clapham Junction",
           "removalDate": "",
           "temporary": false,
           "terminalName": "200185",
           "uid": 764
          },
          "free_bikes": 32,
          "id": "740120603adebb82aaf571e1faede557",
          "latitude": 51.46239255,
          "longitude": -0.16829214,
          "name": "200185 - St. John's Road, Clapham Junction",
          "timestamp": "2023-01-30T02:45:22.625000Z"
         },
         {
          "empty_slots": 32,
          "extra": {
           "installDate": "1393494060000",
           "installed": true,
           "locked": false,
           "name": "Clapham Common North Side, Clapham Common",
           "removalDate": "",
           "temporary": false,
           "terminalName": "300065",
           "uid": 768
          },
          "free_bikes": 5,
          "id": "15d2f9136d250343100bd764a6f25b10",
          "latitude": 51.46134382,
          "longitude": -0.159322467,
          "name": "300065 - Clapham Common North Side, Clapham Common",
          "timestamp": "2023-01-30T02:45:22.629000Z"
         },
         {
          "empty_slots": 0,
          "extra": {
           "installDate": "1396273320000",
           "installed": true,
           "locked": false,
           "name": "Abyssinia Close, Clapham Junction",
           "removalDate": "",
           "temporary": false,
           "terminalName": "300099",
           "uid": 776
          },
          "free_bikes": 20,
          "id": "69a9b3b51a4f337c2a7bee29e0667cd3",
          "latitude": 51.460333,
          "longitude": -0.167029,
          "name": "300099 - Abyssinia Close, Clapham Junction",
          "timestamp": "2023-01-30T02:45:22.635000Z"
         },
         {
          "empty_slots": 16,
          "extra": {
           "installDate": "1435313700000",
           "installed": true,
           "locked": false,
           "name": "Houndsditch, Aldgate",
           "removalDate": "",
           "temporary": false,
           "terminalName": "200072",
           "uid": 779
          },
          "free_bikes": 12,
          "id": "047b30f0dab5c5bfc2104549f1738a5d",
          "latitude": 51.514449,
          "longitude": -0.077178979,
          "name": "200072 - Houndsditch, Aldgate",
          "timestamp": "2023-01-30T02:45:22.637000Z"
         },
         {
          "empty_slots": 1,
          "extra": {
           "installDate": "1599752640000",
           "installed": true,
           "locked": false,
           "name": "George Row, Bermondsey",
           "removalDate": "",
           "temporary": false,
           "terminalName": "002679",
           "uid": 840
          },
          "free_bikes": 21,
          "id": "b79b6cd1f4d455158a298d6165f3cdfa",
          "latitude": 51.498585,
          "longitude": -0.068981764,
          "name": "002679 - George Row, Bermondsey",
          "timestamp": "2023-01-30T02:45:22.693000Z"
         },
         {
          "empty_slots": 15,
          "extra": {
           "installDate": "1608303660000",
           "installed": true,
           "locked": false,
           "name": "Bermondsey Station, Bermondsey",
           "removalDate": "",
           "temporary": false,
           "terminalName": "300253",
           "uid": 845
          },
          "free_bikes": 15,
          "id": "d86c98696da3a97e114e02cc098b1960",
          "latitude": 51.497995,
          "longitude": -0.063471392,
          "name": "300253 - Bermondsey Station, Bermondsey",
          "timestamp": "2023-01-30T02:45:22.738000Z"
         },
         {
          "empty_slots": 4,
          "extra": {
           "installDate": "1279444080000",
           "installed": true,
           "locked": false,
           "name": "Dorset Square, Marylebone",
           "removalDate": "",
           "temporary": false,
           "terminalName": "001162",
           "uid": 201
          },
          "free_bikes": 12,
          "id": "61fa256a92afa658251350cb5017638c",
          "latitude": 51.5225965,
          "longitude": -0.161113413,
          "name": "001162 - Dorset Square, Marylebone",
          "timestamp": "2023-01-30T02:45:22.182000Z"
         },
         {
          "empty_slots": 31,
          "extra": {
           "installDate": "1279392479356",
           "installed": true,
           "locked": false,
           "name": "Bankside Mix, Bankside",
           "removalDate": "",
           "temporary": false,
           "terminalName": "000963",
           "uid": 193
          },
          "free_bikes": 29,
          "id": "7d33e3c5865df062e812598a3667905e",
          "latitude": 51.50581776,
          "longitude": -0.100186337,
          "name": "000963 - Bankside Mix, Bankside",
          "timestamp": "2023-01-30T02:45:22.176000Z"
         },
         {
          "empty_slots": 8,
          "extra": {
           "installDate": "1280248620000",
           "installed": true,
           "locked": false,
           "name": "Bank of England Museum, Bank",
           "removalDate": "",
           "temporary": false,
           "terminalName": "001201",
           "uid": 340
          },
          "free_bikes": 8,
          "id": "22b232cd84d08aa6a4f1432aad2dbcbd",
          "latitude": 51.51444134,
          "longitude": -0.087587447,
          "name": "001201 - Bank of England Museum, Bank",
          "timestamp": "2023-01-30T02:45:22.292000Z"
         },
         {
          "empty_slots": 7,
          "extra": {
           "installDate": "1279099680000",
           "installed": true,
           "locked": false,
           "name": "Old Quebec Street, Marylebone",
           "removalDate": "",
           "temporary": false,
           "terminalName": "001085",
           "uid": 99
          },
          "free_bikes": 9,
          "id": "59163fcd50c2826bdb8a0334dfbb79bd",
          "latitude": 51.51457763,
          "longitude": -0.158264483,
          "name": "001085 - Old Quebec Street, Marylebone",
          "timestamp": "2023-01-30T02:45:22.078000Z"
         },
         {
          "empty_slots": 14,
          "extra": {
           "installDate": "",
           "installed": true,
           "locked": false,
           "name": "St Martins Close, Camden Town",
           "removalDate": "",
           "temporary": false,
           "terminalName": "200195",
           "uid": 604
          },
          "free_bikes": 4,
          "id": "75be1ac532d6f3fb0a8a7ff0ee0bb8ff",
          "latitude": 51.538792,
          "longitude": -0.138535,
          "name": "200195 - St Martins Close, Camden Town",
          "timestamp": "2023-01-30T02:45:22.478000Z"
         },
         {
          "empty_slots": 26,
          "extra": {
           "installDate": "1326294780000",
           "installed": true,
           "locked": false,
           "name": "Wapping Lane, Wapping",
           "removalDate": "",
           "temporary": false,
           "terminalName": "200034",
           "uid": 458
          },
          "free_bikes": 2,
          "id": "3eba01f321c887b482b7ec3fc0856c6e",
          "latitude": 51.504749,
          "longitude": -0.057544,
          "name": "200034 - Wapping Lane, Wapping",
          "timestamp": "2023-01-30T02:45:22.371000Z"
         },
         {
          "empty_slots": 3,
          "extra": {
           "installDate": "1299583260000",
           "installed": true,
           "locked": false,
           "name": "George Street, Marylebone",
           "removalDate": "",
           "temporary": false,
           "terminalName": "001225",
           "uid": 400
          },
          "free_bikes": 23,
          "id": "9a74991295798e69d06c22e2d33a7c36",
          "latitude": 51.517703,
          "longitude": -0.154106,
          "name": "001225 - George Street, Marylebone",
          "timestamp": "2023-01-30T02:45:22.331000Z"
         },
         {
          "empty_slots": 25,
          "extra": {
           "installDate": "",
           "installed": true,
           "locked": false,
           "name": "Preston's Road, Cubitt Town",
           "removalDate": "",
           "temporary": false,
           "terminalName": "200232",
           "uid": 563
          },
          "free_bikes": 1,
          "id": "2fbca07f26ddd1f83e5e70cda8a15abd",
          "latitude": 51.499286,
          "longitude": -0.009152,
          "name": "200232 - Preston's Road, Cubitt Town",
          "timestamp": "2023-01-30T02:45:22.448000Z"
         },
         {
          "empty_slots": 0,
          "extra": {
           "installDate": "1279885080000",
           "installed": true,
           "locked": false,
           "name": "Dickens Square, Borough",
           "removalDate": "",
           "temporary": false,
           "terminalName": "001208",
           "uid": 317
          },
          "free_bikes": 32,
          "id": "57821f48dc702b5cd322266beb9e5706",
          "latitude": 51.49679128,
          "longitude": -0.093913472,
          "name": "001208 - Dickens Square, Borough",
          "timestamp": "2023-01-30T02:45:22.276000Z"
         },
         {
          "empty_slots": 35,
          "extra": {
           "installDate": "1310725680000",
           "installed": true,
           "locked": false,
           "name": "Cheapside, Bank",
           "removalDate": "",
           "temporary": false,
           "terminalName": "022180",
           "uid": 427
          },
          "free_bikes": 8,
          "id": "b2502d1e76848ea7a0ac8c5ac20d16bf",
          "latitude": 51.51397065,
          "longitude": -0.09294031,
          "name": "022180 - Cheapside, Bank",
          "timestamp": "2023-01-30T02:45:22.350000Z"
         },
         {
          "empty_slots": 20,
          "extra": {
           "installDate": "1279216080000",
           "installed": true,
           "locked": false,
           "name": "Bayswater Road, Hyde Park",
           "removalDate": "",
           "temporary": false,
           "terminalName": "001096",
           "uid": 153
          },
          "free_bikes": 7,
          "id": "3d1e7eb1edeefdbc9b6387c7c13c27de",
          "latitude": 51.511933,
          "longitude": -0.174411,
          "name": "001096 - Bayswater Road, Hyde Park",
          "timestamp": "2023-01-30T02:45:22.131000Z"
         },
         {
          "empty_slots": 13,
          "extra": {
           "installDate": "1279808700000",
           "installed": true,
           "locked": false,
           "name": "Serpentine Car Park, Hyde Park",
           "removalDate": "",
           "temporary": false,
           "terminalName": "001217",
           "uid": 300
          },
          "free_bikes": 5,
          "id": "76ef9b21e4b268cb49f6deb66440676e",
          "latitude": 51.505014,
          "longitude": -0.17306032,
          "name": "001217 - Serpentine Car Park, Hyde Park",
          "timestamp": "2023-01-30T02:45:22.265000Z"
         },
         {
          "empty_slots": 20,
          "extra": {
           "installDate": "",
           "installed": true,
           "locked": false,
           "name": "Green Park Station, Mayfair",
           "removalDate": "",
           "temporary": false,
           "terminalName": "200096",
           "uid": 541
          },
          "free_bikes": 8,
          "id": "7c705926cc6ffb6202bc9e0bee60381f",
          "latitude": 51.506613,
          "longitude": -0.142844,
          "name": "200096 - Green Park Station, Mayfair",
          "timestamp": "2023-01-30T02:45:22.435000Z"
         },
         {
          "empty_slots": 7,
          "extra": {
           "installDate": "1299669180000",
           "installed": true,
           "locked": false,
           "name": "Palace Gate, Kensington Gardens",
           "removalDate": "",
           "temporary": false,
           "terminalName": "001110",
           "uid": 404
          },
          "free_bikes": 6,
          "id": "2170152c4efd40a4dff0f6c219fd0061",
          "latitude": 51.50204238,
          "longitude": -0.184400221,
          "name": "001110 - Palace Gate, Kensington Gardens",
          "timestamp": "2023-01-30T02:45:22.334000Z"
         },
         {
          "empty_slots": 32,
          "extra": {
           "installDate": "1279383120000",
           "installed": true,
           "locked": false,
           "name": "Hyde Park Corner, Hyde Park",
           "removalDate": "",
           "temporary": false,
           "terminalName": "001075",
           "uid": 191
          },
          "free_bikes": 4,
          "id": "39b56b87515a429d96e6d4187e9c378e",
          "latitude": 51.50311799,
          "longitude": -0.153520935,
          "name": "001075 - Hyde Park Corner, Hyde Park",
          "timestamp": "2023-01-30T02:45:22.175000Z"
         },
         {
          "empty_slots": 28,
          "extra": {
           "installDate": "1278430140000",
           "installed": true,
           "locked": false,
           "name": "British Museum, Bloomsbury",
           "removalDate": "",
           "temporary": false,
           "terminalName": "000981",
           "uid": 24
          },
          "free_bikes": 7,
          "id": "43a7f48d18b5950311a758a86869c23b",
          "latitude": 51.51908011,
          "longitude": -0.124678402,
          "name": "000981 - British Museum, Bloomsbury",
          "timestamp": "2023-01-30T02:45:22.021000Z"
         },
         {
          "empty_slots": 32,
          "extra": {
           "installDate": "1279537020000",
           "installed": true,
           "locked": false,
           "name": "Wellington Arch, Hyde Park",
           "removalDate": "",
           "temporary": false,
           "terminalName": "001109",
           "uid": 213
          },
          "free_bikes": 4,
          "id": "139cdedf16e97544e1a19d440914ca93",
          "latitude": 51.50274025,
          "longitude": -0.149569201,
          "name": "001109 - Wellington Arch, Hyde Park",
          "timestamp": "2023-01-30T02:45:22.191000Z"
         },
         {
          "empty_slots": 20,
          "extra": {
           "installDate": "1297958700000",
           "installed": true,
           "locked": false,
           "name": "Imperial College, Knightsbridge",
           "removalDate": "",
           "temporary": false,
           "terminalName": "001220",
           "uid": 392
          },
          "free_bikes": 1,
          "id": "6f2c392f91b28b735ee111fb3e37b403",
          "latitude": 51.49942855,
          "longitude": -0.179702476,
          "name": "001220 - Imperial College, Knightsbridge",
          "timestamp": "2023-01-30T02:45:22.325000Z"
         },
         {
          "empty_slots": 3,
          "extra": {
           "installDate": "1285756260000",
           "installed": true,
           "locked": false,
           "name": "Queen's Gate, Kensington Gardens",
           "removalDate": "",
           "temporary": false,
           "terminalName": "001231",
           "uid": 350
          },
          "free_bikes": 18,
          "id": "090f297e79c030688a8a51755ebeafe3",
          "latitude": 51.5017154373867,
          "longitude": -0.1798541843891,
          "name": "001231 - Queen's Gate, Kensington Gardens",
          "timestamp": "2023-01-30T02:45:22.297000Z"
         },
         {
          "empty_slots": 19,
          "extra": {
           "installDate": "1279211220000",
           "installed": true,
           "locked": false,
           "name": "West Cromwell Road, Earl's Court",
           "removalDate": "",
           "temporary": false,
           "terminalName": "001001",
           "uid": 142
          },
          "free_bikes": 5,
          "id": "5f56fcb272427614e7e2dbe8fe57ba9a",
          "latitude": 51.49372451,
          "longitude": -0.198286569,
          "name": "001001 - West Cromwell Road, Earl's Court",
          "timestamp": "2023-01-30T02:45:22.122000Z"
         },
         {
          "empty_slots": 7,
          "extra": {
           "installDate": "1501544700000",
           "installed": true,
           "locked": false,
           "name": "Southerton Road, Hammersmith",
           "removalDate": "",
           "temporary": false,
           "terminalName": "200166",
           "uid": 598
          },
          "free_bikes": 31,
          "id": "e274e9785a3243ff0dd9f80bedce6ab2",
          "latitude": 51.494499,
          "longitude": -0.228188,
          "name": "200166 - Southerton Road, Hammersmith",
          "timestamp": "2023-01-30T02:45:22.469000Z"
         },
         {
          "empty_slots": 41,
          "extra": {
           "installDate": "1279714560000",
           "installed": true,
           "locked": false,
           "name": "Queen's Gate (North), Kensington",
           "removalDate": "",
           "temporary": false,
           "terminalName": "001204",
           "uid": 266
          },
          "free_bikes": 0,
          "id": "02e9d06ab5407e6eaf1dec246d8c452f",
          "latitude": 51.50102668,
          "longitude": -0.180246101,
          "name": "001204 - Queen's Gate (North), Kensington",
          "timestamp": "2023-01-30T02:45:22.240000Z"
         },
         {
          "empty_slots": 42,
          "extra": {
           "installDate": "1279614120000",
           "installed": true,
           "locked": false,
           "name": "Knightsbridge, Hyde Park",
           "removalDate": "",
           "temporary": false,
           "terminalName": "001101",
           "uid": 222
          },
          "free_bikes": 1,
          "id": "43efeb29033bf6a0cd3a282133638595",
          "latitude": 51.50275704,
          "longitude": -0.155349725,
          "name": "001101 - Knightsbridge, Hyde Park",
          "timestamp": "2023-01-30T02:45:22.199000Z"
         },
         {
          "empty_slots": 15,
          "extra": {
           "installDate": "1382705340000",
           "installed": true,
           "locked": false,
           "name": "West Kensington Station, West Kensington",
           "removalDate": "",
           "temporary": false,
           "terminalName": "300020",
           "uid": 660
          },
          "free_bikes": 7,
          "id": "e86816da68dcd5515cec681508aa7ef3",
          "latitude": 51.49087074,
          "longitude": -0.206029743,
          "name": "300020 - West Kensington Station, West Kensington",
          "timestamp": "2023-01-30T02:45:22.539000Z"
         },
         {
          "empty_slots": 14,
          "extra": {
           "installDate": "1384873500000",
           "installed": true,
           "locked": false,
           "name": "Stainsby Road , Poplar",
           "removalDate": "",
           "temporary": false,
           "terminalName": "300048",
           "uid": 716
          },
          "free_bikes": 10,
          "id": "db1aaa3d9c09d35e9eb601319d251acb",
          "latitude": 51.51542791,
          "longitude": -0.02356501,
          "name": "300048 - Stainsby Road , Poplar",
          "timestamp": "2023-01-30T02:45:22.583000Z"
         },
         {
          "empty_slots": 17,
          "extra": {
           "installDate": "1279812720000",
           "installed": true,
           "locked": false,
           "name": "Albert Gate, Hyde Park",
           "removalDate": "",
           "temporary": false,
           "terminalName": "001132",
           "uid": 303
          },
          "free_bikes": 17,
          "id": "48fff4b472ff41ab137fe1af457aefa3",
          "latitude": 51.50295379,
          "longitude": -0.158456089,
          "name": "001132 - Albert Gate, Hyde Park",
          "timestamp": "2023-01-30T02:45:22.267000Z"
         },
         {
          "empty_slots": 16,
          "extra": {
           "installDate": "",
           "installed": true,
           "locked": false,
           "name": "Abingdon Green, Westminster",
           "removalDate": "",
           "temporary": false,
           "terminalName": "200231",
           "uid": 583
          },
          "free_bikes": 4,
          "id": "ec40caa9740d30e716b10db4d18b7b76",
          "latitude": 51.49764,
          "longitude": -0.12597218,
          "name": "200231 - Abingdon Green, Westminster",
          "timestamp": "2023-01-30T02:45:22.461000Z"
         },
         {
          "empty_slots": 1,
          "extra": {
           "installDate": "1279640400000",
           "installed": true,
           "locked": false,
           "name": "Harper Road, The Borough",
           "removalDate": "",
           "temporary": false,
           "terminalName": "001137",
           "uid": 249
          },
          "free_bikes": 41,
          "id": "b80b80093cc313af910a2c5b031fbccc",
          "latitude": 51.49859784,
          "longitude": -0.096191134,
          "name": "001137 - Harper Road, The Borough",
          "timestamp": "2023-01-30T02:45:22.220000Z"
         },
         {
          "empty_slots": 6,
          "extra": {
           "installDate": "1279192200000",
           "installed": true,
           "locked": false,
           "name": "Borough High Street, The Borough",
           "removalDate": "",
           "temporary": false,
           "terminalName": "000996",
           "uid": 125
          },
          "free_bikes": 15,
          "id": "dce2d3b338d1dd6dec93a88a43cad53e",
          "latitude": 51.50069491,
          "longitude": -0.094524319,
          "name": "000996 - Borough High Street, The Borough",
          "timestamp": "2023-01-30T02:45:22.110000Z"
         },
         {
          "empty_slots": 0,
          "extra": {
           "installDate": "1279800900000",
           "installed": true,
           "locked": false,
           "name": "St. George's Square, Pimlico",
           "removalDate": "",
           "temporary": false,
           "terminalName": "001195",
           "uid": 294
          },
          "free_bikes": 16,
          "id": "88d5d4224939683f692f0b285d9d2eb7",
          "latitude": 51.488226,
          "longitude": -0.135635511,
          "name": "001195 - St. George's Square, Pimlico",
          "timestamp": "2023-01-30T02:45:22.261000Z"
         },
         {
          "empty_slots": 3,
          "extra": {
           "installDate": "1279723200000",
           "installed": true,
           "locked": false,
           "name": "Lower Thames Street, Monument",
           "removalDate": "",
           "temporary": false,
           "terminalName": "001098",
           "uid": 276
          },
          "free_bikes": 21,
          "id": "7680de73ff501efdc9c7f57fc817c288",
          "latitude": 51.50930161,
          "longitude": -0.084985356,
          "name": "001098 - Lower Thames Street, Monument",
          "timestamp": "2023-01-30T02:45:22.248000Z"
         },
         {
          "empty_slots": 5,
          "extra": {
           "installDate": "1278691800000",
           "installed": true,
           "locked": false,
           "name": "Nesham Street, Wapping",
           "removalDate": "",
           "temporary": false,
           "terminalName": "001031",
           "uid": 46
          },
          "free_bikes": 11,
          "id": "638cafe4efdc9cc3c5dea6a18f9fd314",
          "latitude": 51.507131,
          "longitude": -0.06691,
          "name": "001031 - Nesham Street, Wapping",
          "timestamp": "2023-01-30T02:45:22.039000Z"
         },
         {
          "empty_slots": 1,
          "extra": {
           "installDate": "1279198800000",
           "installed": true,
           "locked": false,
           "name": "Tower Gardens , Tower",
           "removalDate": "",
           "temporary": false,
           "terminalName": "001071",
           "uid": 130
          },
          "free_bikes": 23,
          "id": "5b1a99b93cc26548e257b02d96214e7b",
          "latitude": 51.50950627,
          "longitude": -0.075459482,
          "name": "001071 - Tower Gardens , Tower",
          "timestamp": "2023-01-30T02:45:22.114000Z"
         },
         {
          "empty_slots": 3,
          "extra": {
           "installDate": "1279805640000",
           "installed": true,
           "locked": false,
           "name": "Curlew Street, Shad Thames",
           "removalDate": "",
           "temporary": false,
           "terminalName": "001213",
           "uid": 298
          },
          "free_bikes": 18,
          "id": "f0f07e79719fa88fce54ff704aca83e3",
          "latitude": 51.50227992,
          "longitude": -0.074189225,
          "name": "001213 - Curlew Street, Shad Thames",
          "timestamp": "2023-01-30T02:45:22.264000Z"
         },
         {
          "empty_slots": 25,
          "extra": {
           "installDate": "1328886360000",
           "installed": true,
           "locked": false,
           "name": "Jubilee Plaza, Canary Wharf",
           "removalDate": "",
           "temporary": false,
           "terminalName": "200163",
           "uid": 532
          },
          "free_bikes": 38,
          "id": "1e6d162ee9f16adf06d4929f0c6e687f",
          "latitude": 51.50357,
          "longitude": -0.020068,
          "name": "200163 - Jubilee Plaza, Canary Wharf",
          "timestamp": "2023-01-30T02:45:22.428000Z"
         },
         {
          "empty_slots": 1,
          "extra": {
           "installDate": "1297956480000",
           "installed": true,
           "locked": false,
           "name": "Clifford Street, Mayfair",
           "removalDate": "1539846000000",
           "temporary": false,
           "terminalName": "002688",
           "uid": 391
          },
          "free_bikes": 16,
          "id": "fe8ca457db4e084c3d743b2b2cd0072a",
          "latitude": 51.51066202,
          "longitude": -0.142345694,
          "name": "002688 - Clifford Street, Mayfair",
          "timestamp": "2023-01-30T02:45:22.324000Z"
         },
         {
          "empty_slots": 25,
          "extra": {
           "installDate": "1279640160000",
           "installed": true,
           "locked": false,
           "name": "Triangle Car Park, Hyde Park",
           "removalDate": "",
           "temporary": false,
           "terminalName": "001088",
           "uid": 248
          },
          "free_bikes": 2,
          "id": "effadfd2c04f61c88731e909886d7eec",
          "latitude": 51.50645179,
          "longitude": -0.170279555,
          "name": "001088 - Triangle Car Park, Hyde Park",
          "timestamp": "2023-01-30T02:45:22.219000Z"
         },
         {
          "empty_slots": 9,
          "extra": {
           "installDate": "1383838440000",
           "installed": true,
           "locked": false,
           "name": "Clements Road, Bermondsey",
           "removalDate": "",
           "temporary": false,
           "terminalName": "200216",
           "uid": 687
          },
          "free_bikes": 14,
          "id": "8b5d1ca9a73c7c6c190ce14848ddef64",
          "latitude": 51.4954,
          "longitude": -0.061698585,
          "name": "200216 - Clements Road, Bermondsey",
          "timestamp": "2023-01-30T02:45:22.560000Z"
         },
         {
          "empty_slots": 1,
          "extra": {
           "installDate": "",
           "installed": true,
           "locked": false,
           "name": "South Bermondsey Station, Bermondsey",
           "removalDate": "",
           "temporary": false,
           "terminalName": "300062",
           "uid": 847
          },
          "free_bikes": 23,
          "id": "3cc40cfffd2cb138659ac4de8ba3abcb",
          "latitude": 51.488067,
          "longitude": -0.057774596,
          "name": "300062 - South Bermondsey Station, Bermondsey",
          "timestamp": "2023-01-30T02:45:22.740000Z"
         },
         {
          "empty_slots": 4,
          "extra": {
           "installDate": "",
           "installed": true,
           "locked": false,
           "name": "Eccleston Place, Victoria",
           "removalDate": "",
           "temporary": false,
           "terminalName": "003465",
           "uid": 167
          },
          "free_bikes": 15,
          "id": "4138c93e85376e4fa18aae25aeacf573",
          "latitude": 51.49395092,
          "longitude": -0.147624377,
          "name": "003465 - Eccleston Place, Victoria",
          "timestamp": "2023-01-30T02:45:22.146000Z"
         },
         {
          "empty_slots": 8,
          "extra": {
           "installDate": "1383063480000",
           "installed": true,
           "locked": false,
           "name": "Harris Academy, Bermondsey",
           "removalDate": "",
           "temporary": false,
           "terminalName": "300004",
           "uid": 666
          },
          "free_bikes": 10,
          "id": "01ff16aaefe2f189c5666ca0fb84b4e0",
          "latitude": 51.492668,
          "longitude": -0.072350665,
          "name": "300004 - Harris Academy, Bermondsey",
          "timestamp": "2023-01-30T02:45:22.544000Z"
         },
         {
          "empty_slots": 6,
          "extra": {
           "installDate": "1666044000000",
           "installed": true,
           "locked": false,
           "name": "The Blue, Bermondsey",
           "removalDate": "",
           "temporary": false,
           "terminalName": "300059",
           "uid": 851
          },
          "free_bikes": 16,
          "id": "be5051500e91cfc0d0ec786281f23750",
          "latitude": 51.492221,
          "longitude": -0.06251309999998966,
          "name": "300059 - The Blue, Bermondsey",
          "timestamp": "2023-01-30T02:45:22.748000Z"
         },
         {
          "empty_slots": 8,
          "extra": {
           "installDate": "1279794060000",
           "installed": true,
           "locked": false,
           "name": "South Audley Street, Mayfair",
           "removalDate": "",
           "temporary": false,
           "terminalName": "003493",
           "uid": 289
          },
          "free_bikes": 7,
          "id": "2896d5afa41dad9247c2aeac8499881f",
          "latitude": 51.50923022,
          "longitude": -0.151296092,
          "name": "003493 - South Audley Street, Mayfair",
          "timestamp": "2023-01-30T02:45:22.257000Z"
         },
         {
          "empty_slots": 7,
          "extra": {
           "installDate": "1319448720000",
           "installed": true,
           "locked": false,
           "name": "Exhibition Road Museums 1, South Kensington",
           "removalDate": "",
           "temporary": false,
           "terminalName": "022158",
           "uid": 432
          },
          "free_bikes": 6,
          "id": "346e7f44f79a74e8f17c994a049986a1",
          "latitude": 51.496468,
          "longitude": -0.17379696,
          "name": "022158 - Exhibition Road Museums 1, South Kensington",
          "timestamp": "2023-01-30T02:45:22.356000Z"
         },
         {
          "empty_slots": 6,
          "extra": {
           "installDate": "1326996720000",
           "installed": true,
           "locked": false,
           "name": "Exhibition Road Museums 2, South Kensington",
           "removalDate": "",
           "temporary": false,
           "terminalName": "200052",
           "uid": 482
          },
          "free_bikes": 8,
          "id": "02f4e9383757666a559b4d993f41233a",
          "latitude": 51.495947,
          "longitude": -0.17368958,
          "name": "200052 - Exhibition Road Museums 2, South Kensington",
          "timestamp": "2023-01-30T02:45:22.397000Z"
         },
         {
          "empty_slots": 10,
          "extra": {
           "installDate": "1296125400000",
           "installed": true,
           "locked": false,
           "name": "Stanhope Gate, Mayfair",
           "removalDate": "",
           "temporary": false,
           "terminalName": "003506",
           "uid": 380
          },
          "free_bikes": 11,
          "id": "4199b8128833a99369bc72178ed8721b",
          "latitude": 51.50686435,
          "longitude": -0.150666888,
          "name": "003506 - Stanhope Gate, Mayfair",
          "timestamp": "2023-01-30T02:45:22.317000Z"
         },
         {
          "empty_slots": 9,
          "extra": {
           "installDate": "1279879560000",
           "installed": true,
           "locked": false,
           "name": "Black Prince Road, Vauxhall",
           "removalDate": "",
           "temporary": false,
           "terminalName": "001205",
           "uid": 310
          },
          "free_bikes": 10,
          "id": "ac6f840f490d0c51caeb0aef79631b25",
          "latitude": 51.4908679,
          "longitude": -0.116911864,
          "name": "001205 - Black Prince Road, Vauxhall",
          "timestamp": "2023-01-30T02:45:22.271000Z"
         },
         {
          "empty_slots": 18,
          "extra": {
           "installDate": "1278506940000",
           "installed": true,
           "locked": false,
           "name": "Central House, Aldgate",
           "removalDate": "",
           "temporary": false,
           "terminalName": "003430",
           "uid": 33
          },
          "free_bikes": 0,
          "id": "811235a0fb0bd08db485df3fc85a5993",
          "latitude": 51.515231,
          "longitude": -0.07015,
          "name": "003430 - Central House, Aldgate",
          "timestamp": "2023-01-30T02:45:22.029000Z"
         },
         {
          "empty_slots": 0,
          "extra": {
           "installDate": "1384510140000",
           "installed": true,
           "locked": false,
           "name": "Montserrat Road , Putney",
           "removalDate": "",
           "temporary": false,
           "terminalName": "200205",
           "uid": 709
          },
          "free_bikes": 23,
          "id": "2efb9f0a73b49ad5f5b5645775bb0781",
          "latitude": 51.46321128,
          "longitude": -0.215550761,
          "name": "200205 - Montserrat Road , Putney",
          "timestamp": "2023-01-30T02:45:22.577000Z"
         },
         {
          "empty_slots": 23,
          "extra": {
           "installDate": "1279105320000",
           "installed": true,
           "locked": false,
           "name": "Westbourne Grove, Bayswater",
           "removalDate": "",
           "temporary": false,
           "terminalName": "001041",
           "uid": 105
          },
          "free_bikes": 3,
          "id": "8683e5d7b15ffea00f952619d6b2950e",
          "latitude": 51.51552971,
          "longitude": -0.190240716,
          "name": "001041 - Westbourne Grove, Bayswater",
          "timestamp": "2023-01-30T02:45:22.083000Z"
         },
         {
          "empty_slots": 22,
          "extra": {
           "installDate": "1389178020000",
           "installed": true,
           "locked": false,
           "name": "Westbourne Park Road, Portobello",
           "removalDate": "",
           "temporary": false,
           "terminalName": "300057",
           "uid": 758
          },
          "free_bikes": 1,
          "id": "fe141bf07b7c9ffa0307958b7e7eea92",
          "latitude": 51.51787005,
          "longitude": -0.201005397,
          "name": "300057 - Westbourne Park Road, Portobello",
          "timestamp": "2023-01-30T02:45:22.621000Z"
         },
         {
          "empty_slots": 7,
          "extra": {
           "installDate": "1382110800000",
           "installed": true,
           "locked": false,
           "name": "Great Suffolk Street, The Borough",
           "removalDate": "",
           "temporary": false,
           "terminalName": "200200",
           "uid": 645
          },
          "free_bikes": 14,
          "id": "eb1ce4c4c8806e9b99d126f4fd4804c8",
          "latitude": 51.50173215,
          "longitude": -0.100292412,
          "name": "200200 - Great Suffolk Street, The Borough",
          "timestamp": "2023-01-30T02:45:22.518000Z"
         },
         {
          "empty_slots": 23,
          "extra": {
           "installDate": "1279708380000",
           "installed": true,
           "locked": false,
           "name": "Kensington Gore, Knightsbridge",
           "removalDate": "",
           "temporary": false,
           "terminalName": "001193",
           "uid": 258
          },
          "free_bikes": 0,
          "id": "a822fc0482f21d037b47cc14427f1227",
          "latitude": 51.50143293,
          "longitude": -0.178656971,
          "name": "001193 - Kensington Gore, Knightsbridge",
          "timestamp": "2023-01-30T02:45:22.233000Z"
         },
         {
          "empty_slots": 18,
          "extra": {
           "installDate": "",
           "installed": true,
           "locked": false,
           "name": "New Fetter Lane, Holborn",
           "removalDate": "",
           "temporary": false,
           "terminalName": "200044",
           "uid": 546
          },
          "free_bikes": 3,
          "id": "78af1b8acc4c3b1b5a261abe50ad7b3d",
          "latitude": 51.517428,
          "longitude": -0.107987,
          "name": "200044 - New Fetter Lane, Holborn",
          "timestamp": "2023-01-30T02:45:22.438000Z"
         },
         {
          "empty_slots": 22,
          "extra": {
           "installDate": "1278423720000",
           "installed": true,
           "locked": false,
           "name": "Hatton Wall, Holborn",
           "removalDate": "",
           "temporary": false,
           "terminalName": "001008",
           "uid": 17
          },
          "free_bikes": 4,
          "id": "fbd79d7e9e1996ed0e9955ed4f31b33e",
          "latitude": 51.5216612,
          "longitude": -0.109006325,
          "name": "001008 - Hatton Wall, Holborn",
          "timestamp": "2023-01-30T02:45:22.015000Z"
         },
         {
          "empty_slots": 36,
          "extra": {
           "installDate": "1385394720000",
           "installed": true,
           "locked": false,
           "name": "Michael Road, Walham Green",
           "removalDate": "",
           "temporary": false,
           "terminalName": "300095",
           "uid": 731
          },
          "free_bikes": 1,
          "id": "8530545a0e7ad19548966ea336e5dd26",
          "latitude": 51.47727637,
          "longitude": -0.189210466,
          "name": "300095 - Michael Road, Walham Green",
          "timestamp": "2023-01-30T02:45:22.601000Z"
         },
         {
          "empty_slots": 7,
          "extra": {
           "installDate": "1278691320000",
           "installed": true,
           "locked": false,
           "name": "Boston Place, Marylebone",
           "removalDate": "",
           "temporary": false,
           "terminalName": "001035",
           "uid": 45
          },
          "free_bikes": 19,
          "id": "924df621509b9bdeb0a175ea8fdc3b53",
          "latitude": 51.522511,
          "longitude": -0.162298,
          "name": "001035 - Boston Place, Marylebone",
          "timestamp": "2023-01-30T02:45:22.038000Z"
         },
         {
          "empty_slots": 19,
          "extra": {
           "installDate": "1278945180000",
           "installed": true,
           "locked": false,
           "name": "Torrens Street, Angel",
           "removalDate": "",
           "temporary": false,
           "terminalName": "001060",
           "uid": 75
          },
          "free_bikes": 0,
          "id": "273c07f533bc9f3e5e83f81162a3c09b",
          "latitude": 51.53219984,
          "longitude": -0.105480698,
          "name": "001060 - Torrens Street, Angel",
          "timestamp": "2023-01-30T02:45:22.060000Z"
         },
         {
          "empty_slots": 9,
          "extra": {
           "installDate": "1279816260000",
           "installed": true,
           "locked": false,
           "name": "Rathbone Street, Fitzrovia",
           "removalDate": "",
           "temporary": false,
           "terminalName": "003497",
           "uid": 306
          },
          "free_bikes": 7,
          "id": "ba2cd8819fd868e29e2468cdba484f6f",
          "latitude": 51.51816295,
          "longitude": -0.135025698,
          "name": "003497 - Rathbone Street, Fitzrovia",
          "timestamp": "2023-01-30T02:45:22.268000Z"
         },
         {
          "empty_slots": 2,
          "extra": {
           "installDate": "",
           "installed": true,
           "locked": false,
           "name": "Heron Quays DLR, Canary Wharf",
           "removalDate": "",
           "temporary": false,
           "terminalName": "200138",
           "uid": 556
          },
          "free_bikes": 25,
          "id": "a24d558c262b3e6364a5a0d2fe61e46a",
          "latitude": 51.502661,
          "longitude": -0.021596,
          "name": "200138 - Heron Quays DLR, Canary Wharf",
          "timestamp": "2023-01-30T02:45:22.444000Z"
         },
         {
          "empty_slots": 10,
          "extra": {
           "installDate": "",
           "installed": true,
           "locked": false,
           "name": "Driffield Road, Old Ford",
           "removalDate": "",
           "temporary": false,
           "terminalName": "200030",
           "uid": 521
          },
          "free_bikes": 9,
          "id": "b54a44dbd67d7e1892b2dd375b77b398",
          "latitude": 51.534137,
          "longitude": -0.037366,
          "name": "200030 - Driffield Road, Old Ford",
          "timestamp": "2023-01-30T02:45:22.421000Z"
         },
         {
          "empty_slots": 25,
          "extra": {
           "installDate": "1279545900000",
           "installed": true,
           "locked": false,
           "name": "Bramham Gardens, Earl's Court",
           "removalDate": "",
           "temporary": false,
           "terminalName": "001183",
           "uid": 219
          },
          "free_bikes": 4,
          "id": "7bf350e3ab69a9d547ca5339583fe69d",
          "latitude": 51.49016361,
          "longitude": -0.19039362,
          "name": "001183 - Bramham Gardens, Earl's Court",
          "timestamp": "2023-01-30T02:45:22.196000Z"
         },
         {
          "empty_slots": 18,
          "extra": {
           "installDate": "1295428320000",
           "installed": true,
           "locked": false,
           "name": "Prince Consort Road, Knightsbridge",
           "removalDate": "",
           "temporary": false,
           "terminalName": "003499",
           "uid": 373
          },
          "free_bikes": 0,
          "id": "b40fbf7a5a24f0688c9ef74b580a85af",
          "latitude": 51.49980661,
          "longitude": -0.176415994,
          "name": "003499 - Prince Consort Road, Knightsbridge",
          "timestamp": "2023-01-30T02:45:22.312000Z"
         },
         {
          "empty_slots": 3,
          "extra": {
           "installDate": "1278242340000",
           "installed": true,
           "locked": false,
           "name": "New Globe Walk, Bankside",
           "removalDate": "",
           "temporary": false,
           "terminalName": "001015",
           "uid": 9
          },
          "free_bikes": 16,
          "id": "fbbea9fb7cd78453c0fe8c5207af3439",
          "latitude": 51.5073853,
          "longitude": -0.096440751,
          "name": "001015 - New Globe Walk, Bankside",
          "timestamp": "2023-01-30T02:45:22.009000Z"
         },
         {
          "empty_slots": 24,
          "extra": {
           "installDate": "1384453020000",
           "installed": true,
           "locked": false,
           "name": "Upper Richmond Road, Putney",
           "removalDate": "1539845700000",
           "temporary": true,
           "terminalName": "300042",
           "uid": 705
          },
          "free_bikes": 1,
          "id": "64c0f3ca3fb8cbb78e72ae97d0727471",
          "latitude": 51.45971528,
          "longitude": -0.212145939,
          "name": "300042 - Upper Richmond Road, Putney",
          "timestamp": "2023-01-30T02:45:22.574000Z"
         },
         {
          "empty_slots": 20,
          "extra": {
           "installDate": "1279622820000",
           "installed": true,
           "locked": false,
           "name": "Queen's Gate (Central), South Kensington",
           "removalDate": "",
           "temporary": false,
           "terminalName": "001089",
           "uid": 231
          },
          "free_bikes": 11,
          "id": "5a405da1d7df902c9e221babb4770b17",
          "latitude": 51.49396755,
          "longitude": -0.17873226,
          "name": "001089 - Queen's Gate (Central), South Kensington",
          "timestamp": "2023-01-30T02:45:22.206000Z"
         },
         {
          "empty_slots": 6,
          "extra": {
           "installDate": "1330071720000",
           "installed": true,
           "locked": false,
           "name": "Import Dock, Canary Wharf",
           "removalDate": "",
           "temporary": false,
           "terminalName": "200066",
           "uid": 551
          },
          "free_bikes": 33,
          "id": "b63682b45642a93433dfcbd49ea31611",
          "latitude": 51.505772,
          "longitude": -0.016460175,
          "name": "200066 - Import Dock, Canary Wharf",
          "timestamp": "2023-01-30T02:45:22.441000Z"
         },
         {
          "empty_slots": 15,
          "extra": {
           "installDate": "1279187040000",
           "installed": true,
           "locked": false,
           "name": "The Guildhall, Guildhall",
           "removalDate": "",
           "temporary": false,
           "terminalName": "001044",
           "uid": 120
          },
          "free_bikes": 2,
          "id": "c98f62c5d42352a3d934b1132e9c6950",
          "latitude": 51.51573534,
          "longitude": -0.093080779,
          "name": "001044 - The Guildhall, Guildhall",
          "timestamp": "2023-01-30T02:45:22.106000Z"
         },
         {
          "empty_slots": 8,
          "extra": {
           "installDate": "1278749160000",
           "installed": true,
           "locked": false,
           "name": "Warwick Avenue Station, Maida Vale",
           "removalDate": "",
           "temporary": false,
           "terminalName": "001027",
           "uid": 47
          },
          "free_bikes": 11,
          "id": "ee5b657420a4bbb92081e8a2b7a401fc",
          "latitude": 51.52334476,
          "longitude": -0.183846408,
          "name": "001027 - Warwick Avenue Station, Maida Vale",
          "timestamp": "2023-01-30T02:45:22.040000Z"
         },
         {
          "empty_slots": 26,
          "extra": {
           "installDate": "",
           "installed": true,
           "locked": false,
           "name": "Coomer Place, West Kensington",
           "removalDate": "",
           "temporary": false,
           "terminalName": "300006",
           "uid": 852
          },
          "free_bikes": 1,
          "id": "d23bdc60c7b171b0f09176786b7f50f6",
          "latitude": 51.4835707,
          "longitude": -0.2020387000000028,
          "name": "300006 - Coomer Place, West Kensington",
          "timestamp": "2023-01-30T02:45:22.748000Z"
         },
         {
          "empty_slots": 1,
          "extra": {
           "installDate": "1509018360000",
           "installed": true,
           "locked": false,
           "name": "Arundel Street, Temple",
           "removalDate": "",
           "temporary": false,
           "terminalName": "003455",
           "uid": 79
          },
          "free_bikes": 17,
          "id": "1cbf5f3da660fc4a56e15cc2d4cef723",
          "latitude": 51.511726,
          "longitude": -0.11385596,
          "name": "003455 - Arundel Street, Temple",
          "timestamp": "2023-01-30T02:45:22.063000Z"
         },
         {
          "empty_slots": 33,
          "extra": {
           "installDate": "1278766980000",
           "installed": true,
           "locked": false,
           "name": "Finsbury Circus, Liverpool Street",
           "removalDate": "",
           "temporary": false,
           "terminalName": "000984",
           "uid": 55
          },
          "free_bikes": 0,
          "id": "ef86a674024a6dd3494b982c2c80fc0a",
          "latitude": 51.51707521,
          "longitude": -0.086685542,
          "name": "000984 - Finsbury Circus, Liverpool Street",
          "timestamp": "2023-01-30T02:45:22.046000Z"
         },
         {
          "empty_slots": 8,
          "extra": {
           "installDate": "1297347960000",
           "installed": true,
           "locked": false,
           "name": "Upper Grosvenor Street, Mayfair",
           "removalDate": "",
           "temporary": false,
           "terminalName": "010621",
           "uid": 389
          },
          "free_bikes": 10,
          "id": "d82e649d2c8945a4fe10818a3b3a6517",
          "latitude": 51.51013066,
          "longitude": -0.155757901,
          "name": "010621 - Upper Grosvenor Street, Mayfair",
          "timestamp": "2023-01-30T02:45:22.323000Z"
         },
         {
          "empty_slots": 15,
          "extra": {
           "installDate": "1279215720000",
           "installed": true,
           "locked": false,
           "name": "Chepstow Villas, Notting Hill",
           "removalDate": "",
           "temporary": false,
           "terminalName": "001120",
           "uid": 151
          },
          "free_bikes": 11,
          "id": "a5cc27e51ea4cef100f29e661c9b66a4",
          "latitude": 51.51213691,
          "longitude": -0.201554966,
          "name": "001120 - Chepstow Villas, Notting Hill",
          "timestamp": "2023-01-30T02:45:22.129000Z"
         },
         {
          "empty_slots": 36,
          "extra": {
           "installDate": "1279617780000",
           "installed": true,
           "locked": false,
           "name": "Whitehall Place, Strand",
           "removalDate": "",
           "temporary": false,
           "terminalName": "001151",
           "uid": 229
          },
          "free_bikes": 10,
          "id": "ba1926d10a426d5b3048a0fcf4ce777a",
          "latitude": 51.50654321,
          "longitude": -0.123179697,
          "name": "001151 - Whitehall Place, Strand",
          "timestamp": "2023-01-30T02:45:22.204000Z"
         },
         {
          "empty_slots": 2,
          "extra": {
           "installDate": "1383221460000",
           "installed": true,
           "locked": false,
           "name": "Chicheley Street, South Bank",
           "removalDate": "",
           "temporary": false,
           "terminalName": "200206",
           "uid": 672
          },
          "free_bikes": 22,
          "id": "b6842b558b28d9325482727c17b98ec7",
          "latitude": 51.502698,
          "longitude": -0.1167474,
          "name": "200206 - Chicheley Street, South Bank",
          "timestamp": "2023-01-30T02:45:22.548000Z"
         },
         {
          "empty_slots": 3,
          "extra": {
           "installDate": "1600856400000",
           "installed": true,
           "locked": false,
           "name": "Temple Gardens, Temple",
           "removalDate": "",
           "temporary": false,
           "terminalName": "300250",
           "uid": 842
          },
          "free_bikes": 21,
          "id": "a79f42c5d4ac72535a4e3b81fabe9197",
          "latitude": 51.510981,
          "longitude": -0.10832249,
          "name": "300250 - Temple Gardens, Temple",
          "timestamp": "2023-01-30T02:45:22.716000Z"
         },
         {
          "empty_slots": 4,
          "extra": {
           "installDate": "1279292700000",
           "installed": true,
           "locked": false,
           "name": "Waterloo Road, South Bank",
           "removalDate": "",
           "temporary": false,
           "terminalName": "001176",
           "uid": 173
          },
          "free_bikes": 11,
          "id": "1946a8144eb01a06fbfe3bc398accbba",
          "latitude": 51.50486,
          "longitude": -0.113001,
          "name": "001176 - Waterloo Road, South Bank",
          "timestamp": "2023-01-30T02:45:22.150000Z"
         },
         {
          "empty_slots": 7,
          "extra": {
           "installDate": "1295265420000",
           "installed": true,
           "locked": false,
           "name": "Waterloo Bridge, South Bank",
           "removalDate": "",
           "temporary": false,
           "terminalName": "002648",
           "uid": 377
          },
          "free_bikes": 8,
          "id": "7539c77995a0c26c3871b17bd20801af",
          "latitude": 51.50535447,
          "longitude": -0.113656543,
          "name": "002648 - Waterloo Bridge, South Bank",
          "timestamp": "2023-01-30T02:45:22.315000Z"
         },
         {
          "empty_slots": 32,
          "extra": {
           "installDate": "",
           "installed": true,
           "locked": false,
           "name": "Waterloo Station 3, Waterloo",
           "removalDate": "",
           "temporary": false,
           "terminalName": "001072",
           "uid": 154
          },
          "free_bikes": 3,
          "id": "8db0529d213deb734a8c2aed7e4683bd",
          "latitude": 51.50379168,
          "longitude": -0.11282408,
          "name": "001072 - Waterloo Station 3, Waterloo",
          "timestamp": "2023-01-30T02:45:22.132000Z"
         },
         {
          "empty_slots": 9,
          "extra": {
           "installDate": "1291902600000",
           "installed": true,
           "locked": false,
           "name": "Waterloo Station 2, Waterloo",
           "removalDate": "",
           "temporary": false,
           "terminalName": "002692",
           "uid": 361
          },
          "free_bikes": 46,
          "id": "912b70934b914e493a25e194e4a97908",
          "latitude": 51.50391973,
          "longitude": -0.11342629,
          "name": "002692 - Waterloo Station 2, Waterloo",
          "timestamp": "2023-01-30T02:45:22.306000Z"
         },
         {
          "empty_slots": 0,
          "extra": {
           "installDate": "1291725720000",
           "installed": true,
           "locked": false,
           "name": "Waterloo Station 1, Waterloo",
           "removalDate": "",
           "temporary": false,
           "terminalName": "002696",
           "uid": 374
          },
          "free_bikes": 36,
          "id": "e4092354360fe82a6c5934e2a8a2dd88",
          "latitude": 51.50402794,
          "longitude": -0.11386436,
          "name": "002696 - Waterloo Station 1, Waterloo",
          "timestamp": "2023-01-30T02:45:22.313000Z"
         },
         {
          "empty_slots": 3,
          "extra": {
           "installDate": "1279392479432",
           "installed": true,
           "locked": false,
           "name": "Milroy Walk, South Bank",
           "removalDate": "",
           "temporary": false,
           "terminalName": "000959",
           "uid": 195
          },
          "free_bikes": 27,
          "id": "87eae870d6a5bdff5873ddcfa3bcecc6",
          "latitude": 51.50724437,
          "longitude": -0.106237501,
          "name": "000959 - Milroy Walk, South Bank",
          "timestamp": "2023-01-30T02:45:22.178000Z"
         },
         {
          "empty_slots": 6,
          "extra": {
           "installDate": "1279392479520",
           "installed": true,
           "locked": false,
           "name": "Stamford Street, South Bank",
           "removalDate": "",
           "temporary": false,
           "terminalName": "000962",
           "uid": 197
          },
          "free_bikes": 21,
          "id": "e246cab8ca7171880ed17355c942ae39",
          "latitude": 51.50556905,
          "longitude": -0.111606696,
          "name": "000962 - Stamford Street, South Bank",
          "timestamp": "2023-01-30T02:45:22.179000Z"
         },
         {
          "empty_slots": 1,
          "extra": {
           "installDate": "1563958740000",
           "installed": true,
           "locked": false,
           "name": "Westminster Pier, Westminster",
           "removalDate": "",
           "temporary": false,
           "terminalName": "300249",
           "uid": 818
          },
          "free_bikes": 26,
          "id": "3d945db428fc6c2372fd51f232de38cf",
          "latitude": 51.501513,
          "longitude": -0.12382322,
          "name": "300249 - Westminster Pier, Westminster",
          "timestamp": "2023-01-30T02:45:22.670000Z"
         },
         {
          "empty_slots": 1,
          "extra": {
           "installDate": "1279721400000",
           "installed": true,
           "locked": false,
           "name": "Belvedere Road 1, South Bank",
           "removalDate": "",
           "temporary": false,
           "terminalName": "001186",
           "uid": 273
          },
          "free_bikes": 37,
          "id": "c2ccf91a06dab1e0506dc5ffc3936937",
          "latitude": 51.50613324,
          "longitude": -0.114686385,
          "name": "001186 - Belvedere Road 1, South Bank",
          "timestamp": "2023-01-30T02:45:22.246000Z"
         },
         {
          "empty_slots": 4,
          "extra": {
           "installDate": "1280147580000",
           "installed": true,
           "locked": false,
           "name": "Concert Hall Approach 1, South Bank",
           "removalDate": "",
           "temporary": false,
           "terminalName": "002635",
           "uid": 334
          },
          "free_bikes": 6,
          "id": "56b545e1c1a9b0ab31721d1965e86eff",
          "latitude": 51.505044,
          "longitude": -0.115851,
          "name": "002635 - Concert Hall Approach 1, South Bank",
          "timestamp": "2023-01-30T02:45:22.287000Z"
         },
         {
          "empty_slots": 0,
          "extra": {
           "installDate": "1280152800000",
           "installed": true,
           "locked": false,
           "name": "Concert Hall Approach 2, South Bank",
           "removalDate": "",
           "temporary": false,
           "terminalName": "001212",
           "uid": 336
          },
          "free_bikes": 18,
          "id": "2a6ee20d3037c5a4a03ff7927700ac22",
          "latitude": 51.504942,
          "longitude": -0.115533,
          "name": "001212 - Concert Hall Approach 2, South Bank",
          "timestamp": "2023-01-30T02:45:22.289000Z"
         },
         {
          "empty_slots": 1,
          "extra": {
           "installDate": "1283762460000",
           "installed": true,
           "locked": false,
           "name": "Lower Marsh, Waterloo",
           "removalDate": "",
           "temporary": false,
           "terminalName": "001219",
           "uid": 347
          },
          "free_bikes": 16,
          "id": "2087c150615168690b8f7963b831bb6d",
          "latitude": 51.50013942,
          "longitude": -0.113936001,
          "name": "001219 - Lower Marsh, Waterloo",
          "timestamp": "2023-01-30T02:45:22.295000Z"
         },
         {
          "empty_slots": 0,
          "extra": {
           "installDate": "1476360120000",
           "installed": true,
           "locked": false,
           "name": "Belvedere Road 2, South Bank",
           "removalDate": "",
           "temporary": false,
           "terminalName": "300246",
           "uid": 819
          },
          "free_bikes": 38,
          "id": "45585621706d1455904ba45097902e13",
          "latitude": 51.50621,
          "longitude": -0.114842,
          "name": "300246 - Belvedere Road 2, South Bank",
          "timestamp": "2023-01-30T02:45:22.671000Z"
         },
         {
          "empty_slots": 33,
          "extra": {
           "installDate": "1278500160000",
           "installed": true,
           "locked": false,
           "name": "Bouverie Street, Temple",
           "removalDate": "",
           "temporary": false,
           "terminalName": "001021",
           "uid": 27
          },
          "free_bikes": 0,
          "id": "49dabe371667a29f3e5bc2da96bbaed3",
          "latitude": 51.51382102,
          "longitude": -0.107927706,
          "name": "001021 - Bouverie Street, Temple",
          "timestamp": "2023-01-30T02:45:22.024000Z"
         },
         {
          "empty_slots": 24,
          "extra": {
           "installDate": "1279295940000",
           "installed": true,
           "locked": false,
           "name": "Strand, Strand",
           "removalDate": "",
           "temporary": false,
           "terminalName": "001100",
           "uid": 174
          },
          "free_bikes": 11,
          "id": "333a60e91dc5a90dbbfdb664a578ed79",
          "latitude": 51.512582,
          "longitude": -0.1150573,
          "name": "001100 - Strand, Strand",
          "timestamp": "2023-01-30T02:45:22.151000Z"
         },
         {
          "empty_slots": 0,
          "extra": {
           "installDate": "1279628280000",
           "installed": true,
           "locked": false,
           "name": "Colombo Street, Southwark",
           "removalDate": "",
           "temporary": false,
           "terminalName": "003472",
           "uid": 240
          },
          "free_bikes": 0,
          "id": "f73eb6aa43c14f4d9e3922bc13841d98",
          "latitude": 51.50545935,
          "longitude": -0.10569204,
          "name": "003472 - Colombo Street, Southwark",
          "timestamp": "2023-01-30T02:45:22.213000Z"
         },
         {
          "empty_slots": 3,
          "extra": {
           "installDate": "1309258380000",
           "installed": true,
           "locked": false,
           "name": "Southwark Station 1, Southwark",
           "removalDate": "",
           "temporary": false,
           "terminalName": "022162",
           "uid": 420
          },
          "free_bikes": 34,
          "id": "1b208c072e83ce7066f54404041f85a5",
          "latitude": 51.504043,
          "longitude": -0.105312,
          "name": "022162 - Southwark Station 1, Southwark",
          "timestamp": "2023-01-30T02:45:22.346000Z"
         },
         {
          "empty_slots": 8,
          "extra": {
           "installDate": "1309258440000",
           "installed": true,
           "locked": false,
           "name": "Southwark Station 2, Southwark",
           "removalDate": "",
           "temporary": false,
           "terminalName": "022163",
           "uid": 421
          },
          "free_bikes": 37,
          "id": "bd364689bad2536e3af104b403da4f9b",
          "latitude": 51.504044,
          "longitude": -0.104778,
          "name": "022163 - Southwark Station 2, Southwark",
          "timestamp": "2023-01-30T02:45:22.347000Z"
         },
         {
          "empty_slots": 10,
          "extra": {
           "installDate": "1392039000000",
           "installed": true,
           "locked": false,
           "name": "Storey's Gate, Westminster",
           "removalDate": "",
           "temporary": false,
           "terminalName": "200202",
           "uid": 762
          },
          "free_bikes": 11,
          "id": "17d8ba160bcfddec9db7ee7396528784",
          "latitude": 51.50070305,
          "longitude": -0.129698963,
          "name": "200202 - Storey's Gate, Westminster",
          "timestamp": "2023-01-30T02:45:22.623000Z"
         },
         {
          "empty_slots": 19,
          "extra": {
           "installDate": "1396262520000",
           "installed": true,
           "locked": false,
           "name": "Tallis Street, Temple",
           "removalDate": "",
           "temporary": false,
           "terminalName": "300096",
           "uid": 773
          },
          "free_bikes": 5,
          "id": "450ffd4b07d1f9b121adac68d54b836e",
          "latitude": 51.511891,
          "longitude": -0.107349,
          "name": "300096 - Tallis Street, Temple",
          "timestamp": "2023-01-30T02:45:22.633000Z"
         },
         {
          "empty_slots": 2,
          "extra": {
           "installDate": "1462357680000",
           "installed": true,
           "locked": false,
           "name": "Lambeth Palace Road, Waterloo",
           "removalDate": "",
           "temporary": false,
           "terminalName": "300231",
           "uid": 815
          },
          "free_bikes": 33,
          "id": "b88341cfa06cced2c4342ff5a26ff99d",
          "latitude": 51.5000891978,
          "longitude": -0.116628700672,
          "name": "300231 - Lambeth Palace Road, Waterloo",
          "timestamp": "2023-01-30T02:45:22.663000Z"
         },
         {
          "empty_slots": 8,
          "extra": {
           "installDate": "1279875060000",
           "installed": true,
           "locked": false,
           "name": "Embankment (Savoy), Strand",
           "removalDate": "",
           "temporary": false,
           "terminalName": "001192",
           "uid": 309
          },
          "free_bikes": 33,
          "id": "13fdc0f79bab3e188def7e1fe2489cd8",
          "latitude": 51.50963123,
          "longitude": -0.119047563,
          "name": "001192 - Embankment (Savoy), Strand",
          "timestamp": "2023-01-30T02:45:22.270000Z"
         },
         {
          "empty_slots": 3,
          "extra": {
           "installDate": "",
           "installed": true,
           "locked": false,
           "name": "Somerset House, Strand",
           "removalDate": "",
           "temporary": false,
           "terminalName": "200068",
           "uid": 564
          },
          "free_bikes": 38,
          "id": "401befc18c421e5517b680377cc2dda4",
          "latitude": 51.509943,
          "longitude": -0.117619,
          "name": "200068 - Somerset House, Strand",
          "timestamp": "2023-01-30T02:45:22.449000Z"
         },
         {
          "empty_slots": 18,
          "extra": {
           "installDate": "",
           "installed": true,
           "locked": false,
           "name": "Northumberland Avenue, Strand",
           "removalDate": "",
           "temporary": false,
           "terminalName": "001097",
           "uid": 354
          },
          "free_bikes": 19,
          "id": "e2dd673fde5f5bfda209f389b806a4e5",
          "latitude": 51.506767,
          "longitude": -0.123702,
          "name": "001097 - Northumberland Avenue, Strand",
          "timestamp": "2023-01-30T02:45:22.300000Z"
         },
         {
          "empty_slots": 5,
          "extra": {
           "installDate": "1280222160000",
           "installed": true,
           "locked": false,
           "name": "Craven Street, Strand",
           "removalDate": "",
           "temporary": false,
           "terminalName": "001160",
           "uid": 341
          },
          "free_bikes": 18,
          "id": "cde4356f52b190dd5030e939e2ab8e5d",
          "latitude": 51.50810309,
          "longitude": -0.12602103,
          "name": "001160 - Craven Street, Strand",
          "timestamp": "2023-01-30T02:45:22.293000Z"
         },
         {
          "empty_slots": 2,
          "extra": {
           "installDate": "1279558140000",
           "installed": true,
           "locked": false,
           "name": "Grosvenor Crescent, Belgravia",
           "removalDate": "",
           "temporary": false,
           "terminalName": "001169",
           "uid": 207
          },
          "free_bikes": 16,
          "id": "f31169af58eb137ec18976c0003e9d73",
          "latitude": 51.50135267,
          "longitude": -0.153194766,
          "name": "001169 - Grosvenor Crescent, Belgravia",
          "timestamp": "2023-01-30T02:45:22.186000Z"
         },
         {
          "empty_slots": 9,
          "extra": {
           "installDate": "1279288140000",
           "installed": true,
           "locked": false,
           "name": "Seville Street, Knightsbridge",
           "removalDate": "",
           "temporary": false,
           "terminalName": "001177",
           "uid": 166
          },
          "free_bikes": 18,
          "id": "a2b2b10b3d151009a34f768ebfc0bbf4",
          "latitude": 51.50185512,
          "longitude": -0.159237081,
          "name": "001177 - Seville Street, Knightsbridge",
          "timestamp": "2023-01-30T02:45:22.145000Z"
         },
         {
          "empty_slots": 3,
          "extra": {
           "installDate": "1381834020000",
           "installed": true,
           "locked": false,
           "name": "Falcon Road, Clapham Junction",
           "removalDate": "",
           "temporary": false,
           "terminalName": "300014",
           "uid": 638
          },
          "free_bikes": 14,
          "id": "32d43fd5127553dd5359b7d176a25496",
          "latitude": 51.46663393,
          "longitude": -0.169821175,
          "name": "300014 - Falcon Road, Clapham Junction",
          "timestamp": "2023-01-30T02:45:22.510000Z"
         },
         {
          "empty_slots": 10,
          "extra": {
           "installDate": "",
           "installed": true,
           "locked": false,
           "name": "Crimscott Street, Bermondsey",
           "removalDate": "",
           "temporary": false,
           "terminalName": "300061",
           "uid": 849
          },
          "free_bikes": 9,
          "id": "168e816f71ad97ebac3b5d5e8f30e262",
          "latitude": 51.495598,
          "longitude": -0.078893,
          "name": "300061 - Crimscott Street, Bermondsey",
          "timestamp": "2023-01-30T02:45:22.746000Z"
         },
         {
          "empty_slots": 0,
          "extra": {
           "installDate": "1279546320000",
           "installed": true,
           "locked": false,
           "name": "Chelsea Green, Chelsea",
           "removalDate": "",
           "temporary": false,
           "terminalName": "001179",
           "uid": 220
          },
          "free_bikes": 15,
          "id": "be8f8d329aa219de1a9d53bf3a24833c",
          "latitude": 51.49066456,
          "longitude": -0.166485083,
          "name": "001179 - Chelsea Green, Chelsea",
          "timestamp": "2023-01-30T02:45:22.197000Z"
         },
         {
          "empty_slots": 17,
          "extra": {
           "installDate": "1279702560000",
           "installed": true,
           "locked": false,
           "name": "Clifton Road, Maida Vale",
           "removalDate": "",
           "temporary": false,
           "terminalName": "001147",
           "uid": 255
          },
          "free_bikes": 5,
          "id": "113ae8a7469fe61e3e0a225bf7f68eb1",
          "latitude": 51.52557531,
          "longitude": -0.179592915,
          "name": "001147 - Clifton Road, Maida Vale",
          "timestamp": "2023-01-30T02:45:22.225000Z"
         },
         {
          "empty_slots": 14,
          "extra": {
           "installDate": "1296731880000",
           "installed": true,
           "locked": false,
           "name": "Marloes Road, Kensington",
           "removalDate": "",
           "temporary": false,
           "terminalName": "003505",
           "uid": 384
          },
          "free_bikes": 1,
          "id": "5850e1bdb07ee39b888a23acab0d027f",
          "latitude": 51.496481,
          "longitude": -0.192404,
          "name": "003505 - Marloes Road, Kensington",
          "timestamp": "2023-01-30T02:45:22.319000Z"
         },
         {
          "empty_slots": 15,
          "extra": {
           "installDate": "1330937820000",
           "installed": true,
           "locked": false,
           "name": "Hoxton Street, Hoxton",
           "removalDate": "",
           "temporary": false,
           "terminalName": "200071",
           "uid": 588
          },
          "free_bikes": 12,
          "id": "fefbd80de948379a493be17f28907a2c",
          "latitude": 51.52959,
          "longitude": -0.0801,
          "name": "200071 - Hoxton Street, Hoxton",
          "timestamp": "2023-01-30T02:45:22.463000Z"
         }
        ]
       }
      },
      "text/plain": [
       "<IPython.core.display.JSON object>"
      ]
     },
     "execution_count": 199,
     "metadata": {
      "application/json": {
       "expanded": false,
       "root": "root"
      }
     },
     "output_type": "execute_result"
    }
   ],
   "source": [
    "url = 'http://api.citybik.es/v2/networks/' + network_id[0]\n",
    "response_city = requests.get(url, headers={'accept': 'application/JSON'})\n",
    "res_city = response_city.json()\n",
    "\n",
    "JSON(res_city)"
   ]
  },
  {
   "cell_type": "markdown",
   "metadata": {},
   "source": [
    "Put your parsed results into a DataFrame."
   ]
  },
  {
   "cell_type": "code",
   "execution_count": 200,
   "metadata": {},
   "outputs": [
    {
     "name": "stdout",
     "output_type": "stream",
     "text": [
      "(796, 9)\n",
      "<class 'pandas.core.frame.DataFrame'>\n",
      "RangeIndex: 796 entries, 0 to 795\n",
      "Data columns (total 9 columns):\n",
      " #   Column             Non-Null Count  Dtype  \n",
      "---  ------             --------------  -----  \n",
      " 0   network_city       796 non-null    object \n",
      " 1   network_name       796 non-null    object \n",
      " 2   station_name       796 non-null    object \n",
      " 3   station_id         796 non-null    object \n",
      " 4   station_latitude   796 non-null    float64\n",
      " 5   station_longitude  796 non-null    float64\n",
      " 6   empty_slots        796 non-null    int64  \n",
      " 7   free_bikes         796 non-null    int64  \n",
      " 8   total_bikes        796 non-null    int64  \n",
      "dtypes: float64(2), int64(3), object(4)\n",
      "memory usage: 56.1+ KB\n",
      "None\n"
     ]
    }
   ],
   "source": [
    "#Get all the bike stations belonging to the city of London and collate them into a csv file\n",
    "\n",
    "df_normalize = pd.json_normalize(\n",
    "    res_city, \n",
    "    record_path=['network', 'stations'], \n",
    "    meta=[['network', 'id'],\n",
    "          ['network', 'location', 'city'],\n",
    "         ]\n",
    ")\n",
    "\n",
    "df_citybikes = df_normalize [['network.location.city', 'network.id', 'name', 'id', \n",
    "                              'latitude', 'longitude', 'empty_slots', 'free_bikes']].copy()\n",
    "\n",
    "df_citybikes.rename(columns = {'network.location.city':'network_city', 'network.id':'network_name', \n",
    "                               'name':'station_name', 'id':'station_id', \n",
    "                               'latitude':'station_latitude', 'longitude':'station_longitude'}, \n",
    "                    inplace = True)\n",
    "\n",
    "df_citybikes['total_bikes'] = df_citybikes['empty_slots'] + df_citybikes['free_bikes']\n",
    "\n",
    "print(df_citybikes.shape)\n",
    "print(df_citybikes.info())\n",
    "\n",
    "#Total number of bike stations discovered and collated: 796\n",
    "#CSV file name: ’london_city_bikes_stns.csv’"
   ]
  },
  {
   "cell_type": "code",
   "execution_count": 201,
   "metadata": {},
   "outputs": [],
   "source": [
    "df_citybikes.to_csv(\"london_city_bikes_stns.csv\", index=False)"
   ]
  }
 ],
 "metadata": {
  "kernelspec": {
   "display_name": "Python 3 (ipykernel)",
   "language": "python",
   "name": "python3"
  },
  "language_info": {
   "codemirror_mode": {
    "name": "ipython",
    "version": 3
   },
   "file_extension": ".py",
   "mimetype": "text/x-python",
   "name": "python",
   "nbconvert_exporter": "python",
   "pygments_lexer": "ipython3",
   "version": "3.8.15"
  }
 },
 "nbformat": 4,
 "nbformat_minor": 4
}
