{
 "cells": [
  {
   "cell_type": "markdown",
   "metadata": {},
   "source": [
    "Build a regression model."
   ]
  },
  {
   "cell_type": "code",
   "execution_count": 59,
   "metadata": {},
   "outputs": [],
   "source": [
    "from scipy import stats\n",
    "import pandas as pd\n",
    "import numpy as np\n",
    "import warnings\n",
    "warnings.filterwarnings('ignore')"
   ]
  },
  {
   "cell_type": "code",
   "execution_count": 45,
   "metadata": {},
   "outputs": [
    {
     "name": "stdout",
     "output_type": "stream",
     "text": [
      "<class 'pandas.core.frame.DataFrame'>\n",
      "RangeIndex: 100 entries, 0 to 99\n",
      "Data columns (total 5 columns):\n",
      " #   Column                      Non-Null Count  Dtype  \n",
      "---  ------                      --------------  -----  \n",
      " 0   station_name                100 non-null    object \n",
      " 1   poi_distance_from_bike_stn  100 non-null    float64\n",
      " 2   free_bikes                  100 non-null    float64\n",
      " 3   review_count                100 non-null    float64\n",
      " 4   rating                      100 non-null    float64\n",
      "dtypes: float64(4), object(1)\n",
      "memory usage: 4.0+ KB\n"
     ]
    }
   ],
   "source": [
    "df_agg = pd.read_csv(\"aggregated_poi_info_for_100_BikeStns.csv\")\n",
    "\n",
    "df_agg.info()"
   ]
  },
  {
   "cell_type": "markdown",
   "metadata": {},
   "source": [
    "Provide model output and an interpretation of the results. "
   ]
  },
  {
   "cell_type": "code",
   "execution_count": 46,
   "metadata": {},
   "outputs": [
    {
     "data": {
      "text/plain": [
       "1.506138005424873e-06"
      ]
     },
     "execution_count": 46,
     "metadata": {},
     "output_type": "execute_result"
    }
   ],
   "source": [
    "stat, p = stats.shapiro(df_agg['poi_distance_from_bike_stn'])\n",
    "p\n",
    "#distance from bike stations to food outlets doesn't follow normal distribution as p value < 0.05"
   ]
  },
  {
   "cell_type": "code",
   "execution_count": 47,
   "metadata": {},
   "outputs": [
    {
     "data": {
      "text/plain": [
       "1.815253312997811e-06"
      ]
     },
     "execution_count": 47,
     "metadata": {},
     "output_type": "execute_result"
    }
   ],
   "source": [
    "stat, p = stats.shapiro(df_agg['free_bikes'])\n",
    "p\n",
    "#Bike capacity distribution doesn't follow normal distribution as p value < 0.05"
   ]
  },
  {
   "cell_type": "code",
   "execution_count": 48,
   "metadata": {},
   "outputs": [
    {
     "data": {
      "text/plain": [
       "3.4687441807790265e-09"
      ]
     },
     "execution_count": 48,
     "metadata": {},
     "output_type": "execute_result"
    }
   ],
   "source": [
    "stat, p = stats.shapiro(df_agg['review_count'])\n",
    "p\n",
    "#Number of reviews for food outlets doesn't follow normal distribution as p value < 0.05"
   ]
  },
  {
   "cell_type": "code",
   "execution_count": 61,
   "metadata": {},
   "outputs": [
    {
     "data": {
      "text/plain": [
       "6.896773265907541e-05"
      ]
     },
     "execution_count": 61,
     "metadata": {},
     "output_type": "execute_result"
    }
   ],
   "source": [
    "stat, p = stats.shapiro(df_agg['rating'])\n",
    "print(f\"\n",
    "#Number of reviews for food outlets doesn't follow normal distribution as p value < 0.05"
   ]
  },
  {
   "cell_type": "code",
   "execution_count": 60,
   "metadata": {},
   "outputs": [
    {
     "data": {
      "text/html": [
       "<div>\n",
       "<style scoped>\n",
       "    .dataframe tbody tr th:only-of-type {\n",
       "        vertical-align: middle;\n",
       "    }\n",
       "\n",
       "    .dataframe tbody tr th {\n",
       "        vertical-align: top;\n",
       "    }\n",
       "\n",
       "    .dataframe thead th {\n",
       "        text-align: right;\n",
       "    }\n",
       "</style>\n",
       "<table border=\"1\" class=\"dataframe\">\n",
       "  <thead>\n",
       "    <tr style=\"text-align: right;\">\n",
       "      <th></th>\n",
       "      <th>poi_distance_from_bike_stn</th>\n",
       "      <th>free_bikes</th>\n",
       "      <th>review_count</th>\n",
       "      <th>rating</th>\n",
       "    </tr>\n",
       "  </thead>\n",
       "  <tbody>\n",
       "    <tr>\n",
       "      <th>poi_distance_from_bike_stn</th>\n",
       "      <td>1.000000</td>\n",
       "      <td>0.004724</td>\n",
       "      <td>-0.273079</td>\n",
       "      <td>0.162732</td>\n",
       "    </tr>\n",
       "    <tr>\n",
       "      <th>free_bikes</th>\n",
       "      <td>0.004724</td>\n",
       "      <td>1.000000</td>\n",
       "      <td>0.198236</td>\n",
       "      <td>0.101862</td>\n",
       "    </tr>\n",
       "    <tr>\n",
       "      <th>review_count</th>\n",
       "      <td>-0.273079</td>\n",
       "      <td>0.198236</td>\n",
       "      <td>1.000000</td>\n",
       "      <td>-0.013453</td>\n",
       "    </tr>\n",
       "    <tr>\n",
       "      <th>rating</th>\n",
       "      <td>0.162732</td>\n",
       "      <td>0.101862</td>\n",
       "      <td>-0.013453</td>\n",
       "      <td>1.000000</td>\n",
       "    </tr>\n",
       "  </tbody>\n",
       "</table>\n",
       "</div>"
      ],
      "text/plain": [
       "                            poi_distance_from_bike_stn  free_bikes  \\\n",
       "poi_distance_from_bike_stn                    1.000000    0.004724   \n",
       "free_bikes                                    0.004724    1.000000   \n",
       "review_count                                 -0.273079    0.198236   \n",
       "rating                                        0.162732    0.101862   \n",
       "\n",
       "                            review_count    rating  \n",
       "poi_distance_from_bike_stn     -0.273079  0.162732  \n",
       "free_bikes                      0.198236  0.101862  \n",
       "review_count                    1.000000 -0.013453  \n",
       "rating                         -0.013453  1.000000  "
      ]
     },
     "execution_count": 60,
     "metadata": {},
     "output_type": "execute_result"
    }
   ],
   "source": [
    "df_agg.corr()"
   ]
  },
  {
   "cell_type": "code",
   "execution_count": 69,
   "metadata": {},
   "outputs": [],
   "source": [
    "import statsmodels.api as sm"
   ]
  },
  {
   "cell_type": "code",
   "execution_count": 74,
   "metadata": {},
   "outputs": [
    {
     "name": "stdout",
     "output_type": "stream",
     "text": [
      "<class 'pandas.core.frame.DataFrame'>\n",
      "RangeIndex: 100 entries, 0 to 99\n",
      "Data columns (total 5 columns):\n",
      " #   Column                      Non-Null Count  Dtype  \n",
      "---  ------                      --------------  -----  \n",
      " 0   station_name                100 non-null    object \n",
      " 1   poi_distance_from_bike_stn  100 non-null    float64\n",
      " 2   free_bikes                  100 non-null    float64\n",
      " 3   review_count                100 non-null    float64\n",
      " 4   rating                      100 non-null    float64\n",
      "dtypes: float64(4), object(1)\n",
      "memory usage: 4.0+ KB\n"
     ]
    }
   ],
   "source": [
    "df_agg.info()"
   ]
  },
  {
   "cell_type": "code",
   "execution_count": 88,
   "metadata": {},
   "outputs": [],
   "source": [
    "#buiding model between number of reviews and distance from bike station, number of bikes\n",
    "# and restaurant rating.\n",
    "\n",
    "y = df_agg['review_count']\n",
    "\n",
    "indep = df_agg.drop(['review_count', 'station_name'], axis=1)\n",
    "\n",
    "#Create a model for each indep. variable\n",
    "#list of X's (with constants)\n",
    "X = [sm.add_constant(indep[column]) for column in indep.columns]"
   ]
  },
  {
   "cell_type": "code",
   "execution_count": 76,
   "metadata": {},
   "outputs": [],
   "source": [
    "Models = [sm.OLS(y,x) for x in X] #list of models\n",
    "Results = [model.fit() for model in Models] #list of results\n",
    "Adj_Rsquared = [results.rsquared_adj for results in Results] #list of rsquared\n",
    "Pval = [results.pvalues for results in Results] #list of p-values"
   ]
  },
  {
   "cell_type": "code",
   "execution_count": 77,
   "metadata": {},
   "outputs": [
    {
     "name": "stdout",
     "output_type": "stream",
     "text": [
      "adj_R2: 0.065, P-values: (3.121634850069516e-13, 0.0059794480505248535), column: poi_distance_from_bike_stn\n",
      "adj_R2: 0.029, P-values: (8.223025728361785e-13, 0.04802958661641191), column: free_bikes\n",
      "adj_R2: -0.010, P-values: (0.46728944870837175, 0.8943198927640976), column: rating\n"
     ]
    }
   ],
   "source": [
    "for i in range(len(Adj_Rsquared)):\n",
    "     print(f'adj_R2: {Adj_Rsquared[i]:.3f}, P-values: {*Pval[i],}, column: {indep.columns[i]}')"
   ]
  },
  {
   "cell_type": "code",
   "execution_count": null,
   "metadata": {},
   "outputs": [],
   "source": [
    "#A very low adjusted R square of 0.065 shows that there is very relationship between the \n",
    "#dependent variable 'review_count' and other variables.\n",
    "\n",
    "#Lets try with rating as dependent variable and others as independent variables."
   ]
  },
  {
   "cell_type": "code",
   "execution_count": 89,
   "metadata": {},
   "outputs": [],
   "source": [
    "#buiding model between rating and distance from bike station, number of bikes\n",
    "# and number of reviews.\n",
    "\n",
    "y = df_agg['rating']\n",
    "\n",
    "indep = df_agg.drop(['rating', 'station_name'], axis=1)\n",
    "\n",
    "#Create a model for each indep. variable\n",
    "#list of X's (with constants)\n",
    "X = [sm.add_constant(indep[column]) for column in indep.columns]"
   ]
  },
  {
   "cell_type": "code",
   "execution_count": 90,
   "metadata": {},
   "outputs": [],
   "source": [
    "Models = [sm.OLS(y,x) for x in X] #list of models\n",
    "Results = [model.fit() for model in Models] #list of results\n",
    "Adj_Rsquared = [results.rsquared_adj for results in Results] #list of rsquared\n",
    "Pval = [results.pvalues for results in Results] #list of p-values"
   ]
  },
  {
   "cell_type": "code",
   "execution_count": 91,
   "metadata": {},
   "outputs": [
    {
     "name": "stdout",
     "output_type": "stream",
     "text": [
      "adj_R2: 0.017, P-values: (3.1787592432447697e-97, 0.10573470932056468), column: poi_distance_from_bike_stn\n",
      "adj_R2: 0.000, P-values: (5.6640304004255806e-120, 0.3132453669923799), column: free_bikes\n",
      "adj_R2: -0.010, P-values: (1.2074840246801219e-113, 0.894319892764095), column: review_count\n"
     ]
    }
   ],
   "source": [
    "for i in range(len(Adj_Rsquared)):\n",
    "     print(f'adj_R2: {Adj_Rsquared[i]:.3f}, P-values: {*Pval[i],}, column: {indep.columns[i]}')"
   ]
  },
  {
   "cell_type": "code",
   "execution_count": null,
   "metadata": {},
   "outputs": [],
   "source": [
    "#A very low adjusted R square of 0.017 shows that there is very relationship between the \n",
    "#dependent variable 'rating' and other variables.\n",
    "\n",
    "#Hence it may be inferred that these variables are not related to each other and there is no predictive model\n",
    "#which may be constructed using them."
   ]
  },
  {
   "cell_type": "markdown",
   "metadata": {},
   "source": [
    "# Stretch"
   ]
  },
  {
   "cell_type": "markdown",
   "metadata": {},
   "source": [
    "How can you turn the regression model into a classification model?"
   ]
  },
  {
   "cell_type": "code",
   "execution_count": null,
   "metadata": {},
   "outputs": [],
   "source": []
  }
 ],
 "metadata": {
  "kernelspec": {
   "display_name": "Python 3 (ipykernel)",
   "language": "python",
   "name": "python3"
  },
  "language_info": {
   "codemirror_mode": {
    "name": "ipython",
    "version": 3
   },
   "file_extension": ".py",
   "mimetype": "text/x-python",
   "name": "python",
   "nbconvert_exporter": "python",
   "pygments_lexer": "ipython3",
   "version": "3.8.15"
  }
 },
 "nbformat": 4,
 "nbformat_minor": 4
}
