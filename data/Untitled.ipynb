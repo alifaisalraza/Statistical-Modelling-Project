{
 "cells": [
  {
   "cell_type": "code",
   "execution_count": 11,
   "id": "07563370-7edf-4c3a-beed-3fd79c7aa922",
   "metadata": {},
   "outputs": [],
   "source": [
    "import sqlite3 as sqlite\n",
    "\n",
    "import pandas as pd\n",
    "\n",
    "from sqlalchemy import create_engine"
   ]
  },
  {
   "cell_type": "code",
   "execution_count": 12,
   "id": "12e3b7ef-d9e0-437d-95fb-79835142093a",
   "metadata": {},
   "outputs": [],
   "source": [
    "engine = create_engine('sqlite:///save_pan.db', echo=True)\n",
    "sqlite_connection = engine.connect()"
   ]
  },
  {
   "cell_type": "code",
   "execution_count": 14,
   "id": "4e8539d3-4660-4f61-8991-de9e4891557a",
   "metadata": {},
   "outputs": [],
   "source": [
    "connection = create_engine('sqlite:///bike_poi.db')"
   ]
  },
  {
   "cell_type": "code",
   "execution_count": 13,
   "id": "e1a2bed5-b494-4bb9-8e24-8f61ddf87796",
   "metadata": {},
   "outputs": [
    {
     "data": {
      "text/plain": [
       "<sqlite3.Cursor at 0x136ad8c70>"
      ]
     },
     "execution_count": 13,
     "metadata": {},
     "output_type": "execute_result"
    }
   ],
   "source": [
    "create_bike_stns_table = \"\"\"\n",
    "CREATE TABLE IF NOT EXISTS london_city_bikes_stns (\n",
    "  network_city TEXT ,\n",
    "  network_name TEXT,\n",
    "  station_name TEXT,\n",
    "  station_id TEXT,\n",
    "  station_latitude FLOAT,\n",
    "  station_longitude FLOAT,\n",
    "  empty_slots INTEGER,\n",
    "  free_bikes INTEGER,\n",
    "  total_bikes INTEGER\n",
    ");\n",
    "\"\"\"\n",
    "\n",
    "cur.execute(create_bike_stns_table)"
   ]
  }
 ],
 "metadata": {
  "kernelspec": {
   "display_name": "Python 3 (ipykernel)",
   "language": "python",
   "name": "python3"
  },
  "language_info": {
   "codemirror_mode": {
    "name": "ipython",
    "version": 3
   },
   "file_extension": ".py",
   "mimetype": "text/x-python",
   "name": "python",
   "nbconvert_exporter": "python",
   "pygments_lexer": "ipython3",
   "version": "3.8.15"
  }
 },
 "nbformat": 4,
 "nbformat_minor": 5
}
